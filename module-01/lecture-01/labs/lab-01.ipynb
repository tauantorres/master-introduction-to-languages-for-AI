{
 "cells": [
  {
   "cell_type": "markdown",
   "metadata": {},
   "source": [
    "Question 01:\n",
    "\n",
    "Write a function increasing(t) that takes a tuple as a parameter and returns True if all the values are strictly increasing (t[0]<t[1]<t[2]<t[3]...) False otherwise\n",
    "For example:\n",
    "\n",
    "Test\tResult\n",
    "print(increasing((2,3,1,9)))\n",
    "False\n",
    "print(increasing((1,2,2,4)))\n",
    "False\n",
    "print(increasing((1,2,3,4,5,6)))\n",
    "True\n",
    "print(increasing((7,1,4,5,3)))\n",
    "False\n",
    "\n",
    "\n",
    "Question 02:\n",
    "Write a function palindrome(s) that returns True is s is palindrome (same string if read from left to right and from right to left), ignoring punctuation, whitespace and the case of the letters.\n",
    "\n",
    "Remember you can import constants from the module string and use methods on strings to convert in uppercase or lowercase.\n",
    "\n",
    "Try solving both by using double slices [::] and by not using them.\n",
    "\n",
    "For example:\n",
    "\n",
    "Test\tResult\n",
    "print(palindrome('ada'))\n",
    "True\n",
    "print(palindrome('Ada'))\n",
    "True\n",
    "print(palindrome('Angolo bar... a Bologna!'))\n",
    "True\n",
    "print(palindrome('Otto'))\n",
    "True\n",
    "print(palindrome('8'))\n",
    "True\n",
    "print(palindrome(''))\n",
    "True\n",
    "print(palindrome(',,,'))\n",
    "True\n",
    "print(palindrome(',AM,......A'))\n",
    "True\n",
    "print(palindrome(\"Michael\"))\n",
    "False\n",
    "\n",
    "\n",
    "Question 03:\n",
    "\n",
    "Write a compare(s1,s2) function that takes as parameters two non-empty strings s1 and s2 and returns the tuple of indexes i such that s1[i] is equal to one of the characters s2[i-1], s2[i] or s2[i+1] (not always all exist).\n",
    "Observe that the required function compare is not commutative.\n",
    "For example:\n",
    "\n",
    "Test\tResult\n",
    "print(compare('asca', 'lasca'))\n",
    "(0, 1, 2, 3)\n",
    "print(compare('lasca', 'asca')) \n",
    "(1, 2, 3, 4)\n",
    "print(compare('acca', 'zonzo')) \n",
    "()\n",
    "print(compare('la mamma in', 'una nonna ti')) \n",
    "(1, 2, 7, 8)\n",
    "\n",
    "Question 04: \n",
    "Write a function average(grades) that takes a tuple grades as an argument and:\n",
    "\n",
    "Checks that the tuple grades contains only integers and floats. Otherwise, returns None\n",
    "Computes the arithmetic mean/average of all the values in grades and returns it as a float\n",
    "The function does not compute and return anything (that is, it returns None by default) if the tuple is empty\n",
    "Do not use the python function sum\n",
    "For example:\n",
    "\n",
    "Test\tResult\n",
    "print(average(()))\n",
    "None\n",
    "print(average((18,18,18)))\n",
    "18.0\n",
    "print(average((30,28,29.5,28.5,30)))\n",
    "29.2\n",
    "print(average((21,)))\n",
    "21.0\n",
    "print(average((25,27.5,\"30L\")))\n",
    "None\n"
   ]
  },
  {
   "cell_type": "code",
   "execution_count": 1,
   "metadata": {},
   "outputs": [
    {
     "name": "stdout",
     "output_type": "stream",
     "text": [
      "True\n",
      "True\n",
      "True\n",
      "True\n"
     ]
    }
   ],
   "source": [
    "def increasing(t: tuple) -> bool:\n",
    "    t_size = len(t)\n",
    "    for indice in range(t_size - 1):\n",
    "        if not t[indice] < t[indice + 1]:\n",
    "            return False\n",
    "    return True\n",
    "\n",
    "data = [\n",
    "    {\n",
    "        \"value\" : (2, 3, 1, 9),\n",
    "        \"answer\": False,\n",
    "    },\n",
    "    {\n",
    "        \"value\" : (1, 2, 2, 4),\n",
    "        \"answer\": False,\n",
    "    },\n",
    "    {\n",
    "        \"value\" : (1, 2, 3, 4, 5, 6),\n",
    "        \"answer\": True,\n",
    "    },\n",
    "    {\n",
    "        \"value\" : (7, 1, 4, 5, 3),\n",
    "        \"answer\": False,\n",
    "    },\n",
    "]\n",
    "\n",
    "for d in data:\n",
    "    print(increasing(d[\"value\"]) == d[\"answer\"])"
   ]
  },
  {
   "cell_type": "code",
   "execution_count": 23,
   "metadata": {},
   "outputs": [
    {
     "name": "stdout",
     "output_type": "stream",
     "text": [
      "True\n",
      "True\n",
      "True\n",
      "True\n",
      "True\n",
      "True\n",
      "True\n",
      "True\n",
      "True\n"
     ]
    }
   ],
   "source": [
    "import string\n",
    "\n",
    "def pre_process(s: str) -> str:\n",
    "    return s.translate(str.maketrans('', '', string.punctuation)).replace(\" \", \"\").lower()\n",
    "\n",
    "def palindrome(s: str) -> bool:\n",
    "    return pre_process(s)[:] == pre_process(s)[::-1]\n",
    "\n",
    "\n",
    "data = [\n",
    "    {\n",
    "        \"value\" : \"ada\",\n",
    "        \"answer\": True,\n",
    "    },\n",
    "    {\n",
    "        \"value\" : \"Ada\",\n",
    "        \"answer\": True,\n",
    "    },\n",
    "    {\n",
    "        \"value\" : \"Angolo bar... a Bologna!\",\n",
    "        \"answer\": True,\n",
    "    },\n",
    "    {\n",
    "        \"value\" : \"Otto\",\n",
    "        \"answer\": True,\n",
    "    },\n",
    "    {\n",
    "        \"value\" : \"8\",\n",
    "        \"answer\": True,\n",
    "    },\n",
    "    {\n",
    "        \"value\" : \"\",\n",
    "        \"answer\": True,\n",
    "    },\n",
    "    {\n",
    "        \"value\" : \",,,\",\n",
    "        \"answer\": True,\n",
    "    },\n",
    "    {\n",
    "        \"value\" : \",AM,......A\",\n",
    "        \"answer\": True,\n",
    "    },\n",
    "    {\n",
    "        \"value\" : \"Michael\",\n",
    "        \"answer\": False,\n",
    "    },\n",
    "\n",
    "]\n",
    "\n",
    "for d in data:\n",
    "    print(palindrome(d[\"value\"]) == d[\"answer\"])\n"
   ]
  },
  {
   "cell_type": "code",
   "execution_count": 42,
   "metadata": {},
   "outputs": [
    {
     "name": "stdout",
     "output_type": "stream",
     "text": [
      "(0, 1, 2, 3)\n",
      "-1\n",
      "(1, 2, 3, 4)\n",
      "()\n",
      "(1, 2, 7, 8)\n"
     ]
    }
   ],
   "source": [
    "# Question 03:\n",
    "\n",
    "def compare(s1: str, s2: str) -> tuple:\n",
    "    result = []\n",
    "    s1_size, s2_size = len(s1), len(s2)\n",
    "    if (s2_size < s1_size) and (s1_size - s2_size) > 1:\n",
    "        return -1\n",
    "    \n",
    "    for i in range(len(s1)):\n",
    "\n",
    "        if i > 0 and s1[i] == s2[i - 1]:  \n",
    "            result.append(i)\n",
    "        elif i < len(s2) and s1[i] == s2[i]: \n",
    "            result.append(i)\n",
    "        elif i + 1 < len(s2) and s1[i] == s2[i + 1]: \n",
    "            result.append(i)\n",
    "    \n",
    "    return tuple(result)\n",
    "\n",
    "# Test cases based on your example\n",
    "print(compare('asca', 'lasca'))  # Output: (0, 1, 2, 3)\n",
    "print(compare('lasca', 'asca'))  # Output: (1, 2, 3, 4)\n",
    "print(compare('acca', 'zonzo'))  # Output: ()\n",
    "print(compare('la mamma in', 'una nonna ti'))  # Output: (1, 2, 7, 8)\n"
   ]
  },
  {
   "cell_type": "code",
   "execution_count": 59,
   "metadata": {},
   "outputs": [
    {
     "name": "stdout",
     "output_type": "stream",
     "text": [
      "True\n",
      "True\n",
      "True\n",
      "True\n",
      "True\n"
     ]
    }
   ],
   "source": [
    "# Question 04:\n",
    "\n",
    "from typing import Union\n",
    "\n",
    "def average(grades: tuple) -> Union[float, None]:\n",
    "    \n",
    "    if not grades:\n",
    "        return None\n",
    "    \n",
    "    for grade in grades:\n",
    "        if not isinstance(grade, int) and not isinstance(grade, float):\n",
    "            return None\n",
    "\n",
    "    return sum(grades)/len(grades)\n",
    "\n",
    "\n",
    "\n",
    "data = [\n",
    "    {\n",
    "        \"value\" : (),\n",
    "        \"answer\": None,\n",
    "    },\n",
    "    {\n",
    "        \"value\" : (18, 18, 18),\n",
    "        \"answer\": 18.0,\n",
    "    },\n",
    "    {\n",
    "        \"value\" : (30, 28, 29.5, 28.5, 30),\n",
    "        \"answer\": 29.2,\n",
    "    },\n",
    "    {\n",
    "        \"value\" : (21, ),\n",
    "        \"answer\": 21.0,\n",
    "    },\n",
    "    {\n",
    "        \"value\" : (25, 27.5, \"30L\"),\n",
    "        \"answer\": None,\n",
    "    },\n",
    "]\n",
    "\n",
    "for d in data:\n",
    "    print(average(d[\"value\"]) == d[\"answer\"])\n"
   ]
  },
  {
   "cell_type": "code",
   "execution_count": 89,
   "metadata": {},
   "outputs": [
    {
     "name": "stdout",
     "output_type": "stream",
     "text": [
      "True\n",
      "True\n",
      "True\n",
      "True\n",
      "True\n",
      "True\n"
     ]
    }
   ],
   "source": [
    "# Question 05:\n",
    "\n",
    "def greatersum(t: tuple) -> bool:\n",
    "    \n",
    "    if not isinstance(t, tuple):\n",
    "        return False\n",
    "\n",
    "    if not t:\n",
    "        return True\n",
    "\n",
    "    for index in range(len(t)):\n",
    "\n",
    "        if index == 0:\n",
    "            continue\n",
    "        \n",
    "        if not (t[index] > sum(t[:index])):\n",
    "            return False\n",
    "\n",
    "    return True\n",
    "    \n",
    "data = [\n",
    "    {\n",
    "        \"value\" : (3, 4, 5),\n",
    "        \"answer\": False,\n",
    "    },\n",
    "    {\n",
    "        \"value\" : (1, 1),\n",
    "        \"answer\": False,\n",
    "    },\n",
    "    {\n",
    "        \"value\" : (),\n",
    "        \"answer\": True,\n",
    "    },\n",
    "    {\n",
    "        \"value\" : (1, 2, 4),\n",
    "        \"answer\": True,\n",
    "    },\n",
    "    {\n",
    "        \"value\" : (3, 1, 2, 5),\n",
    "        \"answer\": False,\n",
    "    },\n",
    "    {\n",
    "        \"value\" : (1, 10, 100, 1_000),\n",
    "        \"answer\": True,\n",
    "    },\n",
    "]\n",
    "\n",
    "for d in data:\n",
    "    print(greatersum(d[\"value\"]) == d[\"answer\"])\n"
   ]
  },
  {
   "cell_type": "code",
   "execution_count": 99,
   "metadata": {},
   "outputs": [
    {
     "name": "stdout",
     "output_type": "stream",
     "text": [
      "True\n",
      "True\n",
      "True\n",
      "True\n",
      "True\n",
      "True\n",
      "True\n",
      "True\n",
      "True\n"
     ]
    }
   ],
   "source": [
    "# Question 06:\n",
    "\n",
    "from time import time\n",
    "\n",
    "def is_perfect_number(n: int) -> bool:\n",
    "    if n < 2:\n",
    "        return False\n",
    "    divisors_sum = 1\n",
    "    for i in range(2, int(n**0.5) + 1):\n",
    "        if n % i == 0:\n",
    "            divisors_sum += i\n",
    "            if i != n // i:\n",
    "                divisors_sum += n // i\n",
    "    return divisors_sum == n\n",
    "\n",
    "\n",
    "def perfect(k: int) -> bool:\n",
    "\n",
    "    divisors = []\n",
    "    current_divisor = 1\n",
    "\n",
    "    if k < 2:\n",
    "        return False\n",
    "\n",
    "    while current_divisor != k:\n",
    "        if k % current_divisor == 0:\n",
    "            divisors.append(current_divisor)\n",
    "        current_divisor += 1\n",
    "\n",
    "    return sum(divisors) == k\n",
    "\n",
    "\n",
    "data = [\n",
    "    {\n",
    "        \"value\" : 1,\n",
    "        \"answer\": False,\n",
    "    },\n",
    "    {\n",
    "        \"value\" : 3,\n",
    "        \"answer\": False,\n",
    "    },\n",
    "    {\n",
    "        \"value\" : -6,\n",
    "        \"answer\": False,\n",
    "    },\n",
    "    {\n",
    "        \"value\" : 10 ** 4,\n",
    "        \"answer\": False,\n",
    "    },\n",
    "    {\n",
    "        \"value\" : 6,\n",
    "        \"answer\": True,\n",
    "    },\n",
    "    {\n",
    "        \"value\" : 28,\n",
    "        \"answer\": True,\n",
    "    },\n",
    "    {\n",
    "        \"value\" : 496,\n",
    "        \"answer\": True,\n",
    "    },\n",
    "    {\n",
    "        \"value\" : 8128,\n",
    "        \"answer\": True,\n",
    "    },\n",
    "    {\n",
    "        \"value\" : 33550336,\n",
    "        \"answer\": True,\n",
    "    },\n",
    "]\n",
    "\n",
    "for d in data:\n",
    "    print( perfect(d[\"value\"]) == d[\"answer\"] )\n"
   ]
  },
  {
   "cell_type": "code",
   "execution_count": 107,
   "metadata": {},
   "outputs": [],
   "source": [
    "from time import time\n",
    "\n",
    "\n",
    "def is_perfect_number(n: int) -> bool:\n",
    "    if n < 2:\n",
    "        return False\n",
    "    divisors_sum = 1\n",
    "    for i in range(2, int(n**0.5) + 1):\n",
    "        if n % i == 0:\n",
    "            divisors_sum += i\n",
    "            if i != n // i:\n",
    "                divisors_sum += n // i\n",
    "    return divisors_sum == n\n",
    "\n",
    "\n"
   ]
  },
  {
   "cell_type": "code",
   "execution_count": 117,
   "metadata": {},
   "outputs": [
    {
     "name": "stdout",
     "output_type": "stream",
     "text": [
      "Result: False | Time: -2.0793380737304688\n",
      "Result: False | Time: -2.0722010135650635\n"
     ]
    }
   ],
   "source": [
    "k = 10 ** 16\n",
    "\n",
    "start_01 = time()\n",
    "result_01 = perfect(k)\n",
    "end_01 = time()\n",
    "\n",
    "start_02 = time()\n",
    "result_02 = is_perfect_number(k)\n",
    "end_02 = time()\n",
    "\n",
    "print(f\"Result: {result_01} | Time: {start_01 - end_01}\")\n",
    "print(f\"Result: {result_02} | Time: {start_02 - end_02}\")"
   ]
  },
  {
   "cell_type": "code",
   "execution_count": 192,
   "metadata": {},
   "outputs": [
    {
     "name": "stdout",
     "output_type": "stream",
     "text": [
      "(1,)\n",
      "(2, 3)\n",
      "(4, 5, 6)\n",
      "(7, 8, 9, 10)\n",
      "(11, 12, 13, 14, 15)\n"
     ]
    }
   ],
   "source": [
    "# Question 07:\n",
    "\n",
    "def floyd(k: int) -> None:\n",
    "\n",
    "    count = 1\n",
    "    i, j = 1, 2\n",
    "\n",
    "    while k >= count:\n",
    "        tupla = tuple( range(i, j) )\n",
    "\n",
    "        print(tupla)\n",
    "\n",
    "        i += count \n",
    "        count += 1 \n",
    "        j += count \n",
    "\n",
    "k = 5\n",
    "floyd(k)"
   ]
  },
  {
   "cell_type": "code",
   "execution_count": 183,
   "metadata": {},
   "outputs": [
    {
     "data": {
      "text/plain": [
       "((1,), (2, 3), (4, 5, 6), (7, 8, 9, 10))"
      ]
     },
     "execution_count": 183,
     "metadata": {},
     "output_type": "execute_result"
    }
   ],
   "source": [
    "p = 5\n",
    "\n",
    "tuple(range(1, 2)), tuple(range(2, 4)), tuple(range(4, 7)), tuple(range(7, 11)) "
   ]
  },
  {
   "cell_type": "code",
   "execution_count": 191,
   "metadata": {},
   "outputs": [
    {
     "name": "stdout",
     "output_type": "stream",
     "text": [
      "(1,)\n",
      "(2, 3)\n",
      "(4, 5, 6)\n"
     ]
    }
   ],
   "source": [
    "k = 3\n",
    "i, j = 1, 2\n",
    "\n",
    "count = 1\n",
    "while k >= count:\n",
    "    tupla = tuple( range(i, j) )\n",
    "\n",
    "    print(tupla)\n",
    "\n",
    "    i += count \n",
    "    count += 1 \n",
    "    j += count \n"
   ]
  },
  {
   "cell_type": "code",
   "execution_count": 235,
   "metadata": {},
   "outputs": [
    {
     "name": "stdout",
     "output_type": "stream",
     "text": [
      "5\n"
     ]
    }
   ],
   "source": [
    "# Question 08:\n",
    "def compatibility(name1: str, name2: str) -> int:    \n",
    "    count = {letter: (name1 + name2).lower().replace(\" \", \"\").count(letter) for letter in \"love\"}\n",
    "    return (sum([v for k, v in count.items() if k in [\"l\", \"o\"]]) * 10 + sum([v for k, v in count.items() if k not in [\"l\", \"o\"]])) % 101\n",
    "\n",
    "\n",
    "response = compatibility(\"Lorella Evelina\", \"Lorenzo Eulo\")\n",
    "print(response)\n"
   ]
  },
  {
   "cell_type": "code",
   "execution_count": 288,
   "metadata": {},
   "outputs": [
    {
     "name": "stdout",
     "output_type": "stream",
     "text": [
      "((30, 3, 1990), (18, 5, 1990), (15, 6, 1990), (10, 9, 1990), (9, 10, 1990), (13, 7, 1991), (23, 4, 1992), (31, 3, 1993), (19, 5, 1995), (24, 4, 1996), (16, 6, 1996), (12, 8, 1996), (8, 12, 1996), (14, 7, 1998), (11, 9, 1999), (9, 11, 1999))\n"
     ]
    }
   ],
   "source": [
    "# Question 09:\n",
    "\n",
    "\n",
    "first_month, last_month = 1, 12\n",
    "\n",
    "calendar_months = [\n",
    "    (2, ),\n",
    "    tuple(n for n in range(1, 13) if n % 2 != 0),\n",
    "    tuple(n for n in range(1, 13) if n % 2 == 0 and n != 2),\n",
    "]\n",
    "\n",
    "calendar_days = [\n",
    "    (1, 28),\n",
    "    (1, 31),\n",
    "    (1, 30),\n",
    "] \n",
    "\n",
    "def calendar_info(month: int) -> tuple:\n",
    "    for i in range(3):\n",
    "        if month in calendar_months[i]:\n",
    "            return calendar_days[i]\n",
    "\n",
    "\n",
    "def magic(start: int, end: int) -> tuple:\n",
    "    magical_numbers = []    \n",
    "    years_between = end - start\n",
    "\n",
    "    for year in range(years_between + 1):\n",
    "\n",
    "        current_year = start + year \n",
    "        magical_number = current_year % 100\n",
    "\n",
    "        for month in range(first_month, last_month + 1):\n",
    "\n",
    "            first_day, last_day = calendar_info(month=month)\n",
    "\n",
    "            for day in range(first_day, last_day + 1):\n",
    "                \n",
    "                if (month == 2) and (day > 28):\n",
    "                    continue\n",
    "                \n",
    "                if day * month == magical_number:\n",
    "                    magical_numbers.append( (day, month, current_year) )         \n",
    "    \n",
    "    return tuple(magical_numbers)\n",
    "\n",
    "print(magic( 1990,2000 ))"
   ]
  },
  {
   "cell_type": "code",
   "execution_count": 282,
   "metadata": {},
   "outputs": [
    {
     "data": {
      "text/plain": [
       "[(2,), (1, 3, 5, 7, 9, 11), (4, 6, 8, 10, 12)]"
      ]
     },
     "execution_count": 282,
     "metadata": {},
     "output_type": "execute_result"
    }
   ],
   "source": [
    "calendar_months"
   ]
  },
  {
   "cell_type": "code",
   "execution_count": 286,
   "metadata": {},
   "outputs": [
    {
     "data": {
      "text/plain": [
       "[(1, 28), (1, 30), (1, 31)]"
      ]
     },
     "execution_count": 286,
     "metadata": {},
     "output_type": "execute_result"
    }
   ],
   "source": [
    "calendar_days"
   ]
  },
  {
   "cell_type": "code",
   "execution_count": 289,
   "metadata": {},
   "outputs": [
    {
     "data": {
      "text/plain": [
       "True"
      ]
     },
     "execution_count": 289,
     "metadata": {},
     "output_type": "execute_result"
    }
   ],
   "source": [
    "answer = (\n",
    "    (30, 3, 1990), (18, 5, 1990), (15, 6, 1990), \n",
    "    (10, 9, 1990), (9, 10, 1990), (13, 7, 1991), \n",
    "    (23, 4, 1992), (31, 3, 1993), (19, 5, 1995), \n",
    "    (24, 4, 1996), (16, 6, 1996), (12, 8, 1996), \n",
    "    (8, 12, 1996), (14, 7, 1998), (11, 9, 1999), \n",
    "    (9, 11, 1999)\n",
    ")\n",
    "\n",
    "response = ((30, 3, 1990), (18, 5, 1990), (15, 6, 1990), (10, 9, 1990), (9, 10, 1990), (13, 7, 1991), (23, 4, 1992), (31, 3, 1993), (19, 5, 1995), (24, 4, 1996), (16, 6, 1996), (12, 8, 1996), (8, 12, 1996), (14, 7, 1998), (11, 9, 1999), (9, 11, 1999))\n",
    "\n",
    "\n",
    "\n",
    "\n",
    "answer == response\n",
    "\n"
   ]
  },
  {
   "cell_type": "code",
   "execution_count": 244,
   "metadata": {},
   "outputs": [
    {
     "data": {
      "text/plain": [
       "(60, 60)"
      ]
     },
     "execution_count": 244,
     "metadata": {},
     "output_type": "execute_result"
    }
   ],
   "source": [
    "\n",
    "start_year, end_year = 1960, 2020\n",
    "years_between = end_year - start_year\n",
    "start_year % 100, years_between"
   ]
  },
  {
   "cell_type": "code",
   "execution_count": 245,
   "metadata": {},
   "outputs": [
    {
     "name": "stdout",
     "output_type": "stream",
     "text": [
      "1960\n",
      "1961\n",
      "1962\n",
      "1963\n",
      "1964\n",
      "1965\n",
      "1966\n",
      "1967\n",
      "1968\n",
      "1969\n",
      "1970\n",
      "1971\n",
      "1972\n",
      "1973\n",
      "1974\n",
      "1975\n",
      "1976\n",
      "1977\n",
      "1978\n",
      "1979\n",
      "1980\n",
      "1981\n",
      "1982\n",
      "1983\n",
      "1984\n",
      "1985\n",
      "1986\n",
      "1987\n",
      "1988\n",
      "1989\n",
      "1990\n",
      "1991\n",
      "1992\n",
      "1993\n",
      "1994\n",
      "1995\n",
      "1996\n",
      "1997\n",
      "1998\n",
      "1999\n",
      "2000\n",
      "2001\n",
      "2002\n",
      "2003\n",
      "2004\n",
      "2005\n",
      "2006\n",
      "2007\n",
      "2008\n",
      "2009\n",
      "2010\n",
      "2011\n",
      "2012\n",
      "2013\n",
      "2014\n",
      "2015\n",
      "2016\n",
      "2017\n",
      "2018\n",
      "2019\n",
      "2020\n"
     ]
    }
   ],
   "source": [
    "for i in range(years_between + 1):\n",
    "    print(start_year + i)"
   ]
  },
  {
   "cell_type": "code",
   "execution_count": null,
   "metadata": {},
   "outputs": [],
   "source": []
  }
 ],
 "metadata": {
  "kernelspec": {
   "display_name": ".venv",
   "language": "python",
   "name": "python3"
  },
  "language_info": {
   "codemirror_mode": {
    "name": "ipython",
    "version": 3
   },
   "file_extension": ".py",
   "mimetype": "text/x-python",
   "name": "python",
   "nbconvert_exporter": "python",
   "pygments_lexer": "ipython3",
   "version": "3.11.4"
  }
 },
 "nbformat": 4,
 "nbformat_minor": 2
}
