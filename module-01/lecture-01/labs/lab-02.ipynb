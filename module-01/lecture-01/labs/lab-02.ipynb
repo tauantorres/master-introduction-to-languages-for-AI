{
 "cells": [
  {
   "cell_type": "raw",
   "metadata": {},
   "source": [
    "Question 01:\n",
    "\n",
    "Collatz conjecture is based on the following algorithm:\n",
    "Take a positive integer number m.\n",
    "If m=1 the algorithm terminates.\n",
    "If m is even, divide it by 2 (integer division); if m is odd, multiply it by 3 and sum 1.\n",
    "Start again with the new m updated as above.\n",
    "The conjecture, yet unproven, states this algorithm always terminates.\n",
    "\n",
    "Write a function collatz(m) that returns a list containing all the numbers of the Collatz sequence from m to 1.\n",
    "\n",
    "For example:\n",
    "\n",
    "Test\tResult\n",
    "print(collatz(19))\n",
    "[19, 58, 29, 88, 44, 22, 11, 34, 17, 52, 26, 13, 40, 20, 10, 5, 16, 8, 4, 2, 1]\n",
    "print(collatz(0))\n",
    "[]\n",
    "print(collatz(1))\n",
    "[1]\n",
    "print(collatz(2))\n",
    "[2, 1]\n",
    "print(collatz(3))\n",
    "[3, 10, 5, 16, 8, 4, 2, 1]\n",
    "print(collatz(4))\n",
    "[4, 2, 1]\n",
    "print(collatz(73))\n",
    "[73, 220, 110, 55, 166, 83, 250, 125, 376, 188, 94, 47, 142, 71, 214, 107, 322, 161, 484, 242, 121, 364, 182, 91, 274, 137, 412, 206, 103, 310, 155, 466, 233, 700, 350, 175, 526, 263, 790, 395, 1186, 593, 1780, 890, 445, 1336, 668, 334, 167, 502, 251, 754, 377, 1132, 566, 283, 850, 425, 1276, 638, 319, 958, 479, 1438, 719, 2158, 1079, 3238, 1619, 4858, 2429, 7288, 3644, 1822, 911, 2734, 1367, 4102, 2051, 6154, 3077, 9232, 4616, 2308, 1154, 577, 1732, 866, 433, 1300, 650, 325, 976, 488, 244, 122, 61, 184, 92, 46, 23, 70, 35, 106, 53, 160, 80, 40, 20, 10, 5, 16, 8, 4, 2, 1]\n"
   ]
  },
  {
   "cell_type": "code",
   "execution_count": null,
   "metadata": {},
   "outputs": [],
   "source": [
    "def even_number(m: int) -> bool:\n",
    "    return m % 2 == 0\n",
    "\n",
    "def collatz(m: int) -> list:\n",
    "\n",
    "    if not m > 0:\n",
    "        return []\n",
    "    \n",
    "    collected_numbers = [m]\n",
    "\n",
    "    while m != 1:\n",
    "        if even_number(m):\n",
    "            m = m // 2\n",
    "        else:\n",
    "            m = 3 * m + 1\n",
    "\n",
    "        collected_numbers.append(m)\n",
    "\n",
    "    return collected_numbers\n",
    "    \n",
    "    \n",
    "\n",
    "data = [\n",
    "    {\n",
    "        \"value\": 19,\n",
    "        \"answer\": [19, 58, 29, 88, 44, 22, 11, 34, 17, 52, 26, 13, 40, 20, 10, 5, 16, 8, 4, 2, 1],\n",
    "    },\n",
    "    {\n",
    "        \"value\": 0,\n",
    "        \"answer\": [],\n",
    "    },\n",
    "    {\n",
    "        \"value\": 1,\n",
    "        \"answer\": [1],\n",
    "    },\n",
    "    {\n",
    "        \"value\": 2,\n",
    "        \"answer\": [2, 1],\n",
    "    },\n",
    "    {\n",
    "        \"value\": 3,\n",
    "        \"answer\": [3, 10, 5, 16, 8, 4, 2, 1],\n",
    "    },\n",
    "    {\n",
    "        \"value\": 4,\n",
    "        \"answer\": [4, 2, 1],\n",
    "    },\n",
    "    {\n",
    "        \"value\": 73,\n",
    "        \"answer\": [73, 220, 110, 55, 166, 83, 250, 125, 376, 188, 94, 47, 142, 71, 214, 107, 322, 161, 484, 242, 121, 364, 182, 91, 274, 137, 412, 206, 103, 310, 155, 466, 233, 700, 350, 175, 526, 263, 790, 395, 1186, 593, 1780, 890, 445, 1336, 668, 334, 167, 502, 251, 754, 377, 1132, 566, 283, 850, 425, 1276, 638, 319, 958, 479, 1438, 719, 2158, 1079, 3238, 1619, 4858, 2429, 7288, 3644, 1822, 911, 2734, 1367, 4102, 2051, 6154, 3077, 9232, 4616, 2308, 1154, 577, 1732, 866, 433, 1300, 650, 325, 976, 488, 244, 122, 61, 184, 92, 46, 23, 70, 35, 106, 53, 160, 80, 40, 20, 10, 5, 16, 8, 4, 2, 1],\n",
    "    },\n",
    "]\n",
    "\n",
    "for d in data:\n",
    "    print(collatz(d[\"value\"]) == d[\"answer\"])\n",
    "\n"
   ]
  },
  {
   "cell_type": "raw",
   "metadata": {
    "vscode": {
     "languageId": "raw"
    }
   },
   "source": [
    "Write a function increasing(L) that checks if a list L is sorted in ascending order (<=).\n",
    "\n",
    "Suppose that L is a list and contains objects that can be ordered, without checkin).\n",
    "\n",
    "The, write a function join_ordered(L1, L2) which took as parameters two lists ordered in ascending order (check it using the increasing function), creates and returns a third one, also ordered, from the union of the two.\n",
    "\n",
    "If at least one of the two lists is not in ascending order, return None.\n",
    "\n",
    "Do not use the sort function (or analogous, e.g. sorted) - for us to check this, you are not allowed in this test to use any words (even in comments) containing the substring sort.\n",
    "\n",
    "For example:\n",
    "\n",
    "Test\tResult\n",
    "print(join_ordered([3,1,2], [1,2,3]))\n",
    "None\n",
    "print(join_ordered([3,1,2], [1,2,3]))\n",
    "None\n",
    "print(join_ordered([], []))\n",
    "[]\n",
    "print(join_ordered([1,3,5], []))\n",
    "[1, 3, 5]\n",
    "print(join_ordered([], [1,3,6]))\n",
    "[1, 3, 6]\n",
    "print(join_ordered([1,3,5], [0,2,4,6,8,10]))\n",
    "[0, 1, 2, 3, 4, 5, 6, 8, 10]\n",
    "print(join_ordered([100], list(range(1,99,3))))\n",
    "[1, 4, 7, 10, 13, 16, 19, 22, 25, 28, 31, 34, 37, 40, 43, 46, 49, 52, 55, 58, 61, 64, 67, 70, 73, 76, 79, 82, 85, 88, 91, 94, 97, 100]\n",
    "print(join_ordered([1,3,5], [100,300,500]))\n",
    "[1, 3, 5, 100, 300, 500]"
   ]
  },
  {
   "cell_type": "code",
   "execution_count": null,
   "metadata": {},
   "outputs": [],
   "source": [
    "def increasing(L: list) -> bool:\n",
    "    return all(L[i] <= L[i + 1] for i in range(len(L) - 1))\n",
    "\n",
    "def join_ordered(L1: list, L2: list) -> list:\n",
    "    if not increasing(L1) or not increasing(L2):\n",
    "        return None\n",
    "\n",
    "    result = []\n",
    "    i, j = 0, 0\n",
    "\n",
    "    print(f\"L1_size = {len(L1)} | L2_size = {len(L2)}\")\n",
    "\n",
    "    while i < len(L1) and j < len(L2):\n",
    "        if L1[i] <= L2[j]:\n",
    "            result.append(L1[i])\n",
    "            i += 1\n",
    "            print(f\"If: {result}\")\n",
    "        else:\n",
    "            result.append(L2[j])\n",
    "            j += 1\n",
    "            print(f\"Else: {result}\")\n",
    "        \n",
    "        print(f\"\\ti = {i} | j = {j}\")\n",
    "        print(f\"\\ti < len(L1) = {i < len(L1)} | j < len(L2) = {j < len(L2)} \")\n",
    "        print(f\"\\ti < len(L1) and j < len(L2) = {i < len(L1) and j < len(L2)}\")\n",
    "\n",
    "    print(f\"\\t=> Out of While: {result}\")\n",
    "    result.extend(L1[i:])\n",
    "    print(f\"\\t=> Extend L1: {result}\")\n",
    "    result.extend(L2[j:])\n",
    "    print(f\"\\t=> Extend L2: {result}\")\n",
    "\n",
    "    return result\n",
    "\n",
    "\n",
    "print(join_ordered([1, 3, 5], [0, 2, 4, 6, 8, 10]))\n"
   ]
  },
  {
   "cell_type": "code",
   "execution_count": null,
   "metadata": {},
   "outputs": [],
   "source": [
    "# Question 02:\n",
    "\n",
    "def increasing(L: list) -> bool:\n",
    "    return all(L[i] <= L[i + 1] for i in range(len(L) - 1))\n",
    "\n",
    "def join_ordered(L1: list, L2: list) -> list:\n",
    "\n",
    "    if not increasing(L1) or not increasing(L2):\n",
    "        return None\n",
    "\n",
    "    result = []\n",
    "    i, j = 0, 0\n",
    "\n",
    "    while i < len(L1) and j < len(L2):\n",
    "        if L1[i] <= L2[j]:\n",
    "            result.append(L1[i])\n",
    "            i += 1\n",
    "        else:\n",
    "            result.append(L2[j])\n",
    "            j += 1\n",
    "\n",
    "    result.extend(L1[i:])\n",
    "    result.extend(L2[j:])\n",
    "\n",
    "    return result\n",
    "\n",
    "\n",
    "print(join_ordered([1, 3, 5], [0, 2, 4, 6, 8, 10]))\n"
   ]
  },
  {
   "cell_type": "code",
   "execution_count": null,
   "metadata": {},
   "outputs": [],
   "source": [
    "# Test cases\n",
    "print(join_ordered([3, 1, 2], [1, 2, 3]))  # None\n",
    "print(join_ordered([], []))  # []\n",
    "print(join_ordered([1, 3, 5], []))  # [1, 3, 5]\n",
    "print(join_ordered([], [1, 3, 6]))  # [1, 3, 6]\n",
    "print(join_ordered([1, 3, 5], [0, 2, 4, 6, 8, 10]))  # [0, 1, 2, 3, 4, 5, 6, 8, 10]\n",
    "print(join_ordered([100], list(range(1, 99, 3))))  # [1, 4, 7, 10, 13, 16, 19, 22, 25, 28, 31, 34, 37, 40, 43, 46, 49, 52, 55, 58, 61, 64, 67, 70, 73, 76, 79, 82, 85, 88, 91, 94, 97, 100]\n",
    "print(join_ordered([1, 3, 5], [100, 300, 500]))  # [1, 3, 5, 100, 300, 500]\n"
   ]
  },
  {
   "cell_type": "code",
   "execution_count": null,
   "metadata": {},
   "outputs": [],
   "source": [
    "L2 = [1, 2, 3, 4]\n",
    "obj = \"a\"\n",
    "ind = 2\n",
    "\n",
    "print(L2)\n",
    "L2.insert(ind, obj)\n",
    "print(L2)"
   ]
  },
  {
   "cell_type": "code",
   "execution_count": null,
   "metadata": {},
   "outputs": [],
   "source": [
    "for contagem, v in enumerate(L2):\n",
    "    print(contagem, v)"
   ]
  },
  {
   "cell_type": "raw",
   "metadata": {
    "vscode": {
     "languageId": "raw"
    }
   },
   "source": [
    "Write a function contiguous(L) that takes a list L as a parameter and creates and returns a new list with values taken from L - in which a series of equal contiguous values is replaced by one single entry of the value followed by the number of occurrences of the equal contiguous values in L.\n",
    "For example:\n",
    "\n",
    "Test\tResult\n",
    "print(contiguous(['a','b','b','z','o','o','b','b','b','b','k']))\n",
    "['a', 'b', 2, 'z', 'o', 2, 'b', 4, 'k']\n",
    "print(contiguous([]))\n",
    "[]\n",
    "print(contiguous([1,2,3,4,5]))\n",
    "[1, 2, 3, 4, 5]\n",
    "print(contiguous(['a','b','c','d']))\n",
    "['a', 'b', 'c', 'd']\n",
    "print(contiguous([0, 0, 0, 0, 0, 0, 0, 0, 0, 0, 0, 0, 0, 0, 0, 0, 0, 0, 0, 0]))\n",
    "[0, 20]\n",
    "print(contiguous([7,7, 8, 8, 5, 5]))\n",
    "[7, 2, 8, 2, 5, 2]\n"
   ]
  },
  {
   "cell_type": "code",
   "execution_count": null,
   "metadata": {},
   "outputs": [],
   "source": [
    "# Question 03:\n",
    "\n",
    "def contiguous(L: list) -> list:\n",
    "    \n",
    "    i, L_new = 0, []\n",
    "\n",
    "    while i < len(L):\n",
    "        tmp = L[i]\n",
    "        L_count = L.count(tmp)\n",
    "\n",
    "        print(f\"i: {i} | tmp: {tmp} | count: {L_count} | L_new: {L_new}\")\n",
    "            \n",
    "        if L_count > 1:\n",
    "\n",
    "            count, pos, L_sub = 0, 0, L[i:]\n",
    "            while pos < len(L_sub):\n",
    "                if L_sub[pos] == tmp:\n",
    "                    count += 1\n",
    "                else:\n",
    "                    break\n",
    "                pos += 1\n",
    "\n",
    "            if count != 0:    \n",
    "                L_new.extend([tmp, count])\n",
    "                i = i + pos - 1\n",
    "            else: \n",
    "                L_new.append(tmp)\n",
    "\n",
    "        else:\n",
    "            L_new.append(tmp) \n",
    "\n",
    "        i += 1\n",
    "\n",
    "    return L_new\n",
    "\n",
    "l_new = []\n",
    "l = ['a','b','b','z','o','o','b','b','b','b','k']\n",
    "#l = [0, 0, 0, 0, 0, 0, 0, 0, 0, 0, 0, 0, 0, 0, 0, 0, 0, 0, 0, 0]\n",
    "l_response = contiguous(l)\n",
    "l_response\n"
   ]
  },
  {
   "cell_type": "code",
   "execution_count": null,
   "metadata": {},
   "outputs": [],
   "source": [
    "l,l_response"
   ]
  },
  {
   "cell_type": "code",
   "execution_count": null,
   "metadata": {},
   "outputs": [],
   "source": [
    "id_before = id(l)\n",
    "id_before"
   ]
  },
  {
   "cell_type": "code",
   "execution_count": null,
   "metadata": {},
   "outputs": [],
   "source": [
    "# Question 04:\n",
    "\n",
    "def contiguous_inplace(L: list) -> None:\n",
    "    i = 0  # Start index\n",
    "    while i < len(L):\n",
    "        count = 1\n",
    "        # Count how many contiguous elements are the same\n",
    "        while i + count < len(L) and L[i + count] == L[i]:\n",
    "            count += 1\n",
    "        if count > 1:\n",
    "            # Replace with the element followed by its count\n",
    "            L[i + 1] = count\n",
    "            # Delete the extra contiguous elements\n",
    "            del L[i + 2:i + count]\n",
    "            i += 2  # Move index past the element and its count\n",
    "        else:\n",
    "            i += 1  # No duplicates, just move to the next element\n",
    "\n",
    "A = ['a','b','b','z','o','o','b','b','b','b','k']\n",
    "AR = ['a', 'b', 2, 'z', 'o', 2, 'b', 4, 'k']\n",
    "id_before = id(A)\n",
    "contiguous_inplace(A)\n",
    "print((id_before == id(A)) and (A == AR))"
   ]
  },
  {
   "cell_type": "raw",
   "metadata": {
    "vscode": {
     "languageId": "raw"
    }
   },
   "source": [
    "Write a Python program (not a function!) that asks the user for non-negative integers that represent measurements of the daily amount of rain.\n",
    "\n",
    "When the user enters the value 99999, the program prints the average of the numbers received before that value.\n",
    "If the user enters negative numbers, they are ignored.\n",
    "\n",
    "The system will automatically input some values (shown, one at a time) to test your program\n",
    "\n",
    "To make the automatic system work:\n",
    "\n",
    "The input descriptive string should be exactly R: (with no black spaces: hence you should use input(\"R:\"))\n",
    "The output should be the print of float, mandatory rounded using function round to two decimal digits, without any other characters\n",
    "If there is no valid input, the program does not print anything.\n",
    "In this exercise only you are allowed, and required, to use print.\n",
    "\n",
    "For example:\n",
    "\n",
    "Test\tInput\tResult\n",
    "pass\n",
    "99999\n",
    "R:\n",
    "pass\n",
    "25\n",
    "75\n",
    "-3\n",
    "50\n",
    "50\n",
    "99999\n",
    "R:R:R:R:R:R:50.0\n",
    "pass\n",
    "-3\n",
    "-3\n",
    "-10\n",
    "99999\n",
    "R:R:R:R:\n",
    "pass\n",
    "100\n",
    "200\n",
    "0\n",
    "45\n",
    "-3\n",
    "59\n",
    "700\n",
    "80\n",
    "45\n",
    "-100\n",
    "-100\n",
    "99999\n",
    "R:R:R:R:R:R:R:R:R:R:R:R:153.62\n"
   ]
  },
  {
   "cell_type": "code",
   "execution_count": 22,
   "metadata": {},
   "outputs": [
    {
     "name": "stdout",
     "output_type": "stream",
     "text": [
      "50.0\n",
      "[25, 75, 50, 50]\n"
     ]
    }
   ],
   "source": [
    "# Question 05:\n",
    "t = [25, 75, -3, 50, 50, 99999]\n",
    "values = []\n",
    "user_input = int(input(\"R:\"))\n",
    "\n",
    "while user_input != 99999:\n",
    "\n",
    "    if user_input >= 0:\n",
    "        values.append(user_input)\n",
    "\n",
    "    user_input = int(input(\"R:\"))\n",
    "\n",
    "if len(values) != 0:\n",
    "    result = sum(values)/len(values)  \n",
    "    print(f\"{round(result, 2)}\")\n",
    "\n",
    "print(values)"
   ]
  },
  {
   "cell_type": "code",
   "execution_count": null,
   "metadata": {},
   "outputs": [],
   "source": [
    "values = []\n",
    "user_input = int(input(\"R:\"))\n",
    "\n",
    "while user_input != 99999:\n",
    "\n",
    "    if user_input >= 0:\n",
    "        values.append(user_input)\n",
    "\n",
    "    user_input = int(input(\"R:\"))\n",
    "\n",
    "if len(values) != 0:    \n",
    "    print(f\"{sum(values)/len(values):.02f}\")\n",
    "\n",
    "print(values)"
   ]
  },
  {
   "cell_type": "code",
   "execution_count": null,
   "metadata": {},
   "outputs": [],
   "source": [
    "# Question 06:\n",
    "\n",
    "def repeat_numbers(L: list) -> list:\n",
    "    i, L_new = 0, []\n",
    "    \n",
    "    while i < len(L):\n",
    "        L_new.extend([L[i] for _ in range(L[i])])\n",
    "        i += 1\n",
    "\n",
    "    return L_new\n",
    "\n",
    "L = [2,8,0]\n",
    "\n",
    "repeat_numbers(L)"
   ]
  },
  {
   "cell_type": "code",
   "execution_count": 36,
   "metadata": {},
   "outputs": [],
   "source": [
    "def contiguous_inplace(L: list) -> None:\n",
    "    i = 0  # Start index\n",
    "    while i < len(L):\n",
    "        count = 1\n",
    "        # Count how many contiguous elements are the same\n",
    "        while i + count < len(L) and L[i + count] == L[i]:\n",
    "            count += 1\n",
    "        if count > 1:\n",
    "            # Replace with the element followed by its count\n",
    "            L[i + 1] = count\n",
    "            # Delete the extra contiguous elements\n",
    "            del L[i + 2:i + count]\n",
    "            i += 2  # Move index past the element and its count\n",
    "        else:\n",
    "            i += 1  # No duplicates, just move to the next element\n",
    "\n",
    "def repeat_numbers(L: list) -> list:\n",
    "    i, L_new = 0, []\n",
    "    \n",
    "    while i < len(L):\n",
    "        L_new.extend([L[i] for _ in range(L[i])])\n",
    "        i += 1\n",
    "\n",
    "    return L_new"
   ]
  },
  {
   "cell_type": "code",
   "execution_count": null,
   "metadata": {},
   "outputs": [],
   "source": [
    "# Question 07:\n",
    "def repeat_inplace(L: list) -> list:\n",
    "    ..."
   ]
  },
  {
   "cell_type": "code",
   "execution_count": null,
   "metadata": {},
   "outputs": [],
   "source": [
    "L = [3, 0, 2, 4]\n",
    "\n",
    "contagem = 0\n",
    "L_size = len(L)\n",
    "\n",
    "print(L)\n",
    "while contagem < L_size:\n",
    "    \n",
    "    if L[contagem] == 0:\n",
    "        del L[contagem]\n",
    "    \n",
    "    else:\n",
    "        \n",
    "        l = [L[contagem] for j in range(L[contagem] - 1)]\n",
    "        n, l_size = 0, len(l)\n",
    "\n",
    "        while n < l_size:\n",
    "            L.insert(contagem + n, l[n])\n",
    "            n += 1\n",
    "    \n",
    "    print(\"-\" * 50)\n",
    "    contagem += 1\n",
    "\n",
    "print(L)"
   ]
  },
  {
   "cell_type": "code",
   "execution_count": null,
   "metadata": {},
   "outputs": [],
   "source": [
    "L = [3, 0, 2, 4]\n",
    "\n",
    "L_size = len(L)\n",
    "contagem = position = 0\n",
    "\n",
    "while contagem < L_size:\n",
    "\n",
    "    elemento = L[position]\n",
    "    print(elemento)\n",
    "\n",
    "    if L[position] == 0:\n",
    "        del L[position]\n",
    "        position -= 1\n",
    "    \n",
    "    else:\n",
    "        l = [L[position] for k in range(L[position] - 1)]\n",
    "        n, l_size = 0, len(l)\n",
    "\n",
    "        while n < l_size:\n",
    "            L.insert(position + n, l[n])\n",
    "            n += 1\n",
    "\n",
    "        position += 1\n",
    "\n",
    "    contagem += 1\n",
    "\n",
    "    print(f\"[NEXT] m: {contagem} | L: {L} | Position: {position}\")\n",
    "    print(\"-\" * 50)\n",
    "\n",
    "L"
   ]
  },
  {
   "cell_type": "code",
   "execution_count": null,
   "metadata": {},
   "outputs": [],
   "source": [
    "L = [1, 2, 3]\n",
    "L.remove(2)\n",
    "L"
   ]
  },
  {
   "cell_type": "code",
   "execution_count": null,
   "metadata": {},
   "outputs": [],
   "source": [
    "j, position = 0, 0\n",
    "L = [1, 2, 3, 4]\n",
    "L_size = len(L)\n",
    "while j < L_size:\n",
    "    \n",
    "    if L[position] == 2:\n",
    "        del L[position]\n",
    "        position -= 1\n",
    "\n",
    "    else:\n",
    "        position += 1\n",
    "\n",
    "    j += 1\n",
    "    print(L, j, position)\n",
    "L"
   ]
  },
  {
   "cell_type": "code",
   "execution_count": null,
   "metadata": {},
   "outputs": [],
   "source": [
    "L = [3, 0, 2, 4]\n",
    "\n",
    "L_size = len(L)\n",
    "contagem = position = 0\n",
    "\n",
    "while contagem < L_size:\n",
    "\n",
    "    elemento = L[position]\n",
    "    print(elemento)\n",
    "\n",
    "    if L[position] == 0:\n",
    "        del L[position]\n",
    "        position -= 1\n",
    "    \n",
    "    else:\n",
    "        l = [L[position] for k in range(L[position] - 1)]\n",
    "        n, l_size = 0, len(l)\n",
    "\n",
    "        while n < l_size:\n",
    "            L.insert(position + n, l[n])\n",
    "            n += 1\n",
    "\n",
    "        position += 1\n",
    "\n",
    "    contagem += 1\n",
    "\n",
    "    print(f\"[NEXT] m: {contagem} | L: {L} | Position: {position}\")\n",
    "    print(\"-\" * 50)\n",
    "\n",
    "L"
   ]
  },
  {
   "cell_type": "code",
   "execution_count": null,
   "metadata": {},
   "outputs": [],
   "source": [
    "L = [3, 0, 2, 4]\n",
    "\n",
    "L_size = len(L)\n",
    "j, position = 0, 0\n",
    "\n",
    "while j < L_size:\n",
    "    print(f\"L: {L}\")\n",
    "    print(f\"L[{position}]: {L[position]}\")\n",
    "\n",
    "    if L[position] == 0:\n",
    "        del L[position]\n",
    "        position += 0\n",
    "\n",
    "    else:\n",
    "        l = [L[position] for _ in range(L[position] - 1)]\n",
    "        n, l_size = 0, len(l)\n",
    "        print(f\" - l: {l} | n: {n} | l_size: {l_size}\")\n",
    "\n",
    "        position += 1\n",
    "\n",
    "    print(\"-\" * 50)\n",
    "    j += 1\n",
    "\n",
    "L"
   ]
  },
  {
   "cell_type": "code",
   "execution_count": 10,
   "metadata": {},
   "outputs": [
    {
     "data": {
      "text/plain": [
       "[9999, 3, 0, 2, 4]"
      ]
     },
     "execution_count": 10,
     "metadata": {},
     "output_type": "execute_result"
    }
   ],
   "source": [
    "f = [3, 0, 2, 4]\n",
    "f.insert(0, 9999)\n",
    "f"
   ]
  },
  {
   "cell_type": "code",
   "execution_count": 21,
   "metadata": {},
   "outputs": [
    {
     "name": "stdout",
     "output_type": "stream",
     "text": [
      "L: [3, 0, 2, 4]\n",
      "L[0] = 3\n",
      " - We need to add 3 from the position 1 for 3 times.\n",
      "--------------------------------------------------\n",
      "[3, 3, 3, 0, 2, 4]\n",
      "L: [3, 3, 3, 0, 2, 4]\n",
      "L[3] = 0\n",
      "--------------------------------------------------\n",
      "[3, 3, 3, 2, 4]\n",
      "L: [3, 3, 3, 2, 4]\n",
      "L[3] = 2\n",
      " - We need to add 2 from the position 4 for 2 times.\n",
      "--------------------------------------------------\n",
      "[3, 3, 3, 2, 2, 4]\n",
      "L: [3, 3, 3, 2, 2, 4]\n",
      "L[5] = 4\n",
      " - We need to add 4 from the position 6 for 4 times.\n",
      "--------------------------------------------------\n",
      "[3, 3, 3, 2, 2, 4, 4, 4, 4]\n",
      "\n",
      "True\n",
      "False\n",
      "False\n"
     ]
    }
   ],
   "source": [
    "def repeat_inplace(L: list) -> list:\n",
    "    L_size = len(L)\n",
    "    j, position = 0, 0\n",
    "\n",
    "    while j < L_size:\n",
    "        print(f\"L: {L}\")\n",
    "        print(f\"L[{position}] = {L[position]}\")\n",
    "\n",
    "        if L[position] == 0:\n",
    "            del L[position]\n",
    "            position += 0\n",
    "\n",
    "        else:\n",
    "            number = counter = L[position]\n",
    "            \n",
    "            print(f\" - We need to add {number} from the position {position + 1} for {counter} times.\")\n",
    "            while counter > 1:\n",
    "                L.insert(position + 1, number)\n",
    "                position += 1\n",
    "                counter -= 1\n",
    "            \n",
    "            position += 1\n",
    "\n",
    "        print(\"-\" * 50)\n",
    "        j += 1\n",
    "        print(L)\n",
    "    return L\n",
    "\n",
    "A = [3,0,2,4]\n",
    "AR = [3,3,3,2,2,4,4,4]\n",
    "id_prev = id(A)\n",
    "repeat_inplace(A)\n",
    "\n",
    "print()\n",
    "print(id_prev == id(A))\n",
    "print(A == AR)\n",
    "print((id_prev == id(A)) and (A == AR))\t"
   ]
  },
  {
   "cell_type": "code",
   "execution_count": 26,
   "metadata": {},
   "outputs": [
    {
     "name": "stdout",
     "output_type": "stream",
     "text": [
      "\n",
      "True\n",
      "True\n",
      "True\n"
     ]
    }
   ],
   "source": [
    "def repeat_inplace(L: list) -> list:\n",
    "    \n",
    "    j, position, L_size = 0, 0, len(L)\n",
    "\n",
    "    while j < L_size:\n",
    "\n",
    "        if L[position] == 0:\n",
    "            del L[position]\n",
    "\n",
    "        else:\n",
    "            number = counter = L[position]            \n",
    "            while counter > 1:\n",
    "                L.insert(position + 1, number)\n",
    "                position += 1\n",
    "                counter -= 1\n",
    "            \n",
    "            position += 1\n",
    "\n",
    "        j += 1\n",
    "    return L\n",
    "\n",
    "A = [3,0,2,4]\n",
    "AR = [3,3,3,2,2,4,4,4,4]\n",
    "id_prev = id(A)\n",
    "repeat_inplace(A)\n",
    "\n",
    "print()\n",
    "print(id_prev == id(A))\n",
    "print(A == AR)\n",
    "print((id_prev == id(A)) and (A == AR))\t"
   ]
  },
  {
   "cell_type": "code",
   "execution_count": 82,
   "metadata": {},
   "outputs": [],
   "source": [
    "voc = ('a', 'abbandonare', 'abbastanza', 'abitare', 'abito', 'accadere', 'accanto', 'accendere', 'accettare', 'accogliere', 'accompagnare', 'accordo', 'accorgersi', 'acqua', 'addirittura', 'addosso', 'adesso', 'affare', 'affatto', 'affermare', 'affrontare', 'aggiungere', 'ah', 'aiutare', 'aiuto', 'albergo', 'albero', 'alcuno', 'allontanare', 'allora', 'almeno', 'alto', 'altro', 'alzare', 'amare', 'ambiente', 'americano', 'amico', 'ammazzare', 'ammettere', 'amore', 'ampio', 'anche', 'ancora', 'andare', 'angolo', 'anima', 'animale', 'animo', 'anno', 'annunciare', 'antico', 'anzi', 'apparire', 'appartenere', 'appena', 'appoggiare', 'appunto', 'aprire', 'argomento', 'aria', 'arma', 'armare', 'arrestare', 'arrivare', 'arte', 'articolo', 'ascoltare', 'aspettare', 'aspetto', 'assai', 'assicurare', 'assistere', 'assoluto', 'assumere', 'attaccare', 'atteggiamento', 'attendere', 'attento', 'attenzione', 'attesa', 'attimo', 'attività', 'atto', 'attore', 'attorno', 'attraversare', 'attuale', 'aumentare', 'automobile', 'autore', 'autorità', 'avanti', 'avanzare', 'avere', 'avvenire', 'avvertire', 'avvicinare', 'avvocato', 'azione', 'azzurro', 'baciare', 'badare', 'bagno', 'bambina', 'bambino', 'base', 'basso', 'bastare', 'battaglia', 'battere', 'bellezza', 'bello', 'bene', 'bere', 'bestia', 'bianco', 'biondo', 'bisognare', 'bisogno', 'bocca', 'bosco', 'braccio', 'bravo', 'breve', 'bruciare', 'brutto', 'buio', 'buono', 'buttare', 'cadere', 'caffè', 'calcio', 'caldo', 'cambiare', 'camera', 'camminare', 'campagna', 'campo', 'cane', 'cantare', 'capace', 'capello', 'capire', 'capitare', 'capo', 'carattere', 'caratteristico', 'carne', 'caro', 'carta', 'casa', 'caso', 'cattivo', 'cattolico', 'causa', 'cavallo', 'celebrare', 'centrale', 'centro', 'cercare', 'certamente', 'certo', 'che', 'chi', 'chiamare', 'chiaro', 'chiave', 'chiedere', 'chiesa', 'chilometro', 'chissà', 'chiudere', 'ci', 'ciascuno', 'cielo', 'cioè', 'circa', 'cittadino', 'città', 'civile', 'civiltà', 'ciò', 'classe', 'collina', 'collo', 'colore', 'coloro', 'colpa', 'colpire', 'colpo', 'come', 'cominciare', 'commercio', 'commissione', 'comodo', 'compagnia', 'compagno', 'compiere', 'completamente', 'comporre', 'comprare', 'comprendere', 'comune', 'comunicazione', 'comunque', 'con', 'concedere', 'concetto', 'concludere', 'condizione', 'condurre', 'confessare', 'confronto', 'congresso', 'conoscenza', 'conoscere', 'conseguenza', 'consentire', 'conservare', 'considerare', 'consiglio', 'contadino', 'contare', 'contatto', 'contenere', 'contento', 'continuare', 'continuo', 'conto', 'contrario', 'contro', 'controllo', 'convincere', 'coprire', 'coraggio', 'corpo', 'corrente', 'correre', 'corsa', 'corso', 'cortile', 'cosa', 'coscienza', 'costa', 'costituire', 'costringere', 'costruire', 'costruzione', 'creare', 'credere', 'crescere', 'crisi', 'cristiano', 'croce', 'cucina', 'cui', 'cultura', 'cuore', 'cura', 'da', 'dare', 'davanti', 'davvero', 'decidere', 'decisione', 'dedicare', 'denaro', 'dente', 'dentro', 'descrivere', 'desiderare', 'desiderio', 'destino', 'destro', 'determinare', 'di', 'dichiarare', 'dietro', 'difendere', 'difesa', 'differenza', 'difficile', 'difficoltà', 'diffondere', 'dimenticare', 'dimostrare', 'dinanzi', 'dio', 'dipendere', 'dire', 'diretto', 'direttore', 'direzione', 'dirigere', 'diritto', 'discorso', 'discutere', 'disporre', 'disposizione', 'distanza', 'distinguere', 'distruggere', 'dito', 'divenire', 'diventare', 'diverso', 'divertire', 'dividere', 'dolce', 'dolore', 'domanda', 'domandare', 'domani', 'domenica', 'don', 'donna', 'dopo', 'dormire', 'dottore', 'dove', 'dovere', 'dubbio', 'dunque', 'durante', 'durare', 'duro', 'e', 'eccellenza', 'eccetera', 'ecco', 'economico', 'effetto', 'egli', 'eh', 'elemento', 'elettrico', 'elevare', 'energia', 'enorme', 'entrare', 'entro', 'epoca', 'eppure', 'erba', 'errore', 'esame', 'escludere', 'esempio', 'esercito', 'esistere', 'esperienza', 'esporre', 'espressione', 'esprimere', 'essa', 'essere', 'esso', 'estate', 'estendere', 'estero', 'estremo', 'età', 'europeo', 'evitare', 'fabbrica', 'faccia', 'facile', 'fame', 'famiglia', 'famoso', 'fantasia', 'fatica', 'fatto', 'favore', 'fede', 'felice', 'fenomeno', 'ferire', 'fermare', 'fermo', 'ferro', 'festa', 'fianco', 'fiducia', 'figlia', 'figlio', 'figura', 'figurare', 'film', 'filo', 'finalmente', 'finché', 'fine', 'finestra', 'finire', 'fino', 'fiore', 'fissare', 'fiume', 'foglia', 'folla', 'fondare', 'fondo', 'forma', 'formare', 'fornire', 'forse', 'forte', 'fortuna', 'forza', 'fra', 'francese', 'frase', 'fratello', 'freddo', 'fresco', 'fretta', 'fronte', 'frutto', 'fuggire', 'fumare', 'funzione', 'fuoco', 'fuori', 'futuro', 'gamba', 'gatto', 'generale', 'genere', 'gente', 'gesto', 'gettare', 'giallo', 'giardino', 'giocare', 'gioco', 'gioia', 'giornale', 'giornata', 'giorno', 'giovane', 'giovanotto', 'girare', 'giro', 'giudicare', 'giudizio', 'giugno', 'giungere', 'giustizia', 'giusto', 'già', 'giù', 'godere', 'governo', 'grado', 'grande', 'grave', 'grazia', 'grazie', 'greco', 'gridare', 'grigio', 'grosso', 'gruppo', 'guardare', 'guardia', 'guerra', 'guidare', 'gusto', 'idea', 'ieri', 'il', 'immaginare', 'immagine', 'imparare', 'impedire', 'imporre', 'importante', 'importanza', 'importare', 'impossibile', 'impressione', 'improvviso', 'in', 'incontrare', 'indicare', 'indietro', 'industria', 'industriale', 'infatti', 'infine', 'inglese', 'iniziare', 'inizio', 'innamorare', 'inoltre', 'insegnare', 'insieme', 'insistere', 'insomma', 'intanto', 'intendere', 'intenzione', 'interessante', 'interessare', 'interesse', 'internazionale', 'interno', 'intero', 'intorno', 'inutile', 'invece', 'inverno', 'invitare', 'io', 'isola', 'istante', 'istituto', 'italiano', 'labbro', 'lago', 'lanciare', 'largo', 'lasciare', 'latino', 'lato', 'latte', 'lavorare', 'lavoro', 'legare', 'legge', 'leggere', 'leggero', 'lei', 'lettera', 'letto', 'levare', 'li', 'liberare', 'libero', 'libertà', 'libro', 'limitare', 'limite', 'linea', 'lingua', 'lira', 'lo', 'lontano', 'loro', 'lotta', 'luce', 'lui', 'luna', 'lungo', 'luogo', 'là', 'lì', 'ma', 'macchina', 'madre', 'maestro', 'magari', 'maggio', 'maggiore', 'malattia', 'male', 'mamma', 'mancare', 'mandare', 'mangiare', 'maniera', 'mano', 'mantenere', 'mare', 'marito', 'massa', 'massimo', 'materia', 'matrimonio', 'mattina', 'mattino', 'medesimo', 'medico', 'medio', 'meglio', 'memoria', 'meno', 'mente', 'mentre', 'mercato', 'meritare', 'merito', 'mese', 'messa', 'mestiere', 'metro', 'mettere', 'metà', 'mezzo', 'mi', 'migliore', 'milione', 'militare', 'minimo', 'ministro', 'minore', 'minuto', 'mio', 'misura', 'moderno', 'modo', 'moglie', 'molto', 'momento', 'mondo', 'montagna', 'monte', 'morale', 'morire', 'morte', 'mostrare', 'motivo', 'movimento', 'muovere', 'muro', 'musica', 'nascere', 'nascondere', 'natura', 'naturale', 'naturalmente', 'nave', 'nazionale', 'nazione', 'ne', 'neanche', 'necessario', 'necessità', 'nemico', 'nemmeno', 'neppure', 'nero', 'nessuno', 'niente', 'no', 'nobile', 'noi', 'nome', 'non', 'nord', 'normale', 'nostro', 'notare', 'notevole', 'notizia', 'noto', 'notte', 'nudo', 'nulla', 'numero', 'numeroso', 'nuovo', 'né', 'o', 'occasione', 'occhio', 'occorrere', 'odore', 'offendere', 'offrire', 'oggetto', 'oggi', 'ogni', 'ognuno', 'oh', 'oltre', 'ombra', 'onore', 'opera', 'operaio', 'operazione', 'opinione', 'opporre', 'oppure', 'ora', 'oramai', 'ordinare', 'ordine', 'orecchio', 'organizzare', 'origine', 'oro', 'ospedale', 'osservare', 'ottenere', 'pace', 'padre', 'padrone', 'paese', 'pagare', 'pagina', 'palazzo', 'pane', 'papà', 'parecchio', 'parere', 'parete', 'parlare', 'parola', 'parte', 'partecipare', 'particolare', 'partire', 'partito', 'passare', 'passato', 'passione', 'passo', 'patria', 'paura', 'pazzo', 'peccato', 'peggio', 'pelle', 'pena', 'pensare', 'pensiero', 'per', 'perché', 'perciò', 'perdere', 'perfetto', 'perfino', 'pericolo', 'pericoloso', 'periodo', 'permettere', 'persona', 'personaggio', 'personale', 'però', 'pesare', 'peso', 'pezzo', 'piacere', 'piangere', 'piano', 'pianta', 'piantare', 'pianura', 'piazza', 'piccolo', 'piede', 'pieno', 'pietra', 'pietà', 'piuttosto', 'più', 'poco', 'poesia', 'poeta', 'poiché', 'politica', 'politico', 'polizia', 'pomeriggio', 'ponte', 'popolazione', 'popolo', 'porre', 'porta', 'portare', 'porto', 'posare', 'posizione', 'possedere', 'possibile', 'possibilità', 'posto', 'potenza', 'potere', 'povero', 'pranzo', 'prato', 'preciso', 'preferire', 'pregare', 'prendere', 'preoccupare', 'preparare', 'presentare', 'presente', 'presenza', 'presidente', 'presso', 'presto', 'prevedere', 'prezzo', 'prima', 'primo', 'principale', 'principe', 'principio', 'privato', 'probabilmente', 'problema', 'procedere', 'processo', 'prodotto', 'produrre', 'produzione', 'professore', 'profondo', 'programma', 'promettere', 'pronto', 'proporre', 'proposito', 'proposta', 'proprio', 'prossimo', 'prova', 'provare', 'provincia', 'provocare', 'provvedere', 'pubblicare', 'pubblico', 'punta', 'punto', 'pure', 'puro', 'qua', 'quadro', 'qualche', 'qualcosa', 'qualcuno', 'quale', 'qualità', 'qualsiasi', 'qualunque', 'quanto', 'quarto', 'quasi', 'quello', 'questione', 'questo', 'qui', 'quindi', 'raccogliere', 'raccontare', 'ragazza', 'ragazzo', 'raggiungere', 'ragione', 'rapido', 'rapporto', 'rappresentare', 'reale', 'realtà', 'recare', 'recente', 'regione', 'regno', 'relazione', 'religioso', 'rendere', 'repubblica', 'resistere', 'restare', 'resto', 'ricchezza', 'ricco', 'ricerca', 'ricevere', 'richiedere', 'riconoscere', 'ricordare', 'ricordo', 'ridere', 'ridurre', 'riempire', 'rientrare', 'riferire', 'rifiutare', 'riguardare', 'rimanere', 'rimettere', 'ringraziare', 'ripetere', 'riportare', 'riprendere', 'risolvere', 'rispetto', 'rispondere', 'risposta', 'risultare', 'risultato', 'ritenere', 'ritornare', 'ritorno', 'ritrovare', 'riunire', 'riuscire', 'riva', 'rivedere', 'rivelare', 'rivolgere', 'rivoluzione', 'roba', 'romano', 'rompere', 'rosso', 'russo', 'sacrificio', 'sacro', 'sala', 'salire', 'saltare', 'salutare', 'salvare', 'sangue', 'sapere', 'sbagliare', 'scala', 'scappare', 'scegliere', 'scena', 'scendere', 'scherzare', 'scienza', 'scomparire', 'scopo', 'scoppiare', 'scoprire', 'scorrere', 'scrittore', 'scrivere', 'scuola', 'scusare', 'se', 'secolo', 'secondo', 'sede', 'sedere', 'segnare', 'segno', 'segretario', 'segreto', 'seguire', 'seguito', 'sembrare', 'semplice', 'senso', 'sentimento', 'sentire', 'senza', 'sera', 'sereno', 'serie', 'serio', 'servire', 'servizio', 'settimana', 'sforzo', 'sguardo', 'si', 'sicurezza', 'sicuro', 'significare', 'signora', 'signore', 'signorina', 'silenzio', 'simile', 'sinistro', 'sino', 'sistema', 'situazione', 'smettere', 'sociale', 'società', 'soffrire', 'sognare', 'sogno', 'soldato', 'sole', 'solito', 'solo', 'soltanto', 'soluzione', 'sonno', 'sopra', 'soprattutto', 'sorella', 'sorgere', 'sorprendere', 'sorridere', 'sorriso', 'sostenere', 'sottile', 'sotto', 'spalla', 'spazio', 'speciale', 'specie', 'spegnere', 'speranza', 'sperare', 'spesa', 'spesso', 'spettacolo', 'spiegare', 'spingere', 'spirito', 'sposare', 'stabilire', 'staccare', 'stagione', 'stamattina', 'stampa', 'stanco', 'stanza', 'stare', 'stasera', 'stato', 'stazione', 'stella', 'stesso', 'storia', 'storico', 'strada', 'straniero', 'strano', 'straordinario', 'stringere', 'strumento', 'studiare', 'studio', 'stupido', 'su', 'subito', 'succedere', 'successo', 'sud', 'suo', 'suonare', 'superare', 'superiore', 'svegliare', 'sviluppo', 'svolgere', 'sì', 'tacere', 'tagliare', 'tale', 'tanto', 'tardi', 'tavola', 'tavolo', 'teatro', 'tecnico', 'tedesco', 'temere', 'tempo', 'tendere', 'tenere', 'tentare', 'termine', 'terreno', 'territorio', 'terzo', 'testa', 'tipo', 'tirare', 'titolo', 'toccare', 'togliere', 'tono', 'tornare', 'tra', 'tranquillo', 'trarre', 'trascinare', 'trasformare', 'trattare', 'tratto', 'treno', 'triste', 'troppo', 'trovare', 'tu', 'tuo', 'tuttavia', 'tutto', 'uccidere', 'udire', 'ufficiale', 'ufficio', 'uguale', 'ultimo', 'umano', 'un', 'unico', 'unire', 'università', 'uno', 'uomo', 'usare', 'uscire', 'uso', 'utile', 'valere', 'valle', 'valore', 'vario', 'vasto', 'vecchio', 'vedere', 'vendere', 'venire', 'vento', 'veramente', 'verde', 'verità', 'vero', 'verso', 'vestire', 'vestito', 'vi', 'via', 'viaggio', 'vicino', 'villa', 'vincere', 'vino', 'visita', 'viso', 'vista', 'vita', 'vivere', 'vivo', 'voce', 'voglia', 'voi', 'volare', 'volere', 'volgere', 'volontà', 'volta', 'voltare', 'volto', 'vostro', 'vuoto', 'zia', 'zio', 'zitto', 'zona')\n"
   ]
  },
  {
   "cell_type": "code",
   "execution_count": 80,
   "metadata": {},
   "outputs": [
    {
     "data": {
      "text/plain": [
       "578"
      ]
     },
     "execution_count": 80,
     "metadata": {},
     "output_type": "execute_result"
    }
   ],
   "source": [
    "nu_ = 578.9\n",
    "\n",
    "nu = int(nu_)\n",
    "nu"
   ]
  },
  {
   "cell_type": "code",
   "execution_count": 29,
   "metadata": {},
   "outputs": [],
   "source": [
    "def greatest_int(m: float) -> int:\n",
    "    return int(m) + 1 if m % 1 != 0 else int(m)\n"
   ]
  },
  {
   "cell_type": "code",
   "execution_count": 52,
   "metadata": {},
   "outputs": [],
   "source": [
    "voc = (\n",
    "    'a', 'abbandonare', 'abbastanza', 'abitare', \n",
    "    'abito', \n",
    "    'accadere', 'accanto', 'accendere', 'accettare'\n",
    ")\n",
    "\n",
    "w1 = \"accadere\"\n",
    "w2 = \"casa\"\n",
    "\n",
    "word = w1\n"
   ]
  },
  {
   "cell_type": "code",
   "execution_count": 53,
   "metadata": {},
   "outputs": [
    {
     "data": {
      "text/plain": [
       "4"
      ]
     },
     "execution_count": 53,
     "metadata": {},
     "output_type": "execute_result"
    }
   ],
   "source": [
    "n = len(voc)\n",
    "L, R = 0, n - 1\n",
    "\n",
    "# while L <= R :\n",
    "m_raw = (L + R) / 2\n",
    "m = greatest_int(m_raw)\n",
    "\n",
    "m"
   ]
  },
  {
   "cell_type": "code",
   "execution_count": 58,
   "metadata": {},
   "outputs": [
    {
     "name": "stdout",
     "output_type": "stream",
     "text": [
      "Keep looking. word(accadere) < voc_word(abito): False\n"
     ]
    }
   ],
   "source": [
    "voc_word = voc[m]\n",
    "\n",
    "if word == voc_word:\n",
    "    print(\"Found!\")\n",
    "    # break\n",
    "\n",
    "else:\n",
    "    print(f\"Keep looking. word({word}) < voc_word({voc_word}): {word < voc_word}\")\n",
    "\n"
   ]
  },
  {
   "cell_type": "code",
   "execution_count": 41,
   "metadata": {},
   "outputs": [
    {
     "data": {
      "text/plain": [
       "True"
      ]
     },
     "execution_count": 41,
     "metadata": {},
     "output_type": "execute_result"
    }
   ],
   "source": [
    "# _w1 < _w2\n",
    "_w1 = \"abbandonare\"\n",
    "_w2 = \"abbastanza\"\n",
    "\n",
    "_w1 < _w2\n"
   ]
  },
  {
   "cell_type": "code",
   "execution_count": null,
   "metadata": {},
   "outputs": [],
   "source": [
    "\n",
    "voc = (\n",
    "    'a', 'abbandonare', 'abbastanza', 'abitare', \n",
    "    'abito', \n",
    "    'accadere', 'accanto', 'accendere', 'accettare'\n",
    ")\n"
   ]
  },
  {
   "cell_type": "code",
   "execution_count": 87,
   "metadata": {},
   "outputs": [
    {
     "data": {
      "text/plain": [
       "(1159, 10)"
      ]
     },
     "execution_count": 87,
     "metadata": {},
     "output_type": "execute_result"
    }
   ],
   "source": [
    "# Question 08:\n",
    "\n",
    "n = len(voc)\n",
    "limit = 12\n",
    "def bin_search(word: str) -> tuple:\n",
    "    count, L, R = 0, 0, n\n",
    "    while L < R and count < limit:\n",
    "        m =  int((L + R) / 2) \n",
    "        if voc[m] == word:\n",
    "            count += 1\n",
    "            return m, count\n",
    "        if voc[m] < word:\n",
    "            L = m + 1\n",
    "        else:\n",
    "            R = m\n",
    "        count += 1\n",
    "    \n",
    "    return -1, count\n",
    "\n",
    "bin_search(\"zona\")\n"
   ]
  },
  {
   "cell_type": "code",
   "execution_count": null,
   "metadata": {},
   "outputs": [],
   "source": [
    "# L = 0\n",
    "# R = 9\n",
    "# m = 5"
   ]
  },
  {
   "cell_type": "code",
   "execution_count": 68,
   "metadata": {},
   "outputs": [
    {
     "data": {
      "text/plain": [
       "5"
      ]
     },
     "execution_count": 68,
     "metadata": {},
     "output_type": "execute_result"
    }
   ],
   "source": [
    "L, R = 0, n\n",
    "m = greatest_int( (L + R) / 2 )\n",
    "m"
   ]
  },
  {
   "cell_type": "code",
   "execution_count": 101,
   "metadata": {},
   "outputs": [
    {
     "data": {
      "text/plain": [
       "['i', 'a', 'o']"
      ]
     },
     "execution_count": 101,
     "metadata": {},
     "output_type": "execute_result"
    }
   ],
   "source": [
    "# Question 09:\n",
    "import string\n",
    "\n",
    "VOWELS = [\"a\", \"e\", \"i\", \"o\", \"u\"]\n",
    "\n",
    "def pre_process(s: str) -> str:\n",
    "    return s.translate(str.maketrans('', '', string.punctuation)).replace(\" \", \"\").lower()\n",
    "\n",
    "def vowels(s: str) -> list:\n",
    "    \n",
    "    s = list(pre_process(s))\n",
    "    count, selected_vowels = 0, []\n",
    "    \n",
    "    while count < len(s):\n",
    "        if s[count] in VOWELS and s[count] not in selected_vowels:\n",
    "            selected_vowels.append(s[count])\n",
    "        count += 1\n",
    "\n",
    "    return selected_vowels\n",
    "\n",
    "vowels(\"Ciao Mondo!\")\n",
    "\n",
    "\n"
   ]
  },
  {
   "cell_type": "code",
   "execution_count": 131,
   "metadata": {},
   "outputs": [
    {
     "name": "stdout",
     "output_type": "stream",
     "text": [
      "True\n",
      "True\n",
      "True\n",
      "True\n",
      "True\n",
      "False\n",
      "True\n",
      "True\n"
     ]
    }
   ],
   "source": [
    "# Question 10:\n",
    "from typing import Union\n",
    "\n",
    "seqs, k = [0, 1, 0, 1], 2\n",
    "\n",
    "def _mod(k: int) -> int:\n",
    "    return k if k >= 0 else -k\n",
    "\n",
    "def mod(seq_i_p_1: int, seq_i: int, k: int) -> int:\n",
    "    return (seq_i_p_1 - seq_i) % _mod(k) == 1\n",
    "\n",
    "def cycle(seq: Union[list, tuple, range], k: int) -> bool:\n",
    "\n",
    "    #print(f\"Sed: {seq}\")\n",
    "\n",
    "    if not seq:\n",
    "        return True\n",
    "    \n",
    "    i = 0\n",
    "    while i < len(seq) - 1:\n",
    "        #print(f\"i = {i} | ({seq[i + 1]} - {seq[i]}) % {_mod(k)} == {seq[i + 1] - seq[i]}\")\n",
    "        if not mod(seq[i + 1], seq[i], k):\n",
    "            return False\n",
    "        i += 1\n",
    "    \n",
    "    return mod(seq[0], seq[-1], k)\n",
    "\n",
    "print(cycle((1, 0, 1, 0), 2) == True)  # True\n",
    "print(cycle([1, 2], 3) == False)        # False\n",
    "print(cycle(range(10), 10) == True)    # True\n",
    "print(cycle((), 2) == True )            # True\n",
    "print(cycle((0,), 2) == False )          # False\n",
    "print(cycle([0]*4, -1) == True )        # True\n",
    "print(cycle((-1, 0, -1, 0), -2) == True )  # True\n",
    "print(cycle((-1, 0, -1, 0, -1), -2) == False )  # False"
   ]
  },
  {
   "cell_type": "code",
   "execution_count": 132,
   "metadata": {},
   "outputs": [
    {
     "name": "stdout",
     "output_type": "stream",
     "text": [
      "True\n",
      "False\n",
      "True\n",
      "True\n",
      "False\n",
      "True\n",
      "True\n",
      "False\n"
     ]
    }
   ],
   "source": [
    "def cycle(seq, k):\n",
    "    if not seq:\n",
    "        return True\n",
    "    \n",
    "    n = len(seq)\n",
    "    abs_k = abs(k)\n",
    "    \n",
    "    # Modulo by zero is undefined\n",
    "    if abs_k == 0:\n",
    "        return False\n",
    "    \n",
    "    # A sequence of length 1 cannot be cyclic\n",
    "    if n == 1:\n",
    "        return False\n",
    "    \n",
    "    # Compute the first difference modulo abs(k)\n",
    "    d = (seq[1] - seq[0]) % abs_k\n",
    "    \n",
    "    i = 1\n",
    "    while i < n:\n",
    "        diff = (seq[i] - seq[i - 1]) % abs_k\n",
    "        if diff != d:\n",
    "            return False\n",
    "        i += 1\n",
    "    \n",
    "    # Check last to first difference\n",
    "    diff = (seq[0] - seq[-1]) % abs_k\n",
    "    if diff != d:\n",
    "        return False\n",
    "    \n",
    "    return True\n",
    "\n",
    "# Test cases\n",
    "print(cycle((1, 0, 1, 0), 2))    # True\n",
    "print(cycle([1, 2], 3))          # False\n",
    "print(cycle(range(10), 10))      # True\n",
    "print(cycle((), 2))              # True\n",
    "print(cycle((0,), 2))            # False\n",
    "print(cycle([0]*4, -1))          # True\n",
    "print(cycle((-1, 0, -1, 0), -2)) # True\n",
    "print(cycle((-1, 0, -1, 0, -1), -2)) # False\n"
   ]
  },
  {
   "cell_type": "code",
   "execution_count": null,
   "metadata": {},
   "outputs": [],
   "source": []
  }
 ],
 "metadata": {
  "kernelspec": {
   "display_name": ".venv",
   "language": "python",
   "name": "python3"
  },
  "language_info": {
   "codemirror_mode": {
    "name": "ipython",
    "version": 3
   },
   "file_extension": ".py",
   "mimetype": "text/x-python",
   "name": "python",
   "nbconvert_exporter": "python",
   "pygments_lexer": "ipython3",
   "version": "3.11.4"
  }
 },
 "nbformat": 4,
 "nbformat_minor": 2
}
