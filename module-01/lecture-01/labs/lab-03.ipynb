{
 "cells": [
  {
   "cell_type": "markdown",
   "metadata": {},
   "source": [
    "```bash\n",
    "Question 01:\n",
    "\n",
    "The mode of a list is the most frequent item on the list. For example, the mode of [2,7,5,7,7,2,4] is 7, which appears 3 times. The most frequent values (tie) can be more than one. For example, the mode of [1,2,99,1,0,2] is 1, 2 which appears 2 times each. \n",
    "\n",
    "Write a function mode(L) which returns the mode of L as a list.\n",
    "\n",
    "Suppose (without checking) that the elements of L are immutable (and therefore can be dictionary keys).\n",
    "\n",
    "Tip: Use a dictionary for frequencies and an auxiliary function (do not use the default max) that returns the maximum item in a list.\n",
    "\n",
    "For example:\n",
    "\n",
    "Test\tResult\n",
    "print(sorted(mode([2,7,5,7,'libro',7,2,4])))\n",
    "[7]\n",
    "print(sorted(mode(['a',1,2,99,1,0,2])))\n",
    "[1, 2]\n",
    "print(sorted(mode([53,6,(9,3),(9,3),53,1,(9,3)])))\n",
    "[(9, 3)]\n",
    "print(sorted(mode([78,78,78,78,78,91])))\n",
    "[78]\n",
    "print(sorted(mode([('a','b',3),5,('a','b',3),7])))\n",
    "[('a', 'b', 3)]\n",
    "```"
   ]
  },
  {
   "cell_type": "code",
   "execution_count": 3,
   "metadata": {},
   "outputs": [
    {
     "data": {
      "text/plain": [
       "[(9, 3)]"
      ]
     },
     "execution_count": 3,
     "metadata": {},
     "output_type": "execute_result"
    }
   ],
   "source": [
    "# Question 01:\n",
    "\n",
    "def mode_frequency(L: list) -> dict:\n",
    "    return {n: L.count(n) for n in L}\n",
    "\n",
    "def mode_sorted(L: dict) -> list:\n",
    "    return sorted(mode_frequency(L).items(), key = lambda item: item[1], reverse = True)\n",
    "\n",
    "def mode(L: list) -> list:\n",
    "    return [i[0] for i in mode_sorted(L) if i[1] == mode_sorted(L)[0][1]]\n",
    "\n",
    "\n",
    "L = [53,6,(9,3),(9,3),53,1,(9,3)]\n",
    "\n",
    "mode(L)"
   ]
  },
  {
   "cell_type": "markdown",
   "metadata": {},
   "source": [
    "```bash\n",
    "Question-02:\n",
    "\n",
    "Write a function invert(D) which takes as a parameter a dictionary whose values are immutable objects returns a new dictionary, inverse of D, that is:\n",
    "each distinct value of D becomes a key in the resulting dictionary\n",
    "for each inverted dictionary key, the value will be a list of the original keys associated with that value\n",
    "Example:\n",
    "\n",
    ">>> D = {'a':2, 'b':2, 'c':3, 'd':4, 'e':3, 'f':0, 'g':3, 'h':2}\n",
    ">>> invert(D)\n",
    "\n",
    "{2: ['a', 'b', 'h'], 3: ['c', 'e', 'g'], 4: ['d'], 0: ['f']}\n",
    "For example:\n",
    "\n",
    "Test\tInput\tResult\n",
    "D = {'a':2, 'b':2, 'c':3, 'd':4, 'e':3,'f':0, 'g':3, 'h':2}\n",
    "#Expected: {2: ['a', 'b', 'h'], 3: ['c', 'e', 'g'], 4: ['d'], 0: ['f']}\n",
    "D = {}\n",
    "#Expected: {}\n",
    "D = {1:'a', 2:'b', 3:'c'}\n",
    "#Expected: {'a': [1], 'b': [2], 'c': [3]}\n",
    "D = {'a':'a', 'b':'a', 'c':'a'}\n",
    "#Expected: {'a': ['a', 'b', 'c']}\n",
    "```"
   ]
  },
  {
   "cell_type": "code",
   "execution_count": 128,
   "metadata": {},
   "outputs": [
    {
     "data": {
      "text/plain": [
       "{2: ['a', 'b', 'h'], 3: ['c', 'e', 'g'], 4: ['d'], 0: ['f']}"
      ]
     },
     "execution_count": 128,
     "metadata": {},
     "output_type": "execute_result"
    }
   ],
   "source": [
    "# Question 02:\n",
    "from typing import Dict, Any\n",
    "\n",
    "def invert(D: Dict[str, Any]) -> Dict[str, Any]:\n",
    "    d: Dict[str, list] = {}\n",
    "    for letter, index in D.items():\n",
    "        if index not in list(d.keys()):\n",
    "            d.update({index : [letter]})\n",
    "        else:\n",
    "            d[index].append(letter)\n",
    "    return d\n",
    "\n",
    "D = {'a':2, 'b':2, 'c':3, 'd':4, 'e':3,'f':0, 'g':3, 'h':2}\n",
    "invert(D)\n"
   ]
  },
  {
   "cell_type": "code",
   "execution_count": 21,
   "metadata": {},
   "outputs": [
    {
     "name": "stdout",
     "output_type": "stream",
     "text": [
      "{'a': ['a']}\n",
      "{'a': ['a', 'b']}\n",
      "{'a': ['a', 'b', 'c']}\n"
     ]
    }
   ],
   "source": [
    "from typing import Dict\n",
    "\n",
    "D = {'a':'a', 'b':'a', 'c':'a'}\n",
    "d: Dict[str, list] = {}\n",
    "for letter, index in D.items():\n",
    "    if index not in list(d.keys()):\n",
    "        d.update({index : [letter]})\n",
    "        print(d)\n",
    "    else:\n",
    "        d[index].append(letter)\n",
    "        print(d)\n"
   ]
  },
  {
   "cell_type": "markdown",
   "metadata": {},
   "source": [
    "```bash\n",
    "Write a function threes(a,b) that takes 2 integers as parameters and returns, using only one instruction (return of a list comprehension), the list of integers between a and b (both endpoints included!) that contain the digit 3.\n",
    "\n",
    "For example:\n",
    "\n",
    "Test\tResult\n",
    "print(threes(0,100))\n",
    "[3, 13, 23, 30, 31, 32, 33, 34, 35, 36, 37, 38, 39, 43, 53, 63, 73, 83, 93]\n",
    "print(threes(4,12))\n",
    "[]\n",
    "print(threes(3,33))\n",
    "[3, 13, 23, 30, 31, 32, 33]\n",
    "print(threes(-2000,-1000))\n",
    "[-1993, -1983, -1973, -1963, -1953, -1943, -1939, -1938, -1937, -1936, -1935, -1934, -1933, -1932, -1931, -1930, -1923, -1913, -1903, -1893, -1883, -1873, -1863, -1853, -1843, -1839, -1838, -1837, -1836, -1835, -1834, -1833, -1832, -1831, -1830, -1823, -1813, -1803, -1793, -1783, -1773, -1763, -1753, -1743, -1739, -1738, -1737, -1736, -1735, -1734, -1733, -1732, -1731, -1730, -1723, -1713, -1703, -1693, -1683, -1673, -1663, -1653, -1643, -1639, -1638, -1637, -1636, -1635, -1634, -1633, -1632, -1631, -1630, -1623, -1613, -1603, -1593, -1583, -1573, -1563, -1553, -1543, -1539, -1538, -1537, -1536, -1535, -1534, -1533, -1532, -1531, -1530, -1523, -1513, -1503, -1493, -1483, -1473, -1463, -1453, -1443, -1439, -1438, -1437, -1436, -1435, -1434, -1433, -1432, -1431, -1430, -1423, -1413, -1403, -1399, -1398, -1397, -1396, -1395, -1394, -1393, -1392, -1391, -1390, -1389, -1388, -1387, -1386, -1385, -1384, -1383, -1382, -1381, -1380, -1379, -1378, -1377, -1376, -1375, -1374, -1373, -1372, -1371, -1370, -1369, -1368, -1367, -1366, -1365, -1364, -1363, -1362, -1361, -1360, -1359, -1358, -1357, -1356, -1355, -1354, -1353, -1352, -1351, -1350, -1349, -1348, -1347, -1346, -1345, -1344, -1343, -1342, -1341, -1340, -1339, -1338, -1337, -1336, -1335, -1334, -1333, -1332, -1331, -1330, -1329, -1328, -1327, -1326, -1325, -1324, -1323, -1322, -1321, -1320, -1319, -1318, -1317, -1316, -1315, -1314, -1313, -1312, -1311, -1310, -1309, -1308, -1307, -1306, -1305, -1304, -1303, -1302, -1301, -1300, -1293, -1283, -1273, -1263, -1253, -1243, -1239, -1238, -1237, -1236, -1235, -1234, -1233, -1232, -1231, -1230, -1223, -1213, -1203, -1193, -1183, -1173, -1163, -1153, -1143, -1139, -1138, -1137, -1136, -1135, -1134, -1133, -1132, -1131, -1130, -1123, -1113, -1103, -1093, -1083, -1073, -1063, -1053, -1043, -1039, -1038, -1037, -1036, -1035, -1034, -1033, -1032, -1031, -1030, -1023, -1013, -1003]\n",
    "```"
   ]
  },
  {
   "cell_type": "code",
   "execution_count": 27,
   "metadata": {},
   "outputs": [],
   "source": [
    "# Question 03:\n",
    "\n",
    "def threes(a: int, b: int) -> list:\n",
    "    return [int(n) for n in range(a, b + 1) if \"3\" in str(n)]\n",
    "\n",
    "response = threes(-2000, -1000)\n"
   ]
  },
  {
   "cell_type": "markdown",
   "metadata": {},
   "source": [
    "```bash\n",
    "Question 04:\n",
    "\n",
    "Write a function flatten(LL) that takes a list of lists of integers, and creates a new list wich is simply a list of integers. Use only one instruction (return of a list comprehension) inside the function.\n",
    "\n",
    "For example:\n",
    "\n",
    "Test\tResult\n",
    "print(flatten([[1,2,3], [4,5,6], [7,8,9]]))\n",
    "[1, 2, 3, 4, 5, 6, 7, 8, 9]\n",
    "print(flatten([[]]))\n",
    "[]\n",
    "print(flatten([[0],[],[1]]))\n",
    "[0, 1]\n",
    "print(flatten([[10,9,8]]))\n",
    "[10, 9, 8]\n",
    "```"
   ]
  },
  {
   "cell_type": "code",
   "execution_count": null,
   "metadata": {},
   "outputs": [],
   "source": [
    "from typing import List\n",
    "def flatten(LL: List[list]) -> list:\n",
    "    elements = []\n",
    "    for inner_list in LL:\n",
    "        for element in inner_list:\n",
    "            elements.append(element)\n",
    "    return elements"
   ]
  },
  {
   "cell_type": "code",
   "execution_count": 39,
   "metadata": {},
   "outputs": [
    {
     "data": {
      "text/plain": [
       "[1, 2, 3, 4, 5, 6, 7, 8, 9]"
      ]
     },
     "execution_count": 39,
     "metadata": {},
     "output_type": "execute_result"
    }
   ],
   "source": [
    "# Question 04:\n",
    "from typing import List\n",
    "def flatten(LL: List[list]) -> list:\n",
    "    return [element for inner_list in LL for element in inner_list]\n",
    "\n",
    "flatten([[1,2,3], [4,5,6], [7,8,9]])\n"
   ]
  },
  {
   "cell_type": "code",
   "execution_count": null,
   "metadata": {},
   "outputs": [],
   "source": [
    "def flatten(LL: List[list]) -> list:\n",
    "    return [element for inner_list in LL for element in inner_list]\n",
    "\n"
   ]
  },
  {
   "cell_type": "markdown",
   "metadata": {},
   "source": [
    "```bash\n",
    "Question 05:\n",
    "\n",
    "Write a merge(LD) function that takes a list (assume it is, without controls) LD of dictionaries as a parameter (if not, return None). Dictionary keys are of any type allowable for a key, the values of any type but not lists (if you find a list, return None). The function returns a new dictionary obtained by merging all dictionaries.\n",
    "\n",
    "In case the same key is present in more than one LD dictionary:\n",
    "if all values val associated with key in different dictionaries are the same, then the resulting dictionary will contain the key:val\n",
    "item only once.\n",
    "if there are different values (val1, val2, ..., valk) for key in LD dictionaries, the resulting dictionary must have the item key:[val1,val2,...,valk] i.e. the key will have as value a list with all the distinct k-values (without duplicates) associated in the different dictionaries to the key.\n",
    ".\n",
    "Example:\n",
    " D1 = {1:'E1',2:'R4',3:'M2'}\n",
    "\tD2 = {2:'V3',3:'M2',(5,'a'):'G?1'}.\n",
    "The merge([D1, D2]) invocation returns {1: 'E1', 2: ['R4', 'V3'], 3: 'M2', (5, 'a'): 'G?1'}.\n",
    "For example:\n",
    "\n",
    "Test\tResult\n",
    "print(merge([{1:'E1',2:'R4',3:'M2'}, {2:'V3',3:'M2',(5,'a'):'G?1'}]) == {1: 'E1', 2: ['R4', 'V3'], 3: 'M2', (5, 'a'): 'G?1'})\n",
    "True\n",
    "print(merge([{(1,2):5,(4,5):8,(1,2):6}, {(1,3):0,(4,5):8,(1,2):-1}]) == {(1, 2): [6, -1], (4, 5): 8, (1, 3): 0})\n",
    "True\n",
    "print(merge([{'A':5,'B':6, (1,'Z'):3, 'D':(-6,-1)}, {'B':5,'C':7, (1,'Z'):4, 'E':(7,8)}, {'B':6,'E':-22, 99:99, 'D':(-6,-1)}, {'A':5,'B':6, (1,'Z'):3}]) == {'A': 5, 'B': [6, 5], (1, 'Z'): [3, 4], 'D': (-6, -1), 'C': 7, 'E': [(7, 8), -22], 99: 99})\n",
    "True\n",
    "print(merge([{(1,2):5,(4,5):8,(1,2):6}, {(1,3):0,(4,5):8,(1,2):-1}, 1000]) == None)\n",
    "True\n",
    "print(merge([{1:'E1',2:['R4','F5'],3:'M2'}, {2:'V3',3:'M2',(5,'a'):'G?1'}]) == None)\n",
    "```"
   ]
  },
  {
   "cell_type": "code",
   "execution_count": 108,
   "metadata": {},
   "outputs": [
    {
     "data": {
      "text/plain": [
       "{1: 'E1', 2: ['R4', 'V3'], 3: 'M2', (5, 'a'): 'G?1'}"
      ]
     },
     "execution_count": 108,
     "metadata": {},
     "output_type": "execute_result"
    }
   ],
   "source": [
    "from typing import Dict, List, Any, Union\n",
    "\n",
    "def flatten(LL: List[list]) -> list:\n",
    "    return [element for inner_list in LL for element in inner_list]\n",
    "\n",
    "def from_key_value_to_list_tuple(LD: List[Dict[str, Any]]):\n",
    "    return [list(i.items()) for i in LD]\n",
    "\n",
    "def not_invert(D: Dict[str, Any]) -> Dict[str, Any]:\n",
    "    d: Dict[str, list] = {}\n",
    "\n",
    "    for couple in D:\n",
    "        key, value = couple\n",
    "\n",
    "        if key not in list(d.keys()):\n",
    "            d.update({key : value})\n",
    "        else:\n",
    "            d_value = d[key]\n",
    "\n",
    "            if isinstance(d_value, list):\n",
    "                if not value in d_value:\n",
    "                    d_value.append(value)\n",
    "                    d.update({key: value})\n",
    "            else:\n",
    "                if value != d_value:\n",
    "                    d.update({key : [d_value, value]})\n",
    "\n",
    "    return d\n",
    "\n",
    "def merge(LD: List[Dict[str, Any]]) -> Union[None, bool]:\n",
    "    if not all([isinstance(i, dict) for i in LD]):\n",
    "        return None\n",
    "    LD_flatted = flatten(\n",
    "        from_key_value_to_list_tuple(\n",
    "            LD\n",
    "        )\n",
    "    )\n",
    "    if any([isinstance(i[1], list) for i in LD_flatted]):\n",
    "        return None\n",
    "\n",
    "    return not_invert(LD_flatted)\n",
    "\n",
    "LD = [{1:'E1',2:'R4',3:'M2'}, {2:'V3',3:'M2',(5,'a'):'G?1'}]\n",
    "\n",
    "LD_1 = from_key_value_to_list_tuple(LD)\n",
    "LD_2 = flatten(LD_1)\n",
    "LD_3 = not_invert(LD_2)\n",
    "LD_3\n"
   ]
  },
  {
   "cell_type": "code",
   "execution_count": null,
   "metadata": {},
   "outputs": [],
   "source": [
    "merge(LD)"
   ]
  },
  {
   "cell_type": "code",
   "execution_count": null,
   "metadata": {},
   "outputs": [],
   "source": [
    "LD_1 = from_key_value_to_list_tuple(LD)\n",
    "LD_2 = flatten(LD_1)\n",
    "LD_3 = not_invert(LD_2)\n",
    "LD_3"
   ]
  },
  {
   "cell_type": "code",
   "execution_count": null,
   "metadata": {},
   "outputs": [],
   "source": [
    "LD_1 = from_key_value_to_list_tuple(LD)\n",
    "LD_2 = flatten(LD_1)\n",
    "LD_3 = not_invert(LD_2)\n",
    "LD_3"
   ]
  },
  {
   "cell_type": "code",
   "execution_count": 98,
   "metadata": {},
   "outputs": [],
   "source": [
    "from copy import copy\n",
    "\n",
    "D = copy(LD_2)"
   ]
  },
  {
   "cell_type": "code",
   "execution_count": 101,
   "metadata": {},
   "outputs": [
    {
     "name": "stdout",
     "output_type": "stream",
     "text": [
      "('A', 5)\n",
      "('B', 6)\n",
      "((1, 'Z'), 3)\n",
      "('D', (-6, -1))\n",
      "('B', 5)\n",
      "('C', 7)\n",
      "((1, 'Z'), 4)\n",
      "('E', (7, 8))\n",
      "('B', 6)\n",
      "('E', -22)\n",
      "(99, 99)\n",
      "('D', (-6, -1))\n",
      "('A', 5)\n",
      "('B', 6)\n",
      "((1, 'Z'), 3)\n"
     ]
    }
   ],
   "source": [
    "for couple in D:\n",
    "    print(couple)"
   ]
  },
  {
   "cell_type": "code",
   "execution_count": 103,
   "metadata": {},
   "outputs": [
    {
     "data": {
      "text/plain": [
       "{'A': 5,\n",
       " 'B': [5, 6],\n",
       " (1, 'Z'): [4, 3],\n",
       " 'D': (-6, -1),\n",
       " 'C': 7,\n",
       " 'E': [-22, (7, 8)],\n",
       " 99: 99}"
      ]
     },
     "execution_count": 103,
     "metadata": {},
     "output_type": "execute_result"
    }
   ],
   "source": [
    "d: Dict[str, list] = {}\n",
    "\n",
    "for couple in D:\n",
    "    key, value = couple\n",
    "\n",
    "    if key not in list(d.keys()):\n",
    "        d.update({key : value})\n",
    "    else:\n",
    "        d_value = d[key]\n",
    "\n",
    "        if isinstance(d_value, list):\n",
    "            if not value in d_value:\n",
    "                d_value.append(value)\n",
    "                d.update({key: value})\n",
    "        else:\n",
    "            if value != d_value:\n",
    "                d.update({key : [value, d_value]})\n",
    "\n",
    "d\n"
   ]
  },
  {
   "cell_type": "code",
   "execution_count": null,
   "metadata": {},
   "outputs": [],
   "source": []
  },
  {
   "cell_type": "code",
   "execution_count": 114,
   "metadata": {},
   "outputs": [
    {
     "name": "stdout",
     "output_type": "stream",
     "text": [
      "True\n",
      "True\n",
      "True\n",
      "True\n",
      "True\n",
      "True\n",
      "True\n"
     ]
    }
   ],
   "source": [
    "import string\n",
    "\n",
    "def frequencies(s: str) -> dict:\n",
    "    result = {}\n",
    "        \n",
    "    for i in range(len(s) - 1):\n",
    "        current_char = s[i]\n",
    "        next_char = s[i + 1]\n",
    "        \n",
    "\n",
    "        if current_char in string.ascii_letters + string.digits:\n",
    "            if current_char not in result:\n",
    "                result[current_char] = {}\n",
    "            \n",
    "\n",
    "            if next_char in result[current_char]:\n",
    "                result[current_char][next_char] += 1\n",
    "            else:\n",
    "                result[current_char][next_char] = 1\n",
    "    \n",
    "    return result\n",
    "\n",
    "# Test cases\n",
    "print(frequencies('Amarcord...') == {'A': {'m': 1}, 'm': {'a': 1}, 'a': {'r': 1}, 'r': {'c': 1, 'd': 1}, 'c': {'o': 1}, 'o': {'r': 1}, 'd': {'.': 1}})\n",
    "print(frequencies('Ramarro marrone') == {'n': {'e': 1}, 'r': {'o': 2, 'r': 2}, 'm': {'a': 2}, 'a': {'r': 2, 'm': 1}, 'R': {'a': 1}, 'o': {'n': 1, ' ': 1}})\n",
    "print(frequencies(\"That's all folks\") == {'T': {'h': 1}, 'h': {'a': 1}, 'a': {'t': 1, 'l': 1}, 't': {\"'\": 1}, 's': {' ': 1}, 'l': {'l': 1, ' ': 1, 'k': 1}, 'f': {'o': 1}, 'o': {'l': 1}, 'k': {'s': 1}})\n",
    "print(frequencies('This is us') == {'T': {'h': 1}, 'h': {'i': 1}, 'i': {'s': 2}, 's': {' ': 2}, 'u': {'s': 1}})\n",
    "print(frequencies('Tre tigri contro tre tigri') == {'T': {'r': 1}, 'r': {'e': 2, 'i': 2, 'o': 1}, 'e': {' ': 2}, 't': {'i': 2, 'r': 2}, 'i': {'g': 2, ' ': 1}, 'g': {'r': 2}, 'c': {'o': 1}, 'o': {'n': 1, ' ': 1}, 'n': {'t': 1}})\n",
    "print(frequencies('A') == {})\n",
    "print(frequencies('') == {})\n"
   ]
  },
  {
   "cell_type": "code",
   "execution_count": 124,
   "metadata": {},
   "outputs": [
    {
     "name": "stdout",
     "output_type": "stream",
     "text": [
      "[[0, 0, 0, 0, 0, 0, 0, 0, 0, 0, 0]]\n"
     ]
    }
   ],
   "source": [
    "# Question 07:\n",
    "\n",
    "from typing import List\n",
    "\n",
    "def multiplicationmatrix(m: int) -> List[list]:\n",
    "    return [[i * k for i in range(10 + 1)] for k in range(m + 1)]\n",
    "\n",
    "print(multiplicationmatrix(0))"
   ]
  },
  {
   "cell_type": "code",
   "execution_count": 122,
   "metadata": {},
   "outputs": [
    {
     "data": {
      "text/plain": [
       "[[0, 0, 0, 0, 0, 0, 0, 0, 0, 0, 0],\n",
       " [0, 1, 2, 3, 4, 5, 6, 7, 8, 9, 10],\n",
       " [0, 2, 4, 6, 8, 10, 12, 14, 16, 18, 20]]"
      ]
     },
     "execution_count": 122,
     "metadata": {},
     "output_type": "execute_result"
    }
   ],
   "source": [
    "[[i * k for i in range(10 + 1)] for k in range(2 + 1)]"
   ]
  },
  {
   "cell_type": "code",
   "execution_count": 127,
   "metadata": {},
   "outputs": [
    {
     "name": "stdout",
     "output_type": "stream",
     "text": [
      "[60, 120, 180, 240, 300, 360, 420, 480, 540, 600, 660, 720, 780, 840, 900, 960]\n"
     ]
    }
   ],
   "source": [
    "# Question 08:\n",
    "\n",
    "def listdivisible(a: int, b: int, c: int, d: int) -> list:\n",
    "    return [ i for i in range(a, b + 1) if all([i % j == 0 for j in range(c, d + 1)])]\n",
    "\n",
    "print(listdivisible(1,1000, 2, 6))"
   ]
  },
  {
   "cell_type": "code",
   "execution_count": 129,
   "metadata": {},
   "outputs": [
    {
     "data": {
      "text/plain": [
       "{0: ['f'], 2: ['a', 'b', 'h'], 3: ['c', 'e', 'g'], 4: ['d']}"
      ]
     },
     "execution_count": 129,
     "metadata": {},
     "output_type": "execute_result"
    }
   ],
   "source": [
    "# Question 09:\n",
    "from typing import Dict, Any\n",
    "\n",
    "def invert(D: Dict[str, Any]) -> Dict[Any, list]:\n",
    "    return {v: [k for k in D if D[k] == v] for v in set(D.values())}\n",
    "\n",
    "D = {'a':2, 'b':2, 'c':3, 'd':4, 'e':3,'f':0, 'g':3, 'h':2}\n",
    "invert(D)"
   ]
  }
 ],
 "metadata": {
  "kernelspec": {
   "display_name": ".venv",
   "language": "python",
   "name": "python3"
  },
  "language_info": {
   "codemirror_mode": {
    "name": "ipython",
    "version": 3
   },
   "file_extension": ".py",
   "mimetype": "text/x-python",
   "name": "python",
   "nbconvert_exporter": "python",
   "pygments_lexer": "ipython3",
   "version": "3.11.4"
  }
 },
 "nbformat": 4,
 "nbformat_minor": 2
}
