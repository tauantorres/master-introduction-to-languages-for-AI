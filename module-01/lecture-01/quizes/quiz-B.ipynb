{
 "cells": [
  {
   "cell_type": "markdown",
   "metadata": {},
   "source": [
    "<h1 \n",
    "    style=\"font-family: 'Courier New', Courier, monospace; \n",
    "    font-size:60px;\n",
    "    text-align: center;\">\n",
    "    QUIZ B\n",
    "</h1>\n"
   ]
  },
  {
   "cell_type": "markdown",
   "metadata": {},
   "source": [
    "<h2\n",
    "    style=\"font-family: 'Courier New', Courier, monospace;\n",
    "    font-size:40px;\"\n",
    "    >\n",
    "    Exercise 01:\n",
    "</h2>\n",
    "\n",
    "<hr>\n",
    "\n",
    "<p style=\"font-family: 'Courier New', Courier, monospace;\">\n",
    "Write a function <code>distance(a,b)</code> that computes the distance of point (a,b) from origin (0,0) on a plane.\n",
    "</p>\n",
    "<p style=\"font-family: 'Courier New', Courier, monospace;\">\n",
    "You can import the <code>sqrt</code> function with the command <code>from math import sqrt</code>\n",
    "</p>\n",
    "<p style=\"font-family: 'Courier New', Courier, monospace;\">\n",
    "For example:\n",
    "</p>\n",
    "<table style=\"font-family: 'Courier New', Courier, monospace;\">\n",
    "    <thead>\n",
    "        <tr>\n",
    "            <th>Test</th>\n",
    "            <th>Result</th>\n",
    "        </tr>\n",
    "    </thead>\n",
    "    <tbody>\n",
    "        <tr>\n",
    "            <td>print('%.13f' % distance(0,0))</td>\n",
    "            <td>0.0000000000000</td>\n",
    "        </tr>\n",
    "        <tr>\n",
    "            <td>print('%.13f' % distance(1,1))</td>\n",
    "            <td>1.4142135623731</td>\n",
    "        </tr>\n",
    "        <tr>\n",
    "            <td>print('%.13f' % distance(1,0))</td>\n",
    "            <td>1.0000000000000</td>\n",
    "        </tr>\n",
    "        <tr>\n",
    "            <td>print('%.13f' % distance(0,1))</td>\n",
    "            <td>1.0000000000000</td>\n",
    "        </tr>\n",
    "        <tr>\n",
    "            <td>print('%.13f' % distance(3,3))</td>\n",
    "            <td>4.2426406871193</td>\n",
    "        </tr>\n",
    "        <tr>\n",
    "            <td>print('%.13f' % distance(-1,6))</td>\n",
    "            <td>6.0827625302982</td>\n",
    "        </tr>\n",
    "        <tr>\n",
    "            <td>print('%.13f' % distance(-1,-1))</td>\n",
    "            <td>1.4142135623731</td>\n",
    "        </tr>\n",
    "    </tbody>\n",
    "</table>\n"
   ]
  },
  {
   "cell_type": "code",
   "execution_count": 1,
   "metadata": {},
   "outputs": [],
   "source": [
    "def distance(x: float, y: float, x0: float = 0, y0: float = 0) -> float:\n",
    "    return ((x - x0)**2 + (y - y0)**2)**0.5\n"
   ]
  },
  {
   "cell_type": "code",
   "execution_count": 2,
   "metadata": {},
   "outputs": [],
   "source": [
    "points = [\n",
    "    ( 0, 0),\n",
    "    ( 1, 1),\n",
    "    ( 1, 0),\n",
    "    ( 0, 1),\n",
    "    ( 3, 3),\n",
    "    (-1, 6),\n",
    "    (-1, -1)\n",
    "]\n",
    "\n"
   ]
  },
  {
   "cell_type": "code",
   "execution_count": 3,
   "metadata": {},
   "outputs": [
    {
     "name": "stdout",
     "output_type": "stream",
     "text": [
      "0.0000000000000\n",
      "1.4142135623731\n",
      "1.0000000000000\n",
      "1.0000000000000\n",
      "4.2426406871193\n",
      "6.0827625302982\n",
      "1.4142135623731\n"
     ]
    }
   ],
   "source": [
    "for point in points:\n",
    "    x, y = point\n",
    "    print(f\"{distance(x, y):.13f}\")\n",
    "    "
   ]
  },
  {
   "cell_type": "markdown",
   "metadata": {},
   "source": [
    "<hr>\n",
    "\n",
    "<h2\n",
    "    style=\"font-family: 'Courier New', Courier, monospace;\n",
    "    font-size:40px;\"\n",
    "    >\n",
    "    Exercise 02:\n",
    "</h2>\n",
    "<p style=\"font-family: 'Courier New', Courier, monospace;\">\n",
    "Write a function <code>odd(k)</code> that returns 1 if <code>k</code> is odd, 0 if it is even.\n",
    "\n",
    "</p>\n",
    "\n",
    "<p style=\"font-family: 'Courier New', Courier, monospace;\">\n",
    "For example:\n",
    "</p>\n",
    "<table style=\"font-family: 'Courier New', Courier, monospace;\">\n",
    "    <thead>\n",
    "        <tr>\n",
    "            <th>Test</th>\n",
    "            <th>Result</th>\n",
    "        </tr>\n",
    "    </thead>\n",
    "    <tbody>\n",
    "        <tr>\n",
    "            <td>print(odd(-2))</td>\n",
    "            <td>0</td>\n",
    "        </tr>\n",
    "        <tr>\n",
    "            <td>print(odd(-1))</td>\n",
    "            <td>1</td>\n",
    "        </tr>\n",
    "        <tr>\n",
    "            <td>print(odd(0))</td>\n",
    "            <td>0</td>\n",
    "        </tr>\n",
    "        <tr>\n",
    "            <td>print(odd(1))</td>\n",
    "            <td>1</td>\n",
    "        </tr>\n",
    "        <tr>\n",
    "            <td>print(odd(2))</td>\n",
    "            <td>0</td>\n",
    "        </tr>\n",
    "    </tbody>\n",
    "</table>\n"
   ]
  },
  {
   "cell_type": "code",
   "execution_count": 4,
   "metadata": {},
   "outputs": [],
   "source": [
    "def odd(k: int) -> int:\n",
    "    return k % 2\n"
   ]
  },
  {
   "cell_type": "code",
   "execution_count": 5,
   "metadata": {},
   "outputs": [
    {
     "name": "stdout",
     "output_type": "stream",
     "text": [
      "0\n",
      "1\n",
      "0\n",
      "1\n",
      "0\n"
     ]
    }
   ],
   "source": [
    "data = [-2, -1, 0, 1, 2]\n",
    "\n",
    "for number in data:\n",
    "    print(odd(number))\n",
    "    "
   ]
  },
  {
   "cell_type": "markdown",
   "metadata": {},
   "source": [
    "<hr>\n",
    "<h2\n",
    "    style=\"font-family: 'Courier New', Courier, monospace;\n",
    "    font-size:40px;\"\n",
    "    >\n",
    "    Exercise 03:\n",
    "</h2>\n",
    "\n",
    "\n",
    "<p style=\"font-family: 'Courier New', Courier, monospace;\">\n",
    "Let <code>C</code> be the initial capital of investment. Let <code>r</code> be the interest rate (expressed in decimal, for example 0.03), let <code>n</code> be the number of times the interests will be calculated in each year, let <code>t</code> be the number of years.\n",
    "</p>\n",
    "\n",
    "<p style=\"font-family: 'Courier New', Courier, monospace;\">\n",
    "Final capital <code>M</code> (with composite interest) is calculated like\n",
    "</p>\n",
    "\n",
    "<p style=\"font-family: 'Courier New', Courier, monospace;\">\n",
    "<code>M = C(1 + r/n)^(nt)</code>\n",
    "</p>\n",
    "\n",
    "<p style=\"font-family: 'Courier New', Courier, monospace;\">\n",
    "Write a function <code>capital(C, r, n, t)</code> that calculates and returns the value of <code>M</code>.\n",
    "</p>\n",
    "\n",
    "<p style=\"font-family: 'Courier New', Courier, monospace;\">\n",
    "For example:\n",
    "</p>\n",
    "<table style=\"font-family: 'Courier New', Courier, monospace;\">\n",
    "    <thead>\n",
    "        <tr>\n",
    "            <th>Test</th>\n",
    "            <th>Result</th>\n",
    "        </tr>\n",
    "    </thead>\n",
    "    <tbody>\n",
    "        <tr>\n",
    "            <td>print('%.13f' % capital(1000, 0.08, 12, 2))</td>\n",
    "            <td>1172.8879317453095</td>\n",
    "        </tr>\n",
    "        <tr>\n",
    "            <td>print('%.12f' % capital(25000, 0.03, 1, 10))</td>\n",
    "            <td>33597.909483603056</td>\n",
    "        </tr>\n",
    "        <tr>\n",
    "            <td>print('%.11f' % capital(25000, 0.03, 12, 10))</td>\n",
    "            <td>33733.83867977062</td>\n",
    "        </tr>\n",
    "        <tr>\n",
    "            <td>print('%.1f' % capital(25000, 0.0, 12, 10))</td>\n",
    "            <td>25000.0</td>\n",
    "        </tr>\n",
    "    </tbody>\n",
    "</table>\n"
   ]
  },
  {
   "cell_type": "code",
   "execution_count": 6,
   "metadata": {},
   "outputs": [],
   "source": [
    "def capital(C: float, r: float, n: int, t: int):\n",
    "    return C * (1 + r/n) ** (n * t)\n"
   ]
  },
  {
   "cell_type": "code",
   "execution_count": 7,
   "metadata": {},
   "outputs": [],
   "source": [
    "data = [\n",
    "    (13, 1000, 0.08, 12, 2),\n",
    "    (12, 25000, 0.03, 1, 10),\n",
    "    (11, 25000, 0.03, 12, 10),\n",
    "    (1, 25000, 0.0, 12, 10)\n",
    "]\n"
   ]
  },
  {
   "cell_type": "code",
   "execution_count": 13,
   "metadata": {},
   "outputs": [
    {
     "name": "stdout",
     "output_type": "stream",
     "text": [
      "1172.8879317453095\n",
      "33597.909483603056\n",
      "33733.83867977062\n",
      "25000.0\n"
     ]
    }
   ],
   "source": [
    "for d in data:\n",
    "    a, c, r, n, t = d\n",
    "    print(f\"{capital(c, r, n, t):.{a}f}\")\n"
   ]
  },
  {
   "cell_type": "code",
   "execution_count": 9,
   "metadata": {},
   "outputs": [
    {
     "name": "stdout",
     "output_type": "stream",
     "text": [
      "3.14\n"
     ]
    }
   ],
   "source": [
    "a = 2\n",
    "price = 3.141592\n",
    "\n",
    "print(f\"{price:.{a}f}\")\n"
   ]
  },
  {
   "cell_type": "markdown",
   "metadata": {},
   "source": [
    "<h2\n",
    "    style=\"font-family: 'Courier New', Courier, monospace;\n",
    "    font-size:40px;\"\n",
    "    >\n",
    "    Exercise 04:\n",
    "</h2>\n",
    "\n",
    "<p style=\"font-family: 'Courier New', Courier, monospace;\">\n",
    "Write a function <code>total_seconds(h, m, s)</code> that computes the total number of seconds present in <code>h</code> hours, <code>m</code> minutes, and <code>s</code> seconds.\n",
    "</p>\n",
    "\n",
    "<p style=\"font-family: 'Courier New', Courier, monospace;\">\n",
    "For example:\n",
    "</p>\n",
    "<table style=\"font-family: 'Courier New', Courier, monospace;\">\n",
    "    <thead>\n",
    "        <tr>\n",
    "            <th>Test</th>\n",
    "            <th>Result</th>\n",
    "        </tr>\n",
    "    </thead>\n",
    "    <tbody>\n",
    "        <tr>\n",
    "            <td>print(total_seconds(0,0,0))</td>\n",
    "            <td>0</td>\n",
    "        </tr>\n",
    "        <tr>\n",
    "            <td>print(total_seconds(0,1,0))</td>\n",
    "            <td>60</td>\n",
    "        </tr>\n",
    "        <tr>\n",
    "            <td>print(total_seconds(0,0,60))</td>\n",
    "            <td>60</td>\n",
    "        </tr>\n",
    "        <tr>\n",
    "            <td>print(total_seconds(0,120,0))</td>\n",
    "            <td>7200</td>\n",
    "        </tr>\n",
    "        <tr>\n",
    "            <td>print(total_seconds(1,1,1))</td>\n",
    "            <td>3661</td>\n",
    "        </tr>\n",
    "    </tbody>\n",
    "</table>\n"
   ]
  },
  {
   "cell_type": "code",
   "execution_count": 16,
   "metadata": {},
   "outputs": [],
   "source": [
    "def total_seconds(h: int, m: int, s: int) -> int:\n",
    "    return h * 60 ** 2 + m * 60 + s\n"
   ]
  },
  {
   "cell_type": "code",
   "execution_count": 17,
   "metadata": {},
   "outputs": [
    {
     "name": "stdout",
     "output_type": "stream",
     "text": [
      "0\n",
      "60\n",
      "60\n",
      "7200\n",
      "3661\n"
     ]
    }
   ],
   "source": [
    "data = [\n",
    "    (0, 0, 0),\n",
    "    (0, 1, 0),\n",
    "    (0, 0, 60),\n",
    "    (0, 120, 0),\n",
    "    (1, 1, 1),\n",
    "]\n",
    "\n",
    "for d in data:\n",
    "    print(total_seconds(*d))\n"
   ]
  },
  {
   "cell_type": "markdown",
   "metadata": {},
   "source": [
    "<h2\n",
    "    style=\"font-family: 'Courier New', Courier, monospace;\n",
    "    font-size:40px;\"\n",
    "    >\n",
    "    Exercise 05:\n",
    "</h2>\n",
    "\n",
    "<p style=\"font-family: 'Courier New', Courier, monospace;\">\n",
    "Write a function <code>vat(price, rate)</code> that calculates the total price (the price augmented with the VAT with the specified rate).\n",
    "</p>\n",
    "\n",
    "<p style=\"font-family: 'Courier New', Courier, monospace;\">\n",
    "For example:\n",
    "</p>\n",
    "<table style=\"font-family: 'Courier New', Courier, monospace;\">\n",
    "    <thead>\n",
    "        <tr>\n",
    "            <th>Test</th>\n",
    "            <th>Result</th>\n",
    "        </tr>\n",
    "    </thead>\n",
    "    <tbody>\n",
    "        <tr>\n",
    "            <td>print(vat(1000,22))</td>\n",
    "            <td>1220.0</td>\n",
    "        </tr>\n",
    "        <tr>\n",
    "            <td>print(vat(15,4))</td>\n",
    "            <td>15.6</td>\n",
    "        </tr>\n",
    "        <tr>\n",
    "            <td>print(vat(5,10))</td>\n",
    "            <td>5.5</td>\n",
    "        </tr>\n",
    "    </tbody>\n",
    "</table>\n"
   ]
  },
  {
   "cell_type": "code",
   "execution_count": 21,
   "metadata": {},
   "outputs": [],
   "source": [
    "def vat(price: int, rate: int) -> int:\n",
    "    return round(price * (1 + rate/100), 2)\n"
   ]
  },
  {
   "cell_type": "code",
   "execution_count": 22,
   "metadata": {},
   "outputs": [
    {
     "name": "stdout",
     "output_type": "stream",
     "text": [
      "1220.0\n",
      "15.6\n",
      "5.5\n"
     ]
    }
   ],
   "source": [
    "data = [\n",
    "    (1000, 22),\n",
    "    (15, 4),\n",
    "    (5, 10),\n",
    "]\n",
    "\n",
    "for d in data:\n",
    "    print(vat(*d))"
   ]
  },
  {
   "cell_type": "code",
   "execution_count": null,
   "metadata": {},
   "outputs": [],
   "source": []
  }
 ],
 "metadata": {
  "kernelspec": {
   "display_name": ".venv",
   "language": "python",
   "name": "python3"
  },
  "language_info": {
   "codemirror_mode": {
    "name": "ipython",
    "version": 3
   },
   "file_extension": ".py",
   "mimetype": "text/x-python",
   "name": "python",
   "nbconvert_exporter": "python",
   "pygments_lexer": "ipython3",
   "version": "3.11.4"
  }
 },
 "nbformat": 4,
 "nbformat_minor": 2
}
