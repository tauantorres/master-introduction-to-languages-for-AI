{
 "cells": [
  {
   "cell_type": "markdown",
   "metadata": {},
   "source": [
    "<h1 \n",
    "    style=\"font-family: 'Courier New', Courier, monospace; \n",
    "    font-size:60px;\n",
    "    text-align: center;\">\n",
    "    QUIZ A\n",
    "</h1>\n"
   ]
  },
  {
   "cell_type": "markdown",
   "metadata": {},
   "source": [
    "<h2\n",
    "    style=\"font-family: 'Courier New', Courier, monospace;\n",
    "    font-size:40px;\"\n",
    "    >\n",
    "    Exercise 01:\n",
    "</h2>\n",
    "\n",
    "Write a function `distance(a,b)` that computes the distance of point (a,b) from origin (0,0) on a plane.\n",
    "\n",
    "You can import the sqrt function with the command `from math import sqrt`\n",
    "\n",
    "For example:\n",
    "\n",
    "| Test                          | Result          |\n",
    "|-------------------------------|-----------------|\n",
    "| print('%.13f' % distance(0,0))| 0.0000000000000 |\n",
    "| print('%.13f' % distance(1,1))| 1.4142135623731 |\n",
    "| print('%.13f' % distance(1,0))| 1.0000000000000 |\n",
    "| print('%.13f' % distance(0,1))| 1.0000000000000 |\n",
    "| print('%.13f' % distance(3,3))| 4.2426406871193 |\n",
    "| print('%.13f' % distance(-1,6))| 6.0827625302982|\n",
    "| print('%.13f' % distance(-1,-1))| 1.4142135623731|\n"
   ]
  },
  {
   "cell_type": "code",
   "execution_count": 1,
   "metadata": {},
   "outputs": [],
   "source": [
    "def distance(x: float, y: float, x0: float = 0, y0: float = 0) -> float:\n",
    "    return ((x - x0)**2 + (y - y0)**2)**0.5\n"
   ]
  },
  {
   "cell_type": "code",
   "execution_count": 2,
   "metadata": {},
   "outputs": [],
   "source": [
    "points = [\n",
    "    ( 0, 0),\n",
    "    ( 1, 1),\n",
    "    ( 1, 0),\n",
    "    ( 0, 1),\n",
    "    ( 3, 3),\n",
    "    (-1, 6),\n",
    "    (-1, -1)\n",
    "]\n",
    "\n"
   ]
  },
  {
   "cell_type": "code",
   "execution_count": 3,
   "metadata": {},
   "outputs": [
    {
     "name": "stdout",
     "output_type": "stream",
     "text": [
      "0.0000000000000\n",
      "1.4142135623731\n",
      "1.0000000000000\n",
      "1.0000000000000\n",
      "4.2426406871193\n",
      "6.0827625302982\n",
      "1.4142135623731\n"
     ]
    }
   ],
   "source": [
    "for point in points:\n",
    "    x, y = point\n",
    "    print(f\"{distance(x, y):.13f}\")\n",
    "    "
   ]
  },
  {
   "cell_type": "code",
   "execution_count": null,
   "metadata": {},
   "outputs": [],
   "source": []
  }
 ],
 "metadata": {
  "kernelspec": {
   "display_name": ".venv",
   "language": "python",
   "name": "python3"
  },
  "language_info": {
   "codemirror_mode": {
    "name": "ipython",
    "version": 3
   },
   "file_extension": ".py",
   "mimetype": "text/x-python",
   "name": "python",
   "nbconvert_exporter": "python",
   "pygments_lexer": "ipython3",
   "version": "3.11.4"
  }
 },
 "nbformat": 4,
 "nbformat_minor": 2
}
