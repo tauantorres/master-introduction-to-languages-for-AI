{
 "cells": [
  {
   "cell_type": "markdown",
   "metadata": {},
   "source": [
    "<h1 \n",
    "    style=\"font-family: 'Courier New', Courier, monospace; \n",
    "    font-size:60px;\n",
    "    text-align: center;\">\n",
    "    QUIZ K\n",
    "</h1>\n"
   ]
  },
  {
   "cell_type": "markdown",
   "metadata": {},
   "source": [
    "Question 01:\n",
    "\n",
    "The mode of a list is the most frequent item on the list.\n",
    "For example, the mode of [2,7,5,7,7,2,4] is 7, which appears 3 times. The most frequent values (tie) can be more than one.\n",
    "For example, the mode of [1,2,99,1,0,2] is 1, 2 which appears 2 times each. \n",
    "\n",
    "Write a function mode(L) which returns the mode of L as a list.\n",
    "Suppose (without checking) that the elements of L are immutable (and therefore can be dictionary keys).\n",
    "\n",
    "Tips:\n",
    "use a dictionary for frequencies\n",
    "use an auxiliary function (do not use the default max) that returns the maximum item in a list\n",
    "P.S. The sorted function in the example tests sort elements in the result list, to prevent correct solutions from failing because of a different order of elements in the list.\n",
    "\n",
    "For example:\n",
    "\n",
    "| Test | Result |\n",
    "| --- | --- |\n",
    "| print(sorted(mode([2,7,5,7,'book',7,2,4]))) | [7] |\n",
    "| print(sorted(mode(['a',1,2,99,1,0,2]))) | [1, 2] |\n",
    "| print(sorted(mode([53,6,(9,3),(9,3),53,1,(9,3)]))) | [(9, 3)] |\n",
    "| print(sorted(mode([78,78,78,78,78,91]))) | [78] |\n",
    "| print(sorted(mode([('a','b',3),5,('a','b',3),7]))) | [('a', 'b', 3)] |\n"
   ]
  },
  {
   "cell_type": "code",
   "execution_count": 19,
   "metadata": {},
   "outputs": [
    {
     "data": {
      "text/plain": [
       "[]"
      ]
     },
     "execution_count": 19,
     "metadata": {},
     "output_type": "execute_result"
    }
   ],
   "source": [
    "# Question 01:\n",
    "\n",
    "def mode_frequency(L: list) -> dict:\n",
    "    return {n: L.count(n) for n in L}\n",
    "\n",
    "def mode_sorted(L: dict) -> list:\n",
    "    return sorted(mode_frequency(L).items(), key = lambda item: item[1], reverse = True)\n",
    "\n",
    "def mode(L: list) -> list:\n",
    "    L_sorted = sorted(mode_frequency(L).items(), key = lambda item: item[1], reverse = True)\n",
    "    return [i[0] for i in L_sorted if i[1] == L_sorted[0][1]]\n",
    "\n",
    "def mode_(L: list) -> list:\n",
    "    return [i[0] for i in mode_sorted(L) if i[1] == mode_sorted(L)[0][1]]\n",
    "\n",
    "L = []\n",
    "\n",
    "L_sorted = mode_(L)\n",
    "L_sorted"
   ]
  },
  {
   "cell_type": "markdown",
   "metadata": {},
   "source": [
    "Question 02:\n",
    "\n",
    "Write a function dict_to_str(D) that takes as parameter a dictionary D (which represents a string, see below) and returns that string.\n",
    "The dictionary items are of the kind <character>:[<list of indexes>], where the key is a character of the string, and the value is the list of all indexes of that character in the string.\n",
    "Note that the keys of D are all the unique characters of the string to be returned.\n",
    "Moreover, the order of the dictionary items, and also of indexes in the lists, is not relevant, and should not influence the function results.\n",
    "\n",
    "Suppose - without checking - that D is a dictionary, its keys are strings representing characters, and its values are lists of integer indexes.\n",
    "\n",
    "For example:\n",
    "\n",
    "| Test | Result | \n",
    "| ---  | --- |\n",
    "| print(dict_to_str({'m': [0,2], 'o': [1], '!':[3]})) | mom! |\n",
    "| print(dict_to_str({'h': [0], 'e': [1], 'l': [2, 3], 'o': [4]})) | hello |\n"
   ]
  },
  {
   "cell_type": "code",
   "execution_count": 37,
   "metadata": {},
   "outputs": [
    {
     "data": {
      "text/plain": [
       "'hello'"
      ]
     },
     "execution_count": 37,
     "metadata": {},
     "output_type": "execute_result"
    }
   ],
   "source": [
    "def dict_to_str(D: dict) -> str:\n",
    "    letters = []\n",
    "    for letter, indexes in D.items():\n",
    "        for index in indexes:\n",
    "            letters.append((index, letter))\n",
    "\n",
    "    letters_sorted = sorted(letters, key = lambda position : position[0], reverse = False)\n",
    "    return \"\".join([char for _, char in letters_sorted])\n",
    "\n",
    "D = {'h': [0], 'e': [1], 'l': [2, 3], 'o': [4]}\n",
    "dict_to_str(D)\n"
   ]
  },
  {
   "cell_type": "code",
   "execution_count": null,
   "metadata": {},
   "outputs": [],
   "source": [
    "letters = []\n",
    "for letter, indexes in D.items():\n",
    "    for index in indexes:\n",
    "        letters.append((index, letter))\n",
    "\n",
    "letters_sorted = sorted(letters, key = lambda position : position[0], reverse = False)\n",
    "word = \"\".join([char for _, char in letters_sorted])\n",
    "word"
   ]
  },
  {
   "cell_type": "code",
   "execution_count": null,
   "metadata": {},
   "outputs": [],
   "source": [
    "word = \"\".join([char for index, char in letters])\n",
    "word"
   ]
  },
  {
   "cell_type": "code",
   "execution_count": 27,
   "metadata": {},
   "outputs": [
    {
     "data": {
      "text/plain": [
       "[(0, 'm'), (1, 'o'), (2, 'm'), (3, '!')]"
      ]
     },
     "execution_count": 27,
     "metadata": {},
     "output_type": "execute_result"
    }
   ],
   "source": [
    "\n",
    "for key, indexes in D.items():\n",
    "    for index in indexes:\n",
    "        letters.append((index, key))\n",
    "\n",
    "letters.sort()\n",
    "result = ''.join([char for index, char in letters])\n",
    "result"
   ]
  },
  {
   "cell_type": "code",
   "execution_count": null,
   "metadata": {},
   "outputs": [],
   "source": []
  }
 ],
 "metadata": {
  "kernelspec": {
   "display_name": ".venv",
   "language": "python",
   "name": "python3"
  },
  "language_info": {
   "codemirror_mode": {
    "name": "ipython",
    "version": 3
   },
   "file_extension": ".py",
   "mimetype": "text/x-python",
   "name": "python",
   "nbconvert_exporter": "python",
   "pygments_lexer": "ipython3",
   "version": "3.11.4"
  }
 },
 "nbformat": 4,
 "nbformat_minor": 2
}
