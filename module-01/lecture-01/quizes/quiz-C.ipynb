{
 "cells": [
  {
   "cell_type": "code",
   "execution_count": null,
   "metadata": {},
   "outputs": [],
   "source": [
    "# 1) Which name[s] are bound to a string in this code block?\n",
    "\n",
    "message = 'And now for something completely different'\n",
    "n = 17\n",
    "number = \"123456789\"\n",
    "pi = 3.1415926535897931\n",
    "\n",
    "# <name> = <value>\n",
    "\n",
    "# ANSWER:\n",
    "# a) message = 'And now for something completely different'\n",
    "# e) n = 17"
   ]
  },
  {
   "cell_type": "code",
   "execution_count": 12,
   "metadata": {},
   "outputs": [],
   "source": [
    "# 2) How would you assign the string Penelope to the name firstname?\n",
    "\n",
    "# OPTIONS:\n",
    "# a) firstname = 'Penelope\"\n",
    "# b) firstname = \"Penelope\"\n",
    "# c) firstname = Penelope\n",
    "# d) firstname, \"Penelope\"\n",
    "\n",
    "# ANSWER:\n",
    "# b) firstname = \"Penelope\",  because the string Penelope is enclosed in double quotes"
   ]
  },
  {
   "cell_type": "code",
   "execution_count": 23,
   "metadata": {},
   "outputs": [],
   "source": [
    "# 3) Check only the portion[s] of the names that cause[s] syntax errors. [Multiple answers may be correct]\n",
    "\n",
    "# OPTIONS:\n",
    "# a) 76trombones = \"big parade\"\n",
    "# b) more@ = 1000000\n",
    "# c) class = \"Advanced Theoretical Zymurgy\" \n",
    "\n",
    "# ANSWER:\n",
    "# a) 76trombones = \"big parade\" because the name starts with a number\n",
    "# b) more@ = 1000000 because the name contains a special character\n",
    "# c) class = \"Advanced Theoretical Zymurgy\" because class is a reserved word in Python\n"
   ]
  },
  {
   "cell_type": "code",
   "execution_count": null,
   "metadata": {},
   "outputs": [],
   "source": [
    "# 4) Which of the following is not a legal name?\n",
    "\n",
    "# OPTIONS:\n",
    "\n",
    "# a) _a1\n",
    "# b) my_name\n",
    "# c) amountOfStuff\n",
    "# d) BMP\n",
    "# e) 1A\n",
    "\n",
    "# ANSWER:\n",
    "\n",
    "# e) 1A, because it starts with a number"
   ]
  },
  {
   "cell_type": "code",
   "execution_count": null,
   "metadata": {},
   "outputs": [],
   "source": [
    "# 5) Which of the following is not a legal name?\n",
    "\n",
    "# OPTIONS:\n",
    "\n",
    "# a) _my_name\n",
    "# b) my name\n",
    "# c) myname\n",
    "# d) myName\n",
    "# e) my_name\n",
    "\n",
    "# ANSWER:\n",
    "# b) my name, because it has a space.\n"
   ]
  },
  {
   "cell_type": "code",
   "execution_count": 24,
   "metadata": {},
   "outputs": [
    {
     "name": "stdout",
     "output_type": "stream",
     "text": [
      "name3 = dog\n"
     ]
    }
   ],
   "source": [
    "# 6) What is the value of name3 after the following code executes?\n",
    "\n",
    "name1 = \"cat\"\n",
    "name2 = \"dog\"\n",
    "name3 = \"bird\"\n",
    "name1 = name2\n",
    "name3 = name1\n",
    "name2 = \"fish\"\n",
    "\n",
    "# ANSWER:\n",
    "# name3 = \"dog\"\n",
    "print(f\"name3 = {name3}\")"
   ]
  },
  {
   "cell_type": "code",
   "execution_count": 25,
   "metadata": {},
   "outputs": [
    {
     "name": "stdout",
     "output_type": "stream",
     "text": [
      "name2 = fish\n"
     ]
    }
   ],
   "source": [
    "# 7) What is the value of name2 after the following code executes?\n",
    "\n",
    "name1 = \"cat\"\n",
    "name2 = \"dog\"\n",
    "name3 = \"bird\"\n",
    "name1 = name2\n",
    "name3 = name1\n",
    "name2 = \"fish\"\n",
    "\n",
    "# ANSWER:\n",
    "# name2 = \"fish\"\n",
    "print(f\"name2 = {name2}\")"
   ]
  },
  {
   "cell_type": "code",
   "execution_count": 27,
   "metadata": {},
   "outputs": [
    {
     "name": "stdout",
     "output_type": "stream",
     "text": [
      "60\n",
      "There are 3600 in 60.\n"
     ]
    }
   ],
   "source": [
    "# 8) Check only the assignment[s] in this codeblock.\n",
    "\n",
    "minutes = 60\n",
    "print(minutes)\n",
    "seconds = minutes * 60\n",
    "print(\"There are \" + str(seconds) + \" in \" + str(minutes) + \".\")\n",
    "\n",
    "# ANSWER:\n",
    "# a) minutes = 60\n",
    "# b) seconds = minutes * 60\n",
    "# Def.: Assignment: <name> = <value>\n",
    "# Because the other lines are not assignments."
   ]
  },
  {
   "cell_type": "code",
   "execution_count": 28,
   "metadata": {},
   "outputs": [
    {
     "name": "stdout",
     "output_type": "stream",
     "text": [
      "19\n"
     ]
    }
   ],
   "source": [
    "# 9) What is printed when the following statements execute?\n",
    "\n",
    "day = \"Thursday\"\n",
    "day = 32.5\n",
    "day = 19\n",
    "print(day)\n",
    "\n",
    "# ANSWER:\n",
    "# 19, because the last assignment is 19."
   ]
  },
  {
   "cell_type": "code",
   "execution_count": 29,
   "metadata": {},
   "outputs": [
    {
     "name": "stdout",
     "output_type": "stream",
     "text": [
      "x = 22 | y = 15\n"
     ]
    }
   ],
   "source": [
    "# 10) After the following statements, what are the values of x and y?\n",
    "\n",
    "x = 15\n",
    "y = x\n",
    "x = 22\n",
    "\n",
    "# ANSWER:\n",
    "# x = 22\n",
    "# y = 15\n",
    "\n",
    "print(f\"x = {x} | y = {y}\")\n"
   ]
  },
  {
   "cell_type": "code",
   "execution_count": 4,
   "metadata": {},
   "outputs": [
    {
     "name": "stdout",
     "output_type": "stream",
     "text": [
      "[Before] x = 10 | y = 20\n",
      "[After ] x = 20 | y = 10\n"
     ]
    }
   ],
   "source": [
    "# 11) Place the instructions provided below so that the program segment swaps \n",
    "#     the values of x and y after val1 and val2 are assigned to x and y, respectively.\n",
    "#     After you filled in the relevant slots, place \"pass\" in the remaining ones.\n",
    "\n",
    "x = 10\n",
    "y = 20\n",
    "\n",
    "print(f\"[Before] x = {x} | y = {y}\")\n",
    "\n",
    "temp = x\n",
    "x = y\n",
    "y = temp\n",
    "\n",
    "# ANSWER:\n",
    "print(f\"[After ] x = {x} | y = {y}\")"
   ]
  },
  {
   "cell_type": "code",
   "execution_count": 5,
   "metadata": {},
   "outputs": [
    {
     "name": "stdout",
     "output_type": "stream",
     "text": [
      "Each shirt costs €30.00\n"
     ]
    }
   ],
   "source": [
    "# 12) Place in the slots the instructions provided below, so that \n",
    "#     the program segment prints out the cost for each shirt if \n",
    "#      they are sold as \"buy 2 and get the third free\", and were originally priced €45 each.\n",
    "\n",
    "price = 45\n",
    "totalCost = price * 2\n",
    "pricePerShirt = totalCost / 3\n",
    "\n",
    "# ANSWER:\n",
    "print(f\"Each shirt costs €{pricePerShirt:.2f}\")\n",
    "\n"
   ]
  },
  {
   "cell_type": "code",
   "execution_count": 6,
   "metadata": {},
   "outputs": [
    {
     "name": "stdout",
     "output_type": "stream",
     "text": [
      "Each person must pay €35.69\n"
     ]
    }
   ],
   "source": [
    "# 13) Place in the slots the instructions provided below, \n",
    "#     so that the program segment prints out the cost per \n",
    "#     person for a dinner, including a tip of 20%.\n",
    "\n",
    "numPeople = 3\n",
    "bill = 89.23\n",
    "tip = bill * 0.20\n",
    "\n",
    "total = bill + tip\n",
    "perPersonCost = total / numPeople\n",
    "\n",
    "# ANSWER:\n",
    "print(f\"Each person must pay €{perPersonCost:.2f}\")\n",
    "\n"
   ]
  },
  {
   "cell_type": "code",
   "execution_count": 7,
   "metadata": {},
   "outputs": [
    {
     "name": "stdout",
     "output_type": "stream",
     "text": [
      "The final price is €21.20\n"
     ]
    }
   ],
   "source": [
    "# 14) Place in the slots the instructions provided below, \n",
    "#     so that the program segment prints how much you will \n",
    "#     have to pay for an item that is 60% off its original price of €52.99.\n",
    "\n",
    "price = 52.99\n",
    "discount = 0.60\n",
    "saving = price * discount\n",
    "finalPrice = price - saving\n",
    "\n",
    "# ANSWER:\n",
    "print(f\"The final price is €{finalPrice:.2f}\")\n",
    "\n"
   ]
  },
  {
   "cell_type": "code",
   "execution_count": null,
   "metadata": {},
   "outputs": [],
   "source": []
  }
 ],
 "metadata": {
  "kernelspec": {
   "display_name": ".venv",
   "language": "python",
   "name": "python3"
  },
  "language_info": {
   "codemirror_mode": {
    "name": "ipython",
    "version": 3
   },
   "file_extension": ".py",
   "mimetype": "text/x-python",
   "name": "python",
   "nbconvert_exporter": "python",
   "pygments_lexer": "ipython3",
   "version": "3.11.4"
  }
 },
 "nbformat": 4,
 "nbformat_minor": 2
}
