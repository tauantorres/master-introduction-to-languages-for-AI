{
 "cells": [
  {
   "cell_type": "markdown",
   "metadata": {},
   "source": [
    "<h1 \n",
    "    style=\"font-family: 'Courier New', Courier, monospace; \n",
    "    font-size:60px;\n",
    "    text-align: center;\">\n",
    "    QUIZ E\n",
    "</h1>\n"
   ]
  },
  {
   "cell_type": "markdown",
   "metadata": {
    "vscode": {
     "languageId": "raw"
    }
   },
   "source": [
    "## `QUESTION 01`: Remainder of the integer division\n",
    "\n",
    "Assume that someone has already assigned integer values to n and m.\n",
    "\n",
    "Write a program that prints:\n",
    "\n",
    "- \"impossible\" if m is zero;\n",
    "- \"negative\" if  m is not zero, and at least one of  n and m is negative;\n",
    "- the remainder of the integer division between n and m, otherwise;\n",
    "\n",
    "\n",
    "\n",
    "e.g.: if n=11 and m=3 the program prints 2.\n",
    "\n",
    "**NB**: n and m are already assigned to hidden values; do not assign them again.\n"
   ]
  },
  {
   "cell_type": "code",
   "execution_count": 2,
   "metadata": {},
   "outputs": [
    {
     "name": "stdout",
     "output_type": "stream",
     "text": [
      "2\n"
     ]
    }
   ],
   "source": [
    "# Hidden values:\n",
    "n=11\n",
    "m=3\n",
    "\n",
    "# Solution:\n",
    "if m == 0:\n",
    "    print(\"impossible\")\n",
    "elif n < 0 or m < 0:\n",
    "    print(\"negative\")\n",
    "else:\n",
    "    print(n % m)\n",
    "\n"
   ]
  },
  {
   "cell_type": "markdown",
   "metadata": {},
   "source": [
    "## `QUESTION 2`:\n",
    "\n",
    "Assume that someone has already assigned a string value to s, and an integer value to n.\n",
    "\n",
    "Write a program that prints True if the length of the string is a multiple of the integer; the program prints False otherwise.\n",
    "\n",
    "**NB**: s and n are already assigned to hidden values; do not assign them again.\n"
   ]
  },
  {
   "cell_type": "code",
   "execution_count": 10,
   "metadata": {},
   "outputs": [
    {
     "name": "stdout",
     "output_type": "stream",
     "text": [
      "True\n"
     ]
    }
   ],
   "source": [
    "# Hidden Values:\n",
    "s: str = \"Tauan\"\n",
    "n: int = 5\n",
    "\n",
    "# Solution:\n",
    "size = len(s)\n",
    "\n",
    "if size % n == 0:\n",
    "    print(\"True\")\n",
    "else:\n",
    "    print(\"False\")\n",
    "\n",
    "# Extra Answer: print(f\"{len(s) % n == 0}\")\n"
   ]
  },
  {
   "cell_type": "markdown",
   "metadata": {},
   "source": [
    "## `QUESTION 3`:\n",
    "\n",
    "The following table represents the rates to rent a car\n",
    "\n",
    "| Tempo            | 24 hours | 2 days | 3 days | 4 days | Every extra day |\n",
    "|------------------|----------|--------|--------|--------|-----------------|\n",
    "| Euro             | 39.99    | 79.99  | 120    | 160    | 40              |\n",
    "\n",
    "Assuming that someone has already assigned an integer value to `days`, write a program that prints the total cost. The total cost should always be a floating-point number (e.g. if `days=0` the program prints `0.0`).\n",
    "\n",
    "\n",
    "**NB**: days is already assigned to a hidden value; do not assign it again."
   ]
  },
  {
   "cell_type": "code",
   "execution_count": 17,
   "metadata": {},
   "outputs": [
    {
     "name": "stdout",
     "output_type": "stream",
     "text": [
      "200.0\n"
     ]
    }
   ],
   "source": [
    "# Hideden values:\n",
    "days = 5\n",
    " \n",
    "# Given values:\n",
    "extra_day = 40\n",
    "defined_days = {\n",
    "    1: 39.99,\n",
    "    2: 79.99,\n",
    "    3: 120,\n",
    "    4: 160,\n",
    "}\n",
    "\n",
    "# Solution:\n",
    "if days in defined_days:\n",
    "    print(float(defined_days[days]))\n",
    "else:\n",
    "    print(float(defined_days[3] + (days - 3) * extra_day))\n"
   ]
  },
  {
   "cell_type": "code",
   "execution_count": null,
   "metadata": {},
   "outputs": [],
   "source": []
  }
 ],
 "metadata": {
  "kernelspec": {
   "display_name": ".venv",
   "language": "python",
   "name": "python3"
  },
  "language_info": {
   "codemirror_mode": {
    "name": "ipython",
    "version": 3
   },
   "file_extension": ".py",
   "mimetype": "text/x-python",
   "name": "python",
   "nbconvert_exporter": "python",
   "pygments_lexer": "ipython3",
   "version": "3.11.4"
  }
 },
 "nbformat": 4,
 "nbformat_minor": 2
}
