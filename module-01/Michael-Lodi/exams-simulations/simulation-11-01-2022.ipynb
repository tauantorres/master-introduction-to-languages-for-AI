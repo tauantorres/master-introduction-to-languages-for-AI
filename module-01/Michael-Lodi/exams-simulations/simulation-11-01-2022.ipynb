{
 "cells": [
  {
   "cell_type": "raw",
   "metadata": {
    "vscode": {
     "languageId": "raw"
    }
   },
   "source": [
    "Complete the fragment below so that, when given as input a natural number n, it prints the list of the first n even numbers (starting at 0), followed by 100. You should insert:\n",
    "\n",
    "\n",
    "a single expression at the point #an expression here\n",
    "a single command at the point #a command here\n",
    "Example: \n",
    "\n",
    "input: 4\n",
    "\n",
    "output: [0, 2, 4, 6, 100]\n",
    "\n",
    "WARNING: for making the automatic testing system work, the command\n",
    "A=int(input())\n",
    "in the template box has been substituted with the example assignment\n",
    "A=4\n",
    "Do not rely on this specific case and write general code.\n",
    "\n",
    "Answer:(penalty regime: 0 %)\n"
   ]
  },
  {
   "cell_type": "code",
   "execution_count": 28,
   "metadata": {},
   "outputs": [
    {
     "name": "stdout",
     "output_type": "stream",
     "text": [
      "[0, 2, 4, 6]\n"
     ]
    }
   ],
   "source": [
    "A=4\n",
    "#write your program as if the previous line was:\n",
    "#A=int(input())\n",
    "\n",
    "L = [i for i in range(0, 2 * A, 2)]\n",
    "\n",
    "# DO NOT MODIFY ANYTHING ELSE\n",
    "def g(X):\n",
    "    X.append(100)\n",
    "    \n",
    "#a command here\n",
    "\n",
    "print(L)"
   ]
  },
  {
   "cell_type": "raw",
   "metadata": {
    "vscode": {
     "languageId": "raw"
    }
   },
   "source": [
    "Insert your code in the fragment below (where indicated, several points) so that it prints\n",
    "\n",
    "30\n",
    "77\n",
    "For example:\n",
    "\n",
    "Test\tResult\n",
    "pass\n",
    "30\n",
    "77\n"
   ]
  },
  {
   "cell_type": "code",
   "execution_count": 34,
   "metadata": {},
   "outputs": [
    {
     "name": "stdout",
     "output_type": "stream",
     "text": [
      "30\n",
      "77\n"
     ]
    }
   ],
   "source": [
    "class A:\n",
    "    def __init__(self, xx): \n",
    "        self.__x = xx\n",
    "\n",
    "    def get(self): \n",
    "        #INSERT HERE ONLY THE BODY OF get\n",
    "        return self.__x\n",
    "    \n",
    "class B(A):\n",
    "    pass\n",
    "\n",
    "class C(B):\n",
    "    def get(self):\n",
    "        return super().get()\n",
    "        \n",
    "    #INSERT HERE YOUR OTHER METHOD DEFINITIONS, if needed\n",
    "    def __add__(self, other: \"C\"):\n",
    "        return self.get() + other.get()\n",
    "\n",
    "\n",
    "#DO NOT MODIFY FROM HERE!\n",
    "b=C(10)\n",
    "c=C(20)\n",
    "\n",
    "print(b+c)\n",
    "\n",
    "b=C(70)\n",
    "c=C(7)\n",
    "\n",
    "print(b+c)\n"
   ]
  },
  {
   "cell_type": "raw",
   "metadata": {
    "vscode": {
     "languageId": "raw"
    }
   },
   "source": [
    "A sequence of natural numbers is constant modulo k iff it is empty, or all its elements are multiple of k.\n",
    "Define a function constmod(L,k), where you may assume that L is a list of integers and k is an integer, which verifies if L is constant modulo k.\n",
    "\n",
    "If L is constant modulo k, constmod(L,k) returns True and leaves L unmodified.\n",
    "If L is not constant modulo k, constmod(L,k) returns False and modifies L in such a way that the modified L is constant modulo k . The modification performed is as follows:\n",
    "each element L[i] is changed to the largest multiple of k less than L[i] .\n",
    "For the examples, assume that before each call to constmod, we have LL=[4, 0, 36, 28, 24, 20, 8, 16, 32, 16]\n",
    "For example:\n",
    "\n",
    "Test\tResult\n",
    "print(constmod(LL,4),LL)\n",
    "True [4, 0, 36, 28, 24, 20, 8, 16, 32, 16]\n",
    "print(constmod(LL,5), LL)\n",
    "False [0, 0, 35, 25, 20, 20, 5, 15, 30, 15]\n"
   ]
  },
  {
   "cell_type": "code",
   "execution_count": null,
   "metadata": {},
   "outputs": [
    {
     "name": "stdout",
     "output_type": "stream",
     "text": [
      "False [12]\n",
      "False [10]\n"
     ]
    }
   ],
   "source": [
    "#do not insert print, or tests\n",
    "#leave the following assignment unchanged\n",
    "LL = [15] #[4, 0, 36, 28, 24, 20, 8, 16, 32, 16]\n",
    "k = 4\n",
    "\n",
    "def constmod(L: list, k: int) -> bool:\n",
    "    is_constmod = all([e % k == 0 for e in L])\n",
    "    if is_constmod:\n",
    "        return is_constmod\n",
    "\n",
    "    rmv_position_value = []\n",
    "    for i, l in enumerate(L):\n",
    "        if not l % k == 0:\n",
    "            rmv_position_value.append((i, l - l % k))\n",
    "    \n",
    "    for j in range(len(rmv_position_value)):\n",
    "        L[rmv_position_value[j][0]] = rmv_position_value[j][1]\n",
    "\n",
    "    return is_constmod\n",
    "\n",
    "def constmod(L, k):\n",
    "    is_constant_modulo = True\n",
    "    for i in range(len(L)):\n",
    "        if L[i] % k != 0:\n",
    "            L[i] = L[i] - (L[i] % k)\n",
    "            is_constant_modulo = False\n",
    "    return is_constant_modulo\n",
    "\n",
    "\n",
    "print(constmod(LL,4), LL)\n",
    "print(constmod(LL,5), LL)\n"
   ]
  },
  {
   "cell_type": "code",
   "execution_count": 56,
   "metadata": {},
   "outputs": [
    {
     "data": {
      "text/plain": [
       "[(2, 2), (4, 4)]"
      ]
     },
     "execution_count": 56,
     "metadata": {},
     "output_type": "execute_result"
    }
   ],
   "source": [
    "L = [0, 2, 3, 4, 5]\n",
    "idL = id(L)\n",
    "\n",
    "rmv_position_value = []\n",
    "for i, l in enumerate(L):\n",
    "    if not l % 2 == 0:\n",
    "        rmv_position_value.append((i, l - l % 2))\n",
    "\n",
    "rmv_position_value"
   ]
  },
  {
   "cell_type": "code",
   "execution_count": 57,
   "metadata": {},
   "outputs": [
    {
     "data": {
      "text/plain": [
       "[0, 2, 2, 4, 4]"
      ]
     },
     "execution_count": 57,
     "metadata": {},
     "output_type": "execute_result"
    }
   ],
   "source": [
    "for j in range(len(rmv_position_value)):\n",
    "    L[rmv_position_value[j][0]] = rmv_position_value[j][1]\n",
    "\n",
    "L"
   ]
  },
  {
   "cell_type": "code",
   "execution_count": 71,
   "metadata": {},
   "outputs": [
    {
     "name": "stdout",
     "output_type": "stream",
     "text": [
      "[0, 0, 5, 10, 15, 20, 20, 25, 30, 35]\n"
     ]
    }
   ],
   "source": [
    "class SeqMod:\n",
    "    def __init__(self,L):\n",
    "        self.__LL=L\n",
    "    #COMPLETE\n",
    "\n",
    "    def get(self):\n",
    "        return self.__LL\n",
    "\n",
    "\n",
    "class Seqq(SeqMod):\n",
    "    def constmod(self, k):\n",
    "        #COMPLETE\n",
    "        LL = super().get()\n",
    "        for i in range(len(LL)):\n",
    "            if LL[i] % k != 0:\n",
    "                LL[i] = LL[i] - (LL[i] % k)\n",
    "        \n",
    "        \n",
    "#DO NOT MODIFY FROM HERE\n",
    "ob=Seqq([i*4 for i in range(10)])\n",
    "ob.constmod(5)\n",
    "print(ob.get())"
   ]
  },
  {
   "cell_type": "raw",
   "metadata": {},
   "source": [
    "Write a function modify(a, n) that takes as parameters (not necessary to check):\n",
    "a 2D Numpy array a filled with integers\n",
    "an integer n > 0\n",
    "and returns (with only one line before the return) the array a modified as follows: to each element whose value is greater than n (that is: > n) add the sum of all the elements that are smaller than n (that is: < n).\n",
    "\n",
    "You must use NumPy features. Do not use loops, comprehensions, recursion.\n",
    "\n",
    "For example assume: \n",
    "\n",
    "a = np.array([ [4, 5, 6], [7,8,9],[10, 11, 12], [17, 18, 19]])\n",
    "For example:\n",
    "\n",
    "Test\tResult\n",
    "print(modify(a, 8))\n",
    "[[ 4  5  6]\n",
    " [ 7  8 31]\n",
    " [32 33 34]\n",
    " [39 40 41]]\n"
   ]
  },
  {
   "cell_type": "code",
   "execution_count": 80,
   "metadata": {},
   "outputs": [
    {
     "data": {
      "text/plain": [
       "np.int64(96)"
      ]
     },
     "execution_count": 80,
     "metadata": {},
     "output_type": "execute_result"
    }
   ],
   "source": [
    "import numpy as np\n",
    "\n",
    "def modify(a, n):\n",
    "    #insert only one line here\n",
    "\n",
    "    #end student code\n",
    "    return a\n",
    "\n",
    "\n",
    "a = np.array([\n",
    "    [4, 5, 6], \n",
    "    [7, 8, 9], \n",
    "    [10, 11, 12], \n",
    "    [17, 18, 19]\n",
    "])\n",
    "\n",
    "n = 8\n",
    "\n",
    "\n",
    "np.sum(a[a > n])"
   ]
  },
  {
   "cell_type": "code",
   "execution_count": 83,
   "metadata": {},
   "outputs": [
    {
     "data": {
      "text/plain": [
       "array([[ 4,  5,  6],\n",
       "       [ 7,  8, 11],\n",
       "       [12, 13, 14],\n",
       "       [19, 20, 21]])"
      ]
     },
     "execution_count": 83,
     "metadata": {},
     "output_type": "execute_result"
    }
   ],
   "source": [
    "a[a > n] += 1\n",
    "a"
   ]
  },
  {
   "cell_type": "code",
   "execution_count": null,
   "metadata": {},
   "outputs": [],
   "source": []
  }
 ],
 "metadata": {
  "kernelspec": {
   "display_name": ".venv",
   "language": "python",
   "name": "python3"
  },
  "language_info": {
   "codemirror_mode": {
    "name": "ipython",
    "version": 3
   },
   "file_extension": ".py",
   "mimetype": "text/x-python",
   "name": "python",
   "nbconvert_exporter": "python",
   "pygments_lexer": "ipython3",
   "version": "3.11.4"
  }
 },
 "nbformat": 4,
 "nbformat_minor": 2
}
