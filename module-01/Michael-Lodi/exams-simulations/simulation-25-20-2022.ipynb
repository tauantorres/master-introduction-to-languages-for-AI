{
 "cells": [
  {
   "cell_type": "raw",
   "metadata": {
    "vscode": {
     "languageId": "raw"
    }
   },
   "source": [
    "Question 1\n",
    "Not complete\n",
    "Marked out of 6.00\n",
    "Flag question\n",
    "Question text\n",
    "In the answer field a Python fragment is proposed. \n",
    "\n",
    "Complete the fragment only in the allowed positions, and respecting the \n",
    "contraints of the comments, in such a way that if A is bound to a list of numbers, \n",
    "after the execution of the fragment all negative elements of A have been removed \n",
    "from it. In particular, for the given initial value of A, the final value bound \n",
    "to A should be [10, 30]"
   ]
  },
  {
   "cell_type": "code",
   "execution_count": 1,
   "metadata": {},
   "outputs": [],
   "source": [
    "#do not insert print\n",
    "A=[10,-20,30, -1]\n",
    "\n",
    "def f():\n",
    "    A=10\n",
    "    #commands here (only inside the body of the function)\n",
    "    #do not use the global command\n",
    "    \n",
    "    \n",
    "    #end of commands for the body of f()\n",
    "\n",
    "#other possible commands here, outside the def of f()\n",
    "#you cannot use commands which modify A or its binding\n",
    "\n",
    "\n",
    "#do not modify from here\n",
    "f()\n",
    "\n",
    "#do not insert print\n",
    "A = [10, -20, 30, -1]\n",
    "\n",
    "def f():\n",
    "    A = [x for x in globals()['A'] if x >= 0]  # Filter only non-negative elements\n",
    "    # This redefines A within the function scope without using global\n",
    "\n",
    "#other possible commands here, outside the def of f()\n",
    "A = [x for x in A if x >= 0]  # Filter non-negative elements of A globally\n",
    "\n",
    "#do not modify from here\n",
    "f()\n"
   ]
  },
  {
   "cell_type": "raw",
   "metadata": {
    "vscode": {
     "languageId": "raw"
    }
   },
   "source": [
    "Complete the definition of class C (two places) so that the command\n",
    "print(C(30)+C(77))\n",
    "will print exactly\n",
    "\n",
    "C: 30\n",
    "\n",
    "More generally, if n and m are two integers, print(C(n) + C(m)) should print\n",
    "C: xxx\n",
    "where xxx is the result of the sum of n and m.\n",
    "For example:\n",
    "\n",
    "Test\tResult\n",
    "print(C(10)+C(20))\n",
    "C: 30\n",
    "\n",
    "class A:\n",
    "    def __init__(self, xx): \n",
    "        self.__x = xx\n",
    "    def get(self): \n",
    "        return self.__x\n",
    "class B(A):\n",
    "    pass\n",
    "\n",
    "class C(B):\n",
    "    def get(self):\n",
    "        #INSERT HERE THE BODY OF get\n",
    "    \n",
    "    #INSERT YOUR OTHER METHOD DEFINITIONS, if needed\n"
   ]
  },
  {
   "cell_type": "code",
   "execution_count": 26,
   "metadata": {},
   "outputs": [
    {
     "name": "stdout",
     "output_type": "stream",
     "text": [
      "C: 30\n"
     ]
    }
   ],
   "source": [
    "class A:\n",
    "\n",
    "    def __init__(self: \"A\", xx: float) -> None: \n",
    "        self.__x = xx\n",
    "\n",
    "    def get(self: \"A\") -> float: \n",
    "        return self.__x\n",
    "\n",
    "\n",
    "class B(A):\n",
    "    pass\n",
    "\n",
    "class C(B):\n",
    "\n",
    "    def get(self: \"C\") -> float:\n",
    "        return super().get()\n",
    "    \n",
    "    def __add__(self: \"C\", other: \"C\") -> str:\n",
    "        return f\"C: {self.get() + other.get()}\"\n",
    "\n",
    "\n",
    "\n",
    "print(C(10) + C(20))\n"
   ]
  },
  {
   "cell_type": "raw",
   "metadata": {},
   "source": [
    "Given a sequence S, a prefix without repetitions of S is a prefix of S (i.e., a non empty initial segment) in which contiguous identical elements have been replaced with a single occurrence of that element. Example:  the prefixes without repetitions of  'sottoolii' are 's', 'so', 'sot', 'soto', 'sotol', 'sotoli'.\n",
    "\n",
    "In the following box you find the definition of the class Seq : you may suppose that anytime an instance of Seq is created, the argument seque passed to  __init__ is always a sequence: a string, a list, a tuple, etc.  You may complete the definition with other methods, as you see fit, but   __init__ cannot be modified. \n",
    "\n",
    "Write the function prefs(ss) which on an instance ss of Seq (you may suppose this without any check) returns the number of distinct prefixes without repetitions of the sequence which is contained in the instance. \n",
    "\n",
    "For example:\n",
    "\n",
    "Test\tResult\n",
    "print(prefs(Seq('sottoolii')))\n",
    "6\n"
   ]
  },
  {
   "cell_type": "code",
   "execution_count": 54,
   "metadata": {},
   "outputs": [
    {
     "name": "stdout",
     "output_type": "stream",
     "text": [
      "6\n"
     ]
    }
   ],
   "source": [
    "\n",
    "class Seq:\n",
    "\n",
    "    def __init__(self, seque) -> None:\n",
    "        self.__s = seque\n",
    "\n",
    "    def get_prefs(self: \"Seq\") -> list:\n",
    "        ss_unique = []\n",
    "        for i in range(len(self.__s)):\n",
    "            \n",
    "            if i == 0:\n",
    "                ss_unique.append(self.__s[i])\n",
    "                continue\n",
    "\n",
    "            if self.__s[i] != ss_unique[-1]:\n",
    "                ss_unique.append(self.__s[i])\n",
    "                continue\n",
    "        \n",
    "        return ss_unique\n",
    "    \n",
    "def prefs(S: Seq) -> int:\n",
    "    return len(S.get_prefs())\n",
    "\n",
    "print(prefs(Seq('sottoolii')))"
   ]
  },
  {
   "cell_type": "code",
   "execution_count": null,
   "metadata": {},
   "outputs": [
    {
     "name": "stdout",
     "output_type": "stream",
     "text": [
      "[FLAG 01]\n",
      "  ss_unique = ['s']\n",
      "[FLAG 02]\n",
      "  ss[i] = o | ss_unique[-1] = s \n",
      "  ss_unique = ['s', 'o']\n",
      "[FLAG 02]\n",
      "  ss[i] = t | ss_unique[-1] = o \n",
      "  ss_unique = ['s', 'o', 't']\n",
      "[FLAG 02]\n",
      "  ss[i] = o | ss_unique[-1] = t \n",
      "  ss_unique = ['s', 'o', 't', 'o']\n",
      "[FLAG 02]\n",
      "  ss[i] = l | ss_unique[-1] = o \n",
      "  ss_unique = ['s', 'o', 't', 'o', 'l']\n",
      "[FLAG 02]\n",
      "  ss[i] = i | ss_unique[-1] = l \n",
      "  ss_unique = ['s', 'o', 't', 'o', 'l', 'i']\n"
     ]
    },
    {
     "data": {
      "text/plain": [
       "['s', 'o', 't', 'o', 'l', 'i']"
      ]
     },
     "execution_count": 53,
     "metadata": {},
     "output_type": "execute_result"
    }
   ],
   "source": [
    "ss = \"sottoolii\"\n",
    "\n",
    "ss_unique = []\n",
    "for i in range(len(ss)):\n",
    "    \n",
    "    if i == 0:\n",
    "        ss_unique.append(ss[i])\n",
    "        continue\n",
    "\n",
    "    if ss[i] != ss_unique[-1]:\n",
    "        ss_unique.append(ss[i])\n",
    "        continue\n",
    "\n",
    "ss_unique"
   ]
  },
  {
   "cell_type": "raw",
   "metadata": {},
   "source": [
    "Complete, if needed, the definitions of the classes Top, A and B, so that the fragment prints False, True.\n",
    "\n",
    "More generally, two instances of A should be equal (==) if their fields __n are equal as integers, while two instances of B should be equal (==) if their fields __n are equal modulo absolute value.\n",
    "\n",
    "Do not modify the given code, but the definitions of the classes.\n",
    "\n",
    "For example:\n",
    "\n",
    "Test\tResult\n",
    "pass\n",
    "False\n",
    "True\n",
    "Answer:(penalty regime: 0 %)\n"
   ]
  },
  {
   "cell_type": "code",
   "execution_count": 57,
   "metadata": {},
   "outputs": [
    {
     "name": "stdout",
     "output_type": "stream",
     "text": [
      "False\n",
      "True\n"
     ]
    }
   ],
   "source": [
    "class Top:\n",
    "\n",
    "    def __init__(self, c: int) -> None: #DO NOT modify __init__\n",
    "        if type(c) != int:\n",
    "            raise TypeError\n",
    "        \n",
    "        self.__n = c\n",
    "\n",
    "    def get(self) -> int:\n",
    "        return self.__n\n",
    "\n",
    "\n",
    "class A(Top):\n",
    "    #complete here the def of A, as needed\n",
    "    def __init__(self: \"A\", c: int) -> None:\n",
    "        super().__init__(c)\n",
    "\n",
    "    def __eq__(self: \"A\", other: \"A\") -> bool:\n",
    "        return self.get() == other.get()\n",
    "\n",
    "class B(A):\n",
    "    #complete here the def of B, as needed\n",
    "    def __init__(self: \"B\", c: int) -> None:\n",
    "        super().__init__(c)\n",
    "\n",
    "    def __eq__(self: \"B\", other: \"B\") -> bool:\n",
    "        return abs(self.get()) == abs(other.get())\n",
    "    \n",
    "# DO NOT MODIFY THE FOLLOWING\n",
    "a1=A(1)\n",
    "a2=A(-1)\n",
    "\n",
    "print(a1==a2)\n",
    "\n",
    "b1=B(1)\n",
    "b2=B(-1)\n",
    "\n",
    "print(b1==b2)"
   ]
  },
  {
   "cell_type": "raw",
   "metadata": {},
   "source": [
    "Write a function select(a, b, n) that takes:\n",
    "\n",
    "two NumPy arrays a and b\n",
    "an integer n\n",
    "If a and b have a different number of elements, return a unmodified\n",
    "\n",
    "The function returns a 1D Numpy array with only the elements ai,j\n",
    " of a that have their corresponding element bi,j\n",
    " in b that is strictly lower than n (i.e. bi,j<n\n",
    ")\n",
    "\n",
    "To match a and b, make them have the same shape.\n",
    "\n",
    "You must use NumPy features. Do not use loops, comprehensions, recursion.\n",
    "\n",
    "For example:\n",
    "\n",
    "Test\tResult\n",
    "print(select(np.array([[0, 4, 3, 7],\n",
    "                       [3, 2, 4, 4],\n",
    "                       [6, 6, 6, 2]]),\n",
    "             np.array([1, 2, 9, 5, 2, 9, 6, 7, 7, 2, 3, 2]),\n",
    "             6))\n",
    "[0 4 7 3 6 6 2]\n"
   ]
  },
  {
   "cell_type": "code",
   "execution_count": 80,
   "metadata": {},
   "outputs": [],
   "source": [
    "#do not insert print or tests\n",
    "import numpy as np\n",
    "\n",
    "def select(a: np.ndarray, b: np.ndarray, n: int):\n",
    "    # BEGIN STUDENT CODE HERE\n",
    "    a_flatten, b_flatten = a.flatten(), b.flatten()\n",
    "    if len(a_flatten) != len(b_flatten):\n",
    "        return a\n",
    "    \n",
    "    return a_flatten[b_flatten < n]\n",
    "    # END STUDEND CODE HERE\n",
    "    \n",
    "\n",
    "n = 6\n",
    "A = np.array([\n",
    "    [0, 4, 3, 7],\n",
    "    [3, 2, 4, 4],\n",
    "    [6, 6, 6, 2],\n",
    "])\n",
    "\n",
    "B = np.array([1, 2, 9, 5, 2, 9, 6, 7, 7, 2, 3, 2])\n"
   ]
  },
  {
   "cell_type": "code",
   "execution_count": 73,
   "metadata": {},
   "outputs": [
    {
     "data": {
      "text/plain": [
       "(array([0, 4, 3, 7, 3, 2, 4, 4, 6, 6, 6, 2]),\n",
       " array([1, 2, 9, 5, 2, 9, 6, 7, 7, 2, 3, 2]))"
      ]
     },
     "execution_count": 73,
     "metadata": {},
     "output_type": "execute_result"
    }
   ],
   "source": [
    "a_flatten, b_flatten = A.flatten(), B.flatten()\n",
    "a_flatten, b_flatten"
   ]
  },
  {
   "cell_type": "code",
   "execution_count": 74,
   "metadata": {},
   "outputs": [
    {
     "data": {
      "text/plain": [
       "(array([1, 2, 5, 2, 2, 3, 2]), array([1, 2, 9, 5, 2, 9, 6, 7, 7, 2, 3, 2]))"
      ]
     },
     "execution_count": 74,
     "metadata": {},
     "output_type": "execute_result"
    }
   ],
   "source": [
    "b = b_flatten[b_flatten < n]\n",
    "b, b_flatten"
   ]
  },
  {
   "cell_type": "code",
   "execution_count": 77,
   "metadata": {},
   "outputs": [
    {
     "data": {
      "text/plain": [
       "array([0, 4, 7, 3, 6, 6, 2])"
      ]
     },
     "execution_count": 77,
     "metadata": {},
     "output_type": "execute_result"
    }
   ],
   "source": [
    "a_flatten[b_flatten < n]"
   ]
  },
  {
   "cell_type": "code",
   "execution_count": null,
   "metadata": {},
   "outputs": [],
   "source": []
  },
  {
   "cell_type": "code",
   "execution_count": 81,
   "metadata": {},
   "outputs": [
    {
     "name": "stdout",
     "output_type": "stream",
     "text": [
      "[0 4 7 3 6 6 2]\n"
     ]
    }
   ],
   "source": [
    "print(select(np.array([[0, 4, 3, 7],\n",
    "                       [3, 2, 4, 4],\n",
    "                       [6, 6, 6, 2]]),\n",
    "             np.array([1, 2, 9, 5, 2, 9, 6, 7, 7, 2, 3, 2]),\n",
    "             6))"
   ]
  },
  {
   "cell_type": "code",
   "execution_count": null,
   "metadata": {},
   "outputs": [],
   "source": []
  }
 ],
 "metadata": {
  "kernelspec": {
   "display_name": ".venv",
   "language": "python",
   "name": "python3"
  },
  "language_info": {
   "codemirror_mode": {
    "name": "ipython",
    "version": 3
   },
   "file_extension": ".py",
   "mimetype": "text/x-python",
   "name": "python",
   "nbconvert_exporter": "python",
   "pygments_lexer": "ipython3",
   "version": "3.11.4"
  }
 },
 "nbformat": 4,
 "nbformat_minor": 2
}
