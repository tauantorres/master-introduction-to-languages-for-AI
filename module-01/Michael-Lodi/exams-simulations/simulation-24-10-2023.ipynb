{
 "cells": [
  {
   "cell_type": "raw",
   "metadata": {
    "vscode": {
     "languageId": "raw"
    }
   },
   "source": [
    "Write a function foo(S) that takes a sequence of (possibly repeated) integers S and returns a list of the unique integer values in S, in order of increasing frequency of occurrence in S.\n",
    "Assume that all the values in S have different frequence of occurrence in S.\n",
    "\n",
    "For example:\n",
    "\n",
    "Test\tResult\n",
    "print(foo([1,2,1,1,2,3]))\n",
    "[3, 2, 1]\n",
    "print(foo([1,2,2,3,3,3,3]))\n",
    "[1, 2, 3]\n"
   ]
  },
  {
   "cell_type": "code",
   "execution_count": 32,
   "metadata": {},
   "outputs": [
    {
     "name": "stdout",
     "output_type": "stream",
     "text": [
      "[1, 2, 4]\n"
     ]
    }
   ],
   "source": [
    "from typing import List\n",
    "\n",
    "def foo(x: List[int]) -> List[int]:\n",
    "    l_unique = {}\n",
    "\n",
    "    for element in x:\n",
    "        if element not in l_unique:\n",
    "            l_unique[element] = x.count(element)\n",
    "\n",
    "\n",
    "    return list(l_unique.values())\n",
    "    \n",
    "x = [1,2,1,1,2,3]\n",
    "x = [1,2,2,3,3,3,3]\n",
    "\n",
    "print(foo(x))"
   ]
  },
  {
   "cell_type": "code",
   "execution_count": null,
   "metadata": {},
   "outputs": [
    {
     "name": "stdout",
     "output_type": "stream",
     "text": [
      "[1, 2, 4]\n"
     ]
    }
   ],
   "source": [
    "print(foo(x))"
   ]
  },
  {
   "cell_type": "code",
   "execution_count": null,
   "metadata": {},
   "outputs": [],
   "source": [
    "x = [1,2,1,1,2,3]\n",
    "x = [1,2,2,3,3,3,3]\n",
    "\n",
    "l_unique = {}\n",
    "\n",
    "for element in x:\n",
    "    if element not in l_unique:\n",
    "        l_unique[element] = x.count(element)\n",
    "\n",
    "\n",
    "l_list = sorted(list(l_unique.values()), reverse=True)\n",
    "print(l_list)"
   ]
  },
  {
   "cell_type": "code",
   "execution_count": 34,
   "metadata": {},
   "outputs": [
    {
     "name": "stdout",
     "output_type": "stream",
     "text": [
      "[3, 2, 1]\n",
      "[1, 2, 3]\n"
     ]
    }
   ],
   "source": [
    "from collections import Counter\n",
    "\n",
    "def foo(S):\n",
    "    # Count occurrences of each integer in S\n",
    "    freq_count = Counter(S)\n",
    "    # Sort the integers by frequency and then by the integer value\n",
    "    sorted_items = sorted(freq_count.keys(), key=lambda x: freq_count[x])\n",
    "    return sorted_items\n",
    "\n",
    "print(foo([1, 2, 1, 1, 2, 3]))  # Output: [3, 2, 1]\n",
    "print(foo([1, 2, 2, 3, 3, 3, 3]))  # Output: [1, 2, 3]\n"
   ]
  },
  {
   "cell_type": "code",
   "execution_count": 41,
   "metadata": {},
   "outputs": [
    {
     "data": {
      "text/plain": [
       "(Counter({1: 3, 2: 2, 3: 1}), dict_keys([1, 2, 3]))"
      ]
     },
     "execution_count": 41,
     "metadata": {},
     "output_type": "execute_result"
    }
   ],
   "source": [
    "from collections import Counter\n",
    "\n",
    "x = [1, 2, 1, 1, 2, 3]\n",
    "#x = [1, 2, 2, 3, 3, 3, 3]\n",
    "\n",
    "freq_count = Counter(x)\n",
    "\n",
    "freq_count, freq_count.keys()"
   ]
  },
  {
   "cell_type": "code",
   "execution_count": 42,
   "metadata": {},
   "outputs": [
    {
     "data": {
      "text/plain": [
       "{1: 3, 2: 2, 3: 1}"
      ]
     },
     "execution_count": 42,
     "metadata": {},
     "output_type": "execute_result"
    }
   ],
   "source": [
    "counts = {}\n",
    "\n",
    "# Step 2: Count each number's occurrences in the list S\n",
    "for number in x:\n",
    "    if number in counts:\n",
    "        counts[number] += 1  # Increase the count if the number is already in the dictionary\n",
    "    else:\n",
    "        counts[number] = 1   # Start counting if the number is not in the dictionary yet\n",
    "\n",
    "counts"
   ]
  },
  {
   "cell_type": "code",
   "execution_count": 44,
   "metadata": {},
   "outputs": [
    {
     "data": {
      "text/plain": [
       "{1: 1, 2: 2, 3: 4}"
      ]
     },
     "execution_count": 44,
     "metadata": {},
     "output_type": "execute_result"
    }
   ],
   "source": [
    "x = [1, 2, 2, 3, 3, 3, 3]\n",
    "\n",
    "l_unique = {}\n",
    "\n",
    "for element in x:\n",
    "    if element not in l_unique:\n",
    "        l_unique[element] = x.count(element)\n",
    "\n",
    "l_unique"
   ]
  },
  {
   "cell_type": "code",
   "execution_count": 53,
   "metadata": {},
   "outputs": [
    {
     "data": {
      "text/plain": [
       "[1, 4, 9, 16]"
      ]
     },
     "execution_count": 53,
     "metadata": {},
     "output_type": "execute_result"
    }
   ],
   "source": [
    "numbers = [1, 2, 3, 4]\n",
    "n_m = map(lambda x: x ** 2, numbers)\n",
    "list(n_m)\n",
    "# squared_numbers = list(map(lambda x: x ** 2, numbers))\n",
    "# print(squared_numbers)  # Output: [1, 4, 9, 16]\n"
   ]
  },
  {
   "cell_type": "raw",
   "metadata": {
    "vscode": {
     "languageId": "raw"
    }
   },
   "source": [
    "Without using the if construct,\n",
    "define the function first_degree(a,b) which returns the solution of the first degree equation ax+b=0. The function:\n",
    "\n",
    "if the equation has one solution, returns its value rounded to two decimal digits (use the predefined function round(x,2)).\n",
    "if the equation has no solutions, returns the string \"no solutions: a==0 and b!=0\".\n",
    "if the equation is a trivial identity, returns the string \"trivial: a==0 and b==0\".\n",
    "Hint: use exceptions.\n",
    "For example:\n",
    "\n",
    "Test\tResult\n",
    "print(first_degree(2,-10))\n",
    "5.0\n"
   ]
  },
  {
   "cell_type": "code",
   "execution_count": null,
   "metadata": {},
   "outputs": [
    {
     "name": "stdout",
     "output_type": "stream",
     "text": [
      "no solutions: a==0 and b!=0\n"
     ]
    }
   ],
   "source": [
    "from math import sqrt\n",
    "\n",
    "\n",
    "def no_solution(a, b) -> bool:\n",
    "    return a == 0 and b != 0\n",
    "\n",
    "def trivial_solution(a, b) -> bool:\n",
    "    return a == 0 and b == 0\n",
    "\n",
    "def exists_solution(a, b) -> bool:\n",
    "    return a != 0 and b != 0\n",
    "\n",
    "\n",
    "def first_degree(a, b):\n",
    "    try:\n",
    "        return round(- b / a, 2)\n",
    "\n",
    "    except Exception:\n",
    "        return \"no solutions: a==0 and b!=0\"\n",
    "    \n",
    "    except Exception:\n",
    "        return \"trivial: a==0 and b==0\"\n",
    "\n",
    "print(first_degree(0, 0))\n",
    "\n"
   ]
  },
  {
   "cell_type": "code",
   "execution_count": 63,
   "metadata": {},
   "outputs": [
    {
     "name": "stdout",
     "output_type": "stream",
     "text": [
      "5.0\n",
      "no solutions: a==0 and b!=0\n",
      "trivial: a==0 and b==0\n"
     ]
    }
   ],
   "source": [
    "def first_degree(a, b):\n",
    "    try:\n",
    "        # Attempt to solve for x if 'a' is not zero\n",
    "        return round(-b / a, 2)\n",
    "    except ZeroDivisionError:\n",
    "        # If 'a' is zero, handle based on the value of 'b' using a conditional expression\n",
    "        return (\"trivial: a==0 and b==0\", \"no solutions: a==0 and b!=0\")[b != 0]\n",
    "\n",
    "    \n",
    "print(first_degree(2, -10))      # Output: 5.0\n",
    "print(first_degree(0, 5))        # Output: \"no solutions: a==0 and b!=0\"\n",
    "print(first_degree(0, 0))        # Output: \"trivial: a==0 and b==0\"\n",
    "\n"
   ]
  },
  {
   "cell_type": "raw",
   "metadata": {
    "vscode": {
     "languageId": "raw"
    }
   },
   "source": [
    "A list of integers is fair if there are no contiguous elements with L[i+1]==L[i]+1.\n",
    "\n",
    "Write a Python function fair(L) which takes a list of integers L and:\n",
    "- If L is fair, returns the pair\n",
    "True, L\n",
    "\n",
    "- if L is not fair (and hence there is a minimal index i for which L[i+1]==L[i]+1), the function modifies L in place, summing one to all elements from L[i+1] to L[-1] included; the function proceeds then to verify the (modified) slice L[i+1:]: if there is a non fair pair L[j+1]==L[j]+1 (remember that L is no longer the original one), it applies again the modification (\"sum one\"), starting from  L[j+1], etc. The function returns\n",
    "False, L\n",
    "where L is the modified list, which is fair by construction.\n",
    "\n",
    "If possibile, avoid repeated scans of L.\n",
    "\n",
    "In the automatic tests, the second Boolean value checks that the modification has been done in place.\n",
    "\n",
    "For example:\n",
    "\n",
    "Test\tResult\n",
    "X=[1,2,6,9,10]\n",
    "idX=id(X)\n",
    "FX=fair(X)\n",
    "print(FX, id(FX[1])==idX)\n",
    "(False, [1, 3, 7, 10, 12]) True\n",
    "W=[1,3,5,7,9]\n",
    "idW=id(W)\n",
    "FW=fair(W)\n",
    "print(FW,id(FW[1])==idW)\n",
    "(True, [1, 3, 5, 7, 9]) True\n"
   ]
  },
  {
   "cell_type": "code",
   "execution_count": 139,
   "metadata": {},
   "outputs": [
    {
     "name": "stdout",
     "output_type": "stream",
     "text": [
      "Iterarion: 1\n",
      "=> X: [1, 2, 6, 9, 10]\n",
      "=> Starting position: 1\n",
      "\t Fair(False) - List: [1, 3, 7, 10, 11]\n",
      "\n",
      "Iterarion: 2\n",
      "=> X: [1, 3, 7, 10, 11]\n",
      "=> Starting position: 4\n",
      "\t Fair(False) - List: [1, 3, 7, 10, 12]\n",
      "\n",
      "Iterarion: 3\n",
      "\t Fair(True) - List: [1, 3, 7, 10, 12]\n",
      "\n"
     ]
    }
   ],
   "source": [
    "\n",
    "from typing import List, Tuple\n",
    "\n",
    "def add_one(X: List[int]) -> List[int]:\n",
    "    for i in range(len(X)):\n",
    "        X[i] += 1\n",
    "    return X\n",
    "\n",
    "def add_one_given_position(X: List[int], start_position: int = 0) -> List[int]:\n",
    "\n",
    "    print(f\"=> X: {X}\")\n",
    "    print(f\"=> Starting position: {start_position}\")\n",
    "\n",
    "    for i in range(start_position, len(X)):\n",
    "        X[i] += 1\n",
    "    return X\n",
    "\n",
    "def fair(X: List[int]) -> Tuple[bool, List[int]]:\n",
    "\n",
    "    fair_list = [X[i + 1] != X[i] + 1 for i in range(0, len(X) - 1)]\n",
    "    all_fair_list = all(fair_list)\n",
    "\n",
    "    if all_fair_list:\n",
    "        return all_fair_list, X\n",
    "    \n",
    "    else:\n",
    "        index = fair_list.index(False)\n",
    "        X_before = add_one_given_position(X, index)\n",
    "        __, X_after = fair(X_before)\n",
    "\n",
    "        return all_fair_list, X_after\n",
    "\n",
    "\n",
    "X = [1, 2, 6, 9, 10] # (False, [1, 3, 7, 10, 12])\n",
    "#X = [1, 3, 5, 7, 9] # (True, [1, 3, 5, 7, 9])\n",
    "\n",
    "iterations = 1\n",
    "max_iteration = 5\n",
    "all_fair_list = False\n",
    "\n",
    "while all_fair_list is not True:\n",
    "\n",
    "    fair_list = [X[i + 1] != X[i] + 1 for i in range(0, len(X) - 1)]\n",
    "    all_fair_list = all(fair_list)\n",
    "\n",
    "    print(f\"Iterarion: {iterations}\")\n",
    "\n",
    "    if all_fair_list:\n",
    "        print(f\"\\t Fair({all_fair_list}) - List: {X}\")\n",
    "\n",
    "    else:\n",
    "        index = fair_list.index(False)\n",
    "        X_before = add_one_given_position(X, index + 1)\n",
    "\n",
    "        print(f\"\\t Fair({all_fair_list}) - List: {X_before}\")\n",
    "\n",
    "\n",
    "    print()\n",
    "    iterations += 1\n"
   ]
  },
  {
   "cell_type": "code",
   "execution_count": null,
   "metadata": {},
   "outputs": [
    {
     "name": "stdout",
     "output_type": "stream",
     "text": [
      "\t Fair(True) - List: [1, 3, 5, 7, 9]\n",
      "(True, [1, 3, 5, 7, 9]) True\n"
     ]
    }
   ],
   "source": [
    "from typing import List, Tuple\n",
    "\n",
    "def add_one_given_position(X: List[int], start_position: int = 0) -> List[int]:\n",
    "    for i in range(start_position, len(X)):\n",
    "        X[i] += 1\n",
    "    return X\n",
    "\n",
    "def all_fair(X: List[int]) -> bool:\n",
    "    return all([X[i + 1] != X[i] + 1 for i in range(0, len(X) - 1)])\n",
    "\n",
    "def fair(X: List[int]) -> Tuple[bool, List[int]]:\n",
    "\n",
    "    all_fair_list_original = all_fair(X)\n",
    "    all_fair_list = False\n",
    "\n",
    "    while all_fair_list is not True:\n",
    "\n",
    "        fair_list = [X[i + 1] != X[i] + 1 for i in range(0, len(X) - 1)]\n",
    "        all_fair_list = all(fair_list)\n",
    "\n",
    "        if all_fair_list:\n",
    "            return all_fair_list_original, X\n",
    "\n",
    "        else:\n",
    "            index = fair_list.index(False)\n",
    "            X_before = add_one_given_position(X, index + 1)\n",
    "\n",
    "    return all_fair_list, X\n",
    "\n",
    "X = [1, 2, 6, 9, 10] # (False, [1, 3, 7, 10, 12])\n",
    "\n",
    "#X = [1, 3, 5, 7, 9] # (True, [1, 3, 5, 7, 9])\n",
    "\n",
    "# fair(X)\n",
    "W=[1,3,5,7,9]\n",
    "idW=id(W)\n",
    "FW=fair(W)\n",
    "print(FW,id(FW[1])==idW)"
   ]
  },
  {
   "cell_type": "code",
   "execution_count": 95,
   "metadata": {},
   "outputs": [
    {
     "name": "stdout",
     "output_type": "stream",
     "text": [
      "Before (ID: 4481556096): [1, 2, 6, 9, 10]\n",
      "After  (ID: 4481556096): [2, 3, 7, 10, 11]\n",
      "\t Are they the same? True\n"
     ]
    }
   ],
   "source": [
    "X_before = [1, 2, 6, 9, 10]\n",
    "idX_before = id(X_before)\n",
    "\n",
    "print(f\"Before (ID: {idX_before}): {X_before}\")\n",
    "\n",
    "X_after = add_one_given_position(X_before)\n",
    "idX_after = id(X_after)\n",
    "\n",
    "print(f\"After  (ID: {idX_after}): {X_after}\")\n",
    "\n",
    "print(f\"\\t Are they the same? {idX_after == idX_before}\")\n"
   ]
  },
  {
   "cell_type": "code",
   "execution_count": 138,
   "metadata": {},
   "outputs": [
    {
     "name": "stdout",
     "output_type": "stream",
     "text": [
      "\t Fair(True) - List: [1, 3, 5, 7, 9]\n"
     ]
    }
   ],
   "source": [
    "\n",
    "from typing import List, Tuple\n",
    "\n",
    "def add_one_given_position(X: List[int], start_position: int = 0) -> List[int]:\n",
    "\n",
    "    print(f\"=> X: {X}\")\n",
    "    print(f\"=> Starting position: {start_position}\")\n",
    "\n",
    "    for i in range(start_position, len(X)):\n",
    "        X[i] += 1\n",
    "    return X\n",
    "\n",
    "def all_fair(X: List[int]) -> bool:\n",
    "    return all([X[i + 1] != X[i] + 1 for i in range(0, len(X) - 1)])\n",
    "\n",
    "\n",
    "#X = [1, 2, 6, 9, 10] # (False, [1, 3, 7, 10, 12])\n",
    "X = [1, 3, 5, 7, 9] # (True, [1, 3, 5, 7, 9])\n",
    "\n",
    "all_fair_verification = False\n",
    "fair_list_initial = all_fair(X)\n",
    "\n",
    "if all_fair_list:\n",
    "    print(f\"\\t Fair({all_fair_list}) - List: {X}\")\n",
    "\n",
    "else:\n",
    "    while all_fair_verification is not True:\n",
    "\n",
    "        fair_list = [X[i + 1] != X[i] + 1 for i in range(0, len(X) - 1)]\n",
    "        all_fair_verification = all(fair_list)\n",
    "\n",
    "        print(f\"Iterarion: {iterations}\")\n",
    "\n",
    "        if all_fair_list:\n",
    "            print(f\"\\t Fair({all_fair_list}) - List: {X}\")\n",
    "\n",
    "        else:\n",
    "            index = fair_list.index(False)\n",
    "            X_before = add_one_given_position(X, index + 1)\n",
    "\n",
    "            print(f\"\\t Fair({all_fair_list}) - List: {X_before}\")\n",
    "\n",
    "\n",
    "        print()\n",
    "\n"
   ]
  },
  {
   "cell_type": "code",
   "execution_count": 154,
   "metadata": {},
   "outputs": [
    {
     "name": "stdout",
     "output_type": "stream",
     "text": [
      "(False, [1, 3, 7, 10, 12]) True\n",
      "(True, [1, 3, 5, 7, 9]) True\n"
     ]
    }
   ],
   "source": [
    "from typing import List, Tuple\n",
    "\n",
    "def add_one_given_position(X: List[int], start_position: int = 0) -> List[int]:\n",
    "    X[start_position:] = list(map(lambda x: x + 1, X[start_position:]))\n",
    "\n",
    "def all_fair(X: List[int]) -> bool:\n",
    "    return all(X[i + 1] != X[i] + 1 for i in range(len(X) - 1))\n",
    "\n",
    "def fair(X: List[int]) -> Tuple[bool, List[int]]:\n",
    "    initial_response = all_fair(X)\n",
    "    while not all_fair(X):\n",
    "        for i in range(len(X) - 1):\n",
    "            if X[i + 1] == X[i] + 1:\n",
    "                add_one_given_position(X, i + 1)\n",
    "                break\n",
    "    return initial_response, X\n",
    "\n",
    "X = [1, 2, 6, 9, 10]  # (False, [1, 3, 7, 10, 12])\n",
    "idX = id(X)\n",
    "FX = fair(X)\n",
    "print(FX, id(FX[1]) == idX)\n",
    "\n",
    "W = [1, 3, 5, 7, 9]\n",
    "idW = id(W)\n",
    "FW = fair(W)\n",
    "print(FW, id(FW[1]) == idW)"
   ]
  },
  {
   "cell_type": "raw",
   "metadata": {},
   "source": [
    "Define a suitable class hierarchy (including the needed methods) so that the command\n",
    "print(A(3)*B(5))\n",
    "will print 15, while\n",
    "print(B(3)*A(5))\n",
    "will print -15.\n",
    "\n",
    "More generally, \n",
    "\n",
    "print(A(u)*B(v))\n",
    "should print the product of u and v, while\n",
    "print(B(u)*A(v))\n",
    "should print the -u*v.\n",
    "\n",
    "NB: Class B cannot have more than one method definition.\n",
    "For example:\n",
    "\n",
    "Test\tResult\n",
    "print(A(3)*B(5))\n",
    "15\n",
    "print(B(3)*A(5))\n",
    "-15\n",
    "Answer:(penalty regime: 0 %)"
   ]
  },
  {
   "cell_type": "code",
   "execution_count": 175,
   "metadata": {},
   "outputs": [
    {
     "data": {
      "text/plain": [
       "(15, -15)"
      ]
     },
     "execution_count": 175,
     "metadata": {},
     "output_type": "execute_result"
    }
   ],
   "source": [
    "\n",
    "class Number:\n",
    "    def __init__(self: \"Number\", number: float) -> None:\n",
    "        self.number = number\n",
    "\n",
    "    def __mul__(self: \"Number\", other: \"Number\") -> float:\n",
    "        return self.number * other.number\n",
    "\n",
    "class A(Number): ...\n",
    "    \n",
    "\n",
    "class B(Number):\n",
    "\n",
    "    def __mul__(self: \"B\", other: Number) -> float:\n",
    "        return - super().__mul__(other)\n",
    "\n",
    "a = A(3)\n",
    "b = B(5)\n",
    "\n",
    "a * b, b * a"
   ]
  },
  {
   "cell_type": "code",
   "execution_count": 164,
   "metadata": {},
   "outputs": [
    {
     "name": "stdout",
     "output_type": "stream",
     "text": [
      "Miao!\n",
      "----------\n",
      "Miao!\n",
      "Miao!\n",
      "Miao!\n"
     ]
    }
   ],
   "source": [
    "\n",
    "class Animal:  # superclass\n",
    "\tdef __init__(self, name, color):\n",
    "\t\tself.name = name\n",
    "\t\tself.color = color\n",
    "\n",
    "class Cat(Animal):\n",
    "\tdef meow(self):\n",
    "\t\tprint('Miao!')\n",
    "\n",
    "class Siamese_Cat(Cat):\n",
    "\tdef __init__(self, name):\n",
    "\t\tsuper().__init__(name, \"white-cream-black\")\n",
    "\t\tself.pedigree = True\n",
    "\n",
    "\tdef meow(self):\n",
    "\t\tfor i in range(3):\n",
    "\t\t\tsuper().meow()\n",
    "\n",
    "cat = Cat(\"kissa\", \"black\")\n",
    "cat.meow()\n",
    "\n",
    "print(\"-\" * 10)\n",
    "\n",
    "lagartha = Siamese_Cat(\"lagarthe\")\n",
    "lagartha.meow()"
   ]
  },
  {
   "cell_type": "markdown",
   "metadata": {},
   "source": [
    "Write a function exhaustgen(G) that when taking a generator object G as argument (you don't need to check this), it simply produces the elements of G, without doing anything with them, until the generator is exhausted. The only visible effects of a call exhaustgen(G), therefore, are the side-effects, if any, produced by the elements of G.\n",
    "\n",
    "NB:  exhaustgen(G) should handle the exception related to the generator exhaustion; it should instead pass all other exceptions. \n",
    "\n",
    "You cannot use the for command. Do not use print.\n",
    "\n",
    "For example:\n",
    "\n",
    "Test\tResult\n",
    "exhaustgen(i for i in range(4))\n",
    "exhaustgen(print(i) for i in range(4))\n",
    "0\n",
    "1\n",
    "2\n",
    "3\n"
   ]
  },
  {
   "cell_type": "code",
   "execution_count": 196,
   "metadata": {},
   "outputs": [],
   "source": [
    "def exhaustgen(G):\n",
    "    try:\n",
    "        while True:\n",
    "            next(G)\n",
    "    except StopIteration:\n",
    "        pass\n",
    "\n",
    "\n",
    "exhaustgen(i for i in range(4))\n"
   ]
  },
  {
   "cell_type": "code",
   "execution_count": 194,
   "metadata": {},
   "outputs": [
    {
     "name": "stdout",
     "output_type": "stream",
     "text": [
      "0\n",
      "1\n",
      "2\n",
      "3\n"
     ]
    },
    {
     "data": {
      "text/plain": [
       "([None, None, None, None], [0, 1, 2, 3])"
      ]
     },
     "execution_count": 194,
     "metadata": {},
     "output_type": "execute_result"
    }
   ],
   "source": [
    "a, b = [print(i) for i in range(4)], [i for i in range(4)]\n",
    "a, b"
   ]
  },
  {
   "cell_type": "code",
   "execution_count": null,
   "metadata": {},
   "outputs": [],
   "source": [
    "# Question 01:\n",
    "\n",
    "def foo(S):\n",
    "    D={}\n",
    "    for e in S:\n",
    "        D[e]=D.get(e,0)+1\n",
    "    LL=sorted(zip(D.values(),D.keys()))\n",
    "    return [e for (_,e) in LL]\n",
    "\n",
    "'''Hidden tests:\n",
    "print(foo([1]))\n",
    "print(foo([10,2,10,5,10,9,2,5,10,2,10,2]))\n",
    "print(foo([]))\n",
    "'''\n",
    "\n",
    "# Question 02:\n",
    "\n",
    "from math import sqrt\n",
    "\n",
    "def first_degree(a,b):\n",
    "    try:\n",
    "        x = -b/a\n",
    "    except ZeroDivisionError:\n",
    "    # raised if a==0\n",
    "        try:\n",
    "            b/b\n",
    "        except ZeroDivisionError:\n",
    "        # raised if also b==0\n",
    "            return \"trivial: a==0 and b==0\"\n",
    "        return \"no solutions: a==0 and b!=0\"\n",
    "    return round(x,2)\n",
    "    \n",
    "'''Hidden tests:\n",
    "print(first_degree(3,10))\n",
    "print(first_degree(0,10))\n",
    "print(first_degree(0,0))\n",
    "print(first_degree(9,7))\n",
    "print(first_degree(7,9))\n",
    "'''\n",
    "\n",
    "# Question 03:\n",
    "\n",
    "def fair(L):\n",
    "    i=0\n",
    "    increment=0\n",
    "    for i in range(len(L)-1):\n",
    "        if L[i+1]+increment==L[i]+1:\n",
    "            increment+=1\n",
    "        L[i+1]+=increment    \n",
    "    return increment==0, L\n",
    "'''Hidden tests:\n",
    "E=[]\n",
    "idE=id(E)\n",
    "FE=fair(E)\n",
    "print(FE,id(FE[1])==idE)\n",
    "\n",
    "E=[9]\n",
    "idE=id(E)\n",
    "FE=fair(E)\n",
    "print(FE,id(FE[1])==idE)\n",
    "\n",
    "W=[1,3,5,7,9,10]\n",
    "idW=id(W)\n",
    "FW=fair(W)\n",
    "print(FW,id(FW[1])==idW)\n",
    "\n",
    "W=[1,2,6,9,10,-1,0,1]\n",
    "idW=id(W)\n",
    "FW=fair(W)\n",
    "print(FW,id(FW[1])==idW)\n",
    "'''\n",
    "\n",
    "\n",
    "# Question 04:\n",
    "\n",
    "class A:\n",
    "    def __init__(self,xx):\n",
    "        self.x=xx\n",
    "    def __mul__(self,other):\n",
    "        return self.x*other.x\n",
    "class B(A):\n",
    "    def __mul__(self,other):\n",
    "        return -self.x*other.x\n",
    "\n",
    "'''Hidden tests:\n",
    "print(A(3)*A(7))\n",
    "print(A(0)*A(5))\n",
    "print(B(8)*B(5))\n",
    "print(B(80)*A(5))\n",
    "'''\n",
    "\n",
    "\n",
    "# Question 05:\n",
    "\n",
    "def exhaustgen(G):\n",
    "    try:\n",
    "        while G:\n",
    "            next(G)\n",
    "    except StopIteration:\n",
    "        pass\n",
    "\n",
    "'''Hidden tests:\n",
    "exhaustgen(print('sss') for i in range(4))\n",
    "exhaustgen(print(i*2) for i in range(5))\n",
    "exhaustgen(10/0 for i in range(2))\n",
    "exhaustgen(print(i) for i in range(0))\n",
    "'''"
   ]
  }
 ],
 "metadata": {
  "kernelspec": {
   "display_name": ".venv",
   "language": "python",
   "name": "python3"
  },
  "language_info": {
   "codemirror_mode": {
    "name": "ipython",
    "version": 3
   },
   "file_extension": ".py",
   "mimetype": "text/x-python",
   "name": "python",
   "nbconvert_exporter": "python",
   "pygments_lexer": "ipython3",
   "version": "3.11.4"
  }
 },
 "nbformat": 4,
 "nbformat_minor": 2
}
