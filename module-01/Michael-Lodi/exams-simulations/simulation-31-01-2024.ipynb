{
 "cells": [
  {
   "cell_type": "raw",
   "metadata": {
    "vscode": {
     "languageId": "raw"
    }
   },
   "source": [
    "Write a function new_update(D1,D2) which takes two dictionaries and:\n",
    "on keys that appear in either D1 or D2 (but not both), it has the same effect as the predefined method call D2.update(D1) (note the reverse order of the two dictionaries).\n",
    "on keys common to D1 and D2, it deletes keys and values from both dictionaries.\n",
    "You cannot use the predefined method update in your code.\n",
    "For example:\n",
    "\n",
    "Test\tResult\n",
    "D1={1:10,2:20}\n",
    "D2={1:100,3:30}\n",
    "new_update(D1,D2)\n",
    "print(D1=={2: 20},D2=={2:20, 3: 30})\n",
    "True True\n"
   ]
  },
  {
   "cell_type": "code",
   "execution_count": null,
   "metadata": {},
   "outputs": [
    {
     "name": "stdout",
     "output_type": "stream",
     "text": [
      "[1]\n",
      "{2: 20} {3: 30}\n",
      "{2: 20} {3: 30, 2: 20}\n",
      "True True\n"
     ]
    }
   ],
   "source": [
    "def add_key_value(D1: dict, D2: dict) -> None:\n",
    "    for k in D1:\n",
    "        if k not in list(D2.keys()):\n",
    "            D2[k] = D1[k]\n",
    "\n",
    "def rmv_key_value(D1: dict, D2: dict, k_rmv: list) -> None:\n",
    "    for k in k_rmv:\n",
    "        del D1[k]\n",
    "        del D2[k]\n",
    "\n",
    "def new_update(D1: dict, D2: dict) -> None:\n",
    "    k_both = [k for k in D2 if k in D1]\n",
    "    rmv_key_value(D1, D2, k_both)\n",
    "    add_key_value(D1, D2)\n",
    "    \n",
    "\n",
    "\n",
    "D1 = {1:10, 2:20}\n",
    "D2 = {1:100, 3:30}\n",
    "\n",
    "new_update(D1,D2)\n",
    "\n",
    "# D1, D2\n",
    "# print(D1, D2)\n",
    "print(D1=={2: 20},D2=={2:20, 3: 30})"
   ]
  },
  {
   "cell_type": "code",
   "execution_count": 32,
   "metadata": {},
   "outputs": [
    {
     "name": "stdout",
     "output_type": "stream",
     "text": [
      "{1}\n",
      "{2: 20} {3: 30}\n"
     ]
    }
   ],
   "source": [
    "def new_update(D1: dict, D2: dict) -> None:\n",
    "    # Find keys that are common to both dictionaries\n",
    "    common_keys = set(D1.keys()) & set(D2.keys())\n",
    "    print(common_keys)\n",
    "    \n",
    "    # Remove common keys from both dictionaries\n",
    "    for key in common_keys:\n",
    "        del D1[key]\n",
    "        del D2[key]\n",
    "    \n",
    "    print(D1, D2)\n",
    "    \n",
    "    # Add keys from D1 to D2 if they aren't in D2\n",
    "    for key in D1:\n",
    "        if key not in D2:\n",
    "            D2[key] = D1[key]\n",
    "\n",
    "D1 = {1:10, 2:20}\n",
    "D2 = {1:100, 3:30}\n",
    "\n",
    "new_update(D1,D2)\n",
    "\n",
    "# D1, D2\n",
    "# print(D1, D2)\n",
    "#print(D1=={2: 20},D2=={2:20, 3: 30})\n",
    "\n"
   ]
  },
  {
   "cell_type": "raw",
   "metadata": {
    "vscode": {
     "languageId": "raw"
    }
   },
   "source": [
    "Write a function printgen(G) that takes a generator G and prints the elements of G in reverse order.\n",
    "\n",
    "For example:\n",
    "\n",
    "Test\tResult\n",
    "X=(i for i in range(4))\n",
    "printgen(X)\n",
    "3\n",
    "2\n",
    "1\n",
    "0\n"
   ]
  },
  {
   "cell_type": "code",
   "execution_count": 65,
   "metadata": {},
   "outputs": [
    {
     "name": "stdout",
     "output_type": "stream",
     "text": [
      "3\n",
      "2\n",
      "1\n",
      "0\n"
     ]
    }
   ],
   "source": [
    "def printgen(x):\n",
    "    G = list(x)[::-1]\n",
    "    for g in G:\n",
    "        print(g)\n",
    "\n",
    "\n",
    "X=(i for i in range(4))\n",
    "printgen(X)"
   ]
  },
  {
   "cell_type": "raw",
   "metadata": {
    "vscode": {
     "languageId": "raw"
    }
   },
   "source": [
    "Write a function partition(L) which takes as parameters a non-empty list of numbers (without replication) L. \n",
    "\n",
    "The function modifies  L, permuting its values so that when the function returns, the element p that was originally at the index 0 is now at some position k with all the elements less than p to its left (that is, at indexes less than k) and all elements greater than p to its right.\n",
    "\n",
    "More formally, when the function returns, we have p at some position L[k] such that: \n",
    "\n",
    "for any element L[j] with index j<k, it holds that L[j]<p\n",
    "for any element L[j] with index j>k, it holds that L[j]>p . \n",
    "\n",
    "You cannot use the library function sort (or analogous, e.g. sorted). \n",
    "\n",
    "For example:\n",
    "\n",
    "Test\tResult\n",
    "L=[10,1,11,22,3,5,23]\n",
    "partition(L)\n",
    "assert L[3]==10\n",
    "assert all (L[i]<L[3] for i in range(3))\n",
    "assert all (L[i]>L[3] for i in range(4,len(L)))\n"
   ]
  },
  {
   "cell_type": "code",
   "execution_count": null,
   "metadata": {},
   "outputs": [],
   "source": [
    "def partition(L: list) -> None:\n",
    "    pivot = L[0]\n",
    "    i = 1  \n",
    "    k = 0  \n",
    "\n",
    "    for j in range(1, len(L)):\n",
    "        if L[j] < pivot:\n",
    "\n",
    "            L[i], L[j] = L[j], L[i]\n",
    "            i += 1\n",
    "\n",
    "    L[0], L[i - 1] = L[i - 1], L[0]\n",
    "\n",
    "L=[10,1,11,22,3,5,23]\n",
    "partition(L)\n",
    "assert L[3]==10\n",
    "assert all (L[i]<L[3] for i in range(3))\n",
    "assert all (L[i]>L[3] for i in range(4,len(L)))\n"
   ]
  },
  {
   "cell_type": "raw",
   "metadata": {
    "vscode": {
     "languageId": "raw"
    }
   },
   "source": [
    "You are given the following class definition:\n",
    "\n",
    "class A:\n",
    "   def __init__(self,x):\n",
    "     self.xx=x\n",
    "\n",
    "Complete the definition of the class B, so that if n1 and n2 are numbers, the command\n",
    "print(B(n1,n2))\n",
    "will print B: p, where p is the product of n1 and n2.\n",
    "\n",
    "You should not redefine A. You must use from B the initialization method defined in A.\n",
    "For example:\n",
    "\n",
    "Test\tResult\n",
    "b=B(10,20)\n",
    "print(b) \n",
    "B: 200\n"
   ]
  },
  {
   "cell_type": "code",
   "execution_count": 67,
   "metadata": {},
   "outputs": [
    {
     "name": "stdout",
     "output_type": "stream",
     "text": [
      "B: 200\n"
     ]
    }
   ],
   "source": [
    "class A:\n",
    "    def __init__(self, x: float) -> None:\n",
    "        self.xx = x\n",
    "\n",
    "\n",
    "class B(A):\n",
    "    def __init__(self, x: float, y: float) -> None:\n",
    "        super().__init__(x)\n",
    "        self.yy = y\n",
    "\n",
    "    def __str__(self) -> str:\n",
    "        return f\"B: {self.xx * self.yy}\"\n",
    "\n",
    "b=B(10,20)\n",
    "print(b) "
   ]
  },
  {
   "cell_type": "raw",
   "metadata": {},
   "source": [
    "Write a function filter_ones(A,B) that takes:\n",
    "\n",
    "a NumPy array A of integers with shape (x,y)\n",
    "a NumPy array B of integers with shape (y,x), containing only 0s and 1s.\n",
    "The function returns a 1D Numpy array containing the elements A[i,j] only if B[j,i] is equal to 1.\n",
    "\n",
    "The elements of the result are in the \"automatic\" order: by rows.\n",
    "\n",
    "Your solution must be a \"one-line-function\", i.e. a function with only a return of an expression.\n",
    "\n",
    "You must use NumPy features. Do not use loops, comprehensions, recursion.\n",
    "\n",
    "For example:\n",
    "\n",
    "Test\tResult\n",
    "#Example\n",
    "A = np.array([[7,1,4], [2,5,4]])\n",
    "B = np.array([[0,1], [1,0],[1,1]])\n",
    "print(filter_ones(A,B))\n",
    "[1 4 2 4]\n"
   ]
  },
  {
   "cell_type": "code",
   "execution_count": 103,
   "metadata": {},
   "outputs": [
    {
     "name": "stdout",
     "output_type": "stream",
     "text": [
      "[1 4 2 4]\n"
     ]
    }
   ],
   "source": [
    "import numpy as np\n",
    "\n",
    "def filter_ones(A: np.ndarray, B: np.ndarray) -> np.ndarray:\n",
    "    return A[B.T == 1]\n",
    "\n",
    "#Example\n",
    "A = np.array([\n",
    "    [7, 1, 4], \n",
    "    [2, 5, 4],\n",
    "])\n",
    "\n",
    "B = np.array([\n",
    "    [0, 1], \n",
    "    [1, 0],\n",
    "    [1, 1],\n",
    "])\n",
    "\n",
    "\n",
    "print(filter_ones(A, B))"
   ]
  },
  {
   "cell_type": "code",
   "execution_count": null,
   "metadata": {},
   "outputs": [],
   "source": [
    "\n",
    "# Question 01:\n",
    "def new_update(D1,D2):\n",
    "    commonkeys=[]\n",
    "    '''We cannot remove dictionary items during a for loop on the dictionary,\n",
    "    hence we use an auxiliary list'''\n",
    "    for k in D1:\n",
    "        if k in D2:\n",
    "            commonkeys.append(k)\n",
    "        else:\n",
    "            D2[k]=D1[k]\n",
    "    for k in commonkeys:\n",
    "        del D1[k],D2[k]\n",
    "\n",
    "\n",
    "# Question 02:\n",
    "\n",
    "def printgen(G):\n",
    "    GL=list(G)\n",
    "    for e in GL[::-1]:\n",
    "        print(e)\n",
    "\n",
    "'''\n",
    "X=(i for i in range(4))\n",
    "printgen(X)\n",
    "\n",
    "L=[[1,2],[3,4],[5,6]]\n",
    "Y=(e for e in L)\n",
    "printgen(Y)\n",
    "\n",
    "printgen(e for e in [])\n",
    "\n",
    "printgen(v for v in range(10) if v%2==0)\n",
    "'''\n",
    "\n",
    "# Question 03: \n",
    "\n",
    "def partition(L):\n",
    "    p=L[0]\n",
    "    init=1\n",
    "    for j in range(1,len(L)):\n",
    "        if L[j]<p:\n",
    "            L[j],L[init]=L[init],L[j]\n",
    "            init+=1\n",
    "    L[0],L[init-1]=L[init-1],L[0]\n",
    "\n",
    "# Question 04:\n",
    "class B(A):\n",
    "    def __init__(self,x,y):\n",
    "        super().__init__(x)\n",
    "        self.yy=y\n",
    "    def __str__(self):\n",
    "        return 'B: '+str(self.xx*self.yy)\n",
    "'''\n",
    "b=B(10,20)\n",
    "print(b) \n",
    "\n",
    "b=B(0,0)\n",
    "print(b) \n",
    "\n",
    "b=B(100,200)\n",
    "print(b) \n",
    "\n",
    "'''\n",
    "\n",
    "# Question 05:\n",
    "\n",
    "import numpy as np\n",
    "\n",
    "def filter_ones(A,B):\n",
    "    return A[B.T==1]\n",
    "    \n",
    "\"\"\"\n",
    "\n",
    "#test 0\n",
    "A = np.array([[7,1,4],\n",
    "              [2,5,4]])\n",
    "\n",
    "B = np.array([[0,1],\n",
    "              [1,0],\n",
    "              [1,1]])\n",
    "\n",
    "print(filter_ones(A,B))\n",
    "\n",
    "\n",
    "\n",
    "#test 1\n",
    "A = np.array([[1,2,3],\n",
    "              [4,5,6],\n",
    "              [7,8,9]])\n",
    "\n",
    "B = np.array([[0,1,0],\n",
    "              [1,0,1],\n",
    "              [1,1,1]])\n",
    "\n",
    "print(filter_ones(A,B))\n",
    "\n",
    "#test 2\n",
    "A = np.array([[1,2,3]])\n",
    "\n",
    "B = np.array([[0],\n",
    "              [1],\n",
    "              [0]])\n",
    "\n",
    "print(filter_ones(A,B))\n",
    "\n",
    "#test 3\n",
    "\n",
    "A = np.array([[0,1,0],\n",
    "              [0,0,1],\n",
    "              [1,1,0]])\n",
    "\n",
    "B = np.array([[0,0,1],\n",
    "              [1,0,1],\n",
    "              [0,1,0]])\n",
    "\n",
    "print(filter_ones(A,B))\n",
    "\n",
    "\"\"\""
   ]
  }
 ],
 "metadata": {
  "kernelspec": {
   "display_name": ".venv",
   "language": "python",
   "name": "python3"
  },
  "language_info": {
   "codemirror_mode": {
    "name": "ipython",
    "version": 3
   },
   "file_extension": ".py",
   "mimetype": "text/x-python",
   "name": "python",
   "nbconvert_exporter": "python",
   "pygments_lexer": "ipython3",
   "version": "3.11.4"
  }
 },
 "nbformat": 4,
 "nbformat_minor": 2
}
