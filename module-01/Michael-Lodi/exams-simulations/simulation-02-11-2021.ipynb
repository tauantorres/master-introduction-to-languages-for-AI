{
 "cells": [
  {
   "cell_type": "raw",
   "metadata": {
    "vscode": {
     "languageId": "raw"
    }
   },
   "source": [
    "Insert some Python code in the fragment below (at the point #what here) so that the fragment prints the integers from 1 to 6.\n",
    "\n",
    "For example:\n",
    "\n",
    "Test\tResult\n",
    "pass\n",
    "1\n",
    "2\n",
    "3\n",
    "4\n",
    "5\n",
    "6\n",
    "Answer:(penalty regime: 0 %)"
   ]
  },
  {
   "cell_type": "code",
   "execution_count": 9,
   "metadata": {},
   "outputs": [
    {
     "name": "stdout",
     "output_type": "stream",
     "text": [
      "1\n",
      "2\n",
      "3\n",
      "4\n",
      "5\n",
      "6\n"
     ]
    }
   ],
   "source": [
    "#do not insert print, or tests\n",
    "#do not modify the given code\n",
    "A=[1,2,3]\n",
    "G=(i for i in A)\n",
    "\n",
    "for el in G:\n",
    "    print(el)\n",
    "    #WHAT HERE: insert your code ONLY in the body of for\n",
    "    if el == len(A):\n",
    "        for i in range(el + 1, 7):\n",
    "            print(i)\n",
    "    "
   ]
  },
  {
   "cell_type": "raw",
   "metadata": {
    "vscode": {
     "languageId": "raw"
    }
   },
   "source": [
    "Insert your code in the fragment below (at the point #Insert your code here), so that it prints 10\n",
    "\n",
    "For example:\n",
    "\n",
    "Test\tResult\n",
    "pass\n",
    "10\n",
    "Answer:(penalty regime: 0 %)"
   ]
  },
  {
   "cell_type": "code",
   "execution_count": 21,
   "metadata": {},
   "outputs": [
    {
     "name": "stdout",
     "output_type": "stream",
     "text": [
      "10\n"
     ]
    }
   ],
   "source": [
    "#do not insert print, or tests\n",
    "#Insert your code here\n",
    "class A(Exception):\n",
    "    def __str__(self: \"A\") -> str:\n",
    "        return super().__str__()\n",
    "    \n",
    "\n",
    "# TODO: Here in the virtuale is wrong! Theres is no class B\n",
    "class B(Exception):\n",
    "    def __str__(self: \"B\") -> str:\n",
    "        return super().__str__()\n",
    "\n",
    "#DO NOT MODIFY THE FOLLOWING\n",
    "try:\n",
    "    raise A(10)\n",
    "\n",
    "except A as x:\n",
    "    print(x)\n"
   ]
  },
  {
   "cell_type": "raw",
   "metadata": {},
   "source": [
    "A sequence of integers is fine iff any positive element is greater than (>) the sum of the indexes of the positive elements before it (i.e. with a smaller index).\n",
    "\n",
    "Write a function fine(S) which returns True iff S is fine.\n",
    "\n",
    "Assume that:\n",
    "an empty sequence is fine;\n",
    "the sum of an empty sequence is 0. \n",
    "For example:\n",
    "\n",
    "Test\tResult\n",
    "print(fine([-1,2,2,4,7]))\n",
    "True\n",
    "print(fine([-1,2,1]))\n",
    "False\n"
   ]
  },
  {
   "cell_type": "code",
   "execution_count": 30,
   "metadata": {},
   "outputs": [
    {
     "name": "stdout",
     "output_type": "stream",
     "text": [
      "Ele: -1 | Ind: 0 | Sum: 0\n",
      "Ele: 2 | Ind: 1 | Sum: 0\n",
      "Ele: 1 | Ind: 2 | Sum: 1\n"
     ]
    },
    {
     "data": {
      "text/plain": [
       "(False, 1)"
      ]
     },
     "execution_count": 30,
     "metadata": {},
     "output_type": "execute_result"
    }
   ],
   "source": [
    "S = [-1, 2, 1] #, 4, 7]\n",
    "\n",
    "S_fine = True\n",
    "sum_indexes = 0\n",
    "\n",
    "for index, elem in enumerate(S):\n",
    "\n",
    "    print(f\"Ele: {elem} | Ind: {index} | Sum: {sum_indexes}\")\n",
    "\n",
    "    if elem > 0:\n",
    "        if elem > sum_indexes:\n",
    "            sum_indexes += index\n",
    "            continue\n",
    "        else:\n",
    "            S_fine = False\n",
    "            break\n",
    "\n",
    "\n",
    "S_fine, sum_indexes\n"
   ]
  },
  {
   "cell_type": "code",
   "execution_count": 31,
   "metadata": {},
   "outputs": [
    {
     "name": "stdout",
     "output_type": "stream",
     "text": [
      "True\n",
      "False\n"
     ]
    }
   ],
   "source": [
    "def fine(S: list) -> bool:\n",
    "    sum_indexes, S_fine = 0, True\n",
    "\n",
    "    for index, elem in enumerate(S):\n",
    "\n",
    "        if elem > 0:\n",
    "            if elem > sum_indexes:\n",
    "                sum_indexes += index\n",
    "                continue\n",
    "\n",
    "            else:\n",
    "                S_fine = False\n",
    "                break\n",
    "    \n",
    "    return S_fine\n",
    "\n",
    "print(fine([-1,2,2,4,7]))\n",
    "\n",
    "print(fine([-1,2,1]))"
   ]
  },
  {
   "cell_type": "raw",
   "metadata": {},
   "source": [
    "Complete, if needed, the definitions of the classes Seq, A and B, so that the fragment prints ab, ab, 12, 12.\n",
    "\n",
    "Do not modify the given code, but the definitions of the classes.\n",
    "\n",
    "For example:\n",
    "\n",
    "Test\tResult\n",
    "pass\n",
    "ab\n",
    "ab\n",
    "12\n",
    "12\n",
    "Answer:(penalty regime: 0 %)"
   ]
  },
  {
   "cell_type": "code",
   "execution_count": 32,
   "metadata": {},
   "outputs": [
    {
     "name": "stdout",
     "output_type": "stream",
     "text": [
      "ab\n",
      "ab\n",
      "12\n",
      "12\n"
     ]
    }
   ],
   "source": [
    "class Seq:\n",
    "    def __init__(self, c):\n",
    "        if type(c)!= str and len(c) != 1:\n",
    "            raise TypeError\n",
    "        self.__seq = c\n",
    "    \n",
    "    def get(self):\n",
    "        return self.__seq\n",
    "\n",
    "class A(Seq):\n",
    "\n",
    "    def __init__(self, c) -> None:\n",
    "        super().__init__(c)\n",
    "\n",
    "    def __add__(self, other: Seq):\n",
    "        return f\"{self.get() + other.get()}\"\n",
    "\n",
    "class B(Seq):\n",
    "    def __init__(self, c) -> None:\n",
    "        super().__init__(c)\n",
    "\n",
    "    def __add__(self, other: Seq):\n",
    "        return f\"{other.get() + self.get()}\"\n",
    "\n",
    "# DO NOT MODIFY FROM HERE\n",
    "a=A('a')\n",
    "b=B('b')\n",
    "\n",
    "print(a+b)\n",
    "print(b+a)\n",
    "\n",
    "a=A('1')\n",
    "b=B('2')\n",
    "\n",
    "print(a+b)\n",
    "print(b+a)"
   ]
  },
  {
   "cell_type": "markdown",
   "metadata": {},
   "source": [
    "A parity matrix is a 2D NumPy array where the sum of each row is even and the sum of each column is even.\n",
    "\n",
    "Write a function erroneous(x) that, given a parity matrix where a single number has been changed, so that the matrix does not satisfy anymore the property of parity (in particular, there is one row and one column whose sums are odd), spots the erroneous item and returns a NumPy array of shape (1,) containing that erroneous number.\n",
    "\n",
    "The field for the answer contains some definitions of 2D-arrays that could be used as tests.\n"
   ]
  },
  {
   "cell_type": "code",
   "execution_count": null,
   "metadata": {},
   "outputs": [
    {
     "name": "stdout",
     "output_type": "stream",
     "text": [
      "[34]\n",
      "[10]\n",
      "[43]\n",
      "[17]\n"
     ]
    }
   ],
   "source": [
    "#do not insert print, or tests\n",
    "import numpy as np\n",
    "\n",
    "a = np.array([\n",
    "             [ 2,  4,  7,  9],\n",
    "             [ 1,  5, 34, 17],\n",
    "             [32, 34, 44, 54],\n",
    "             [14, 15, 16, 19],\n",
    "             [23, 24, 26, 25]])\n",
    "\n",
    "b = np.array([\n",
    "             [26, 25, 29, 32],\n",
    "             [11, 19, 43,  1],\n",
    "             [39, 38, 10, 18],\n",
    "             [ 2, 16, 31, 27],\n",
    "             [28, 12, 30, 44]])\n",
    "\n",
    "c = np.array([\n",
    "      [26, 43, 30, 22],\n",
    "      [34, 12, 41, 33],\n",
    "      [38,  2,  3, 23],\n",
    "      [19,  0,  1, 16],\n",
    "      [13, 28, 37, 10]])\n",
    "\n",
    "d = np.array([\n",
    "      [17, 43, 11, 24],\n",
    "      [ 7,  1,  3, 23],\n",
    "      [12, 22, 40,  0],\n",
    "      [15, 42, 20,  5],\n",
    "      [36, 10, 44, 38]])\n",
    "\n",
    "import numpy as np\n",
    "\n",
    "def erroneous(x):\n",
    "\n",
    "    row_index = np.where(np.sum(x, axis=1) % 2 != 0)[0][0]\n",
    "    col_index = np.where(np.sum(x, axis=0) % 2 != 0)[0][0]\n",
    "    \n",
    "    return np.array([x[row_index, col_index]])\n",
    "\n",
    "# Examples\n",
    "print(erroneous(a))  # Should return the erroneous element in array 'a'\n",
    "print(erroneous(b))  # Should return the erroneous element in array 'b'\n",
    "print(erroneous(c))  # Should return the erroneous element in array 'c'\n",
    "print(erroneous(d))  # Should return the erroneous element in array 'd'\n"
   ]
  },
  {
   "cell_type": "code",
   "execution_count": 39,
   "metadata": {},
   "outputs": [
    {
     "data": {
      "text/plain": [
       "(np.int64(1), np.int64(2))"
      ]
     },
     "execution_count": 39,
     "metadata": {},
     "output_type": "execute_result"
    }
   ],
   "source": [
    "x = a\n",
    "row_index = np.where(np.sum(x, axis=1) % 2 != 0)[0][0]\n",
    "col_index = np.where(np.sum(x, axis=0) % 2 != 0)[0][0]\n",
    "row_index, col_index"
   ]
  },
  {
   "cell_type": "code",
   "execution_count": null,
   "metadata": {},
   "outputs": [],
   "source": []
  }
 ],
 "metadata": {
  "kernelspec": {
   "display_name": ".venv",
   "language": "python",
   "name": "python3"
  },
  "language_info": {
   "codemirror_mode": {
    "name": "ipython",
    "version": 3
   },
   "file_extension": ".py",
   "mimetype": "text/x-python",
   "name": "python",
   "nbconvert_exporter": "python",
   "pygments_lexer": "ipython3",
   "version": "3.11.4"
  }
 },
 "nbformat": 4,
 "nbformat_minor": 2
}
