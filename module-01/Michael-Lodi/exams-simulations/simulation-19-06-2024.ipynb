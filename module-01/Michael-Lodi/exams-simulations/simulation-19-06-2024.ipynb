{
 "cells": [
  {
   "cell_type": "raw",
   "metadata": {
    "vscode": {
     "languageId": "raw"
    }
   },
   "source": [
    "Question 01:\n",
    "\n",
    "Write a function my_update(D1,D2) which takes two dictionaries and:\n",
    "\n",
    "on those keys of D1 which are not keys of D2, it has the same effects as the predefined method call D1.update(D2). \n",
    "on keys common at D1 and D2, it modifies D1 associating to each key k the result of D2[k]+D1[k].\n",
    "You cannot use the predefined method update in your code.\n",
    "For example:\n",
    "\n",
    "Test\tResult\n",
    "D1={1:'10',2:20}\n",
    "D2={1:'100',3:30}\n",
    "my_update(D1,D2)\n",
    "print(D1=={1: '10010', 2: 20, 3: 30},D2=={1: '100', 3: 30})\n",
    "True True\n"
   ]
  },
  {
   "cell_type": "code",
   "execution_count": 57,
   "metadata": {},
   "outputs": [
    {
     "name": "stdout",
     "output_type": "stream",
     "text": [
      "True True\n"
     ]
    }
   ],
   "source": [
    "def my_update(D1: dict, D2: dict) -> None:\n",
    "    for key, value in D1.items():\n",
    "        if key in list(D2.keys()):\n",
    "            D1[key] = D2[key] + D1[key]\n",
    "    \n",
    "    for key, value in D2.items():\n",
    "        if key not in list(D1.keys()):\n",
    "            D1[key] = value\n",
    "\n",
    "\n",
    "D1={1:'10', 2:20}\n",
    "D2={1:'100', 3:30}\n",
    "my_update(D1,D2)\n",
    "print(D1=={1: '10010', 2: 20, 3: 30},D2=={1: '100', 3: 30})"
   ]
  },
  {
   "cell_type": "raw",
   "metadata": {
    "vscode": {
     "languageId": "raw"
    }
   },
   "source": [
    "Question 02:\n",
    "\n",
    "Insert some definitions in the answer field, so that, in their scope, the following code will print the value of foo:\n",
    "try:\n",
    "    raise B(foo)\n",
    "except A as x:\n",
    "    print(x)\n",
    "\n",
    "IMPORTANT: You should not insert the code above---that is taken care of by the system.\n",
    "For example:\n",
    "\n",
    "Test\tResult\n",
    "try:\n",
    "    raise B(10)\n",
    "except A as x:\n",
    "    print(x)\n",
    "10\n"
   ]
  },
  {
   "cell_type": "code",
   "execution_count": 58,
   "metadata": {},
   "outputs": [],
   "source": [
    "class A(Exception):\n",
    "    pass\n",
    "\n",
    "class B(A):\n",
    "    def __init__(self, foo):\n",
    "        self.foo = foo\n",
    "\n",
    "    def __str__(self):\n",
    "        return str(self.foo)\n",
    "\n",
    "foo = 10  \n"
   ]
  },
  {
   "cell_type": "raw",
   "metadata": {
    "vscode": {
     "languageId": "raw"
    }
   },
   "source": [
    "Question 03:\n",
    "\n",
    "In a list L whose elements are all comparable, a peak is an element  L[i] such that L[i-1]<L[i]>L[i+1].\n",
    "\n",
    "Write a Python function spicca(L) that takes a list L and modifies  L in-place deleting all its peaks. \n",
    "\n",
    "If deleting a peak produces new ones (see the examples below), those peaks must also be removed, and so on. The function must return the modified list without peaks.\n",
    "\n",
    "Example: in [1,3,4,0,9,6,8,7,2]there are three peaks: L[2], L[4] and L[6] (in blu)  that need to be removed:\n",
    "deleting L[2] forms the new peak 1<3>0, which must also be removed; \n",
    "deleting L[4] does not (immediately) form new peaks; \n",
    "deleting L[6] creates the new peak 6<7>2, which is removed, now creating peak 0<6>2. Removing this last peak creates the final list [1,0,2], without peaks.\n",
    "If necessary, make reasonable assumptions for borderline cases, and indicate them through comments.\n",
    "\n",
    "For example:\n",
    "\n",
    "Test\tResult\n",
    "print(spicca([1,3,4,0,9,6,8,7,2]))\n",
    "[1, 0, 2]\n"
   ]
  },
  {
   "cell_type": "code",
   "execution_count": 103,
   "metadata": {},
   "outputs": [
    {
     "name": "stdout",
     "output_type": "stream",
     "text": [
      "[FIRST]: 1\n",
      "\t - X[0]: 1 | X[1]: 3\n",
      "\t - X[0]: 1 < X[1]: 3 ? \u001b[32;mTrue\u001b[0;m\n",
      "[REGULAR]: 3\n",
      "\t - X[0]: 1 | X[1]: 3 | X[2]: 4\n",
      "\t - X[0]: 1 < X[1]: 3 > X[2]: 4 ? \u001b[31;mFalse\u001b[0;m\n",
      "[REGULAR]: 4\n",
      "\t - X[1]: 3 | X[2]: 4 | X[3]: 0\n",
      "\t - X[1]: 3 < X[2]: 4 > X[3]: 0 ? \u001b[32;mTrue\u001b[0;m\n",
      "[REGULAR]: 0\n",
      "\t - X[2]: 4 | X[3]: 0 | X[4]: 9\n",
      "\t - X[2]: 4 < X[3]: 0 > X[4]: 9 ? \u001b[31;mFalse\u001b[0;m\n",
      "[REGULAR]: 9\n",
      "\t - X[3]: 0 | X[4]: 9 | X[5]: 6\n",
      "\t - X[3]: 0 < X[4]: 9 > X[5]: 6 ? \u001b[32;mTrue\u001b[0;m\n",
      "[REGULAR]: 6\n",
      "\t - X[4]: 9 | X[5]: 6 | X[6]: 8\n",
      "\t - X[4]: 9 < X[5]: 6 > X[6]: 8 ? \u001b[31;mFalse\u001b[0;m\n",
      "[REGULAR]: 8\n",
      "\t - X[5]: 6 | X[6]: 8 | X[7]: 7\n",
      "\t - X[5]: 6 < X[6]: 8 > X[7]: 7 ? \u001b[32;mTrue\u001b[0;m\n",
      "[REGULAR]: 7\n",
      "\t - X[6]: 8 | X[7]: 7 | X[8]: 2\n",
      "\t - X[6]: 8 < X[7]: 7 > X[8]: 2 ? \u001b[31;mFalse\u001b[0;m\n",
      "[LAST]: 2\n",
      "\t - X[8]: 2 | X[9]: 999\n",
      "\t - X[8]: 2 < X[9] ? \u001b[32;mTrue\u001b[0;m\n"
     ]
    }
   ],
   "source": [
    "L_new = []\n",
    "L = [1, 3, 4, 0, 9, 6, 8, 7, 2, 999]\n",
    "\n",
    "L_size = len(L)\n",
    "GREEN = \"\\033[32;m\"\n",
    "RED = \"\\033[31;m\"\n",
    "RESET = \"\\033[0;m\"\n",
    "\n",
    "position = 0\n",
    "while position < L_size - 1 :\n",
    "\n",
    "    if position == 0:\n",
    "        x_i, x_i_plus_1 = L[position], L[position + 1]\n",
    "        print(f\"[FIRST]: {x_i}\")\n",
    "        print(f\"\\t - X[{position}]: {x_i} | X[{position +1 }]: {x_i_plus_1}\")\n",
    "        print(f\"\\t - X[{position}]: {x_i} < X[{position +1 }]: {x_i_plus_1} ? {GREEN if x_i < x_i_plus_1 else RED}{x_i < x_i_plus_1}{RESET}\")\n",
    "        L_new.append(x_i)\n",
    "\n",
    "    elif 0 < position < L_size - 2:\n",
    "        x_i_minus_1, x_i, x_i_plus_1 = L[position - 1], L[position], L[position + 1]\n",
    "        is_local_maxima = (x_i_minus_1 < x_i) and (x_i > x_i_plus_1)\n",
    "        print(f\"[REGULAR]: {x_i}\")\n",
    "        print(f\"\\t - X[{position - 1}]: {x_i_minus_1} | X[{position}]: {x_i} | X[{position + 1}]: {x_i_plus_1}\")\n",
    "        print(f\"\\t - X[{position - 1}]: {x_i_minus_1} < X[{position}]: {x_i} > X[{position + 1}]: {x_i_plus_1} ? {GREEN if is_local_maxima else RED}{is_local_maxima}{RESET}\")\n",
    "        if not is_local_maxima:\n",
    "            L_new.append(x_i)\n",
    "    \n",
    "    elif position == L_size - 2:\n",
    "        x_i, x_i_plus_1 = L[position], L[position + 1]\n",
    "        print(f\"[LAST]: {x_i}\")\n",
    "        is_local_maxima = x_i < x_i_plus_1\n",
    "        print(f\"\\t - X[{position}]: {x_i} | X[{position + 1}]: {x_i_plus_1}\")\n",
    "        print(f\"\\t - X[{position}]: {x_i} < X[{position + 1}] ? {GREEN if is_local_maxima else RED}{is_local_maxima}{RESET}\")\n",
    "        L_new.append(x_i)\n",
    "\n",
    "    position += 1\n"
   ]
  },
  {
   "cell_type": "code",
   "execution_count": 126,
   "metadata": {},
   "outputs": [
    {
     "name": "stdout",
     "output_type": "stream",
     "text": [
      "[FIRST]: 0/9\n",
      "\t - X[0]: 1 | X[1]: 3\n",
      "\t - X[0]: 1 < X[1]: 3 ? \u001b[32;mTrue\u001b[0;m\n",
      "[REGULAR]: 1/9\n",
      "\t - X[0]: 1 | X[1]: 3 | X[2]: 4\n",
      "\t - X[0]: 1 < X[1]: 3 > X[2]: 4 ? \u001b[31;mFalse\u001b[0;m\n",
      "[REGULAR]: 2/9\n",
      "\t - X[1]: 3 | X[2]: 4 | X[3]: 0\n",
      "\t - X[1]: 3 < X[2]: 4 > X[3]: 0 ? \u001b[32;mTrue\u001b[0;m\n",
      "[REGULAR]: 3/9\n",
      "\t - X[2]: 4 | X[3]: 0 | X[4]: 9\n",
      "\t - X[2]: 4 < X[3]: 0 > X[4]: 9 ? \u001b[31;mFalse\u001b[0;m\n",
      "[REGULAR]: 4/9\n",
      "\t - X[3]: 0 | X[4]: 9 | X[5]: 6\n",
      "\t - X[3]: 0 < X[4]: 9 > X[5]: 6 ? \u001b[32;mTrue\u001b[0;m\n",
      "[REGULAR]: 5/9\n",
      "\t - X[4]: 9 | X[5]: 6 | X[6]: 8\n",
      "\t - X[4]: 9 < X[5]: 6 > X[6]: 8 ? \u001b[31;mFalse\u001b[0;m\n",
      "[REGULAR]: 6/9\n",
      "\t - X[5]: 6 | X[6]: 8 | X[7]: 7\n",
      "\t - X[5]: 6 < X[6]: 8 > X[7]: 7 ? \u001b[32;mTrue\u001b[0;m\n",
      "[REGULAR]: 7/9\n",
      "\t - X[6]: 8 | X[7]: 7 | X[8]: 2\n",
      "\t - X[6]: 8 < X[7]: 7 > X[8]: 2 ? \u001b[31;mFalse\u001b[0;m\n",
      "[REGULAR]: 8/9\n",
      "\t - X[7]: 7 | X[8]: 2 | X[9]: 999\n",
      "\t - X[7]: 7 < X[8]: 2 > X[9]: 999 ? \u001b[31;mFalse\u001b[0;m\n",
      "[LAST]: 9/9\n",
      "\t - X[8]: 2 | X[9]: 999\n",
      "\t - X[8]: 2 < X[9]: 999: 999 ? \u001b[32;mTrue\u001b[0;m\n"
     ]
    }
   ],
   "source": [
    "L_new = []\n",
    "L = [1, 3, 4, 0, 9, 6, 8, 7, 2, 999]\n",
    "\n",
    "L_size = len(L)\n",
    "GREEN = \"\\033[32;m\"\n",
    "RED = \"\\033[31;m\"\n",
    "RESET = \"\\033[0;m\"\n",
    "\n",
    "position = 0\n",
    "while position < L_size :\n",
    "\n",
    "    if position == 0:\n",
    "        x_i, x_i_plus_1 = L[position], L[position + 1]\n",
    "        print(f\"[FIRST]: {position}/{L_size - 1}\")\n",
    "        print(f\"\\t - X[{position}]: {x_i} | X[{position +1 }]: {x_i_plus_1}\")\n",
    "        print(f\"\\t - X[{position}]: {x_i} < X[{position +1 }]: {x_i_plus_1} ? {GREEN if x_i < x_i_plus_1 else RED}{x_i < x_i_plus_1}{RESET}\")\n",
    "        L_new.append(x_i)\n",
    "\n",
    "    elif 0 < position < L_size and position < L_size - 1:\n",
    "        x_i_minus_1, x_i, x_i_plus_1 = L[position - 1], L[position], L[position + 1]\n",
    "        is_local_maxima = (x_i_minus_1 < x_i) and (x_i > x_i_plus_1)\n",
    "        print(f\"[REGULAR]: {position}/{L_size - 1}\")\n",
    "        print(f\"\\t - X[{position - 1}]: {x_i_minus_1} | X[{position}]: {x_i} | X[{position + 1}]: {x_i_plus_1}\")\n",
    "        print(f\"\\t - X[{position - 1}]: {x_i_minus_1} < X[{position}]: {x_i} > X[{position + 1}]: {x_i_plus_1} ? {GREEN if is_local_maxima else RED}{is_local_maxima}{RESET}\")\n",
    "        if not is_local_maxima:\n",
    "            L_new.append(x_i)\n",
    "\n",
    "    else:\n",
    "        x_i_minus_1, x_i = L[position - 1], L[position]\n",
    "        print(f\"[LAST]: {position}/{L_size - 1}\")\n",
    "        is_local_maxima = (x_i_minus_1 < x_i)\n",
    "        print(f\"\\t - X[{position - 1}]: {x_i_minus_1} | X[{position}]: {x_i}\")\n",
    "        print(f\"\\t - X[{position - 1}]: {x_i_minus_1} < X[{position}]: {x_i}: {x_i_plus_1} ? {GREEN if is_local_maxima else RED}{is_local_maxima}{RESET}\")\n",
    "        break\n",
    "\n",
    "    position += 1\n"
   ]
  },
  {
   "cell_type": "code",
   "execution_count": 154,
   "metadata": {},
   "outputs": [
    {
     "data": {
      "text/plain": [
       "[1, 2, 3]"
      ]
     },
     "execution_count": 154,
     "metadata": {},
     "output_type": "execute_result"
    }
   ],
   "source": [
    "def has_spicca(L: list) -> bool:\n",
    "    return any([L[i - 1] < L[i] > L[i + 1] for i in range(1, len(L) - 1)])\n",
    "\n",
    "def spicca(L: list) -> list:\n",
    "\n",
    "    position, L_new, L_size = 0, [], len(L)\n",
    "\n",
    "    while position < L_size:\n",
    "        \n",
    "        if position == 0:\n",
    "            L_new.append(L[position])\n",
    "\n",
    "        elif 0 < position < L_size and position < L_size - 1:\n",
    "            x_i_minus_1, x_i, x_i_plus_1 = L[position - 1], L[position], L[position + 1]\n",
    "            is_local_maxima = (x_i_minus_1 < x_i) and (x_i > x_i_plus_1)\n",
    "            if not is_local_maxima:\n",
    "                L_new.append(x_i)\n",
    "            \n",
    "        else:\n",
    "            L_new.append(L[position])\n",
    "\n",
    "        position += 1\n",
    "\n",
    "    if has_spicca(L_new):\n",
    "        return spicca(L_new)\n",
    "\n",
    "    return L_new\n",
    "\n",
    "L = [1, 3, 4, 0, 9, 6, 8, 7, 2]\n",
    "l = [1, 2, 3]\n",
    "spicca(l)"
   ]
  },
  {
   "cell_type": "code",
   "execution_count": 136,
   "metadata": {},
   "outputs": [
    {
     "data": {
      "text/plain": [
       "False"
      ]
     },
     "execution_count": 136,
     "metadata": {},
     "output_type": "execute_result"
    }
   ],
   "source": [
    "def has_spicca(L: list) -> list:\n",
    "\n",
    "    position,  L_size= 0, len(L)\n",
    "\n",
    "    while position < L_size:\n",
    "        \n",
    "        if position == 0:\n",
    "            pass\n",
    "\n",
    "        elif 0 < position < L_size and position < L_size - 1:\n",
    "            x_i_minus_1, x_i, x_i_plus_1 = L[position - 1], L[position], L[position + 1]\n",
    "            is_local_maxima = (x_i_minus_1 < x_i) and (x_i > x_i_plus_1)\n",
    "            if is_local_maxima:\n",
    "                return True\n",
    "            \n",
    "        else:\n",
    "            pass\n",
    "\n",
    "        position += 1\n",
    "\n",
    "    return False\n",
    "\n",
    "L = [1, 3, 4, 0, 9, 6, 8, 7, 2, 999]\n",
    "l = [1, 2, 3]\n",
    "has_spicca(l)"
   ]
  },
  {
   "cell_type": "code",
   "execution_count": 144,
   "metadata": {},
   "outputs": [
    {
     "name": "stdout",
     "output_type": "stream",
     "text": [
      "True\n",
      "False\n"
     ]
    }
   ],
   "source": [
    "def has_spicca(L: list) -> bool:\n",
    "    for i in range(1, len(L) - 1):\n",
    "        if L[i - 1] < L[i] > L[i + 1]:\n",
    "            return True\n",
    "    return False\n",
    "\n",
    "L = [1, 3, 4, 0, 9, 6, 8, 7, 2, 999]\n",
    "l = [1, 2, 3]\n",
    "print(has_spicca(L))\n",
    "print(has_spicca(l))\n"
   ]
  },
  {
   "cell_type": "code",
   "execution_count": 149,
   "metadata": {},
   "outputs": [
    {
     "name": "stdout",
     "output_type": "stream",
     "text": [
      "True\n",
      "False\n",
      "False\n",
      "False\n",
      "True\n"
     ]
    }
   ],
   "source": [
    "def has_spicca(L: list) -> bool:\n",
    "    return any([L[i - 1] < L[i] > L[i + 1] for i in range(1, len(L) - 1)])\n",
    "\n",
    "L = [1, 3, 4, 0, 9, 6, 8, 7, 2, 999]\n",
    "l = [1, 2, 3]\n",
    "l2 = [3, 2, 1]\n",
    "l3 = [3, 2, 3]\n",
    "l4 = [3, 4, 3]\n",
    "\n",
    "print(has_spicca(L))\n",
    "print(has_spicca(l))\n",
    "print(has_spicca(l2))\n",
    "print(has_spicca(l3))\n",
    "print(has_spicca(l4))\n"
   ]
  },
  {
   "cell_type": "code",
   "execution_count": null,
   "metadata": {},
   "outputs": [],
   "source": [
    "def has_spicca(L: list) -> bool:\n",
    "    for i in range(1, len(L) - 1):\n",
    "        if L[i - 1] < L[i] > L[i + 1]:\n",
    "            return True\n",
    "    return False\n",
    "\n",
    "L = [1, 3, 4, 0, 9, 6, 8, 7, 2, 999]\n",
    "l = [1, 2, 3]\n",
    "print(has_spicca(L))\n",
    "print(has_spicca(l))\n"
   ]
  },
  {
   "cell_type": "code",
   "execution_count": 163,
   "metadata": {},
   "outputs": [
    {
     "name": "stdout",
     "output_type": "stream",
     "text": [
      "[1, 0, 2, 999]\n",
      "[1, 2, 3]\n",
      "[3, 2, 1]\n",
      "[3, 2, 3]\n",
      "[3, 3]\n"
     ]
    }
   ],
   "source": [
    "def has_spicca(L: list) -> bool:\n",
    "    return any([L[i - 1] < L[i] > L[i + 1] for i in range(1, len(L) - 1)])\n",
    "\n",
    "def spicca(L: list) -> list:\n",
    "    L_new = []\n",
    "    for i in range(len(L)):\n",
    "        if i == 0 or i == len(L) - 1:\n",
    "            L_new.append(L[i])\n",
    "        elif not (L[i - 1] < L[i] > L[i + 1]):\n",
    "            L_new.append(L[i])\n",
    "\n",
    "    if has_spicca(L_new):\n",
    "        return spicca(L_new)\n",
    "\n",
    "    return L_new\n",
    "\n",
    "L = [1, 3, 4, 0, 9, 6, 8, 7, 2, 999]\n",
    "l = [1, 2, 3]\n",
    "l2 = [3, 2, 1]\n",
    "l3 = [3, 2, 3]\n",
    "l4 = [3, 4, 3]\n",
    "\n",
    "print(spicca(L))\n",
    "print(spicca(l))\n",
    "print(spicca(l2))\n",
    "print(spicca(l3))\n",
    "print(spicca(l4))"
   ]
  },
  {
   "cell_type": "raw",
   "metadata": {
    "vscode": {
     "languageId": "raw"
    }
   },
   "source": [
    "Question  04:\n",
    "\n",
    "Complete the following code (only where indicated) is such a way that two \n",
    "instances of class A are equal (==) if they have the same value for the attribute __st, \n",
    "while two instances of class B are equal if their __st attribute is the inverse of each other. \n",
    "You cannot modify the __init__ method of Top or add __init__ methods to A or B.\n",
    "\n",
    "For example:\n",
    "\n",
    "Test\tResult\n",
    "a1=A('pippo')\n",
    "a2=A('pippo')\n",
    "print(a1==a2)\n",
    "True\n",
    "b1=B('pippo')\n",
    "b2=B('oppip')\n",
    "print(b1==b2)\n",
    "True\n"
   ]
  },
  {
   "cell_type": "code",
   "execution_count": 166,
   "metadata": {},
   "outputs": [
    {
     "data": {
      "text/plain": [
       "True"
      ]
     },
     "execution_count": 166,
     "metadata": {},
     "output_type": "execute_result"
    }
   ],
   "source": [
    "\n",
    "class Top:\n",
    "    def __init__(self, s: str) -> None:\n",
    "        if type(s) != str:\n",
    "            raise TypeError\n",
    "        self.__st = s\n",
    "\n",
    "    def get_st(self) -> str:\n",
    "        return self.__st\n",
    "\n",
    "class A(Top):\n",
    "    # complete the definition of A if needed\n",
    "    # you cannot redefine __init__\n",
    "    def __eq__(self, value: object) -> bool:\n",
    "        if isinstance(value, A):\n",
    "            return self.get_st() == value.get_st()\n",
    "        return False\n",
    "\n",
    "class B(A):\n",
    "    # complete the definition of B if needed\n",
    "    # you cannot redefine __init__\n",
    "    def __eq__(self, value: object) -> bool:\n",
    "        if isinstance(value, B):\n",
    "            return self.get_st() == value.get_st()[::-1]\n",
    "        return False\n",
    "    \n",
    "a1 = A(\"a\")\n",
    "a2 = A(\"a\")\n",
    "a1 == a2"
   ]
  },
  {
   "cell_type": "raw",
   "metadata": {
    "vscode": {
     "languageId": "raw"
    }
   },
   "source": [
    "Question 05:\n",
    "\n",
    "Write a function min_col(A) that takes a NumPy array A of integers with shape (n,m)\n",
    "\n",
    "The function returns a 1D Numpy array of the minimum value of each column in A.\n",
    "\n",
    "Your solution must be a \"one-line-function\", i.e. a function with only a return of an expression.\n",
    "\n",
    "You must use NumPy features. Do not use loops, comprehensions, recursion.\n",
    "\n",
    "For example:\n",
    "\n",
    "Test\tResult\n",
    "A = np.array([[2,4,9],\n",
    "              [3,2,1],\n",
    "              [7,3,1]])\n",
    "print(min_col(A))\n",
    "[2 2 1]\n"
   ]
  },
  {
   "cell_type": "code",
   "execution_count": 179,
   "metadata": {},
   "outputs": [
    {
     "name": "stdout",
     "output_type": "stream",
     "text": [
      "[2 2 1]\n"
     ]
    }
   ],
   "source": [
    "import numpy as np\n",
    "\n",
    "def min_col(A) -> np.ndarray:\n",
    "    return np.min(A, axis=0)\n",
    "\n",
    "print(min_col(A))\n"
   ]
  },
  {
   "cell_type": "code",
   "execution_count": 176,
   "metadata": {},
   "outputs": [
    {
     "data": {
      "text/plain": [
       "array([[2, 3, 7],\n",
       "       [4, 2, 3],\n",
       "       [9, 1, 1]])"
      ]
     },
     "execution_count": 176,
     "metadata": {},
     "output_type": "execute_result"
    }
   ],
   "source": [
    "A = np.array([[2,4,9],\n",
    "              [3,2,1],\n",
    "              [7,3,1]])\n",
    "A.transpose()"
   ]
  },
  {
   "cell_type": "code",
   "execution_count": 170,
   "metadata": {},
   "outputs": [
    {
     "name": "stdout",
     "output_type": "stream",
     "text": [
      "[2 4 9]\n",
      "[3 2 1]\n",
      "[7 3 1]\n"
     ]
    }
   ],
   "source": [
    "for line in A:\n",
    "    print(line)"
   ]
  },
  {
   "cell_type": "code",
   "execution_count": 177,
   "metadata": {},
   "outputs": [
    {
     "data": {
      "text/plain": [
       "array([[2, 3, 7],\n",
       "       [4, 2, 3],\n",
       "       [9, 1, 1]])"
      ]
     },
     "execution_count": 177,
     "metadata": {},
     "output_type": "execute_result"
    }
   ],
   "source": [
    "np.transpose(A)\n"
   ]
  },
  {
   "cell_type": "code",
   "execution_count": 181,
   "metadata": {},
   "outputs": [
    {
     "name": "stdout",
     "output_type": "stream",
     "text": [
      "[1, 0, 2]\n",
      "[]\n",
      "[1]\n",
      "[1, 3]\n",
      "[1, 2, 3]\n",
      "[1, 1]\n",
      "[1, -1]\n",
      "[7, 6, 5, 4, 3, 2, -1]\n"
     ]
    }
   ],
   "source": [
    "def spicca(L):\n",
    "    i=1\n",
    "    while i<len(L)-1:\n",
    "        if L[i-1]<L[i]>L[i+1]:\n",
    "            del L[i]\n",
    "            #now check if a new peak has been created on i-1\n",
    "            if i>1: #if i is 1 and it was a peak, we don't have to check on 0\n",
    "                i-=1 \n",
    "        else:\n",
    "            i+=1\n",
    "    return L\n",
    "\n",
    "\n",
    "L=[1,3,4,0,9,6,8,7,2]\n",
    "print(spicca(L))\n",
    "print(spicca([]))\n",
    "print(spicca([1]))\n",
    "print(spicca([1,3]))\n",
    "print(spicca([1,2,3]))\n",
    "print(spicca([1,3,1]))\n",
    "print(spicca([1,2,3,4,5,6,7,-1]))\n",
    "print(spicca([7,6,5,4,3,2,3,-1]))"
   ]
  },
  {
   "cell_type": "code",
   "execution_count": null,
   "metadata": {},
   "outputs": [],
   "source": [
    "def my_update(D1,D2):\n",
    "    for k in D2:\n",
    "        if k in D1:\n",
    "            D1[k]=D2[k]+D1[k]\n",
    "        else:\n",
    "            D1[k]=D2[k]\n",
    "\n",
    "'''\n",
    "D1={1:'10',2:20}\n",
    "D2={1:'100',3:30}\n",
    "my_update(D1,D2)\n",
    "print(D1=={1: '10010', 2: 20, 3: 30},D2=={1: '100', 3: 30})\n",
    "\n",
    "D1={1:10,2:20}\n",
    "D2={3:30,4:40}\n",
    "id1=id(D1)\n",
    "id2=id(D2)\n",
    "my_update(D1,D2)\n",
    "print(D1=={1: 10, 2: 20, 3: 30,4:40},D2=={3:30,4:40},id1==id(D1),id2==id(D2))\n",
    "\n",
    "D1={1:10,2:20}\n",
    "D2={1:100,2:200}\n",
    "id1=id(D1)\n",
    "id2=id(D2)\n",
    "my_update(D1,D2)\n",
    "print(D1=={1: 110, 2: 220},D2=={1:10,2:20},id1==id(D1),id2==id(D2))\n",
    "\n",
    "D1={1:10,2:20}\n",
    "D2={}\n",
    "id1=id(D1)\n",
    "id2=id(D2)\n",
    "my_update(D1,D2)\n",
    "print(D1=={1:10,2:20},D2=={},id1==id(D1),id2==id(D2))\n",
    "\n",
    "D1={}\n",
    "D2={1:10,2:20}\n",
    "id1=id(D1)\n",
    "id2=id(D2)\n",
    "my_update(D1,D2)\n",
    "print(D1=={1:10,2:20},D2=={1:10,2:20},id1==id(D1),id2==id(D2))\n",
    "\n",
    "D1={1:'10',2:'20'}\n",
    "D2={1:'100',2:'200'}\n",
    "id1=id(D1)\n",
    "id2=id(D2)\n",
    "my_update(D1,D2)\n",
    "print(D1=={1: '10010', 2: '20020'},D2=={1: '100', 2: '200'},id1==id(D1),id2==id(D2))\n",
    "'''\n",
    "\n",
    "class A(Exception):\n",
    "    pass\n",
    "class B(A):\n",
    "    pass\n",
    "\n",
    "\n",
    "def spicca(L):\n",
    "    i=1\n",
    "    while i<len(L)-1:\n",
    "        if L[i-1]<L[i]>L[i+1]:\n",
    "            del L[i]\n",
    "            #now check if a new peak has been created on i-1\n",
    "            if i>1: #if i is 1 and it was a peak, we don't have to check on 0\n",
    "                i-=1 \n",
    "        else:\n",
    "            i+=1\n",
    "    return L\n",
    "\n",
    "\n",
    "# L=[1,3,4,0,9,6,8,7,2]\n",
    "# print(spicca(L))\n",
    "# print(spicca([]))\n",
    "# print(spicca([1]))\n",
    "# print(spicca([1,3]))\n",
    "# print(spicca([1,2,3]))\n",
    "# print(spicca([1,3,1]))\n",
    "# print(spicca([1,2,3,4,5,6,7,-1]))\n",
    "# print(spicca([7,6,5,4,3,2,3,-1]))\n",
    "\n",
    "\n",
    "class Top:\n",
    "    def __init__(self,s):\n",
    "        if type(s)!=str:\n",
    "            raise TypeError\n",
    "        self.__st=s\n",
    "    #completare la def di Top se necessario\n",
    "    def get(self):\n",
    "        return self.__st\n",
    "class A(Top):\n",
    "    #completare la def di A se necessario\n",
    "    #NON si può definire il metodo __init__\n",
    "    def __eq__(self, other):\n",
    "        return self.get()==other.get()\n",
    "    \n",
    "class B(A):\n",
    "    #completare la def di B se necessario\n",
    "    #NON si può definire il metodo __init__\n",
    "    def __eq__(self,other): \n",
    "        return self.get()==other.get()[::-1]\n",
    "\n",
    "\n",
    "import numpy as np\n",
    "\n",
    "def min_col(A):\n",
    "    return np.min(A, axis=0)\n",
    "\n",
    "    \n",
    "\"\"\"\n",
    "#test 0\n",
    "A = np.array([[2,4,9],\n",
    "              [3,2,1],\n",
    "              [7,3,1]])\n",
    "print(min_col(A))\n",
    "\n",
    "#test 1\n",
    "A = np.array([[11,12,-13],\n",
    "              [5,-6,7],\n",
    "              [-8,9,10]])\n",
    "print(min_col(A))\n",
    "\n",
    "#test 2\n",
    "A = np.array([[2,2,2],\n",
    "              [2,2,2]])\n",
    "print(min_col(A))\n",
    "\n",
    "#test 2\n",
    "A = np.array([[2],\n",
    "              [0],\n",
    "              [1],\n",
    "              [4]])\n",
    "print(min_col(A))\n",
    "\"\"\"\n"
   ]
  }
 ],
 "metadata": {
  "kernelspec": {
   "display_name": ".venv",
   "language": "python",
   "name": "python3"
  },
  "language_info": {
   "codemirror_mode": {
    "name": "ipython",
    "version": 3
   },
   "file_extension": ".py",
   "mimetype": "text/x-python",
   "name": "python",
   "nbconvert_exporter": "python",
   "pygments_lexer": "ipython3",
   "version": "3.11.4"
  }
 },
 "nbformat": 4,
 "nbformat_minor": 2
}
