{
 "cells": [
  {
   "cell_type": "raw",
   "metadata": {
    "vscode": {
     "languageId": "raw"
    }
   },
   "source": [
    "Write a function my_update(D1,D2) which takes two dictionaries and:\n",
    "\n",
    "on those keys of D2 which are not keys of D1, it has the same effects as the predefined method call D1.update(D2). \n",
    "on keys common at D1 and D2, it exchanges between D1 and D2 the corresponding values.\n",
    "You cannot use the predefined method update in your code.\n",
    "For example:\n",
    "\n",
    "Test\tResult\n",
    "D1={1:10,2:20}\n",
    "D2={1:100,3:30}\n",
    "my_update(D1,D2)\n",
    "print(D1=={1: 100, 2: 20, 3: 30},D2=={1: 10, 3: 30})\n",
    "True True\n"
   ]
  },
  {
   "cell_type": "code",
   "execution_count": 65,
   "metadata": {},
   "outputs": [
    {
     "name": "stdout",
     "output_type": "stream",
     "text": [
      "True True\n"
     ]
    }
   ],
   "source": [
    "D1={ 1:10, 2:20}\n",
    "D2={ 1:100, 3:30}\n",
    "\n",
    "def change_values(D1: dict, D2: dict, key) -> None:\n",
    "    D2[key], D1[key] = D1[key], D2[key]\n",
    "\n",
    "def my_update(D1: dict, D2: dict) -> None:\n",
    "    for key, value in D2.items():\n",
    "        if key not in list(D1.keys()):\n",
    "            D1[key] = value\n",
    "        else:\n",
    "            change_values(D1, D2, key)\n",
    "\n",
    "D1={1:10,2:20}\n",
    "D2={1:100,3:30}\n",
    "my_update(D1,D2)\n",
    "D1, D2\n",
    "print(D1=={1: 100, 2: 20, 3: 30},D2=={1: 10, 3: 30})"
   ]
  },
  {
   "cell_type": "code",
   "execution_count": 58,
   "metadata": {},
   "outputs": [
    {
     "data": {
      "text/plain": [
       "({1: 10, 2: 20, 3: 30}, {1: 100, 3: 30})"
      ]
     },
     "execution_count": 58,
     "metadata": {},
     "output_type": "execute_result"
    }
   ],
   "source": [
    "def change_values(D1: dict, D2: dict, key) -> None:\n",
    "    D2[key], D1[key] = D1[key], D2[key]\n",
    "\n",
    "def my_update(D1: dict, D2: dict) -> None:\n",
    "    D1_keys, D2_keys = list(D1.keys()), list(D2.keys())\n",
    "\n",
    "    d1_key, d2_key = D1_keys.pop(), D2_keys.pop()\n",
    "\n",
    "    while len(D2_keys) > 0 or len(D1_keys) > 0:\n",
    "\n",
    "        if d2_key != d1_key:\n",
    "            D1.update({d2_key : D2[d2_key]})\n",
    "\n",
    "        elif d2_key == d1_key:\n",
    "            change_values(D1, D2, d1_key)\n",
    "\n",
    "        d1_key, d2_key = D1_keys.pop(), D2_keys.pop()\n",
    "\n",
    "\n",
    "D1={1:10,2:20}\n",
    "D2={1:100,3:30}\n",
    "my_update(D1,D2)\n",
    "D1, D2\n",
    "# print(D1=={1: 100, 2: 20, 3: 30},D2=={1: 10, 3: 30})"
   ]
  },
  {
   "cell_type": "code",
   "execution_count": 61,
   "metadata": {},
   "outputs": [
    {
     "data": {
      "text/plain": [
       "({1: 10, 2: 20, 3: 30}, {1: 100, 3: 30})"
      ]
     },
     "execution_count": 61,
     "metadata": {},
     "output_type": "execute_result"
    }
   ],
   "source": [
    "def change_values(D1: dict, D2: dict, key):\n",
    "    D2[key], D1[key] = D1[key], D2[key]\n",
    "\n",
    "def my_update(D1: dict, D2: dict):\n",
    "    D1_keys, D2_keys = list(D1.keys()), list(D2.keys())\n",
    "\n",
    "    d1_key, d2_key = D1_keys.pop(), D2_keys.pop()\n",
    "\n",
    "    while len(D2_keys) > 0 or len(D1_keys) > 0:\n",
    "        key_teste = []\n",
    "\n",
    "        if d1_key in key_teste or d2_key in key_teste:\n",
    "            continue\n",
    "\n",
    "        if d2_key != d1_key:\n",
    "            D1.update({d2_key : D2[d2_key]})\n",
    "            key_teste.extend([d1_key, d2_key])\n",
    "\n",
    "        elif d2_key == d1_key:\n",
    "            change_values(D1, D2, d1_key)\n",
    "            key_teste.append(d1_key)\n",
    "\n",
    "        d1_key, d2_key = D1_keys.pop(), D2_keys.pop()\n",
    "        \n",
    "D1={1:10,2:20}\n",
    "D2={1:100,3:30}\n",
    "my_update(D1,D2)\n",
    "D1, D2"
   ]
  },
  {
   "cell_type": "code",
   "execution_count": 59,
   "metadata": {},
   "outputs": [
    {
     "name": "stdout",
     "output_type": "stream",
     "text": [
      "D1 = {1: 10, 2: 20}\n",
      "D2 = {1: 100, 3: 30}\n",
      "--------------------------------------------------\n"
     ]
    },
    {
     "data": {
      "text/plain": [
       "({1: 10, 2: 20, 3: 30}, {1: 100, 3: 30}, [], [])"
      ]
     },
     "execution_count": 59,
     "metadata": {},
     "output_type": "execute_result"
    }
   ],
   "source": [
    "\n",
    "def change_values(D1: dict, D2: dict, key):\n",
    "    D2[key], D1[key] = D1[key], D2[key]\n",
    "\n",
    "def my_update(D1: dict, D2: dict):\n",
    "    D1_keys, D2_keys = list(D1.keys()), list(D2.keys())\n",
    "\n",
    "    d1_key, d2_key = D1_keys.pop(), D2_keys.pop()\n",
    "\n",
    "    while len(D2_keys) > 0 or len(D1_keys) > 0:\n",
    "        key_teste = []\n",
    "\n",
    "        if d1_key in key_teste or d2_key in key_teste:\n",
    "            continue\n",
    "\n",
    "        if d2_key != d1_key:\n",
    "            D1.update({d2_key : D2[d2_key]})\n",
    "            key_teste.extend([d1_key, d2_key])\n",
    "\n",
    "        elif d2_key == d1_key:\n",
    "            change_values(D1, D2, d1_key)\n",
    "            key_teste.append(d1_key)\n",
    "\n",
    "        d1_key, d2_key = D1_keys.pop(), D2_keys.pop()\n",
    "\n",
    "\n",
    "\n",
    "D1={1:10,  2:20}\n",
    "D2={1:100, 3:30}\n",
    "\n",
    "D1_keys = list(D1.keys())\n",
    "D2_keys = list(D2.keys())\n",
    "\n",
    "print(f\"D1 = {D1}\")\n",
    "print(f\"D2 = {D2}\")\n",
    "print(\"-\" * 50)\n",
    "\n",
    "d1_key = D1_keys.pop()\n",
    "d2_key = D2_keys.pop()\n",
    "while len(D2_keys) > 0 or len(D1_keys) > 0:\n",
    "\n",
    "    if d2_key != d1_key:\n",
    "        D1.update({d2_key : D2[d2_key]})\n",
    "\n",
    "    elif d2_key == d1_key:\n",
    "        change_values(D1, D2, d1_key)\n",
    "\n",
    "    d1_key = D1_keys.pop()\n",
    "    d2_key = D2_keys.pop()\n",
    "\n",
    "\n",
    "\n",
    "\n",
    "D1, D2, D1_keys, D2_keys"
   ]
  },
  {
   "cell_type": "code",
   "execution_count": 56,
   "metadata": {},
   "outputs": [
    {
     "name": "stdout",
     "output_type": "stream",
     "text": [
      "D1 = {1: 10, 2: 20}\n",
      "D2 = {1: 100, 3: 30}\n",
      "--------------------------------------------------\n",
      "Comparing: 1 with 1\n",
      "=> D1 Before = {1: 10, 2: 20}\n",
      "=> D2 Before = {1: 100, 3: 30}\n",
      "\n",
      " - Same key: 1\n",
      "=> D1 After = {1: 100, 2: 20}\n",
      "=> D2 After = {1: 10, 3: 30}\n",
      "--------------------------------------------------\n",
      "Comparing: 1 with 2\n",
      "=> D1 Before = {1: 100, 2: 20}\n",
      "=> D2 Before = {1: 10, 3: 30}\n",
      "\n",
      " - Different: d2: 1 and d1: 2\n",
      "=> D1 After = {1: 10, 2: 20}\n",
      "=> D2 After = {1: 10, 3: 30}\n",
      "--------------------------------------------------\n",
      "==================================================\n",
      "Comparing: 3 with 1\n",
      "=> D1 Before = {1: 10, 2: 20}\n",
      "=> D2 Before = {1: 10, 3: 30}\n",
      "\n",
      " - Different: d2: 3 and d1: 1\n",
      "=> D1 After = {1: 10, 2: 20, 3: 30}\n",
      "=> D2 After = {1: 10, 3: 30}\n",
      "--------------------------------------------------\n",
      "Comparing: 3 with 2\n",
      "=> D1 Before = {1: 10, 2: 20, 3: 30}\n",
      "=> D2 Before = {1: 10, 3: 30}\n",
      "\n",
      " - Different: d2: 3 and d1: 2\n",
      "=> D1 After = {1: 10, 2: 20, 3: 30}\n",
      "=> D2 After = {1: 10, 3: 30}\n",
      "--------------------------------------------------\n",
      "==================================================\n"
     ]
    },
    {
     "data": {
      "text/plain": [
       "({1: 10, 2: 20, 3: 30}, {1: 10, 3: 30}, [1, 2], [1, 3])"
      ]
     },
     "execution_count": 56,
     "metadata": {},
     "output_type": "execute_result"
    }
   ],
   "source": [
    "from typing import Dict\n",
    "\n",
    "def my_update(D1: Dict[str, int], D2: Dict[str, int]):\n",
    "    if D1.keys() == D2.keys():\n",
    "        D1.update(D2)\n",
    "\n",
    "\n",
    "D1={1:10,  2:20}\n",
    "D2={1:100, 3:30}\n",
    "\n",
    "D1_keys = list(D1.keys())\n",
    "D2_keys = list(D2.keys())\n",
    "\n",
    "print(f\"D1 = {D1}\")\n",
    "print(f\"D2 = {D2}\")\n",
    "print(\"-\" * 50)\n",
    "\n",
    "for d2_key in D2_keys:\n",
    "    \n",
    "    \n",
    "    for d1_key in D1_keys:\n",
    "\n",
    "        print(f\"Comparing: {d2_key} with {d1_key}\")\n",
    "        print(f\"=> D1 Before = {D1}\")\n",
    "        print(f\"=> D2 Before = {D2}\")\n",
    "\n",
    "        if d2_key != d1_key:\n",
    "            print(f\"\\n - Different: d2: {d2_key} and d1: {d1_key}\")\n",
    "            D1.update({d2_key : D2[d2_key]})\n",
    "\n",
    "        elif d2_key == d1_key:\n",
    "            \n",
    "            key = d1_key\n",
    "            print(f\"\\n - Same key: {key}\")\n",
    "            d1_value, d2_value = D1[key], D2[key]\n",
    "\n",
    "            D1.update({key : d2_value})\n",
    "            D2.update({key : d1_value})\n",
    "\n",
    "\n",
    "\n",
    "        print(f\"=> D1 After = {D1}\")\n",
    "        print(f\"=> D2 After = {D2}\")\n",
    "\n",
    "        print(\"-\" * 50)\n",
    "\n",
    "    print(\"=\" * 50)\n",
    "\n",
    "D1, D2, D1_keys, D2_keys"
   ]
  },
  {
   "cell_type": "code",
   "execution_count": 53,
   "metadata": {},
   "outputs": [
    {
     "data": {
      "text/plain": [
       "({1: 100, 2: 20}, {1: 10, 3: 30})"
      ]
     },
     "execution_count": 53,
     "metadata": {},
     "output_type": "execute_result"
    }
   ],
   "source": [
    "def change_values(D1: dict, D2: dict, key):\n",
    "    ...\n",
    "\n",
    "key = 1\n",
    "\n",
    "D1={1 : 10,  2 : 20}\n",
    "D2={1 : 100, 3 : 30}\n",
    "\n",
    "D1, D2\n",
    "\n",
    "d1_value, d2_value = D1[key], D2[key]\n",
    "\n",
    "D1, D2, d1_value, d2_value\n",
    "D1[key], D2[key] = d2_value, d1_value\n",
    "\n",
    "D1, D2"
   ]
  },
  {
   "cell_type": "code",
   "execution_count": 54,
   "metadata": {},
   "outputs": [
    {
     "data": {
      "text/plain": [
       "({1: 100, 2: 20}, {1: 10, 3: 30})"
      ]
     },
     "execution_count": 54,
     "metadata": {},
     "output_type": "execute_result"
    }
   ],
   "source": [
    "def change_values(D1: dict, D2: dict, key):\n",
    "    D2[key], D1[key] = D1[key], D2[key]\n",
    "\n",
    "key = 1\n",
    "\n",
    "D1={1 : 10,  2 : 20}\n",
    "D2={1 : 100, 3 : 30}\n",
    "\n",
    "D1, D2\n",
    "\n",
    "D2[key], D1[key] = D1[key], D2[key]\n",
    "\n",
    "\n",
    "D1, D2"
   ]
  },
  {
   "cell_type": "raw",
   "metadata": {},
   "source": [
    "Write a function printgen(G) that takes a generator G and prints twice the elements of G (first all of them, in the given order; then once more).\n",
    "\n",
    "For example:\n",
    "\n",
    "Test\tResult\n",
    "X=(i for i in range(4))\n",
    "printgen(X)\n",
    "0\n",
    "1\n",
    "2\n",
    "3\n",
    "0\n",
    "1\n",
    "2\n",
    "3\n"
   ]
  },
  {
   "cell_type": "code",
   "execution_count": 5,
   "metadata": {},
   "outputs": [
    {
     "name": "stdout",
     "output_type": "stream",
     "text": [
      "0\n",
      "1\n",
      "2\n",
      "3\n",
      "0\n",
      "1\n",
      "2\n",
      "3\n"
     ]
    }
   ],
   "source": [
    "\n",
    "def _printgen(G):\n",
    "    try: \n",
    "        while G:\n",
    "            print(next(G))\n",
    "    except StopIteration:\n",
    "        pass\n",
    "\n",
    "def printgen(G):\n",
    "    elements = list(G)\n",
    "    for element in elements:\n",
    "        print(element)\n",
    "    for element in elements:\n",
    "        print(element)\n",
    "\n",
    "X = (i for i in range(4))\n",
    "printgen(X)"
   ]
  },
  {
   "cell_type": "code",
   "execution_count": null,
   "metadata": {},
   "outputs": [],
   "source": [
    "\n",
    "def _printgen(G):\n",
    "    try: \n",
    "        while G:\n",
    "            print(next(G))\n",
    "    except StopIteration:\n",
    "        pass\n",
    "\n",
    "def printgen(G):\n",
    "    X = [G, G]\n",
    "    for x in X:\n",
    "        _printgen(x)\n",
    "\n",
    "X=(i for i in range(4))\n",
    "\n",
    "printgen(X)"
   ]
  },
  {
   "cell_type": "raw",
   "metadata": {},
   "source": [
    "Write a function merge(L1, L2) which takes as parameters two lists ordered in ascending order (just assume this without checking). It should create and return a third list, also ordered, obtained from the union of the two.\n",
    "\n",
    "You cannot use the library function sort (or analogous, e.g. sorted). \n",
    "\n",
    "For example:\n",
    "\n",
    "Test\tResult\n",
    "print(merge([1,3,5], [0,2,4,6,8,10]))\n",
    "[0, 1, 2, 3, 4, 5, 6, 8, 10]\n"
   ]
  },
  {
   "cell_type": "code",
   "execution_count": 36,
   "metadata": {},
   "outputs": [
    {
     "name": "stdout",
     "output_type": "stream",
     "text": [
      "L3 = [] | L1 = [3, 5] | L2 = [2, 4, 6, 8, 10]\n",
      "\n",
      "[True] l1 = 1 | l2 = 0\n",
      "L3 = [0] | L1 = [5] | L2 = [6, 8, 10]\n",
      "\n",
      "[True] l1 = 3 | l2 = 4\n"
     ]
    },
    {
     "ename": "IndexError",
     "evalue": "pop from empty list",
     "output_type": "error",
     "traceback": [
      "\u001b[0;31m---------------------------------------------------------------------------\u001b[0m",
      "\u001b[0;31mIndexError\u001b[0m                                Traceback (most recent call last)",
      "Cell \u001b[0;32mIn[36], line 19\u001b[0m\n\u001b[1;32m     16\u001b[0m L1, L2 \u001b[38;5;241m=\u001b[39m [\u001b[38;5;241m1\u001b[39m, \u001b[38;5;241m3\u001b[39m, \u001b[38;5;241m5\u001b[39m], [\u001b[38;5;241m0\u001b[39m, \u001b[38;5;241m2\u001b[39m, \u001b[38;5;241m4\u001b[39m, \u001b[38;5;241m6\u001b[39m, \u001b[38;5;241m8\u001b[39m, \u001b[38;5;241m10\u001b[39m]\n\u001b[1;32m     18\u001b[0m \u001b[38;5;28;01mwhile\u001b[39;00m \u001b[38;5;28mlen\u001b[39m(L1) \u001b[38;5;241m!=\u001b[39m \u001b[38;5;241m0\u001b[39m \u001b[38;5;129;01mor\u001b[39;00m \u001b[38;5;28mlen\u001b[39m(L2) \u001b[38;5;241m!=\u001b[39m \u001b[38;5;241m0\u001b[39m:\n\u001b[0;32m---> 19\u001b[0m     l1, l2 \u001b[38;5;241m=\u001b[39m \u001b[43mL1\u001b[49m\u001b[38;5;241;43m.\u001b[39;49m\u001b[43mpop\u001b[49m\u001b[43m(\u001b[49m\u001b[38;5;241;43m0\u001b[39;49m\u001b[43m)\u001b[49m, L2\u001b[38;5;241m.\u001b[39mpop(\u001b[38;5;241m0\u001b[39m)\n\u001b[1;32m     20\u001b[0m     \u001b[38;5;28mprint\u001b[39m(\u001b[38;5;124mf\u001b[39m\u001b[38;5;124m\"\u001b[39m\u001b[38;5;124mL3 = \u001b[39m\u001b[38;5;132;01m{\u001b[39;00mL3\u001b[38;5;132;01m}\u001b[39;00m\u001b[38;5;124m | L1 = \u001b[39m\u001b[38;5;132;01m{\u001b[39;00mL1\u001b[38;5;132;01m}\u001b[39;00m\u001b[38;5;124m | L2 = \u001b[39m\u001b[38;5;132;01m{\u001b[39;00mL2\u001b[38;5;132;01m}\u001b[39;00m\u001b[38;5;130;01m\\n\u001b[39;00m\u001b[38;5;124m\"\u001b[39m)\n\u001b[1;32m     21\u001b[0m     \u001b[38;5;28mprint\u001b[39m(\u001b[38;5;124mf\u001b[39m\u001b[38;5;124m\"\u001b[39m\u001b[38;5;124m[\u001b[39m\u001b[38;5;132;01m{\u001b[39;00m\u001b[38;5;28mlen\u001b[39m(L1)\u001b[38;5;250m \u001b[39m\u001b[38;5;241m!=\u001b[39m\u001b[38;5;250m \u001b[39m\u001b[38;5;241m0\u001b[39m\u001b[38;5;250m \u001b[39m\u001b[38;5;129;01mor\u001b[39;00m\u001b[38;5;250m \u001b[39m\u001b[38;5;28mlen\u001b[39m(L2)\u001b[38;5;250m \u001b[39m\u001b[38;5;241m!=\u001b[39m\u001b[38;5;250m \u001b[39m\u001b[38;5;241m0\u001b[39m\u001b[38;5;132;01m}\u001b[39;00m\u001b[38;5;124m] l1 = \u001b[39m\u001b[38;5;132;01m{\u001b[39;00ml1\u001b[38;5;132;01m}\u001b[39;00m\u001b[38;5;124m | l2 = \u001b[39m\u001b[38;5;132;01m{\u001b[39;00ml2\u001b[38;5;132;01m}\u001b[39;00m\u001b[38;5;124m\"\u001b[39m)\n",
      "\u001b[0;31mIndexError\u001b[0m: pop from empty list"
     ]
    }
   ],
   "source": [
    "\n",
    "def merge(L1: list, L2: list):\n",
    "    l1, l2 = L1.pop(0), L2.pop(0)\n",
    "    while len(L1) > 0 and len(L2) > 0:\n",
    "\n",
    "        if l1 < l2:\n",
    "            L3.append(l1)\n",
    "            l1 = L1.pop(0)\n",
    "        else:\n",
    "            L3.append(l2)\n",
    "            l2 = L2.pop(0)\n",
    "        \n",
    "    L3.extend(L1 or L2)\n",
    "    return L3\n",
    "\n",
    "L3 = []\n",
    "L1, L2 = [1, 3, 5], [0, 2, 4, 6, 8, 10]\n",
    "\n",
    "while len(L1) != 0 or len(L2) != 0:\n",
    "    \n",
    "    l1, l2 = L1.pop(0), L2.pop(0)\n",
    "    print(f\"L3 = {L3} | L1 = {L1} | L2 = {L2}\\n\")\n",
    "    print(f\"[{len(L1) != 0 or len(L2) != 0}] l1 = {l1} | l2 = {l2}\")\n",
    "\n",
    "    if l1 < l2:\n",
    "        L3.append(l1)\n",
    "        l1 = L1.pop(0)\n",
    "    else:\n",
    "        L3.append(l2)\n",
    "        l2 = L2.pop(0)\n",
    "\n",
    "    \n",
    "L3.extend(L1 or L2)\n",
    "\n",
    "L3\n",
    "\n",
    "\n"
   ]
  },
  {
   "cell_type": "code",
   "execution_count": 39,
   "metadata": {},
   "outputs": [
    {
     "data": {
      "text/plain": [
       "3"
      ]
     },
     "execution_count": 39,
     "metadata": {},
     "output_type": "execute_result"
    }
   ],
   "source": [
    "L3 = []\n",
    "L1, L2 = [1, 3, 5], [0, 2, 4, 6, 8, 10]\n",
    "\n",
    "for l1_i in range(len(L1)):\n",
    "    for l2_i in range(len(L2)):\n",
    "        if L1[l1_i] < L2[l2_i]:\n",
    "            if L1[l1_i] not in L3:\n",
    "                L3.append(L1[l1_i])\n",
    "            "
   ]
  },
  {
   "cell_type": "code",
   "execution_count": 52,
   "metadata": {},
   "outputs": [
    {
     "name": "stdout",
     "output_type": "stream",
     "text": [
      "[0, 1, 2, 3, 4, 5, 6, 8, 10]\n"
     ]
    }
   ],
   "source": [
    "# L1, L2 = [1, 3, 5], [0, 2, 4, 6, 8, 10]\n",
    "# L3 = L1 + L2\n",
    "\n",
    "def merge(L1: list, L2: list) -> list:\n",
    "    L = []\n",
    "    L3 = L1 + L2\n",
    "    for _ in range(len(L3)):\n",
    "        menor = min(L3)\n",
    "        index = L3.index(menor)\n",
    "        value = L3.pop(index)\n",
    "        L.append(value)\n",
    "\n",
    "    return L\n",
    "\n",
    "print(merge([1,3,5], [0,2,4,6,8,10]))"
   ]
  },
  {
   "cell_type": "code",
   "execution_count": 26,
   "metadata": {},
   "outputs": [
    {
     "name": "stdout",
     "output_type": "stream",
     "text": [
      "[0, 1, 2, 3, 6, 8, 10]\n"
     ]
    }
   ],
   "source": [
    "def merge(L1: list, L2: list) -> list:\n",
    "    L3 = []\n",
    "    l1, l2 = L1.pop(0), L2.pop(0)\n",
    "    while len(L1) > 0 and len(L2) > 0:\n",
    "\n",
    "        if l1 < l2:\n",
    "            L3.append(l1)\n",
    "            l1 = L1.pop(0)\n",
    "        else:\n",
    "            L3.append(l2)\n",
    "            l2 = L2.pop(0)\n",
    "        \n",
    "    L3.extend(L1 or L2)\n",
    "    return L3\n",
    "\n",
    "print(merge([1,3,5], [0,2,4,6,8,10]))\n"
   ]
  },
  {
   "cell_type": "raw",
   "metadata": {},
   "source": [
    "You are given the following class definition:\n",
    "\n",
    "class A:\n",
    "   def __init__(self,x):\n",
    "     self.xx=x\n",
    "\n",
    "Complete the definition of the class B, so that if n1 and n2 are numbers, the command\n",
    "print(B(n1,n2))\n",
    "will print B: s, where s is the sum of n1 and n2.\n",
    "\n",
    "You should not redefine A. You must use from B the initialization method defined in A.\n",
    "For example:\n",
    "\n",
    "Test\tResult\n",
    "b=B(10,20)\n",
    "print(b) \n",
    "B: 30\n"
   ]
  },
  {
   "cell_type": "code",
   "execution_count": 53,
   "metadata": {},
   "outputs": [
    {
     "name": "stdout",
     "output_type": "stream",
     "text": [
      "B: 30\n"
     ]
    }
   ],
   "source": [
    "class A:\n",
    "   def __init__(self, x: float) -> None:\n",
    "     self.xx = x\n",
    "\n",
    "class B(A):\n",
    "   \n",
    "    def __init__(self, x: float, y: float) -> None:\n",
    "      super().__init__(x)\n",
    "      self.yy = y\n",
    "\n",
    "    def __str__(self) -> str:\n",
    "       return f\"B: {self.xx + self.yy}\"\n",
    "    \n",
    "b=B(10,20)\n",
    "print(b)"
   ]
  },
  {
   "cell_type": "code",
   "execution_count": null,
   "metadata": {},
   "outputs": [],
   "source": [
    "class A:\n",
    "   def __init__(self, x: float) -> None:\n",
    "     self.xx = x\n",
    "\n",
    "class B(A):\n",
    "   \n",
    "   def __init__(self, x: float, y: float) -> None:\n",
    "      super().__init__(x)\n",
    "      self.yy = y\n",
    "\n",
    "   def __str__(self) -> str:\n",
    "       return f\"B: {self.xx + self.yy}\"\n",
    "    "
   ]
  },
  {
   "cell_type": "code",
   "execution_count": 67,
   "metadata": {},
   "outputs": [
    {
     "name": "stdout",
     "output_type": "stream",
     "text": [
      "[[-1  0 -3]\n",
      " [ 0 -5  0]\n",
      " [-7 -8  0]]\n"
     ]
    }
   ],
   "source": [
    "import numpy as np\n",
    "\n",
    "def neg(A: np.ndarray) -> np.ndarray:\n",
    "    A[A < 0] = 0\n",
    "    return -1 * A\n",
    "\n",
    "#Example\n",
    "A = np.array([\n",
    "    [ 1, -2,  3],\n",
    "    [-4,  5, -6],\n",
    "    [ 7,  8,  0],\n",
    "])\n",
    "\n",
    "print(neg(A))\n"
   ]
  },
  {
   "cell_type": "code",
   "execution_count": null,
   "metadata": {},
   "outputs": [],
   "source": [
    "# Question 1:\n",
    "def my_update(D1,D2):\n",
    "    for k in D2:\n",
    "        if k in D1:\n",
    "            D1[k],D2[k]=D2[k],D1[k]\n",
    "        else:\n",
    "            D1[k]=D2[k]\n",
    "\n",
    "'''\n",
    "D1={1:10,2:20}\n",
    "D2={1:100,3:30}\n",
    "my_update(D1,D2)\n",
    "print(D1=={1: 100, 2: 20, 3: 30},D2=={1: 10, 3: 30})\n",
    "\n",
    "D1={1:10,2:20}\n",
    "D2={3:30,4:40}\n",
    "my_update(D1,D2)\n",
    "print(D1=={1: 10, 2: 20, 3: 30,4:40},D2=={3:30,4:40})\n",
    "\n",
    "D1={1:10,2:20}\n",
    "D2={1:100,2:200}\n",
    "my_update(D1,D2)\n",
    "print(D1=={1:100,2:200},D2=={1:10,2:20})\n",
    "\n",
    "D1={1:10,2:20}\n",
    "D2={}\n",
    "my_update(D1,D2)\n",
    "print(D1=={1:10,2:20},D2=={})\n",
    "\n",
    "D1={}\n",
    "D2={1:10,2:20}\n",
    "my_update(D1,D2)\n",
    "print(D1=={1:10,2:20},D2=={1:10,2:20})\n",
    "'''\n",
    "\n",
    "\n",
    "# Question 2:\n",
    "def printgen(G):\n",
    "    GL=list(G)\n",
    "    for e in GL:\n",
    "        print(e)\n",
    "    for e in GL:\n",
    "        print(e)\n",
    "\n",
    "'''\n",
    "X=(i for i in range(4))\n",
    "printgen(X)\n",
    "\n",
    "L=[[1,2],[3,4],[5,6]]\n",
    "Y=(e for e in L)\n",
    "printgen(Y)\n",
    "\n",
    "printgen(e for e in [])\n",
    "\n",
    "printgen(v for v in range(10) if v%2==0)\n",
    "'''\n",
    "\n",
    "# Question 3:\n",
    "\n",
    "def merge(L1, L2):\n",
    "    \n",
    "    RES = []\n",
    "    i = 0\n",
    "    j = 0\n",
    "    \n",
    "    while i<len(L1) and j<len(L2):\n",
    "        if L1[i] <= L2[j]:\n",
    "            RES.append(L1[i])\n",
    "            i += 1\n",
    "        else:\n",
    "            RES.append(L2[j])\n",
    "            j += 1\n",
    "\n",
    "    if i<len(L1):\n",
    "        RES += L1[i:]\n",
    "    else:\n",
    "        RES += L2[j:]\n",
    "\n",
    "    return RES\n",
    "    \n",
    "\n",
    "'''\n",
    "\n",
    "print(merge([1,3,5], [0,2,4,6,8,10]))\n",
    "print(merge([], []))\n",
    "print(merge([1,3,5], []))\n",
    "print(merge([], [1,3,6]))\n",
    "print(merge([100], list(range(1,99,3))))\n",
    "print(merge([1,3,5], [100,300,500]))\n",
    "print(merge([1],[100]))\n",
    "\n",
    "'''\n",
    "\n",
    "# Question 4:\n",
    "class B(A):\n",
    "    def __init__(self,x,y):\n",
    "        super().__init__(x)\n",
    "        self.yy=y\n",
    "    def __str__(self):\n",
    "        return 'B: '+str(self.xx+self.yy)\n",
    "'''\n",
    "b=B(10,20)\n",
    "print(b) \n",
    "\n",
    "b=B(0,0)\n",
    "print(b) \n",
    "\n",
    "b=B(100,200)\n",
    "print(b) \n",
    "\n",
    "'''\n",
    "\n",
    "# Question 5:\n",
    "import numpy as np\n",
    "\n",
    "def neg(A):\n",
    "    A[A < 0] = 0\n",
    "    return -1*A\n",
    "\n",
    "\"\"\"\n",
    "#test 0\n",
    "A = np.array([[1,-2,3],\n",
    "              [-4,5,-6],\n",
    "              [7,8,0]])\n",
    "print(neg(A))\n",
    "\n",
    "#test 1\n",
    "A = np.array([[-5,-6,7,-1],\n",
    "              [8,9,-10,0],\n",
    "              [11,12,13,3]])\n",
    "print(neg(A))\n",
    "\n",
    "#test 2\n",
    "A = np.array([[-2,-4],\n",
    "              [8,10],\n",
    "              [14,-16]])\n",
    "print(neg(A))\n",
    "\n",
    "#test 3\n",
    "A = np.array([[1, -3, 0]])\n",
    "print(neg(A))\n",
    "\"\"\"\n"
   ]
  }
 ],
 "metadata": {
  "kernelspec": {
   "display_name": ".venv",
   "language": "python",
   "name": "python3"
  },
  "language_info": {
   "codemirror_mode": {
    "name": "ipython",
    "version": 3
   },
   "file_extension": ".py",
   "mimetype": "text/x-python",
   "name": "python",
   "nbconvert_exporter": "python",
   "pygments_lexer": "ipython3",
   "version": "3.11.4"
  }
 },
 "nbformat": 4,
 "nbformat_minor": 2
}
