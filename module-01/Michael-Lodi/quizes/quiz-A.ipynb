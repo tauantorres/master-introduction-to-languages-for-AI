{
 "cells": [
  {
   "cell_type": "markdown",
   "metadata": {},
   "source": [
    "<h1 \n",
    "    style=\"font-family: 'Courier New', Courier, monospace; \n",
    "    font-size:60px;\n",
    "    text-align: center;\">\n",
    "    QUIZ A\n",
    "</h1>\n",
    "\n",
    "<hr>\n",
    "\n",
    "<h2\n",
    "    style=\"font-family: 'Courier New', Courier, monospace;\n",
    "    font-size:40px;\"\n",
    "    >\n",
    "    Exercise 01:\n",
    "</h2>\n",
    "\n",
    "\n",
    "![Texto alternativo](../images/quizes/A/01.png)\n"
   ]
  },
  {
   "cell_type": "code",
   "execution_count": 5,
   "metadata": {},
   "outputs": [
    {
     "name": "stdout",
     "output_type": "stream",
     "text": [
      "The type of value_01 is <class 'str'>\n",
      "The type of value_02 is <class 'int'>\n",
      "The type of value_03 is <class 'float'>\n",
      "The type of value_04 is <class 'float'>\n"
     ]
    }
   ],
   "source": [
    "value_01 = \"Hello, World!\"\n",
    "value_02 = 17\n",
    "value_03 = 1.0\n",
    "value_04 = 3.2\n",
    "\n",
    "# Funtion type() returns the type of the object\n",
    "print(f\"The type of value_01 is {type(value_01)}\")\n",
    "print(f\"The type of value_02 is {type(value_02)}\")\n",
    "print(f\"The type of value_03 is {type(value_03)}\")\n",
    "print(f\"The type of value_04 is {type(value_04)}\")\n"
   ]
  },
  {
   "cell_type": "markdown",
   "metadata": {},
   "source": [
    "<h2\n",
    "    style=\"font-family: 'Courier New', Courier, monospace;\n",
    "    font-size:40px;\"\n",
    "    >\n",
    "    Exercise 02:\n",
    "</h2>\n",
    "\n",
    "<img \n",
    "    src=\"module-01/lecture-01/images/quizes/A/02.png\" \n",
    "    alt=\"Descrição da imagem\" \n",
    "    width=\"800\"\n",
    "    style=\"display: block; margin-left: auto; margin-right: auto; border: 2px solid black;\"\n",
    "/>\n"
   ]
  },
  {
   "cell_type": "code",
   "execution_count": 12,
   "metadata": {},
   "outputs": [
    {
     "name": "stdout",
     "output_type": "stream",
     "text": [
      "Straight Solution:\n",
      "\t1) 4 + -2 * 3 = -2\n",
      "--------------------------------------------------\n",
      "Solution step-by-step:\n",
      "\t1) -2 * 3 = -6\n",
      "\t2) 4 + -6 = -2\n",
      "--------------------------------------------------\n"
     ]
    }
   ],
   "source": [
    "result = 4 + -2 * 3\n",
    "\n",
    "# REMEBER: The order of operations is PEMDAS\n",
    "# 1. Parentheses\n",
    "# 2. ** Exponents (ie Powers and Square Roots, etc.)\n",
    "# 3. + and - (left-to-right. Unary: Addition and Subtraction)\n",
    "# 4. * and / (left-to-right. Multiplication and Division)\n",
    "# 5. + and - (left-to-right. Binary: Addition and Subtraction)\n",
    "\n",
    "print(\"Straight Solution:\")\n",
    "print(f\"\\t1) 4 + -2 * 3 = {result}\")\n",
    "\n",
    "print('-' * 50)\n",
    "\n",
    "print(\"Solution step-by-step:\")\n",
    "\n",
    "part_01 = -2 * 3\n",
    "part_02 = 4 + part_01\n",
    "\n",
    "print(f\"\\t1) -2 * 3 = {part_01}\")\n",
    "print(f\"\\t2) 4 + {part_01} = {part_02}\")\n",
    "\n",
    "print('-' * 50)"
   ]
  },
  {
   "cell_type": "markdown",
   "metadata": {},
   "source": [
    "<h2\n",
    "    style=\"font-family: 'Courier New', Courier, monospace;\n",
    "    font-size:40px;\"\n",
    "    >\n",
    "    Exercise 03:\n",
    "</h2>\n",
    "\n",
    "<img \n",
    "    src=\"../images/quizes/A/03.png\" \n",
    "    alt=\"Descrição da imagem\" \n",
    "    width=\"800\"\n",
    "    style=\"display: block; margin-left: auto; margin-right: auto; border: 2px solid black;\"\n",
    "/>\n"
   ]
  },
  {
   "cell_type": "code",
   "execution_count": 13,
   "metadata": {},
   "outputs": [
    {
     "name": "stdout",
     "output_type": "stream",
     "text": [
      "Straight Solution:\n",
      "\t1) (4 + -2) * 3 = 6\n",
      "--------------------------------------------------\n",
      "Solution step-by-step:\n",
      "\t1) 4 + -2 = 2\n",
      "\t2) 2 * 3 = 6\n"
     ]
    }
   ],
   "source": [
    "result = (4 + -2) * 3\n",
    "\n",
    "print(\"Straight Solution:\")\n",
    "print(f\"\\t1) (4 + -2) * 3 = {result}\")\n",
    "\n",
    "print('-' * 50)\n",
    "\n",
    "print(\"Solution step-by-step:\")\n",
    "part_01 = 4 + -2\n",
    "part_02 = part_01 * 3\n",
    "\n",
    "print(f\"\\t1) 4 + -2 = {part_01}\")\n",
    "print(f\"\\t2) {part_01} * 3 = {part_02}\")\n"
   ]
  },
  {
   "cell_type": "markdown",
   "metadata": {},
   "source": [
    "<h2\n",
    "    style=\"font-family: 'Courier New', Courier, monospace;\n",
    "    font-size:40px;\"\n",
    "    >\n",
    "    Exercise 04:\n",
    "</h2>\n",
    "\n",
    "<img \n",
    "    src=\"../images/quizes/A/04.png\" \n",
    "    alt=\"Descrição da imagem\" \n",
    "    width=\"800\"\n",
    "    style=\"display: block; margin-left: auto; margin-right: auto; border: 2px solid black;\"\n",
    "/>\n"
   ]
  },
  {
   "cell_type": "code",
   "execution_count": 26,
   "metadata": {},
   "outputs": [
    {
     "name": "stdout",
     "output_type": "stream",
     "text": [
      "Answer A: Blueberries, Strawberries, Raspberries, Apples, Oranges, Peaches, Plums\n",
      "Answer C: Apples, Oranges, Blueberries, Strawberries, Raspberries, Peaches, Plums\n",
      "Answer D: Apples, OrangesBlueberries, Strawberries, RaspberriesPeaches, Plums\n",
      "--------------------------------------------------\n",
      "ANSWER: Apples, Oranges, Blueberries, Strawberries, Raspberries, Peaches, Plums\n",
      "--------------------------------------------------\n",
      "Answer A is incorrect!\n",
      "  => Answer B is correct!\n",
      "Answer C is incorrect!\n"
     ]
    }
   ],
   "source": [
    "fruit = \"Apples, Oranges\"\n",
    "berries = \"Blueberries, Strawberries, Raspberries\"\n",
    "stoneFruit = \"Peaches, Plums\"\n",
    "\n",
    "\n",
    "answer_A = berries + \", \" + fruit + \", \" + stoneFruit\n",
    "print(f\"Answer A: {answer_A}\")\n",
    "\n",
    "# If you uncomment the next two lines, you will get an error, \n",
    "#  because the names of the variables are not defined!\n",
    "\n",
    "#answer_B = fruits + \" \" + berries + \" \" + stonefruit\n",
    "#print(f\"Answer B: {answer_B}\")\n",
    "\n",
    "answer_C = fruit + \", \" + berries + \", \" + stoneFruit\n",
    "print(f\"Answer C: {answer_C}\")\n",
    "\n",
    "answer_D = fruit + berries + stoneFruit\n",
    "print(f\"Answer D: {answer_D}\")\n",
    "\n",
    "print('-' * 50)\n",
    "\n",
    "ANSWER = 'Apples, Oranges, Blueberries, Strawberries, Raspberries, Peaches, Plums'\n",
    "print(f\"ANSWER: {ANSWER}\")\n",
    "\n",
    "print('-' * 50)\n",
    "\n",
    "\n",
    "# Comparison the answers to find the correct one\n",
    "answers = [answer_A, answer_C, answer_D]\n",
    "for i, answer in enumerate(answers):\n",
    "    if answer == ANSWER:\n",
    "        print(f\"  => Answer {chr(65 + i)} is correct!\")\n",
    "    else:\n",
    "        print(f\"Answer {chr(65 + i)} is incorrect!\")"
   ]
  },
  {
   "cell_type": "markdown",
   "metadata": {},
   "source": [
    "<h2\n",
    "    style=\"font-family: 'Courier New', Courier, monospace;\n",
    "    font-size:40px;\"\n",
    "    >\n",
    "    Exercise 05:\n",
    "</h2>\n",
    "\n",
    "<img \n",
    "    src=\"../images/quizes/A/05.png\" \n",
    "    alt=\"Descrição da imagem\" \n",
    "    width=\"800\"\n",
    "    style=\"display: block; margin-left: auto; margin-right: auto; border: 2px solid black;\"\n",
    "/>\n"
   ]
  },
  {
   "cell_type": "code",
   "execution_count": 25,
   "metadata": {},
   "outputs": [
    {
     "name": "stdout",
     "output_type": "stream",
     "text": [
      "Answer A is incorrect!\n",
      "  => Answer B is correct!\n",
      "Answer C is incorrect!\n",
      "Answer D is incorrect!\n"
     ]
    }
   ],
   "source": [
    "cheer = \"Let's go Blue\"\n",
    "excl = \"!\"\n",
    "\n",
    "hipotese = cheer + excl * 2\n",
    "\n",
    "answer_A = \"Let's go Blue !!\"\n",
    "answer_B = \"Let's go Blue!!\"\n",
    "answer_C = \"Let's go Blue! Let's go Blue!\"\n",
    "answer_D = \"Lets go Blue ! Let's go Blue !\"\n",
    "\n",
    "answers = [answer_A, answer_B, answer_C, answer_D]\n",
    "\n",
    "for i, answer in enumerate(answers):\n",
    "    if answer == hipotese:\n",
    "        print(f\"  => Answer {chr(65 + i)} is correct!\")\n",
    "    else:\n",
    "        print(f\"Answer {chr(65 + i)} is incorrect!\")\n"
   ]
  },
  {
   "cell_type": "markdown",
   "metadata": {},
   "source": [
    "<h2\n",
    "    style=\"font-family: 'Courier New', Courier, monospace;\n",
    "    font-size:40px;\"\n",
    "    >\n",
    "    Exercise 06:\n",
    "</h2>\n",
    "\n",
    "<img \n",
    "    src=\"../images/quizes/A/06.png\" \n",
    "    alt=\"Descrição da imagem\" \n",
    "    width=\"800\"\n",
    "    style=\"display: block; margin-left: auto; margin-right: auto; border: 2px solid black;\"\n",
    "/>\n"
   ]
  },
  {
   "cell_type": "code",
   "execution_count": 35,
   "metadata": {},
   "outputs": [
    {
     "name": "stdout",
     "output_type": "stream",
     "text": [
      "[TRUE] Full Name: Tauan Torres\n",
      "[FALSE] Yeah, concatenating strings automatically adds a space between the strings.\n",
      "[TRUE] Word: PythonPythonPython\n",
      "[TRUE] Word: Python   Programming\n",
      "--------------------------------------------------\n",
      "  => Hipotese 2 is INCORRECT!\n"
     ]
    }
   ],
   "source": [
    "# HIPOTESE 01: You can combine strings using + (concatenation).\n",
    "hipoteses_01 = False\n",
    "\n",
    "name = \"Tauan\"\n",
    "surname = \"Torres\"\n",
    "\n",
    "try:\n",
    "    full_name = name + \" \" + surname\n",
    "    print(f\"[TRUE] Full Name: {full_name}\")\n",
    "    hipoteses_01 = True\n",
    "except:\n",
    "    print(\"[FALSE] Yeah, we can't combine strings using + (concatenation).\")\n",
    "\n",
    "\n",
    "# HIPOTESE 02: Concatenating strings automatically adds a space between the strings.\n",
    "hipoteses_02 = False\n",
    "\n",
    "word_01 = \"Artificial\"\n",
    "word_02 = \"Intelligence\"\n",
    "\n",
    "word = word_01 + word_02\n",
    "\n",
    "if word == \"Artificial Intelligence\":\n",
    "    print(f\"[TRUE] Word: {word}\")\n",
    "    hipoteses_02 = True\n",
    "else:\n",
    "    print(\"[FALSE] Yeah, concatenating strings automatically adds a space between the strings.\")\n",
    "\n",
    "\n",
    "# HIPOTESE 03: You can use * to multiply a string by an integer\n",
    "hipoteses_03 = False\n",
    "\n",
    "word = \"Python\" * 3\n",
    "\n",
    "if word == \"PythonPythonPython\":\n",
    "    print(f\"[TRUE] Word: {word}\")\n",
    "    hipoteses_03 = True\n",
    "else:\n",
    "    print(\"[FALSE] Yeah, you can't use * to multiply a string by an integer.\")\n",
    "\n",
    "\n",
    "# HIPOTESE 04: The operands + and * follow the order of operations when applied to strings.\n",
    "hipoteses_04 = False\n",
    "\n",
    "word = \"Python\" + \" \" * 3 + \"Programming\"\n",
    "\n",
    "if word == \"Python   Programming\":\n",
    "    print(f\"[TRUE] Word: {word}\")\n",
    "    hipoteses_04 = True\n",
    "else:\n",
    "    print(\"[FALSE] Yeah, the operands + and * don't follow the order of operations when applied to strings.\")\n",
    "\n",
    "print('-' * 50)\n",
    "\n",
    "hipoteses = [hipoteses_01, hipoteses_02, hipoteses_03, hipoteses_04]\n",
    "for i, hipotese in enumerate(hipoteses, start=1):\n",
    "    if not hipotese:\n",
    "        print(f\"  => Hipotese {i} is INCORRECT!\")\n"
   ]
  },
  {
   "cell_type": "markdown",
   "metadata": {},
   "source": [
    "<h2\n",
    "    style=\"font-family: 'Courier New', Courier, monospace;\n",
    "    font-size:40px;\"\n",
    "    >\n",
    "    Exercise 07:\n",
    "</h2>\n",
    "\n",
    "<img \n",
    "    src=\"../images/quizes/A/07.png\" \n",
    "    alt=\"Descrição da imagem\" \n",
    "    width=\"800\"\n",
    "    style=\"display: block; margin-left: auto; margin-right: auto; border: 2px solid black;\"\n",
    "/>\n"
   ]
  },
  {
   "cell_type": "code",
   "execution_count": 36,
   "metadata": {},
   "outputs": [
    {
     "name": "stdout",
     "output_type": "stream",
     "text": [
      "15 / 12 = 1.25\n"
     ]
    }
   ],
   "source": [
    "# KIND OF OPERATORS: Integer Division\n",
    "result = 15 / 12\n",
    "\n",
    "print(f\"15 / 12 = {result}\")\n"
   ]
  },
  {
   "cell_type": "markdown",
   "metadata": {},
   "source": [
    "<h2\n",
    "    style=\"font-family: 'Courier New', Courier, monospace;\n",
    "    font-size:40px;\"\n",
    "    >\n",
    "    Exercise 08:\n",
    "</h2>\n",
    "\n",
    "<img \n",
    "    src=\"../images/quizes/A/08.png\" \n",
    "    alt=\"Descrição da imagem\" \n",
    "    width=\"800\"\n",
    "    style=\"display: block; margin-left: auto; margin-right: auto; border: 2px solid black;\"\n",
    "/>\n"
   ]
  },
  {
   "cell_type": "code",
   "execution_count": 38,
   "metadata": {},
   "outputs": [
    {
     "name": "stdout",
     "output_type": "stream",
     "text": [
      "15 // 12 = 1\n"
     ]
    }
   ],
   "source": [
    "# KIND OF OPERATORS: Division with Integer Result\n",
    "result = 15 // 12\n",
    "\n",
    "print(f\"15 // 12 = {result}\")\n"
   ]
  },
  {
   "cell_type": "markdown",
   "metadata": {},
   "source": [
    "<h2\n",
    "    style=\"font-family: 'Courier New', Courier, monospace;\n",
    "    font-size:40px;\"\n",
    "    >\n",
    "    Exercise 09:\n",
    "</h2>\n",
    "\n",
    "<img \n",
    "    src=\"../images/quizes/A/09.png\" \n",
    "    alt=\"Descrição da imagem\" \n",
    "    width=\"800\"\n",
    "    style=\"display: block; margin-left: auto; margin-right: auto; border: 2px solid black;\"\n",
    "/>\n"
   ]
  },
  {
   "cell_type": "code",
   "execution_count": 39,
   "metadata": {},
   "outputs": [
    {
     "name": "stdout",
     "output_type": "stream",
     "text": [
      "15 % 12 = 3\n"
     ]
    }
   ],
   "source": [
    "# KIND OF OPERATORS: Remainder of Division\n",
    "result = 15 % 12\n",
    "\n",
    "print(f\"15 % 12 = {result}\")\n"
   ]
  },
  {
   "cell_type": "markdown",
   "metadata": {},
   "source": [
    "<h2\n",
    "    style=\"font-family: 'Courier New', Courier, monospace;\n",
    "    font-size:40px;\"\n",
    "    >\n",
    "    Exercise 10:\n",
    "</h2>\n",
    "\n",
    "<img \n",
    "    src=\"../images/quizes/A/10.png\" \n",
    "    alt=\"Descrição da imagem\" \n",
    "    width=\"800\"\n",
    "    style=\"display: block; margin-left: auto; margin-right: auto; border: 2px solid black;\"\n",
    "/>\n"
   ]
  },
  {
   "cell_type": "code",
   "execution_count": 40,
   "metadata": {},
   "outputs": [
    {
     "name": "stdout",
     "output_type": "stream",
     "text": [
      "The type of the variable text is <class 'str'>\n"
     ]
    }
   ],
   "source": [
    "text =  'this is what kind of data'\n",
    "\n",
    "print(f\"The type of the variable text is {type(text)}\")"
   ]
  },
  {
   "cell_type": "markdown",
   "metadata": {},
   "source": [
    "<h2\n",
    "    style=\"font-family: 'Courier New', Courier, monospace;\n",
    "    font-size:40px;\"\n",
    "    >\n",
    "    Exercise 11:\n",
    "</h2>\n",
    "\n",
    "<img \n",
    "    src=\"../images/quizes/A/11.png\" \n",
    "    alt=\"Descrição da imagem\" \n",
    "    width=\"800\"\n",
    "    style=\"display: block; margin-left: auto; margin-right: auto; border: 2px solid black;\"\n",
    "/>\n"
   ]
  },
  {
   "cell_type": "code",
   "execution_count": 41,
   "metadata": {},
   "outputs": [
    {
     "name": "stdout",
     "output_type": "stream",
     "text": [
      "Straight Solution:\n",
      "16 - 2 * 5 // 3 + 1 = 14\n",
      "--------------------------------------------------\n",
      "Solution step-by-step:\n",
      "1) 2 * 5 = 10\n",
      "2) 10 // 3 = 3\n",
      "3) 16 - 3 = 13\n",
      "4) 13 + 1 = 14\n",
      "--------------------------------------------------\n"
     ]
    }
   ],
   "source": [
    "expression = 16 - 2 * 5 // 3 + 1\n",
    "\n",
    "print(\"Straight Solution:\")\n",
    "print(f\"16 - 2 * 5 // 3 + 1 = {expression}\")\n",
    "\n",
    "print('-' * 50)\n",
    "\n",
    "print(\"Solution step-by-step:\")\n",
    "part_01 = 2 * 5\n",
    "part_02 = part_01 // 3\n",
    "part_03 = 16 - part_02\n",
    "part_04 = part_03 + 1\n",
    "\n",
    "print(f\"1) 2 * 5 = {part_01}\")\n",
    "print(f\"2) {part_01} // 3 = {part_02}\")\n",
    "print(f\"3) 16 - {part_02} = {part_03}\")\n",
    "print(f\"4) {part_03} + 1 = {part_04}\")\n",
    "\n",
    "print('-' * 50)"
   ]
  },
  {
   "cell_type": "markdown",
   "metadata": {},
   "source": [
    "<h2\n",
    "    style=\"font-family: 'Courier New', Courier, monospace;\n",
    "    font-size:40px;\"\n",
    "    >\n",
    "    Exercise 12:\n",
    "</h2>\n",
    "\n",
    "<img \n",
    "    src=\"../images/quizes/A/12.png\" \n",
    "    alt=\"Descrição da imagem\" \n",
    "    width=\"800\"\n",
    "    style=\"display: block; margin-left: auto; margin-right: auto; border: 2px solid black;\"\n",
    "/>\n"
   ]
  },
  {
   "cell_type": "code",
   "execution_count": 42,
   "metadata": {},
   "outputs": [
    {
     "name": "stdout",
     "output_type": "stream",
     "text": [
      "  => Answer A is correct!\n",
      "Answer B is incorrect!\n",
      "Answer C is incorrect!\n"
     ]
    }
   ],
   "source": [
    "street = \"125 Main Street\"\n",
    "\n",
    "expression = \"The address is \" + \"street\"\n",
    "\n",
    "answer_A = \"The address is street\"\n",
    "answer_B = \"The address is 125 Main Street\"\n",
    "answer_C = \"The address is 125 Main Street street\"\n",
    "\n",
    "answers = [answer_A, answer_B, answer_C]\n",
    "\n",
    "for i, answer in enumerate(answers):\n",
    "    if answer == expression:\n",
    "        print(f\"  => Answer {chr(65 + i)} is correct!\")\n",
    "    else:\n",
    "        print(f\"Answer {chr(65 + i)} is incorrect!\")"
   ]
  },
  {
   "cell_type": "markdown",
   "metadata": {},
   "source": [
    "<h2\n",
    "    style=\"font-family: 'Courier New', Courier, monospace;\n",
    "    font-size:40px;\"\n",
    "    >\n",
    "    Exercise 13:\n",
    "</h2>\n",
    "\n",
    "<img \n",
    "    src=\"../images/quizes/A/13.png\" \n",
    "    alt=\"Descrição da imagem\" \n",
    "    width=\"800\"\n",
    "    style=\"display: block; margin-left: auto; margin-right: auto; border: 2px solid black;\"\n",
    "/>\n"
   ]
  },
  {
   "cell_type": "code",
   "execution_count": 43,
   "metadata": {},
   "outputs": [
    {
     "name": "stdout",
     "output_type": "stream",
     "text": [
      "Expression A = 8 | Type: <class 'int'>\n",
      "Expression B = 8.5 | Type: <class 'float'>\n",
      "Expression C = 4.0 | Type: <class 'float'>\n",
      "Expression D = 11 | Type: <class 'int'>\n"
     ]
    }
   ],
   "source": [
    "width = 17\n",
    "height = 12.0\n",
    "\n",
    "expression_A = width // 2\n",
    "expression_B = width / 2.0\n",
    "expression_C = height / 3\n",
    "expression_D = 1 + 2 * 5\n",
    "\n",
    "results = [expression_A, expression_B, expression_C, expression_D]\n",
    "for i, result in enumerate(results):\n",
    "    print(f\"Expression {chr(65 + i)} = {result} | Type: {type(result)}\")\n",
    "    "
   ]
  },
  {
   "cell_type": "code",
   "execution_count": null,
   "metadata": {},
   "outputs": [],
   "source": []
  }
 ],
 "metadata": {
  "kernelspec": {
   "display_name": ".venv",
   "language": "python",
   "name": "python3"
  },
  "language_info": {
   "codemirror_mode": {
    "name": "ipython",
    "version": 3
   },
   "file_extension": ".py",
   "mimetype": "text/x-python",
   "name": "python",
   "nbconvert_exporter": "python",
   "pygments_lexer": "ipython3",
   "version": "3.11.4"
  }
 },
 "nbformat": 4,
 "nbformat_minor": 2
}
