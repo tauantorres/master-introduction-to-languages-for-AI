{
 "cells": [
  {
   "cell_type": "code",
   "execution_count": 1,
   "metadata": {},
   "outputs": [
    {
     "name": "stdout",
     "output_type": "stream",
     "text": [
      "Hello, World!\n"
     ]
    }
   ],
   "source": [
    "# 1) Try running the following code. Can you tell what is wrong with it and fix it?\n",
    "# primt \"Hello, World!\"\n",
    "\n",
    "# ANSWER: The code has a typo in the print statement. It should be print instead of primt.\n",
    "print(\"Hello, World!\")\n"
   ]
  },
  {
   "cell_type": "code",
   "execution_count": 26,
   "metadata": {},
   "outputs": [
    {
     "name": "stdout",
     "output_type": "stream",
     "text": [
      "3.5999999999999996\n",
      "------------------------------\n",
      "User Number: 1.4| Answer: 4.199999999999999\n"
     ]
    }
   ],
   "source": [
    "# 2) Place the instructions provided below so that the program segment \n",
    "#    asks the user for a number and prints a number that is three times the input number.\n",
    "\n",
    "# ANSWER:\n",
    "prompt = \"Please enter a number: \"\n",
    "userNumber = input(prompt)\n",
    "userNumber_ = int(userNumber) if userNumber.isdigit() else float(userNumber)\n",
    "print(3 * userNumber_)\n",
    "\n",
    "print('-' * 30)\n",
    "\n",
    "# ANSWER-EXTRA: The instructions should be placed after the code segment below.\n",
    "from typing import Self, Union\n",
    "\n",
    "class Number:\n",
    "\n",
    "    def is_number(self: Self, value: Union[str, int, float]) -> bool:\n",
    "        if isinstance(value, int) or isinstance(value, float):\n",
    "            return True\n",
    "        elif isinstance(value, str):\n",
    "            try:\n",
    "                float(value)\n",
    "                return True\n",
    "            except ValueError:\n",
    "                return False\n",
    "        return False\n",
    "\n",
    "prompt = \"Please enter a number: \"\n",
    "userNumber = input(prompt)\n",
    "\n",
    "while not Number().is_number(userNumber):\n",
    "    print(\"Invalid input. Please enter a number.\")\n",
    "    userNumber = input(prompt)\n",
    "\n",
    "userNumber = float(userNumber)\n",
    "result = 3 * userNumber\n",
    "print(f\"User Number: {userNumber}| Answer: {result}\")"
   ]
  },
  {
   "cell_type": "code",
   "execution_count": 21,
   "metadata": {},
   "outputs": [
    {
     "name": "stdout",
     "output_type": "stream",
     "text": [
      "<class 'str'>\n"
     ]
    }
   ],
   "source": [
    "# 3) What is printed when the following statements execute?\n",
    "\n",
    "n = input(\"Please enter your age: \")\n",
    "# user types in 18\n",
    "print ( type(n) )"
   ]
  },
  {
   "cell_type": "code",
   "execution_count": 27,
   "metadata": {},
   "outputs": [
    {
     "name": "stdout",
     "output_type": "stream",
     "text": [
      "Hello Tauan\n"
     ]
    }
   ],
   "source": [
    "# 4) Place the instructions provided below so that the program segment prompts the user for their name and say hello to them.\n",
    "\n",
    "\n",
    "# ANSWER:\n",
    "greeting = \"Hello \"\n",
    "name = input(\"What is your name? \")\n",
    "print(greeting + name)\n",
    "\n"
   ]
  },
  {
   "cell_type": "code",
   "execution_count": 35,
   "metadata": {},
   "outputs": [
    {
     "name": "stdout",
     "output_type": "stream",
     "text": [
      "Carla loves lemons\n"
     ]
    }
   ],
   "source": [
    "# 5) Place the instructions provided below so that the program segment prints the phrase, \"Carla loves lemons\".\n",
    "\n",
    "# ANSWER:\n",
    "felling = \"loves \"\n",
    "print( \"Carla \" + felling + \"lemons\")\n"
   ]
  },
  {
   "cell_type": "code",
   "execution_count": 30,
   "metadata": {},
   "outputs": [
    {
     "name": "stdout",
     "output_type": "stream",
     "text": [
      "Your gross pay is  2500.0\n"
     ]
    }
   ],
   "source": [
    "# 6) Place the instructions provided below so that the program segment \n",
    "#    asks the user their hours per week and pay rate, then prints a statement with their gross pay.\n",
    "\n",
    "hours = input('How many hours do you work in a week?')\n",
    "payRate = input('What is your hourly pay?')\n",
    "\n",
    "grossPay = float(hours) * float(payRate)\n",
    "\n",
    "print('Your gross pay is ', grossPay)\n"
   ]
  },
  {
   "cell_type": "code",
   "execution_count": 31,
   "metadata": {},
   "outputs": [
    {
     "name": "stdout",
     "output_type": "stream",
     "text": [
      "Baking cookies makes me happier than anything else\n"
     ]
    }
   ],
   "source": [
    "# 7) Place the instructions provided below so that the program segment \n",
    "#     prints the phrase \"Baking cookies makes me happier than anything else\".\n",
    "\n",
    "name = \"cookies\"\n",
    "print(\"Baking \" + name + \" makes me happier than anything else\")\n"
   ]
  },
  {
   "cell_type": "code",
   "execution_count": 32,
   "metadata": {},
   "outputs": [
    {
     "name": "stdout",
     "output_type": "stream",
     "text": [
      "It takes us 2 hours and 45.0 to get home\n"
     ]
    }
   ],
   "source": [
    "# 8) Place the instructions provided below so that the program segment \n",
    "#    prints the phrase \"It takes us 2 hours and 45 to get home\".  \n",
    "\n",
    "numHours = '2'\n",
    "numMinutes = 45.0\n",
    "print(\"It takes us \" + numHours + \" hours and \" + str(numMinutes) + \" to get home\")\n"
   ]
  },
  {
   "cell_type": "code",
   "execution_count": 34,
   "metadata": {},
   "outputs": [
    {
     "name": "stdout",
     "output_type": "stream",
     "text": [
      "3 + 300 + 7 = 310\n"
     ]
    }
   ],
   "source": [
    "# 9) Place the instructions provided below so that the program segment prints the phrase \"3 + 300 + 7 = 310\".\n",
    "\n",
    "num1 = 3\n",
    "num2 = 300\n",
    "num3 = 7\n",
    "\n",
    "# ANSWER:\n",
    "ans = num1 + num2 + num3\n",
    "print(str(num1) + \" + \" + str(num2) + \" + \" + str(num3) + \" = \" + str(ans))"
   ]
  },
  {
   "cell_type": "code",
   "execution_count": null,
   "metadata": {},
   "outputs": [],
   "source": []
  }
 ],
 "metadata": {
  "kernelspec": {
   "display_name": ".venv",
   "language": "python",
   "name": "python3"
  },
  "language_info": {
   "codemirror_mode": {
    "name": "ipython",
    "version": 3
   },
   "file_extension": ".py",
   "mimetype": "text/x-python",
   "name": "python",
   "nbconvert_exporter": "python",
   "pygments_lexer": "ipython3",
   "version": "3.11.4"
  }
 },
 "nbformat": 4,
 "nbformat_minor": 2
}
