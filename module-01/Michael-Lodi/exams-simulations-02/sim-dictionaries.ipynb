{
 "cells": [
  {
   "cell_type": "markdown",
   "metadata": {},
   "source": [
    "# Dictionaries and Comprehension Questions:\n"
   ]
  },
  {
   "cell_type": "raw",
   "metadata": {
    "vscode": {
     "languageId": "raw"
    }
   },
   "source": [
    "The mode of a list is the most frequent item on the list. For example, the mode of [2,7,5,7,7,2,4] is 7, \n",
    "which appears 3 times. The most frequent values (tie) can be more than one. For example, \n",
    "the mode of [1,2,99,1,0,2] is 1, 2 which appears 2 times each. \n",
    "Write a function mode(L) which returns the mode of L as a list.\n",
    "Suppose (without checking) that the elements of L are immutable (and therefore can be dictionary keys).\n",
    "Tip: Use a dictionary for frequencies and an auxiliary function (do not use the default max) that returns the maximum item in a list.\n",
    "\n"
   ]
  },
  {
   "cell_type": "code",
   "execution_count": 24,
   "metadata": {},
   "outputs": [
    {
     "name": "stdout",
     "output_type": "stream",
     "text": [
      "[7]\n",
      "[1, 2]\n",
      "[(9, 3)]\n",
      "[78]\n",
      "[('a', 'b', 3)]\n"
     ]
    }
   ],
   "source": [
    "def mode(L: list):\n",
    "    freq = {n: L.count(n) for n in L}\n",
    "    freq_sorted = sorted(freq.items(), key = lambda item : item[1], reverse= True)\n",
    "    return [m[0] for m in freq_sorted if m[1] == freq_sorted[0][1]]\n",
    "\n",
    "\n",
    "L = [2, 7, 5, 7, 'libro', 7, 2, 4]\n",
    "\n",
    "print(sorted(mode([2,7,5,7,'libro',7,2,4])))\n",
    "print(sorted(mode(['a',1,2,99,1,0,2])))\n",
    "print(sorted(mode([53,6,(9,3),(9,3),53,1,(9,3)])))\n",
    "print(sorted(mode([78,78,78,78,78,91])))\n",
    "print(sorted(mode([('a','b',3),5,('a','b',3),7])))"
   ]
  },
  {
   "cell_type": "code",
   "execution_count": 35,
   "metadata": {},
   "outputs": [
    {
     "name": "stdout",
     "output_type": "stream",
     "text": [
      "{2: ['a', 'b', 'h'], 3: ['c', 'e', 'g'], 4: ['d'], 0: ['f']}\n",
      "{}\n",
      "{'a': [1], 'b': [2], 'c': [3]}\n",
      "{'a': ['a', 'b', 'c']}\n"
     ]
    }
   ],
   "source": [
    "def invert(D):\n",
    "    Di = {}\n",
    "    for k, v in D.items():\n",
    "        if v not in Di.keys():\n",
    "            Di[v] = [k]\n",
    "        else:\n",
    "            Di[v].append(k)\n",
    "    return Di\n",
    "\n",
    "# def invert(D):\n",
    "#     return {v: [k for k in D if D[k] == v] for v in set(D.values())}\n",
    "\n",
    "D = {'a':2, 'b':2, 'c':3, 'd':4, 'e':3, 'f':0, 'g':3, 'h':2}\n",
    "\n",
    "\n",
    "print(invert(D=D))\n",
    "print(invert(D = {}))\n",
    "print(invert(D = {1:'a', 2:'b', 3:'c'}))\n",
    "print(invert(D = {'a':'a', 'b':'a', 'c':'a'}))\n"
   ]
  },
  {
   "cell_type": "raw",
   "metadata": {
    "vscode": {
     "languageId": "raw"
    }
   },
   "source": [
    "Write a function threes(a,b) that takes 2 integers as parameters and returns, \n",
    "using only one instruction (return of a list comprehension), the list of integers \n",
    "between a and b (both endpoints included!) that contain the digit 3."
   ]
  },
  {
   "cell_type": "code",
   "execution_count": 43,
   "metadata": {},
   "outputs": [
    {
     "name": "stdout",
     "output_type": "stream",
     "text": [
      "[3, 13, 23, 30, 31, 32, 33, 34, 35, 36, 37, 38, 39, 43, 53, 63, 73, 83, 93]\n",
      "[]\n",
      "[3, 13, 23, 30, 31, 32, 33]\n",
      "[-1993, -1983, -1973, -1963, -1953, -1943, -1939, -1938, -1937, -1936, -1935, -1934, -1933, -1932, -1931, -1930, -1923, -1913, -1903, -1893, -1883, -1873, -1863, -1853, -1843, -1839, -1838, -1837, -1836, -1835, -1834, -1833, -1832, -1831, -1830, -1823, -1813, -1803, -1793, -1783, -1773, -1763, -1753, -1743, -1739, -1738, -1737, -1736, -1735, -1734, -1733, -1732, -1731, -1730, -1723, -1713, -1703, -1693, -1683, -1673, -1663, -1653, -1643, -1639, -1638, -1637, -1636, -1635, -1634, -1633, -1632, -1631, -1630, -1623, -1613, -1603, -1593, -1583, -1573, -1563, -1553, -1543, -1539, -1538, -1537, -1536, -1535, -1534, -1533, -1532, -1531, -1530, -1523, -1513, -1503, -1493, -1483, -1473, -1463, -1453, -1443, -1439, -1438, -1437, -1436, -1435, -1434, -1433, -1432, -1431, -1430, -1423, -1413, -1403, -1399, -1398, -1397, -1396, -1395, -1394, -1393, -1392, -1391, -1390, -1389, -1388, -1387, -1386, -1385, -1384, -1383, -1382, -1381, -1380, -1379, -1378, -1377, -1376, -1375, -1374, -1373, -1372, -1371, -1370, -1369, -1368, -1367, -1366, -1365, -1364, -1363, -1362, -1361, -1360, -1359, -1358, -1357, -1356, -1355, -1354, -1353, -1352, -1351, -1350, -1349, -1348, -1347, -1346, -1345, -1344, -1343, -1342, -1341, -1340, -1339, -1338, -1337, -1336, -1335, -1334, -1333, -1332, -1331, -1330, -1329, -1328, -1327, -1326, -1325, -1324, -1323, -1322, -1321, -1320, -1319, -1318, -1317, -1316, -1315, -1314, -1313, -1312, -1311, -1310, -1309, -1308, -1307, -1306, -1305, -1304, -1303, -1302, -1301, -1300, -1293, -1283, -1273, -1263, -1253, -1243, -1239, -1238, -1237, -1236, -1235, -1234, -1233, -1232, -1231, -1230, -1223, -1213, -1203, -1193, -1183, -1173, -1163, -1153, -1143, -1139, -1138, -1137, -1136, -1135, -1134, -1133, -1132, -1131, -1130, -1123, -1113, -1103, -1093, -1083, -1073, -1063, -1053, -1043, -1039, -1038, -1037, -1036, -1035, -1034, -1033, -1032, -1031, -1030, -1023, -1013, -1003]\n"
     ]
    }
   ],
   "source": [
    "def threes(a, b):\n",
    "    return [i for i in range(a, b + 1) if '3' in str(i)]\n",
    "\n",
    "a = 3\n",
    "b = 33\n",
    "\n",
    "print(threes(0,100))\n",
    "print(threes(4,12))\n",
    "print(threes(3,33))\n",
    "print(threes(-2000,-1000))"
   ]
  },
  {
   "cell_type": "raw",
   "metadata": {
    "vscode": {
     "languageId": "raw"
    }
   },
   "source": [
    "Write a function flatten(LL) that takes a list of lists of integers, and creates a new \n",
    "list wich is simply a list of integers. Use only one instruction (return of a list comprehension) inside the function.\n"
   ]
  },
  {
   "cell_type": "code",
   "execution_count": 51,
   "metadata": {},
   "outputs": [
    {
     "name": "stdout",
     "output_type": "stream",
     "text": [
      "[1, 2, 3, 4, 5, 6, 7, 8, 9]\n",
      "[]\n",
      "[0, 1]\n",
      "[10, 9, 8]\n"
     ]
    }
   ],
   "source": [
    "def flatten(LL):\n",
    "    return [l for L in LL for l in L]\n",
    "\n",
    "\n",
    "print(flatten([[1,2,3], [4,5,6], [7,8,9]]))\n",
    "print(flatten([[]]))\n",
    "print(flatten([[0],[],[1]]))\n",
    "print(flatten([[10,9,8]]))"
   ]
  },
  {
   "cell_type": "raw",
   "metadata": {
    "vscode": {
     "languageId": "raw"
    }
   },
   "source": [
    "Write a merge(LD) function that takes a list (assume it is, without controls) \n",
    "\n",
    "Conditions:\n",
    "1. LD of dictionaries as a parameter (if not, return None). \n",
    "2. Dictionary keys are of any type allowable for a key, the values of any type but not lists (if you find a list, return None).\n",
    " \n",
    "The function returns a new dictionary obtained by merging all dictionaries.\n",
    "\n",
    "In case the same key is present in more than one LD dictionary:\n",
    "if all values val associated with key in different dictionaries are the same, then the resulting \n",
    "dictionary will contain the key:val\n",
    "item only once.\n",
    "if there are different values (val1, val2, ..., valk) for key in LD dictionaries, the resulting \n",
    "dictionary must have the item key:[val1,val2,...,valk] i.e. the key will have as value a list with all \n",
    "the distinct k-values (without duplicates) associated in the different dictionaries to the key.\n",
    "\n",
    "Example:\n",
    "D1 = {1:'E1',2:'R4',3:'M2'}\n",
    "D2 = {2:'V3',3:'M2',(5,'a'):'G?1'}.\n",
    "\n",
    "The merge([D1, D2]) invocation returns {1: 'E1', 2: ['R4', 'V3'], 3: 'M2', (5, 'a'): 'G?1'}."
   ]
  },
  {
   "cell_type": "code",
   "execution_count": 85,
   "metadata": {},
   "outputs": [
    {
     "name": "stdout",
     "output_type": "stream",
     "text": [
      "True\n",
      "True\n",
      "True\n",
      "True\n",
      "True\n"
     ]
    }
   ],
   "source": [
    "\n",
    "def merge(LD):\n",
    "    if not all([isinstance(d, dict) for d in LD]):\n",
    "        return None\n",
    "\n",
    "    if any([isinstance(v, list) for d in LD for v in d.values()]):\n",
    "        return None\n",
    "\n",
    "    Dn = {}\n",
    "\n",
    "    for D in LD:\n",
    "        for k, v in D.items():\n",
    "            if k not in Dn.keys():\n",
    "                Dn[k] = v\n",
    "            else:\n",
    "                if isinstance(Dn[k], list):\n",
    "                    if v not in Dn[k]:\n",
    "                        Dn[k].append(v)\n",
    "                else:\n",
    "                    old_v = Dn[k]\n",
    "                    if old_v != v:\n",
    "                        Dn[k] = [old_v, v]\n",
    "\n",
    "    return Dn\n",
    "\n",
    "D1 = {1:'E1',2:'R4',3:'M2'}\n",
    "D2 = {2:'V3',3:'M2',(5,'a'):'G?1'}\n",
    "\n",
    "LD = [D1, D2]\n",
    "\n",
    "LD = [{(1,2):5,(4,5):8,(1,2):6}, {(1,3):0,(4,5):8,(1,2):-1}]\n",
    "merge(LD) == {(1, 2): [6, -1], (4, 5): 8, (1, 3): 0}\n",
    "\n",
    "print(merge([{1:'E1',2:'R4',3:'M2'}, {2:'V3',3:'M2',(5,'a'):'G?1'}]) == {1: 'E1', 2: ['R4', 'V3'], 3: 'M2', (5, 'a'): 'G?1'})\n",
    "print(merge([{(1,2):5,(4,5):8,(1,2):6}, {(1,3):0,(4,5):8,(1,2):-1}]) == {(1, 2): [6, -1], (4, 5): 8, (1, 3): 0})\n",
    "print(merge([{'A':5,'B':6, (1,'Z'):3, 'D':(-6,-1)}, {'B':5,'C':7, (1,'Z'):4, 'E':(7,8)}, {'B':6,'E':-22, 99:99, 'D':(-6,-1)}, {'A':5,'B':6, (1,'Z'):3}]) == {'A': 5, 'B': [6, 5], (1, 'Z'): [3, 4], 'D': (-6, -1), 'C': 7, 'E': [(7, 8), -22], 99: 99})\n",
    "print(merge([{(1,2):5,(4,5):8,(1,2):6}, {(1,3):0,(4,5):8,(1,2):-1}, 1000]) == None)\n",
    "print(merge([{1:'E1',2:['R4','F5'],3:'M2'}, {2:'V3',3:'M2',(5,'a'):'G?1'}]) == None)\n"
   ]
  },
  {
   "cell_type": "raw",
   "metadata": {
    "vscode": {
     "languageId": "raw"
    }
   },
   "source": [
    "Write a function frequencies(s) that takes a string as parameter and returns a dictionary in which:\n",
    "the keys are the alphanumeric characters (digits + ascii_letters of the string module) present in \n",
    "the string (if the last character appears only at the end of the string, it doesn't matter to put it in the dictionary).\n",
    "the values are dictionaries as well that have:\n",
    "as keys any type of characters that follow immediately the character considered\n",
    "as values the frequency with which that character follows the considered character\n",
    "\n",
    "Example: frequencies('Amarcord...') \n",
    "Returns:\n",
    "{'A': {'m': 1}, 'm': {'a': 1}, 'a': {'r': 1}, 'r': {'c': 1, 'd': 1}, 'c': {'o': 1}, 'o': {'r': 1}, 'd': 1}.\n",
    "\n",
    "NB: the order of items in the dictionary is not relevant"
   ]
  },
  {
   "cell_type": "code",
   "execution_count": 87,
   "metadata": {},
   "outputs": [
    {
     "data": {
      "text/plain": [
       "{'A': {'m': 1},\n",
       " 'm': {'a': 1},\n",
       " 'a': {'r': 1},\n",
       " 'r': {'c': 1, 'd': 1},\n",
       " 'c': {'o': 1},\n",
       " 'o': {'r': 1},\n",
       " 'd': {'.': 1}}"
      ]
     },
     "execution_count": 87,
     "metadata": {},
     "output_type": "execute_result"
    }
   ],
   "source": [
    "import string\n",
    "\n",
    "def frequencies(s):\n",
    "    ...\n",
    "\n",
    "s = 'Amarcord...'\n",
    "\n",
    "result = {}\n",
    "\n",
    "for i in range(len(s) - 1):\n",
    "    current_char = s[i]\n",
    "    next_char = s[i + 1]\n",
    "\n",
    "    if current_char in string.ascii_letters + string.digits:\n",
    "\n",
    "        if current_char not in result.keys():\n",
    "            result[current_char] = {}\n",
    "\n",
    "\n",
    "        if next_char in result[current_char].keys():\n",
    "            result[current_char][next_char] += 1\n",
    "        else:\n",
    "            result[current_char][next_char] = 1\n",
    "\n",
    "result\n"
   ]
  },
  {
   "cell_type": "raw",
   "metadata": {
    "vscode": {
     "languageId": "raw"
    }
   },
   "source": [
    "Write a function listdivisible(a, b, c, d) with a single instruction (the return of a list comprehension) \n",
    "that takes as parameters four natural numbers and returns the list of all the numbers from a to b (both included) \n",
    "that are divisible by all the numbers from c to d (both included).\n",
    "\n",
    "The len() function and a nested list comprehension can be useful.\n",
    "\n",
    "For example, listdivisible(1,1000, 2, 6) \n",
    "Returns:\n",
    "[60, 120, 180, 240, 300, 360, 420, 480, 540, 600, 660, 720, 780, 840, 900, 960], \n",
    "i.e. all the numbers between 1 and 1000 that are divisible at the same time (at least) by 2 and 3 and 5 and 6."
   ]
  },
  {
   "cell_type": "code",
   "execution_count": 97,
   "metadata": {},
   "outputs": [
    {
     "name": "stdout",
     "output_type": "stream",
     "text": [
      "[60, 120, 180, 240, 300, 360, 420, 480, 540, 600, 660, 720, 780, 840, 900, 960]\n",
      "[210]\n"
     ]
    }
   ],
   "source": [
    "\n",
    "def listdivisible(a, b, c, d):\n",
    "    return [n for n in range(a, b+1) if all([n % div == 0 for div in range(c, d + 1)])]\n",
    "\n",
    "\n",
    "a, b, c, d = 1, 1000, 2, 6\n",
    "print(listdivisible(1,1000, 2, 6))\n",
    "print(listdivisible(1,210,5,7))"
   ]
  },
  {
   "cell_type": "raw",
   "metadata": {
    "vscode": {
     "languageId": "raw"
    }
   },
   "source": [
    "Write a one-line function invert(D) which takes as a parameter a dictionary whose values are \n",
    "immutable objects returns a new dictionary, inverse of D, that is:\n",
    "each distinct value of D becomes a key in the resulting dictionary\n",
    "for each inverted dictionary key, the value will be a list of the original keys associated with that value\n",
    "Example:\n",
    "\n",
    ">>> D = {'a':2, 'b':2, 'c':3, 'd':4, 'e':3, 'f':0, 'g':3, 'h':2}\n",
    ">>> invert(D)\n",
    "\n",
    "{2: ['a', 'b', 'h'], 3: ['c', 'e', 'g'], 4: ['d'], 0: ['f']}\n",
    "NB: the function will be compact but very inefficient"
   ]
  },
  {
   "cell_type": "code",
   "execution_count": 103,
   "metadata": {},
   "outputs": [
    {
     "name": "stdout",
     "output_type": "stream",
     "text": [
      "{2: ['a', 'b', 'h'], 3: ['c', 'e', 'g'], 4: ['d'], 0: ['f']}\n",
      "{}\n",
      "{'a': [1], 'b': [2], 'c': [3]}\n",
      "{'a': ['a', 'b', 'c']}\n"
     ]
    }
   ],
   "source": [
    "def invert(D):\n",
    "    return {v: [k for k in D if D[k] == v] for v in D.values()}\n",
    "\n",
    "D1 = {'a':2, 'b':2, 'c':3, 'd':4, 'e':3, 'f':0, 'g':3, 'h':2}\n",
    "D2 = {}\n",
    "D3 = {1:'a', 2:'b', 3:'c'}\n",
    "D4 = {'a':'a', 'b':'a', 'c':'a'}\n",
    "\n",
    "D = [D1, D2, D3, D4]\n",
    "for d in D:\n",
    "    print(invert(d))"
   ]
  },
  {
   "cell_type": "code",
   "execution_count": null,
   "metadata": {},
   "outputs": [],
   "source": []
  },
  {
   "cell_type": "code",
   "execution_count": null,
   "metadata": {},
   "outputs": [],
   "source": []
  },
  {
   "cell_type": "code",
   "execution_count": null,
   "metadata": {},
   "outputs": [],
   "source": []
  },
  {
   "cell_type": "code",
   "execution_count": null,
   "metadata": {},
   "outputs": [],
   "source": []
  },
  {
   "cell_type": "code",
   "execution_count": null,
   "metadata": {},
   "outputs": [],
   "source": []
  },
  {
   "cell_type": "code",
   "execution_count": null,
   "metadata": {},
   "outputs": [],
   "source": []
  }
 ],
 "metadata": {
  "kernelspec": {
   "display_name": ".venv",
   "language": "python",
   "name": "python3"
  },
  "language_info": {
   "codemirror_mode": {
    "name": "ipython",
    "version": 3
   },
   "file_extension": ".py",
   "mimetype": "text/x-python",
   "name": "python",
   "nbconvert_exporter": "python",
   "pygments_lexer": "ipython3",
   "version": "3.11.4"
  }
 },
 "nbformat": 4,
 "nbformat_minor": 2
}
