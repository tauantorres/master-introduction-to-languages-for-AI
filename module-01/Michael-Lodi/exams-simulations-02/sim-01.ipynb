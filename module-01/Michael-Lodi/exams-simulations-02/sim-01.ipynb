{
 "cells": [
  {
   "cell_type": "markdown",
   "metadata": {},
   "source": [
    "# Exam 24/20/2023:"
   ]
  },
  {
   "cell_type": "markdown",
   "metadata": {},
   "source": [
    "\n",
    "Write a function foo(S) that takes a sequence of (possibly repeated) integers S and returns a list of the unique integer values in S, in order of increasing frequency of occurrence in S.\n",
    "Assume that all the values in S have different frequence of occurrence in S.\n"
   ]
  },
  {
   "cell_type": "code",
   "execution_count": 15,
   "metadata": {},
   "outputs": [
    {
     "name": "stdout",
     "output_type": "stream",
     "text": [
      "[3, 2, 1]\n"
     ]
    }
   ],
   "source": [
    "\n",
    "\n",
    "def foo(S):\n",
    "    freq = {}\n",
    "    for i in S:\n",
    "        if i in freq:\n",
    "            freq[i] += 1\n",
    "        else:\n",
    "            freq[i] = 1\n",
    "    return sorted(freq, key=lambda x: freq[x])\n",
    "\n",
    "print(foo([1,2,1,1,2,3]))\n",
    "\n",
    "\n"
   ]
  },
  {
   "cell_type": "markdown",
   "metadata": {},
   "source": [
    "Without using the if construct,\n",
    "define the function first_degree(a,b) which returns the solution of the first degree equation ax+b=0\n",
    ". The function:\n",
    "\n",
    "if the equation has one solution, returns its value rounded to two decimal digits (use the predefined function round(x,2)).\n",
    "if the equation has no solutions, returns the string \"no solutions: a==0 and b!=0\".\n",
    "if the equation is a trivial identity, returns the string \"trivial: a==0 and b==0\"."
   ]
  },
  {
   "cell_type": "code",
   "execution_count": 61,
   "metadata": {},
   "outputs": [],
   "source": [
    "from math import sqrt\n",
    "\n",
    "def first_degree(a,b):\n",
    "    try:\n",
    "        sol = -b/a\n",
    "        return round(sol, 2)\n",
    "        \n",
    "    except ZeroDivisionError:\n",
    "        \n",
    "        try:\n",
    "            b_validation = 1/b\n",
    "            return \"no solutions: a==0 and b!=0\"\n",
    "        \n",
    "        except ZeroDivisionError:\n",
    "            return \"trivial: a==0 and b==0\"\n",
    "            "
   ]
  },
  {
   "cell_type": "markdown",
   "metadata": {},
   "source": [
    "A list of integers is fair if there are no contiguous elements with L[i+1]==L[i]+1.\n",
    "\n",
    "Write a Python function fair(L) which takes a list of integers L and:\n",
    "- If L is fair, returns the pair\n",
    "True, L\n",
    "\n",
    "- if L is not fair (and hence there is a minimal index i for which L[i+1]==L[i]+1), the function modifies L in place, summing one to all elements from L[i+1] to L[-1] included; the function proceeds then to verify the (modified) slice L[i+1:]: if there is a non fair pair L[j+1]==L[j]+1 (remember that L is no longer the original one), it applies again the modification (\"sum one\"), starting from  L[j+1], etc. The function returns\n",
    "False, L\n",
    "where L is the modified list, which is fair by construction.\n",
    "\n",
    "If possibile, avoid repeated scans of L.\n",
    "\n",
    "In the automatic tests, the second Boolean value checks that the modification has been done in place."
   ]
  },
  {
   "cell_type": "code",
   "execution_count": 57,
   "metadata": {},
   "outputs": [
    {
     "name": "stdout",
     "output_type": "stream",
     "text": [
      "(True, [1, 3, 5, 7, 9]) True\n"
     ]
    }
   ],
   "source": [
    "def add(L, start=0):\n",
    "    for i in range(start, len(L)):\n",
    "        L[i] += 1\n",
    "    return L\n",
    "\n",
    "def all_fair(X):\n",
    "    return all([X[i + 1] != X[i] + 1 for i in range(0, len(X) - 1)])\n",
    "\n",
    "\n",
    "def fair(X):\n",
    "\n",
    "    initial_fairness = all_fair(X)\n",
    "\n",
    "    while not all_fair(X):\n",
    "        for i in range(len(X) - 1):\n",
    "            if X[i + 1] == X[i] + 1:\n",
    "                add(X, i + 1)\n",
    "                break\n",
    "\n",
    "    return initial_fairness, X\n",
    "\n",
    "X=[1,3,5,7,9]\n",
    "idX=id(X)\n",
    "FX=fair(X)\n",
    "print(FX, id(FX[1])==idX)"
   ]
  },
  {
   "cell_type": "markdown",
   "metadata": {},
   "source": [
    "Define a suitable class hierarchy (including the needed methods) so that the command\n",
    "print(A(3)*B(5))\n",
    "will print 15, while\n",
    "print(B(3)*A(5))\n",
    "will print -15.\n",
    "\n",
    "More generally, \n",
    "\n",
    "print(A(u)*B(v))\n",
    "should print the product of u and v, while\n",
    "print(B(u)*A(v))\n",
    "should print the -u*v."
   ]
  },
  {
   "cell_type": "code",
   "execution_count": null,
   "metadata": {},
   "outputs": [],
   "source": [
    "class Number:\n",
    "    def __init__(self, number):\n",
    "        self.number = number\n",
    "\n",
    "    def __mul__(self: \"Number\", other: \"Number\"):\n",
    "        return self.number * other.number\n",
    "    \n",
    "class A(Number): ...\n",
    "\n",
    "class B(Number):\n",
    "\n",
    "    def __mul__(self, other):\n",
    "        return - super().__mul__(other)\n",
    "\n",
    "\n"
   ]
  },
  {
   "cell_type": "markdown",
   "metadata": {},
   "source": [
    "Write a function exhaustgen(G) that when taking a generator object G as argument (you don't need to check this), it simply produces the elements of G, without doing anything with them, until the generator is exhausted. The only visible effects of a call exhaustgen(G), therefore, are the side-effects, if any, produced by the elements of G."
   ]
  },
  {
   "cell_type": "code",
   "execution_count": 60,
   "metadata": {},
   "outputs": [
    {
     "name": "stdout",
     "output_type": "stream",
     "text": [
      "0\n",
      "1\n",
      "2\n",
      "3\n"
     ]
    }
   ],
   "source": [
    "def exhaustgen(G):\n",
    "    try:\n",
    "        while G:\n",
    "            next(G)\n",
    "    except StopIteration:\n",
    "        pass\n",
    "\n",
    "exhaustgen(print(i) for i in range(4))"
   ]
  },
  {
   "cell_type": "markdown",
   "metadata": {},
   "source": [
    "# Exam 11/01/2024:"
   ]
  },
  {
   "cell_type": "raw",
   "metadata": {},
   "source": [
    "Write a function my_update(D1,D2) which takes two dictionaries and:\n",
    "\n",
    "on those keys of D2 which are not keys of D1, it has the same effects as the predefined method call D1.update(D2). \n",
    "on keys common at D1 and D2, it exchanges between D1 and D2 the corresponding values.\n",
    "You cannot use the predefined method update in your code."
   ]
  },
  {
   "cell_type": "code",
   "execution_count": 65,
   "metadata": {},
   "outputs": [
    {
     "name": "stdout",
     "output_type": "stream",
     "text": [
      "True True\n"
     ]
    }
   ],
   "source": [
    "def my_update(D1, D2):\n",
    "\n",
    "    for key, value in D2.items():\n",
    "        \n",
    "        if key in D1.keys():\n",
    "            D1[key], D2[key] = D2[key], D1[key]\n",
    "        else:\n",
    "            D1[key] = D2[key]\n",
    "        \n",
    "\n",
    "D1={1:10,2:20}\n",
    "D2={1:100,3:30}\n",
    "\n",
    "my_update(D1,D2)\n",
    "print(D1=={1: 100, 2: 20, 3: 30},D2=={1: 10, 3: 30})"
   ]
  },
  {
   "cell_type": "raw",
   "metadata": {
    "vscode": {
     "languageId": "raw"
    }
   },
   "source": [
    "Write a function printgen(G) that takes a generator G and prints twice the elements of G (first all of them, in the given order; \n",
    "then once more)."
   ]
  },
  {
   "cell_type": "code",
   "execution_count": 82,
   "metadata": {},
   "outputs": [
    {
     "name": "stdout",
     "output_type": "stream",
     "text": [
      "0\n",
      "1\n",
      "2\n",
      "3\n",
      "0\n",
      "1\n",
      "2\n",
      "3\n"
     ]
    }
   ],
   "source": [
    "def printgen(X):\n",
    "    _X = []\n",
    "    for x in X:\n",
    "        _X.append(x)\n",
    "        print(x)\n",
    "        \n",
    "    for x in _X:\n",
    "        print(x)\n",
    "\n",
    "\n",
    "X=(i for i in range(4))\n",
    "printgen(X)"
   ]
  },
  {
   "cell_type": "markdown",
   "metadata": {},
   "source": [
    "Write a function merge(L1, L2) which takes as parameters two lists ordered in ascending order (just assume this without checking). It should create and return a third list, also ordered, obtained from the union of the two.\n",
    "\n",
    "You cannot use the library function sort (or analogous, e.g. sorted). "
   ]
  },
  {
   "cell_type": "code",
   "execution_count": 110,
   "metadata": {},
   "outputs": [
    {
     "name": "stdout",
     "output_type": "stream",
     "text": [
      "[0, 1, 2, 3, 4, 5, 6, 8, 10]\n",
      "[]\n",
      "[1, 3, 5]\n",
      "[1, 3, 6]\n",
      "[1, 4, 7, 10, 13, 16, 19, 22, 25, 28, 31, 34, 37, 40, 43, 46, 49, 52, 55, 58, 61, 64, 67, 70, 73, 76, 79, 82, 85, 88, 91, 94, 97, 100]\n",
      "[1, 3, 5, 100, 300, 500]\n",
      "[1, 100]\n"
     ]
    }
   ],
   "source": [
    "def merge(L1, L2):\n",
    "\n",
    "    L, i, j = [], 0, 0\n",
    "    while i < len(L1) and j < len(L2):\n",
    "\n",
    "        l1, l2 = L1[i], L2[j]\n",
    "\n",
    "        if l1 <= l2:\n",
    "            L.append(l1)\n",
    "            i += 1\n",
    "        else:\n",
    "            L.append(l2)\n",
    "            j += 1\n",
    "\n",
    "    L.extend(L1[i:] if i < len(L1) else L2[j:])\n",
    "    \n",
    "    return L\n",
    "\n",
    "print(merge([1,3,5], [0,2,4,6,8,10]))\n",
    "print(merge([], []))\n",
    "print(merge([1,3,5], []))\n",
    "print(merge([], [1,3,6]))\n",
    "print(merge([100], list(range(1,99,3))))\n",
    "print(merge([1,3,5], [100,300,500]))\n",
    "print(merge([1],[100]))"
   ]
  },
  {
   "cell_type": "raw",
   "metadata": {},
   "source": [
    "You are given the following class definition:\n",
    "\n",
    "class A:\n",
    "   def __init__(self,x):\n",
    "     self.xx=x\n",
    "\n",
    "Complete the definition of the class B, so that if n1 and n2 are numbers, the command\n",
    "print(B(n1,n2))\n",
    "will print B: s, where s is the sum of n1 and n2.\n",
    "\n",
    "You should not redefine A. You must use from B the initialization method defined in A.\n"
   ]
  },
  {
   "cell_type": "code",
   "execution_count": 112,
   "metadata": {},
   "outputs": [
    {
     "name": "stdout",
     "output_type": "stream",
     "text": [
      "B: 30\n"
     ]
    }
   ],
   "source": [
    "class A:\n",
    "    def __init__(self, x):\n",
    "        self.xx = x\n",
    "\n",
    "class B(A):\n",
    "   \n",
    "    def __init__(self, x, y):\n",
    "        super().__init__(x)\n",
    "        self.yy = y\n",
    "\n",
    "    def __str__(self):\n",
    "        return f\"B: {self.yy + self.xx}\"\n",
    "    \n",
    "b = B(10, 20)\n",
    "print(b)"
   ]
  },
  {
   "cell_type": "raw",
   "metadata": {},
   "source": [
    "Write a function neg(A) that takes a NumPy array A of integers\n",
    "and returns a new array with the same shape as A, where\n",
    "\n",
    "all negative elements are substituted with the number 0\n",
    "all positive elements become negative, with the same absolute value\n",
    "Your solution must be a \"two-line-function\", i.e. a function with at most two instructions (two lines) in the body\n",
    "\n"
   ]
  },
  {
   "cell_type": "code",
   "execution_count": 122,
   "metadata": {},
   "outputs": [],
   "source": [
    "import numpy as np\n",
    "\n",
    "def neg(A):\n",
    "    A[A < 0] = 0\n",
    "    return -1 * A"
   ]
  },
  {
   "cell_type": "code",
   "execution_count": 123,
   "metadata": {},
   "outputs": [
    {
     "name": "stdout",
     "output_type": "stream",
     "text": [
      "[[-1  0 -3]\n",
      " [ 0 -5  0]\n",
      " [-7 -8  0]]\n"
     ]
    }
   ],
   "source": [
    "A = np.array([[1,-2,3],\n",
    "                [-4,5,-6],\n",
    "                [7,8,0]])\n",
    "print(neg(A))"
   ]
  },
  {
   "cell_type": "markdown",
   "metadata": {},
   "source": [
    "# Exam 31/01/2024:"
   ]
  },
  {
   "cell_type": "raw",
   "metadata": {
    "vscode": {
     "languageId": "raw"
    }
   },
   "source": [
    "Write a function new_update(D1,D2) which takes two dictionaries and:\n",
    "on keys that appear in either D1 or D2 (but not both), it has the same effect as the predefined method call D2.update(D1) \n",
    "(note the reverse order of the two dictionaries).\n",
    "on keys common to D1 and D2, it deletes keys and values from both dictionaries.\n",
    "You cannot use the predefined method update in your code."
   ]
  },
  {
   "cell_type": "code",
   "execution_count": 133,
   "metadata": {},
   "outputs": [
    {
     "name": "stdout",
     "output_type": "stream",
     "text": [
      "True True\n"
     ]
    }
   ],
   "source": [
    "def new_update(D1,D2):\n",
    "    ...\n",
    "\n",
    "D1={1:10, 2:20}\n",
    "D2={1:100, 3:30}\n",
    "\n",
    "def remove_keys(keys, D):\n",
    "    for key in keys:\n",
    "        del D[key]\n",
    "\n",
    "keys_to_remove = []\n",
    "for key, value in D1.items():\n",
    "\n",
    "    if key in D2.keys():\n",
    "        keys_to_remove.append(key)\n",
    "\n",
    "    else:\n",
    "        D2[key] = value\n",
    "\n",
    "remove_keys(keys_to_remove, D1)\n",
    "remove_keys(keys_to_remove, D2)\n",
    "\n",
    "\n",
    "new_update(D1,D2)\n",
    "print(D1=={2: 20},D2=={2:20, 3: 30})\n"
   ]
  },
  {
   "cell_type": "markdown",
   "metadata": {},
   "source": [
    "Write a function printgen(G) that takes a generator G and prints the elements of G in reverse order."
   ]
  },
  {
   "cell_type": "code",
   "execution_count": 135,
   "metadata": {},
   "outputs": [
    {
     "name": "stdout",
     "output_type": "stream",
     "text": [
      "3\n",
      "2\n",
      "1\n",
      "0\n"
     ]
    }
   ],
   "source": [
    "def printgen(X):\n",
    "    XL = list(X)\n",
    "    XLI = XL[::-1]\n",
    "    for x in XLI:\n",
    "        print(x)\n",
    "\n",
    "X = (i for i in range(4))\n",
    "printgen(X)"
   ]
  },
  {
   "cell_type": "raw",
   "metadata": {
    "vscode": {
     "languageId": "raw"
    }
   },
   "source": [
    "Write a function partition(L) which takes as parameters a non-empty list of numbers (without replication) L. \n",
    "\n",
    "The function modifies  L, permuting its values so that when the function returns, \n",
    "the element p that was originally at the index 0 is now at some position k with all the elements less than p to its left \n",
    "(that is, at indexes less than k) and all elements greater than p to its right.\n",
    "\n",
    "More formally, when the function returns, we have p at some position L[k] such that: \n",
    "\n",
    "for any element L[j] with index j<k, it holds that L[j]<p\n",
    "for any element L[j] with index j>k, it holds that L[j]>p . \n",
    "\n",
    "You cannot use the library function sort (or analogous, e.g. sorted). "
   ]
  },
  {
   "cell_type": "code",
   "execution_count": 206,
   "metadata": {},
   "outputs": [],
   "source": [
    "def partition(L):\n",
    "    n = len(L)\n",
    "    for i in range(n):\n",
    "        for j in range(0, n - i - 1):\n",
    "            if L[j] > L[j + 1]:\n",
    "                L[j], L[j + 1] = L[j + 1], L[j]\n",
    "\n",
    "\n",
    "L=[10, 1, 11, 22, 3, 5, 23]\n",
    "\n",
    "partition(L)\n",
    "assert L[3]==10\n",
    "assert all (L[i]<L[3] for i in range(3))\n",
    "assert all (L[i]>L[3] for i in range(4,len(L)))\n"
   ]
  },
  {
   "cell_type": "raw",
   "metadata": {},
   "source": [
    "You are given the following class definition:\n",
    "\n",
    "class A:\n",
    "   def __init__(self,x):\n",
    "     self.xx=x\n",
    "\n",
    "Complete the definition of the class B, so that if n1 and n2 are numbers, the command\n",
    "print(B(n1,n2))\n",
    "will print B: p, where p is the product of n1 and n2.\n",
    "\n",
    "You should not redefine A. You must use from B the initialization method defined in A."
   ]
  },
  {
   "cell_type": "code",
   "execution_count": 210,
   "metadata": {},
   "outputs": [
    {
     "name": "stdout",
     "output_type": "stream",
     "text": [
      "B: 200\n"
     ]
    }
   ],
   "source": [
    "class A:\n",
    "    def __init__(self, x):\n",
    "        self.x = x\n",
    "\n",
    "class B(A):\n",
    "    def __init__(self, x, y):\n",
    "        super().__init__(x)\n",
    "        self.y = y\n",
    "\n",
    "    def __str__(self):\n",
    "        return f\"B: {self.y * self.xx}\" \n",
    "    \n",
    "b= B(10, 20)\n",
    "print(b)"
   ]
  },
  {
   "cell_type": "raw",
   "metadata": {
    "vscode": {
     "languageId": "raw"
    }
   },
   "source": [
    "Write a function filter_ones(A,B) that takes:\n",
    "\n",
    "a NumPy array A of integers with shape (x,y)\n",
    "a NumPy array B of integers with shape (y,x), containing only 0s and 1s.\n",
    "The function returns a 1D Numpy array containing the elements A[i,j] only if B[j,i] is equal to 1.\n",
    "\n",
    "The elements of the result are in the \"automatic\" order: by rows.\n",
    "\n",
    "Your solution must be a \"one-line-function\", i.e. a function with only a return of an expression.\n"
   ]
  },
  {
   "cell_type": "code",
   "execution_count": 219,
   "metadata": {},
   "outputs": [
    {
     "name": "stdout",
     "output_type": "stream",
     "text": [
      "[1 4 2 4]\n"
     ]
    },
    {
     "data": {
      "text/plain": [
       "array([1, 4, 2, 4])"
      ]
     },
     "execution_count": 219,
     "metadata": {},
     "output_type": "execute_result"
    }
   ],
   "source": [
    "import numpy as np\n",
    "\n",
    "def filter_ones(A,B):\n",
    "    return A[B.T == 1]\n",
    "\n",
    "A = np.array([[7,1,4], [2,5,4]])\n",
    "B = np.array([[0,1], [1,0],[1,1]])\n",
    "\n",
    "print(filter_ones(A,B))\n",
    "\n",
    "\n",
    "\n"
   ]
  },
  {
   "cell_type": "markdown",
   "metadata": {},
   "source": [
    "# Exam 19/06/2024:"
   ]
  },
  {
   "cell_type": "raw",
   "metadata": {},
   "source": [
    "Write a function my_update(D1,D2) which takes two dictionaries and:\n",
    "\n",
    "on those keys of D1 which are not keys of D2, it has the same effects as the predefined method call D1.update(D2). \n",
    "on keys common at D1 and D2, it modifies D1 associating to each key k the result of D2[k]+D1[k].\n",
    "You cannot use the predefined method update in your code."
   ]
  },
  {
   "cell_type": "code",
   "execution_count": 225,
   "metadata": {},
   "outputs": [
    {
     "name": "stdout",
     "output_type": "stream",
     "text": [
      "{1: '10', 2: 20} {1: '100', 3: 30}\n",
      "{1: '10010', 2: 20, 3: 30} {1: '100', 3: 30}\n",
      "True True\n"
     ]
    }
   ],
   "source": [
    "def my_update(D1, D2):\n",
    "    \n",
    "    for key, value in D2.items():\n",
    "        if key not in D1.keys():\n",
    "            D1[key] = value\n",
    "        else:\n",
    "            D1[key] = D2[key] + D1[key]\n",
    "\n",
    "\n",
    "D1={1:'10',2:20}\n",
    "D2={1:'100',3:30}\n",
    "\n",
    "print(D1,D2)\n",
    "my_update(D1,D2)\n",
    "print(D1,D2)\n",
    "print(D1=={1: '10010', 2: 20, 3: 30},D2=={1: '100', 3: 30})"
   ]
  },
  {
   "cell_type": "raw",
   "metadata": {},
   "source": [
    "Insert some definitions in the answer field, so that, in their scope, the following code will print the value of foo:\n",
    "try:\n",
    "    raise B(foo)\n",
    "except A as x:\n",
    "    print(x)"
   ]
  },
  {
   "cell_type": "code",
   "execution_count": 231,
   "metadata": {},
   "outputs": [
    {
     "name": "stdout",
     "output_type": "stream",
     "text": [
      "10\n"
     ]
    }
   ],
   "source": [
    "class A(Exception): ...\n",
    "\n",
    "class B(A):\n",
    "    def __init__(self, b):\n",
    "        self.b = b \n",
    "    \n",
    "    def __str__(self):\n",
    "        return str(self.b)\n",
    "    \n",
    "b = B(10)\n",
    "print(b)"
   ]
  },
  {
   "cell_type": "raw",
   "metadata": {},
   "source": [
    "In a list L whose elements are all comparable, a peak is an element  L[i] such that L[i-1]<L[i]>L[i+1].\n",
    "\n",
    "Write a Python function spicca(L) that takes a list L and modifies  L in-place deleting all its peaks. \n",
    "\n",
    "If deleting a peak produces new ones (see the examples below), those peaks must also be removed, and so on. The function must return the modified list without peaks.\n",
    "\n",
    "Example: in [1,3,4,0,9,6,8,7,2]there are three peaks: L[2], L[4] and L[6] (in blu)  that need to be removed:\n",
    "deleting L[2] forms the new peak 1<3>0, which must also be removed; \n",
    "deleting L[4] does not (immediately) form new peaks; \n",
    "deleting L[6] creates the new peak 6<7>2, which is removed, now creating peak 0<6>2. Removing this last peak creates the final list [1,0,2], without peaks.\n",
    "If necessary, make reasonable assumptions for borderline cases, and indicate them through comments."
   ]
  },
  {
   "cell_type": "code",
   "execution_count": null,
   "metadata": {},
   "outputs": [],
   "source": [
    "def has_spicca(L: list) -> bool:\n",
    "    return any([L[i - 1] < L[i] > L[i + 1] for i in range(1, len(L) - 1)])\n",
    "\n",
    "def spicca(L: list) -> list:\n",
    "    L_new = []\n",
    "    for i in range(len(L)):\n",
    "        if i == 0 or i == len(L) - 1:\n",
    "            L_new.append(L[i])\n",
    "        elif not (L[i - 1] < L[i] > L[i + 1]):\n",
    "            L_new.append(L[i])\n",
    "\n",
    "    if has_spicca(L_new):\n",
    "        return spicca(L_new)\n",
    "\n",
    "    return L_new"
   ]
  },
  {
   "cell_type": "raw",
   "metadata": {
    "vscode": {
     "languageId": "raw"
    }
   },
   "source": [
    "Complete the following code (only where indicated) is such a way that two instances of class A are equal (==) \n",
    "if they have the same value for the attribute __st, while two instances of class B are equal if their __st attribute \n",
    "is the inverse of each other. You cannot modify the __init__ method of Top or add __init__ methods to A or B."
   ]
  },
  {
   "cell_type": "code",
   "execution_count": 64,
   "metadata": {},
   "outputs": [
    {
     "name": "stdout",
     "output_type": "stream",
     "text": [
      "True\n",
      "True\n"
     ]
    }
   ],
   "source": [
    "class Top:\n",
    "    def __init__(self,s):\n",
    "        if type(s)!=str:\n",
    "            raise TypeError\n",
    "        self.__st = s\n",
    "\n",
    "    def get_str(self):\n",
    "        return self.__st\n",
    "\n",
    "class A(Top): \n",
    "\n",
    "    def __eq__(self, value):\n",
    "        if isinstance(value, A):\n",
    "            return self.get_str() == value.get_str()\n",
    "        return False\n",
    "\n",
    "class B(A):\n",
    "\n",
    "    def __eq__(self, value):\n",
    "        if isinstance(value, B):\n",
    "            return self.get_str() == value.get_str()[::-1]\n",
    "        return False\n",
    "    \n",
    "a1=A('pippo')\n",
    "a2=A('pippo')\n",
    "print(a1==a2)\n",
    "\n",
    "b1=B('pippo')\n",
    "b2=B('oppip')\n",
    "print(b1==b2)"
   ]
  },
  {
   "cell_type": "raw",
   "metadata": {
    "vscode": {
     "languageId": "raw"
    }
   },
   "source": [
    "Write a function min_col(A) that takes a NumPy array A of integers with shape (n,m)\n",
    "\n",
    "The function returns a 1D Numpy array of the minimum value of each column in A.\n",
    "\n",
    "Your solution must be a \"one-line-function\", i.e. a function with only a return of an expression.\n"
   ]
  },
  {
   "cell_type": "code",
   "execution_count": 72,
   "metadata": {},
   "outputs": [
    {
     "name": "stdout",
     "output_type": "stream",
     "text": [
      "[2 2 1]\n"
     ]
    }
   ],
   "source": [
    "import numpy as np\n",
    "\n",
    "def min_col(A):\n",
    "    return np.min(A, axis=0)\n",
    "\n",
    "A = np.array([[2,4,9],\n",
    "              [3,2,1],\n",
    "              [7,3,1]])\n",
    "print(min_col(A))"
   ]
  },
  {
   "cell_type": "code",
   "execution_count": null,
   "metadata": {},
   "outputs": [],
   "source": []
  },
  {
   "cell_type": "code",
   "execution_count": null,
   "metadata": {},
   "outputs": [],
   "source": []
  },
  {
   "cell_type": "code",
   "execution_count": null,
   "metadata": {},
   "outputs": [],
   "source": []
  }
 ],
 "metadata": {
  "kernelspec": {
   "display_name": ".venv",
   "language": "python",
   "name": "python3"
  },
  "language_info": {
   "codemirror_mode": {
    "name": "ipython",
    "version": 3
   },
   "file_extension": ".py",
   "mimetype": "text/x-python",
   "name": "python",
   "nbconvert_exporter": "python",
   "pygments_lexer": "ipython3",
   "version": "3.11.4"
  }
 },
 "nbformat": 4,
 "nbformat_minor": 2
}
