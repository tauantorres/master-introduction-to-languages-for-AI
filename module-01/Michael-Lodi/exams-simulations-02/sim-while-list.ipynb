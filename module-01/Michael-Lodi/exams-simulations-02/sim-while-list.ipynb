{
 "cells": [
  {
   "cell_type": "markdown",
   "metadata": {},
   "source": [
    "# While and List Questions:"
   ]
  },
  {
   "cell_type": "raw",
   "metadata": {},
   "source": [
    "Collatz conjecture is based on the following algorithm:\n",
    "Take a positive integer number m.\n",
    "If m=1 the algorithm terminates.\n",
    "If m is even, divide it by 2 (integer division); if m is odd, multiply it by 3 and sum 1.\n",
    "Start again with the new m updated as above.\n",
    "The conjecture, yet unproven, states this algorithm always terminates.\n",
    "\n",
    "Write a function collatz(m) that returns a list containing all the numbers of the Collatz sequence from m to 1."
   ]
  },
  {
   "cell_type": "code",
   "execution_count": 14,
   "metadata": {},
   "outputs": [
    {
     "name": "stdout",
     "output_type": "stream",
     "text": [
      "[19, 58, 29, 88, 44, 22, 11, 34, 17, 52, 26, 13, 40, 20, 10, 5, 16, 8, 4, 2, 1]\n",
      "[]\n",
      "[1]\n",
      "[2, 1]\n",
      "[3, 10, 5, 16, 8, 4, 2, 1]\n",
      "[4, 2, 1]\n",
      "[73, 220, 110, 55, 166, 83, 250, 125, 376, 188, 94, 47, 142, 71, 214, 107, 322, 161, 484, 242, 121, 364, 182, 91, 274, 137, 412, 206, 103, 310, 155, 466, 233, 700, 350, 175, 526, 263, 790, 395, 1186, 593, 1780, 890, 445, 1336, 668, 334, 167, 502, 251, 754, 377, 1132, 566, 283, 850, 425, 1276, 638, 319, 958, 479, 1438, 719, 2158, 1079, 3238, 1619, 4858, 2429, 7288, 3644, 1822, 911, 2734, 1367, 4102, 2051, 6154, 3077, 9232, 4616, 2308, 1154, 577, 1732, 866, 433, 1300, 650, 325, 976, 488, 244, 122, 61, 184, 92, 46, 23, 70, 35, 106, 53, 160, 80, 40, 20, 10, 5, 16, 8, 4, 2, 1]\n"
     ]
    }
   ],
   "source": [
    "def collatz(m):\n",
    "\n",
    "    if m < 1:\n",
    "        return []\n",
    "\n",
    "    c = [m]\n",
    "    while m != 1:\n",
    "        m = m//2 if m % 2 == 0 else 3 * m + 1            \n",
    "        c.append(m)\n",
    "\n",
    "    return c\n",
    "\n",
    "\n",
    "print(collatz(19))\n",
    "print(collatz(0))\n",
    "print(collatz(1))\n",
    "print(collatz(2))\n",
    "print(collatz(3))\n",
    "print(collatz(4))\n",
    "print(collatz(73))\n"
   ]
  },
  {
   "cell_type": "raw",
   "metadata": {
    "vscode": {
     "languageId": "raw"
    }
   },
   "source": [
    "Write a function increasing(L) that checks if a list L is sorted in ascending order (<=).\n",
    "Suppose that L is a list and contains objects that can be ordered, without checkin).\n",
    "The, write a function join_ordered(L1, L2) which took as parameters two lists ordered in ascending order \n",
    "(check it using the increasing function), creates and returns a third one, also ordered, from the union of the two.\n",
    "If at least one of the two lists is not in ascending order, return None.\n",
    "\n",
    "Do not use the sort function (or analogous, e.g. sorted) - for us to check this, you are not allowed in \n",
    "this test to use any words (even in comments) containing the substring sort."
   ]
  },
  {
   "cell_type": "code",
   "execution_count": 46,
   "metadata": {},
   "outputs": [
    {
     "name": "stdout",
     "output_type": "stream",
     "text": [
      "None\n",
      "[]\n",
      "[0, 1, 2, 3, 4, 5, 6, 8, 10]\n",
      "[1, 3, 5]\n",
      "[1, 3, 6]\n",
      "[1, 4, 7, 10, 13, 16, 19, 22, 25, 28, 31, 34, 37, 40, 43, 46, 49, 52, 55, 58, 61, 64, 67, 70, 73, 76, 79, 82, 85, 88, 91, 94, 97, 100]\n",
      "[1, 3, 5, 100, 300, 500]\n"
     ]
    }
   ],
   "source": [
    "def increasing(L):\n",
    "    return all([L[i] < L[i + 1] for i in range(len(L) - 1)])\n",
    "\n",
    "def join_ordered(L1, L2):\n",
    "\n",
    "    if not increasing(L1) or not increasing(L2):\n",
    "        return None\n",
    "\n",
    "    L, i, j = [], 0, 0\n",
    "    while i < len(L1) and j < len(L2):\n",
    "\n",
    "        l1, l2 = L1[i], L2[j]\n",
    "        \n",
    "        if l1 <= l2:\n",
    "            L.append(l1)\n",
    "            i += 1\n",
    "        else:\n",
    "            L.append(l2)\n",
    "            j += 1\n",
    "\n",
    "    L.extend(L1[i:] if i < len(L1) else L2[j:])\n",
    "\n",
    "    return L\n",
    "\n",
    "\n",
    "\n",
    "print(join_ordered([3,1,2], [1,2,3]))\n",
    "print(join_ordered([], []))\n",
    "print(join_ordered([1,3,5], [0,2,4,6,8,10]))\n",
    "print(join_ordered([1,3,5], []))\n",
    "print(join_ordered([], [1,3,6]))\n",
    "print(join_ordered([100], list(range(1,99,3))))\n",
    "print(join_ordered([1,3,5], [100,300,500]))\n"
   ]
  },
  {
   "cell_type": "raw",
   "metadata": {
    "vscode": {
     "languageId": "raw"
    }
   },
   "source": [
    "Write a function contiguous(L) that takes a list L as a parameter and creates and returns a \n",
    "new list with values taken from L - in which a series of equal contiguous values is replaced \n",
    "by one single entry of the value followed by the number of occurrences of the equal contiguous values in L."
   ]
  },
  {
   "cell_type": "code",
   "execution_count": 66,
   "metadata": {},
   "outputs": [
    {
     "name": "stdout",
     "output_type": "stream",
     "text": [
      "['a', 'b', 2, 'z', 'o', 2, 'b', 4, 'k']\n",
      "[]\n",
      "[1, 2, 3, 4, 5]\n",
      "['a', 'b', 'c', 'd']\n",
      "[0, 20]\n",
      "[7, 2, 8, 2, 5, 2]\n"
     ]
    }
   ],
   "source": [
    "def contiguous(L):\n",
    "    Ln = []\n",
    "    for i in range(len(L)):\n",
    "\n",
    "        c, j, count = L[i], i + 1, 1\n",
    "\n",
    "        if len(Ln) >= 2:\n",
    "            if c == Ln[-2]:\n",
    "                continue\n",
    "\n",
    "        for l in L[j:]:\n",
    "            if l == c:\n",
    "                count += 1\n",
    "            else:\n",
    "                break\n",
    "        if count > 1:\n",
    "            Ln.extend([c, count])\n",
    "        else:\n",
    "            Ln.append(c)\n",
    "    \n",
    "    return Ln\n",
    "\n",
    "print(contiguous(['a','b','b','z','o','o','b','b','b','b','k']))\n",
    "print(contiguous([]))\n",
    "print(contiguous([1,2,3,4,5]))\n",
    "print(contiguous(['a','b','c','d']))\n",
    "print(contiguous([0, 0, 0, 0, 0, 0, 0, 0, 0, 0, 0, 0, 0, 0, 0, 0, 0, 0, 0, 0]))\n",
    "print(contiguous([7,7, 8, 8, 5, 5]))\n"
   ]
  },
  {
   "cell_type": "raw",
   "metadata": {
    "vscode": {
     "languageId": "raw"
    }
   },
   "source": [
    "Write a function contiguous_inplace(L) that (analougosly to the previous exercise) takes \n",
    "a list L as a parameter and modifies the list L such that a series of equal contiguous \n",
    "values is replaced by one single entry of the value followed by the number of occurrences of the equal contiguous values in A.\n",
    "\n",
    "The function does not return anything. It modifies L without modyfing the id and without \n",
    "using auxiliary structures like other lists or tuples.\n",
    "\n",
    "To check that the modified list is actually the same as the one passed as a parameter, \n",
    "the test will check that the id (of the two lists) match, and that list L has been modified correctly. \n",
    "However, you will not see any results in the automatic tests. A possible test to do in Thonny is the following:\n",
    "\n",
    "A = ['a','b','b','z','o','o','b','b','b','b','k']\n",
    "AR = ['a', 'b', 2, 'z', 'o', 2, 'b', 4, 'k']\n",
    "id_before = id(A)\n",
    "contiguous_inplace(A)\n",
    "print((id_before == id(A)) and (A == AR))"
   ]
  },
  {
   "cell_type": "code",
   "execution_count": 111,
   "metadata": {},
   "outputs": [
    {
     "name": "stdout",
     "output_type": "stream",
     "text": [
      "True\n",
      "['a', 'b', 2, 'z', 'o', 2, 'b', 4, 'k']\n",
      "[]\n",
      "[1, 2, 3, 4, 5]\n",
      "['a', 'b', 'c', 'd']\n",
      "[0, 20]\n",
      "[7, 2, 8, 2, 5, 2]\n"
     ]
    }
   ],
   "source": [
    "\n",
    "def contiguous_inplace(L):\n",
    "    i = 0\n",
    "    while i < len(L):\n",
    "        count = 1\n",
    "        while i + count < len(L) and L[i + count] == L[i]:\n",
    "            count += 1\n",
    "\n",
    "        if count > 1:\n",
    "            L[i + 1] = count\n",
    "            del L[i + 2:i + count]\n",
    "            i += 2\n",
    "        else:\n",
    "            i += 1\n",
    "\n",
    "    return L\n",
    "\n",
    "\n",
    "A = ['a','b','b','z','o','o','b','b','b','b','k']\n",
    "AR = ['a', 'b', 2, 'z', 'o', 2, 'b', 4, 'k']\n",
    "id_before = id(A)\n",
    "contiguous_inplace(A)\n",
    "print((id_before == id(A)) and (A == AR))\n",
    "\n",
    "print(contiguous_inplace(['a','b','b','z','o','o','b','b','b','b','k']))\n",
    "print(contiguous_inplace([]))\n",
    "print(contiguous_inplace([1,2,3,4,5]))\n",
    "print(contiguous_inplace(['a','b','c','d']))\n",
    "print(contiguous_inplace([0, 0, 0, 0, 0, 0, 0, 0, 0, 0, 0, 0, 0, 0, 0, 0, 0, 0, 0, 0]))\n",
    "print(contiguous_inplace([7,7, 8, 8, 5, 5]))\n"
   ]
  },
  {
   "cell_type": "raw",
   "metadata": {
    "vscode": {
     "languageId": "raw"
    }
   },
   "source": [
    "Write a repeat_numbers(L) function which, given a list of natural numbers \n",
    "(assume they are greater or equal to 0, without checking), returns a new list \n",
    "in which the same elements of the list appear as parameter and in the same order, \n",
    "but each element of the list is repeated the number of times corresponding to the \n",
    "element (e.g. 0 will be repeated zero times, 1 once, 2 twice and so on).\n"
   ]
  },
  {
   "cell_type": "code",
   "execution_count": 114,
   "metadata": {},
   "outputs": [
    {
     "name": "stdout",
     "output_type": "stream",
     "text": [
      "[2, 2, 1, 3, 3, 3, 1, 2, 2]\n",
      "[3, 3, 3, 2, 2, 4, 4, 4, 4]\n",
      "[4, 4, 4, 4, 3, 3, 3, 1]\n",
      "[]\n",
      "[2, 2, 8, 8, 8, 8, 8, 8, 8, 8]\n"
     ]
    }
   ],
   "source": [
    "\n",
    "def repeat_numbers(L):\n",
    "    Ln, i = [], 0\n",
    "    while i < len(L):\n",
    "        \n",
    "        l = L[i]\n",
    "        if l != 0:\n",
    "            Ln.extend([l for _ in range(l)])\n",
    "\n",
    "        i += 1\n",
    "    \n",
    "    return Ln\n",
    "\n",
    "\n",
    "L = [2, 1, 0, 3, 1, 2]\n",
    "\n",
    "print(repeat_numbers([2,1,0,3,1,2]))\n",
    "print(repeat_numbers([3,0,2,4]))\n",
    "print(repeat_numbers([4,3,1]))\n",
    "print(repeat_numbers([]))\n",
    "print(repeat_numbers([2,8,0]))\n"
   ]
  },
  {
   "cell_type": "raw",
   "metadata": {
    "vscode": {
     "languageId": "raw"
    }
   },
   "source": [
    "Write a function repeat_inplace(L) similar to the previous exercise, but change the list passed as a parameter, \n",
    "without returning it. Do not create new lists (or other structures).\n",
    "P.S. To check that the modified list is actually the same as passed as a parameter, \n",
    "the test will check that the id (of the two lists) match, and that list L has been modified correctly. \n",
    "However, you will not see any results in automatic tests. A possible test to be performed in Thonny is the following\n",
    "\n",
    "A = [3,0,2,4]\n",
    "AR = [3,3,3,2,2,4,4,4]\n",
    "id_prev = id(A)\n",
    "repeat_inplace(A)\n",
    "print((id_prev == id(A)) and (A == AR))"
   ]
  },
  {
   "cell_type": "code",
   "execution_count": 164,
   "metadata": {},
   "outputs": [
    {
     "name": "stdout",
     "output_type": "stream",
     "text": [
      "True\n"
     ]
    }
   ],
   "source": [
    "def repeat_inplace(L):\n",
    "    j, position, L_size = 0, 0, len(L)\n",
    "    while j < L_size:\n",
    "\n",
    "        if L[position] == 0:\n",
    "            del L[position]\n",
    "\n",
    "        else:\n",
    "            number = counter = L[position]\n",
    "            while counter > 1:\n",
    "                L.insert(position + 1, number)\n",
    "                position += 1\n",
    "                counter -= 1\n",
    "\n",
    "            position += 1\n",
    "\n",
    "        j += 1\n",
    "\n",
    "L = [2, 1, 0, 3, 1, 2]\n",
    "\n",
    "A = [3,0,2,4]\n",
    "AR = [3,3,3,2,2,4,4,4,4]\n",
    "id_prev = id(A)\n",
    "repeat_inplace(A)\n",
    "print((id_prev == id(A)) and (A == AR))\n"
   ]
  },
  {
   "cell_type": "code",
   "execution_count": 148,
   "metadata": {},
   "outputs": [],
   "source": [
    "for i in range(0):\n",
    "    print(i)"
   ]
  },
  {
   "cell_type": "code",
   "execution_count": 135,
   "metadata": {},
   "outputs": [
    {
     "data": {
      "text/plain": [
       "([1, 2, 3, 3, 3, 4, 5, 6], 1)"
      ]
     },
     "execution_count": 135,
     "metadata": {},
     "output_type": "execute_result"
    }
   ],
   "source": [
    "a = [1, 2, 3, 4, 5, 6]\n",
    "i = 2\n",
    "e, j = a[i], i + 1\n",
    "\n",
    "for k in range(e - 1):\n",
    "    a.insert(j, e)\n",
    "\n",
    "a, k"
   ]
  },
  {
   "cell_type": "code",
   "execution_count": null,
   "metadata": {},
   "outputs": [],
   "source": [
    "a = [1, 2, 3]\n",
    "a.insert(1, 999)\n",
    "a"
   ]
  },
  {
   "cell_type": "code",
   "execution_count": null,
   "metadata": {},
   "outputs": [],
   "source": []
  }
 ],
 "metadata": {
  "kernelspec": {
   "display_name": ".venv",
   "language": "python",
   "name": "python3"
  },
  "language_info": {
   "codemirror_mode": {
    "name": "ipython",
    "version": 3
   },
   "file_extension": ".py",
   "mimetype": "text/x-python",
   "name": "python",
   "nbconvert_exporter": "python",
   "pygments_lexer": "ipython3",
   "version": "3.11.4"
  }
 },
 "nbformat": 4,
 "nbformat_minor": 2
}
