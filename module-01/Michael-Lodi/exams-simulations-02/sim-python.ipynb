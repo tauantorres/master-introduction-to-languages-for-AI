{
 "cells": [
  {
   "cell_type": "markdown",
   "metadata": {},
   "source": [
    "# Numpy Questions:"
   ]
  },
  {
   "cell_type": "raw",
   "metadata": {
    "vscode": {
     "languageId": "raw"
    }
   },
   "source": [
    "Write a function merge(a,b) that takes a 2D NumPy numerical array a and a 1D NumPy numerical array b \n",
    "with the same size (the same number of elements), and:\n",
    "reshapes b so that it is a 2D array with the same shape of a\n",
    "returns a new 2D NumPy array that, for each element i,j, \n",
    "contains the biggest value between a[i,j] and b[i,j], as floats.\n",
    "Do it in one line code.\n",
    "You must use NumPy features. Do not use loops, comprehensions, recursion.\n",
    "\n",
    "Test:\n",
    "print(merge(np.array([[0,20,4],[7,1,3]]),np.array([0,1,2,3,4,5])))\n",
    "\n",
    "Result:\n",
    "[[ 0. 20.  4.]\n",
    " [ 7.  4.  5.]]\n"
   ]
  },
  {
   "cell_type": "code",
   "execution_count": 11,
   "metadata": {},
   "outputs": [
    {
     "name": "stdout",
     "output_type": "stream",
     "text": [
      "[[ 0. 20.  4.]\n",
      " [ 7.  4.  5.]]\n"
     ]
    }
   ],
   "source": [
    "import numpy as np\n",
    "\n",
    "def merge(a, b):\n",
    "    return np.maximum(a, np.reshape(b, shape=a.shape)).astype(float)\n",
    "\n",
    "a = np.array([[0,20,4],[7,1,3]])\n",
    "b= np.array([0,1,2,3,4,5])\n",
    "\n",
    "print(merge(a, b))"
   ]
  },
  {
   "cell_type": "raw",
   "metadata": {
    "vscode": {
     "languageId": "raw"
    }
   },
   "source": [
    "Demeaning is the process in which the mean of a group of data is subtracted from any element of the group. \n",
    "In such a way the mean of the transformed data is zero. Example: demeaning [7, 5] transforms the data into [1, -1].\n",
    "Using NumPy features, write a function demean(a) that takes a 2d array and returns a new 2d array with the same shape, \n",
    "where all columns have been demeaned, i.e. the mean of each column of the result array is equal to 0.\n",
    "You must use NumPy features. Do not use loops, comprehensions, recursion.\n",
    "\n",
    "\n",
    "Tests:\n",
    "1. print(demean(np.array([[1,2,3],\n",
    "                [4,5,6],\n",
    "                [7,8,9],\n",
    "                [10,11,12]])))\n",
    "\n",
    "2. print(demean(np.array([[7,2,4],[5,1,8]])))\n",
    "\n",
    "3. print(demean(np.array([[4,7,12],[5,44,3],[3,6,9]])))\n",
    "\n",
    "Results:\n",
    "1. [[-4.5 -4.5 -4.5]\n",
    " [-1.5 -1.5 -1.5]\n",
    " [ 1.5  1.5  1.5]\n",
    " [ 4.5  4.5  4.5]]\n",
    "\n",
    "2. [[ 1.   0.5 -2. ]\n",
    " [-1.  -0.5  2. ]]\n",
    "\n",
    "3. \t\n",
    "[[  0. -12.   4.]\n",
    " [  1.  25.  -5.]\n",
    " [ -1. -13.   1.]]\n",
    "\n"
   ]
  },
  {
   "cell_type": "code",
   "execution_count": 18,
   "metadata": {},
   "outputs": [
    {
     "data": {
      "text/plain": [
       "array([[-4.5, -4.5, -4.5],\n",
       "       [-1.5, -1.5, -1.5],\n",
       "       [ 1.5,  1.5,  1.5],\n",
       "       [ 4.5,  4.5,  4.5]])"
      ]
     },
     "execution_count": 18,
     "metadata": {},
     "output_type": "execute_result"
    }
   ],
   "source": [
    "import numpy as np\n",
    "\n",
    "def demean(a):\n",
    "    return a - np.mean(a, axis=0)\n",
    "\n",
    "a = np.array([\n",
    "    [1, 2, 3],\n",
    "    [4, 5, 6],\n",
    "    [7, 8, 9],\n",
    "    [10, 11, 12],\n",
    "])\n",
    "\n",
    "# np.mean(a) -> Mean of the whole vector/matrix (scalar) a ∈ R\n",
    "# np.mean(a, axis=0) -> Mean per column of the vector/matrix (vector). If a ∈ R ^mxn -> a_mean ∈ R^1xn\n",
    "# np.mean(a, axis=1) -> Mean per row of the vector/matrix (vector) If a ∈ R ^mxn -> a_mean ∈ R^1xm\n",
    "\n",
    "demean(a)"
   ]
  },
  {
   "cell_type": "raw",
   "metadata": {
    "vscode": {
     "languageId": "raw"
    }
   },
   "source": [
    "Write a function colsum(a) which given a 2D NumPy array a with shape (n,p) (with p>=2), \n",
    "returns a new array with shape (1,2) where the first element is the sum of all the elements \n",
    "in the even columns (0, 2, 4, ...) and the second element is the sum of all the elements in the odd columns (1, 3, 5, ...).\n",
    "\n",
    "It must be an one line code.\n",
    "You must use NumPy features. Do not use loops, comprehensions, recursion.\n",
    "\n",
    "Tests:\n",
    "1. print(colsum(np.array([[2, 7, 8, 0],\n",
    "                       [3, 9, 3, 4],\n",
    "                       [4, 0, 1, 3]])))\n",
    "\n",
    "2. print(colsum(np.array([[0, 7, 0],\n",
    "                       [0, 9, 0],\n",
    "                       [0, 0, 0]])))\n",
    "\n",
    "Results:\n",
    "1. [21 23]\n",
    "\n",
    "2. [ 0 16]"
   ]
  },
  {
   "cell_type": "code",
   "execution_count": 31,
   "metadata": {},
   "outputs": [
    {
     "data": {
      "text/plain": [
       "array([21, 23])"
      ]
     },
     "execution_count": 31,
     "metadata": {},
     "output_type": "execute_result"
    }
   ],
   "source": [
    "import numpy as np\n",
    "\n",
    "def colsum(a: np.ndarray) -> np.ndarray:\n",
    "    return np.array([np.sum(a[::, ::2]), np.sum(a[::, 1::2])])\n",
    "\n",
    "a= np.array([\n",
    "    [2, 7, 8, 0],\n",
    "    [3, 9, 3, 4],\n",
    "    [4, 0, 1, 3],\n",
    "])\n",
    "\n",
    "# a ∈ R^(n, p), p>=2 -> a ∈ R^(1, 2)\n",
    "\n",
    "colsum(a)"
   ]
  },
  {
   "cell_type": "raw",
   "metadata": {
    "vscode": {
     "languageId": "raw"
    }
   },
   "source": [
    "Write a function count_common(a,b) that, given two numpy 2D arrays a and b with the same shape \n",
    "(suppose without checking), counts how many common elements \n",
    "(i.e. elements with the same value AND the same position) there are in a and b.\n",
    "Elements of the arrays can have an arbitrary type\n",
    "It must be an one line code.\n",
    "You must use NumPy features. Do not use loops, comprehensions, recursion.\n",
    "\n",
    "Tests:\n",
    "print(count_common(np.array([[1,3,8],\n",
    "              [4,5,2],\n",
    "              [3,2,9]]),np.array([[2,3,7],\n",
    "              [4,5,9],\n",
    "              [6,6,6]])))\n",
    "\n",
    "Results:\n",
    "3"
   ]
  },
  {
   "cell_type": "code",
   "execution_count": 34,
   "metadata": {},
   "outputs": [
    {
     "data": {
      "text/plain": [
       "np.int64(3)"
      ]
     },
     "execution_count": 34,
     "metadata": {},
     "output_type": "execute_result"
    }
   ],
   "source": [
    "import numpy as np\n",
    "\n",
    "def count_common(a, b):\n",
    "    return np.sum( a == b)\n",
    "\n",
    "a = np.array([[1,3,8],\n",
    "              [4,5,2],\n",
    "              [3,2,9]])\n",
    "\n",
    "b = np.array([[2,3,7],\n",
    "              [4,5,9],\n",
    "              [6,6,6]])\n",
    "\n",
    "count_common(a, b)"
   ]
  },
  {
   "cell_type": "raw",
   "metadata": {
    "vscode": {
     "languageId": "raw"
    }
   },
   "source": [
    "Write a function checkerboard(m) that creates and returns an m*m 2D NumPy array filled with a \n",
    "checkerboard pattern (alternating 0s and 1s - see examples) of integers. The function must work for every m>=0.\n",
    "Tips: either create arrays filled with 0s and then modify them, or use the \"fromfunction\" creation.\n",
    "You must use NumPy features. Do not use loops, comprehensions, recursion.\n",
    "\n",
    "Tests:\n",
    "\n",
    "1. print(checkerboard(0))\n",
    "2. print(checkerboard(1))\n",
    "3. print(checkerboard(2))\n",
    "4. print(checkerboard(3))\n",
    "\n",
    "Results:\n",
    "1. []\n",
    "2. [[0]]\n",
    "3. \n",
    " [[0 1]\n",
    " [1 0]]\n",
    "4.\n",
    "[[0 1 0]\n",
    " [1 0 1]\n",
    " [0 1 0]]\n"
   ]
  },
  {
   "cell_type": "code",
   "execution_count": 40,
   "metadata": {},
   "outputs": [
    {
     "data": {
      "text/plain": [
       "array([[0, 1],\n",
       "       [1, 0]])"
      ]
     },
     "execution_count": 40,
     "metadata": {},
     "output_type": "execute_result"
    }
   ],
   "source": [
    "import numpy as np\n",
    "\n",
    "def foo(i, j):\n",
    "    return (i + j) % 2\n",
    "\n",
    "def checkerboard(m):\n",
    "    return np.fromfunction(foo, (m, m), dtype=int)\n",
    "\n",
    "checkerboard(m=2)"
   ]
  },
  {
   "cell_type": "raw",
   "metadata": {
    "vscode": {
     "languageId": "raw"
    }
   },
   "source": [
    "Write a function zeroones(p,q) that creates and returns a numpy 2D array of shape (p,q) \n",
    "in which the border is made of 0s and the rest of the array is filled with consecutive numbers: 1, 2, 3 ...\n",
    "\n",
    "Suppose without checkign tha p and q are >= 3.\n",
    "You must use NumPy features. Do not use loops, comprehensions, recursion."
   ]
  },
  {
   "cell_type": "code",
   "execution_count": 66,
   "metadata": {},
   "outputs": [
    {
     "data": {
      "text/plain": [
       "array([[ 0.,  0.,  0.,  0.,  0.,  0.,  0.,  0.],\n",
       "       [ 0.,  1.,  2.,  3.,  4.,  5.,  6.,  0.],\n",
       "       [ 0.,  7.,  8.,  9., 10., 11., 12.,  0.],\n",
       "       [ 0.,  0.,  0.,  0.,  0.,  0.,  0.,  0.]])"
      ]
     },
     "execution_count": 66,
     "metadata": {},
     "output_type": "execute_result"
    }
   ],
   "source": [
    "import numpy as np\n",
    "\n",
    "\n",
    "def zeroones(p: np.ndarray, q: np.ndarray):\n",
    "    zeros = np.zeros(shape=(p, q))\n",
    "    inner_rows, inner_columns = p - 2, q - 2\n",
    "\n",
    "    inner_arrays = np.arange(start=1, stop=(inner_rows * inner_columns) + 1, step=1).reshape(inner_rows, inner_columns)\n",
    "    zeros[1:-1, 1:-1] = inner_arrays\n",
    "\n",
    "    return zeros\n",
    "\n",
    "p, q = 4, 8\n",
    "zeroones(p, q)"
   ]
  },
  {
   "cell_type": "raw",
   "metadata": {
    "vscode": {
     "languageId": "raw"
    }
   },
   "source": [
    "Write a function zerocolumns(a) that returns the array a where the columns that contain at least one zero are deleted.\n",
    "Solve the problem with only one line.\n",
    "You must use NumPy features. Do not use loops, comprehensions, recursion."
   ]
  },
  {
   "cell_type": "code",
   "execution_count": 79,
   "metadata": {},
   "outputs": [
    {
     "data": {
      "text/plain": [
       "array([[1, 2],\n",
       "       [3, 1],\n",
       "       [3, 3]])"
      ]
     },
     "execution_count": 79,
     "metadata": {},
     "output_type": "execute_result"
    }
   ],
   "source": [
    "import numpy as np\n",
    "\n",
    "def zerocolumns(a: np.ndarray) -> np.ndarray:\n",
    "    return a[:, np.all( a != 0, axis=0)]\n",
    "\n",
    "\n",
    "a = np.array([\n",
    "    [1,2,0],\n",
    "    [3,1,1],\n",
    "    [3,3,0]\n",
    "])\n",
    "\n",
    "zerocolumns(a)"
   ]
  },
  {
   "cell_type": "raw",
   "metadata": {
    "vscode": {
     "languageId": "raw"
    }
   },
   "source": [
    "Write a function arraydistance(p,q) that creates and returns a 2D NumPy array d of shape (p,q) \n",
    "such that d[i,j] is the euclidean distance between (0,0) and (i,j) on a cartesian plane.\n",
    "Suggestion: use np.sqrt for calculating the distance and np.fromfunction to create the array.\n",
    "Solve the problem with only one line.\n",
    "You must use NumPy features. Do not use loops, comprehensions, recursion.\n"
   ]
  },
  {
   "cell_type": "code",
   "execution_count": 95,
   "metadata": {},
   "outputs": [
    {
     "data": {
      "text/plain": [
       "array([[0.        , 1.        , 2.        ],\n",
       "       [1.        , 1.41421356, 2.23606798],\n",
       "       [2.        , 2.23606798, 2.82842712]])"
      ]
     },
     "execution_count": 95,
     "metadata": {},
     "output_type": "execute_result"
    }
   ],
   "source": [
    "import numpy as np\n",
    "\n",
    "def foo(i, j, x0=0, y0=0):\n",
    "    return np.sqrt((i - x0) ** 2 + (j - y0) ** 2)\n",
    "\n",
    "def arraydistance(p: int, q: int, x0: int=0, y0: int=0) -> np.ndarray:\n",
    "    return np.fromfunction(lambda i, j: foo(i, j, x0=x0, y0=y0), shape=(p, q), dtype=float)\n",
    "\n",
    "p, q = 3, 3\n",
    "x0, y0 = 0, 0\n",
    "\n",
    "arraydistance(p, q)"
   ]
  },
  {
   "cell_type": "raw",
   "metadata": {
    "vscode": {
     "languageId": "raw"
    }
   },
   "source": [
    "Write a function lowest(a,b) that takes two 1D NumPy arrays of ints and returns a 2D NumPy array that represents \n",
    "a table of the lowest common multiple between all the numbers in the two arrays (the number of elements of the first \n",
    "array will become the number of rows in the result).\n",
    "\n",
    "Hint: use one of the known universal functions (here)\n",
    "Solve the problem with only one line.\n",
    "You must use NumPy features. Do not use loops, comprehensions, recursion."
   ]
  },
  {
   "cell_type": "code",
   "execution_count": 116,
   "metadata": {},
   "outputs": [
    {
     "data": {
      "text/plain": [
       "array([[ 0,  0,  0,  0,  0],\n",
       "       [ 0,  1,  2,  3,  4],\n",
       "       [ 0,  2,  2,  6,  4],\n",
       "       [ 0,  3,  6,  3, 12],\n",
       "       [ 0,  4,  4, 12,  4],\n",
       "       [ 0,  5, 10, 15, 20],\n",
       "       [ 0,  6,  6,  6, 12],\n",
       "       [ 0,  7, 14, 21, 28],\n",
       "       [ 0,  8,  8, 24,  8],\n",
       "       [ 0,  9, 18,  9, 36]])"
      ]
     },
     "execution_count": 116,
     "metadata": {},
     "output_type": "execute_result"
    }
   ],
   "source": [
    "import numpy as np\n",
    "\n",
    "def lowest(a, b):\n",
    "    return np.lcm.outer(a, b)\n",
    "\n",
    "a = np.arange(0, 10)\n",
    "b = np.arange(0, 5)\n",
    "\n",
    "lowest(a, b)"
   ]
  },
  {
   "cell_type": "raw",
   "metadata": {
    "vscode": {
     "languageId": "raw"
    }
   },
   "source": [
    "Write a function element(a, p) that takes a NumPy array a with arbitrary shape and a positive integer p \n",
    "representing a position inside that array (if the index is outside the array, return -1).\n",
    "The program returns the value of the number at position p, when the array a is read as a 1D array (by rows, as usual).\n",
    "Solve the problem with only one line.\n",
    "You must use NumPy features. Do not use loops, comprehensions, recursion."
   ]
  },
  {
   "cell_type": "code",
   "execution_count": 165,
   "metadata": {},
   "outputs": [
    {
     "name": "stdout",
     "output_type": "stream",
     "text": [
      "4\n",
      "4\n",
      "8\n",
      "5\n",
      "-1\n"
     ]
    }
   ],
   "source": [
    "import numpy as np\n",
    "\n",
    "def element(a: np.ndarray, p: int):\n",
    "    return -1 if (p >= a.size or p < 0) else a.flatten()[p]\n",
    "\n",
    "\n",
    "p = 0\n",
    "a = np.array([\n",
    "    [[4,3,6],[3,2,8]],\n",
    "    [[1,5,7],[2,6,7]],\n",
    "    [[3,6,7],[3,7,4]],\n",
    "    [[4,2,7],[4,3,1]],\n",
    "    [[5,3,5],[3,6,5]],\n",
    "])\n",
    "\n",
    "print(element(a, p))\n",
    "print(element(np.array([[[4,3,6],[3,2,8]],[[1,5,7],[2,6,7]],[[3,6,7],[3,7,4]],[[4,2,7],[4,3,1]],[[5,3,5],[3,6,5]]]), 0))\n",
    "print(element(np.array([[[4,3,6],[3,2,8]],[[1,5,7],[2,6,7]],[[3,6,7],[3,7,4]],[[4,2,7],[4,3,1]],[[5,3,5],[3,6,5]]]), 5))\n",
    "print(element(np.array([[[4,3,6],[3,2,8]],[[1,5,7],[2,6,7]],[[3,6,7],[3,7,4]],[[4,2,7],[4,3,1]],[[5,3,5],[3,6,5]]]), 29))\n",
    "print(element(np.array([[[4,3,6],[3,2,8]],[[1,5,7],[2,6,7]],[[3,6,7],[3,7,4]],[[4,2,7],[4,3,1]],[[5,3,5],[3,6,5]]]), 30))"
   ]
  },
  {
   "cell_type": "raw",
   "metadata": {
    "vscode": {
     "languageId": "raw"
    }
   },
   "source": [
    "Write a function exchangecolumns(a) that takes a 2D NumPy array and returns \n",
    "the array where the columns are swapped (e.g. column 0 swapped with column 1, column 2 with column 3 and so on).\n",
    "If the number of columns is odd, the function returns None without doing any computation.\n",
    "\n",
    "Hint: create a NumPy array that contains the permutation, i.e. [1,0,3,2...]\n",
    "You must use NumPy features. Do not use loops, comprehensions, recursion."
   ]
  },
  {
   "cell_type": "code",
   "execution_count": 216,
   "metadata": {},
   "outputs": [
    {
     "name": "stdout",
     "output_type": "stream",
     "text": [
      "[[1 0]\n",
      " [3 2]\n",
      " [5 4]]\n",
      "[[ 1  0  3  2]\n",
      " [ 5  4  7  6]\n",
      " [ 9  8 11 10]\n",
      " [13 12 15 14]\n",
      " [17 16 19 18]]\n",
      "[[ 1.  0.  3.  2.]\n",
      " [ 5.  4.  7.  6.]\n",
      " [ 9.  8. 11. 10.]]\n",
      "None\n",
      "[[42  3 11  5 55 44]\n",
      " [ 9  7  1  4  2  3]]\n"
     ]
    }
   ],
   "source": [
    "import numpy as np\n",
    "\n",
    "def exchangecolumns(a: np.ndarray):\n",
    "    _, columns = a.shape\n",
    "\n",
    "    if columns % 2 == 1:\n",
    "        return None\n",
    "    \n",
    "    even_columns, odd_columns = a[:,0::2].copy(), a[:,1::2].copy()\n",
    "    a[:,0::2], a[:,1::2] = odd_columns, even_columns\n",
    "\n",
    "    return a\n",
    "\n",
    "a = np.arange(0, 6).reshape(3, 2)\n",
    "print(exchangecolumns(a))\n",
    "\t\n",
    "print(exchangecolumns(np.arange(0,20).reshape(5,4)))\n",
    "\t\n",
    "print(exchangecolumns(np.arange(0.,12.).reshape(3,4)))\n",
    "print(exchangecolumns(np.arange(0,25).reshape(5,5)))\n",
    "print(exchangecolumns(np.array([[3,42,5,11,44,55],[7,9,4,1,3,2]])))\n"
   ]
  },
  {
   "cell_type": "code",
   "execution_count": 8,
   "metadata": {},
   "outputs": [
    {
     "name": "stdout",
     "output_type": "stream",
     "text": [
      "[[ 2  4  6]\n",
      " [12 15 18]]\n"
     ]
    }
   ],
   "source": [
    "import numpy as np\n",
    "\n",
    "def multiply_rows(A, B):\n",
    "    return np.array([A[0, :] * B[0], A[1, :] * B[1]])\n",
    "\n",
    "A = np.array([[1, 2, 3], [4, 5, 6]])\n",
    "B = np.array([2, 3])\n",
    "\n",
    "\n",
    "print(multiply_rows(A, B))\n"
   ]
  },
  {
   "cell_type": "code",
   "execution_count": null,
   "metadata": {},
   "outputs": [],
   "source": [
    "import numpy as np\n",
    "\n",
    "A = np.array([[1, 2, 3], [4, 5, 6]])\n",
    "Am = np.mean()\n"
   ]
  },
  {
   "cell_type": "code",
   "execution_count": null,
   "metadata": {},
   "outputs": [],
   "source": []
  },
  {
   "cell_type": "code",
   "execution_count": null,
   "metadata": {},
   "outputs": [],
   "source": []
  },
  {
   "cell_type": "code",
   "execution_count": null,
   "metadata": {},
   "outputs": [],
   "source": []
  }
 ],
 "metadata": {
  "kernelspec": {
   "display_name": ".venv",
   "language": "python",
   "name": "python3"
  },
  "language_info": {
   "codemirror_mode": {
    "name": "ipython",
    "version": 3
   },
   "file_extension": ".py",
   "mimetype": "text/x-python",
   "name": "python",
   "nbconvert_exporter": "python",
   "pygments_lexer": "ipython3",
   "version": "3.11.4"
  }
 },
 "nbformat": 4,
 "nbformat_minor": 2
}
