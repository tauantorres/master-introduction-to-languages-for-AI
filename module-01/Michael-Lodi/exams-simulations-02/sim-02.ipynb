{
 "cells": [
  {
   "cell_type": "code",
   "execution_count": 229,
   "metadata": {},
   "outputs": [
    {
     "data": {
      "text/plain": [
       "[1, 2, 3]"
      ]
     },
     "execution_count": 229,
     "metadata": {},
     "output_type": "execute_result"
    }
   ],
   "source": [
    "def foo(L):\n",
    "    freq = {v: L.count(v) for v in L}\n",
    "    freq_items = list(freq.items())\n",
    "    freq_sorted = sorted(freq_items, key= lambda item: item[1], reverse=False)\n",
    "    return [i[0] for i in freq_sorted]\n",
    "L = [1,2,2,3,3,3,3]\n",
    "\n",
    "freq = {v: L.count(v) for v in L}\n",
    "freq_items = list(freq.items())\n",
    "freq_sorted = sorted(freq_items, key= lambda item: item[1], reverse=False)\n",
    "[i[0] for i in freq_sorted]"
   ]
  },
  {
   "cell_type": "code",
   "execution_count": 232,
   "metadata": {},
   "outputs": [
    {
     "name": "stdout",
     "output_type": "stream",
     "text": [
      "5.0\n"
     ]
    }
   ],
   "source": [
    "from math import sqrt\n",
    "\n",
    "def first_degree(a,b):\n",
    "    try:\n",
    "        x = -b/a\n",
    "        return round(x, 2)\n",
    "    \n",
    "    except ZeroDivisionError:\n",
    "        \n",
    "        try:\n",
    "            y = 1/b\n",
    "            return \"no solutions: a==0 and b!=0\"\n",
    "        \n",
    "        except ZeroDivisionError:\n",
    "            return \"trivial: a==0 and b==0\"\n",
    "\n",
    "print(first_degree(2, -10))"
   ]
  },
  {
   "cell_type": "code",
   "execution_count": 245,
   "metadata": {},
   "outputs": [
    {
     "name": "stdout",
     "output_type": "stream",
     "text": [
      "(False, [1, 3, 7, 10, 12]) True\n",
      "(True, [1, 3, 5, 7, 9]) True\n"
     ]
    }
   ],
   "source": [
    "def sum_one_inplace(L, p=0):\n",
    "    for i in range(p, len(L)):\n",
    "        L[i] += 1\n",
    "\n",
    "def all_fair(L):\n",
    "    return all([L[i + 1] != L[i] + 1 for i in range(len(L) - 1)])\n",
    "\n",
    "def fair(L):\n",
    "    fair_init = all_fair(L=L)\n",
    "\n",
    "    while not all_fair(L):\n",
    "        for i in range(len(L) - 1):\n",
    "            if L[i + 1] == L[i] + 1:\n",
    "                sum_one_inplace(L, i + 1)\n",
    "                break\n",
    "\n",
    "    return fair_init, L\n",
    "\n",
    "\n",
    "\n",
    "X=[1,2,6,9,10]\n",
    "idX=id(X)\n",
    "FX=fair(X)\n",
    "print(FX, id(FX[1])==idX)\n",
    "\n",
    "W=[1,3,5,7,9]\n",
    "idW=id(W)\n",
    "FW=fair(W)\n",
    "print(FW,id(FW[1])==idW)"
   ]
  },
  {
   "cell_type": "code",
   "execution_count": 249,
   "metadata": {},
   "outputs": [
    {
     "name": "stdout",
     "output_type": "stream",
     "text": [
      "15\n",
      "-15\n"
     ]
    }
   ],
   "source": [
    "class Number:\n",
    "\n",
    "    def __init__(self, x):\n",
    "        self.x = x \n",
    "\n",
    "    def __mul__(self: \"Number\", other: \"Number\"):\n",
    "        return self.x * other.x\n",
    "\n",
    "class A(Number): ...\n",
    "\n",
    "class B(Number):\n",
    "\n",
    "    def __mul__(self, other):\n",
    "        return - super().__mul__(other)\n",
    "    \n",
    "print(A(3)*B(5))\n",
    "print(B(3)*A(5))"
   ]
  },
  {
   "cell_type": "code",
   "execution_count": 254,
   "metadata": {},
   "outputs": [
    {
     "name": "stdout",
     "output_type": "stream",
     "text": [
      "0\n",
      "1\n",
      "2\n",
      "3\n"
     ]
    }
   ],
   "source": [
    "def exhaustgen(G):\n",
    "    try:\n",
    "        while G:\n",
    "            next(G)\n",
    "    except StopIteration:\n",
    "        pass\n",
    "\n",
    "exhaustgen(i for i in range(4))\n",
    "exhaustgen(print(i) for i in range(4))\n",
    "\n"
   ]
  },
  {
   "cell_type": "code",
   "execution_count": 257,
   "metadata": {},
   "outputs": [
    {
     "name": "stdout",
     "output_type": "stream",
     "text": [
      "True True\n"
     ]
    }
   ],
   "source": [
    "def my_update(D1,D2):\n",
    "    for k, v in D2.items():\n",
    "\n",
    "        if k not in D1.keys():\n",
    "            D1[k] = v\n",
    "        else:\n",
    "            D1[k] = D2[k] + D1[k]\n",
    "\n",
    "\n",
    "\n",
    "\n",
    "D1={1:'10',2:20}\n",
    "D2={1:'100',3:30}\n",
    "my_update(D1,D2)\n",
    "print(D1=={1: '10010', 2: 20, 3: 30},D2=={1: '100', 3: 30})"
   ]
  },
  {
   "cell_type": "code",
   "execution_count": 264,
   "metadata": {},
   "outputs": [
    {
     "name": "stdout",
     "output_type": "stream",
     "text": [
      "10\n"
     ]
    }
   ],
   "source": [
    "class A(Exception): ...\n",
    "\n",
    "class B(A):\n",
    "\n",
    "    def __init__(self, b):\n",
    "        self.b = b \n",
    "    \n",
    "    def __str__(self):\n",
    "        return str(self.b)\n",
    "\n",
    "try:\n",
    "    raise B(10)\n",
    "except A as x:\n",
    "    print(x)"
   ]
  },
  {
   "cell_type": "code",
   "execution_count": 286,
   "metadata": {},
   "outputs": [
    {
     "name": "stdout",
     "output_type": "stream",
     "text": [
      "[1, 0, 2]\n"
     ]
    }
   ],
   "source": [
    "def without_pick(L):\n",
    "    return all([not (L[i-1]<L[i]>L[i + 1]) for i in range(1, len(L) - 1)])\n",
    "\n",
    "def spicca(L):\n",
    "    while not without_pick(L):\n",
    "        i, L_size = 1, len(L) - 1\n",
    "        while i < L_size:\n",
    "            \n",
    "            if L[i-1]< L[i] >L[i + 1]:\n",
    "                del L[i]\n",
    "                break\n",
    "\n",
    "            else:\n",
    "                i += 1\n",
    "\n",
    "    return L\n",
    "\n",
    "L = [1,3,4,0,9,6,8,7,2]\n",
    "print(spicca([1,3,4,0,9,6,8,7,2]))\n"
   ]
  },
  {
   "cell_type": "code",
   "execution_count": 287,
   "metadata": {},
   "outputs": [
    {
     "name": "stdout",
     "output_type": "stream",
     "text": [
      "[1, 0, 2]\n",
      "[]\n",
      "[1]\n",
      "[1, 3]\n",
      "[1, 2, 3]\n",
      "[1, 1]\n",
      "[1, -1]\n",
      "[7, 6, 5, 4, 3, 2, -1]\n"
     ]
    }
   ],
   "source": [
    "print(spicca(L))\n",
    "print(spicca([]))\n",
    "print(spicca([1]))\n",
    "print(spicca([1,3]))\n",
    "print(spicca([1,2,3]))\n",
    "print(spicca([1,3,1]))\n",
    "print(spicca([1,2,3,4,5,6,7,-1]))\n",
    "print(spicca([7,6,5,4,3,2,3,-1]))"
   ]
  },
  {
   "cell_type": "code",
   "execution_count": 290,
   "metadata": {},
   "outputs": [
    {
     "name": "stdout",
     "output_type": "stream",
     "text": [
      "True\n",
      "True\n"
     ]
    }
   ],
   "source": [
    "class Top:\n",
    "    def __init__(self,s):\n",
    "        if type(s)!=str:\n",
    "            raise TypeError\n",
    "        self.__st=s\n",
    "\n",
    "    def get(self):\n",
    "        return self.__st\n",
    "    \n",
    "class A(Top):\n",
    "\n",
    "    def __eq__(self: \"Top\", other: \"Top\"):\n",
    "        return self.get() == other.get()\n",
    "    \n",
    "class B(A): \n",
    "    def __eq__(self: \"Top\", other: \"Top\"):\n",
    "        return self.get() == other.get()[::-1]\n",
    "    \n",
    "a1=A('pippo')\n",
    "a2=A('pippo')\n",
    "print(a1==a2)\n",
    "\n",
    "b1=B('pippo')\n",
    "b2=B('oppip')\n",
    "print(b1==b2)"
   ]
  },
  {
   "cell_type": "code",
   "execution_count": null,
   "metadata": {},
   "outputs": [],
   "source": [
    "\n",
    "import numpy as np\n",
    "\n",
    "np.maximum()\n"
   ]
  },
  {
   "cell_type": "code",
   "execution_count": 291,
   "metadata": {},
   "outputs": [
    {
     "name": "stdout",
     "output_type": "stream",
     "text": [
      "[2 2 1]\n"
     ]
    }
   ],
   "source": [
    "import numpy as np\n",
    "\n",
    "def min_col(A):\n",
    "    return np.min(A, axis=0)\n",
    "\n",
    "A = np.array([[2,4,9],\n",
    "              [3,2,1],\n",
    "              [7,3,1]])\n",
    "\n",
    "print(min_col(A))"
   ]
  },
  {
   "cell_type": "code",
   "execution_count": 295,
   "metadata": {},
   "outputs": [
    {
     "name": "stdout",
     "output_type": "stream",
     "text": [
      "True True\n"
     ]
    }
   ],
   "source": [
    "\n",
    "def new_update(D1, D2):\n",
    "    keys_to_remove = []\n",
    "    for k, v in D1.items():\n",
    "        if k not in D2.keys():\n",
    "            D2[k] = v\n",
    "        else:\n",
    "            keys_to_remove.append(k)\n",
    "\n",
    "    for k in keys_to_remove:\n",
    "        del D1[k], D2[k]\n",
    "\n",
    "\n",
    "D1={1:10,2:20}\n",
    "D2={1:100,3:30}\n",
    "\n",
    "# keys_to_remove = []\n",
    "# for k, v in D1.items():\n",
    "#     if k not in D2.keys():\n",
    "#         D2[k] = v\n",
    "#     else:\n",
    "#         keys_to_remove.append(k)\n",
    "\n",
    "# for k in keys_to_remove:\n",
    "#     del D1[k], D2[k]\n",
    "\n",
    "# D1, D2\n",
    "new_update(D1,D2)\n",
    "print(D1=={2: 20},D2=={2:20, 3: 30})\n"
   ]
  },
  {
   "cell_type": "code",
   "execution_count": 297,
   "metadata": {},
   "outputs": [
    {
     "name": "stdout",
     "output_type": "stream",
     "text": [
      "3\n",
      "2\n",
      "1\n",
      "0\n"
     ]
    }
   ],
   "source": [
    "def printgen(x):\n",
    "    Xl = list(x)[::-1]\n",
    "    for i in Xl:\n",
    "        print(i)\n",
    "\n",
    "X=(i for i in range(4))\n",
    "printgen(X)"
   ]
  },
  {
   "cell_type": "code",
   "execution_count": 338,
   "metadata": {},
   "outputs": [
    {
     "data": {
      "text/plain": [
       "True"
      ]
     },
     "execution_count": 338,
     "metadata": {},
     "output_type": "execute_result"
    }
   ],
   "source": [
    "def order_inplace(L):\n",
    "    n= len(L)\n",
    "    for i in range(n):\n",
    "        for j in range(n - i - 1):\n",
    "            if L[j] > L[j + 1]:\n",
    "                L[j], L[j + 1] = L[j + 1], L[j]\n",
    "\n",
    "    return L\n",
    "\n",
    "L=[10, 1, 11, 22, 3, 5, 23]\n",
    "L_id = id(L)\n",
    "Ln = order_inplace(L)\n",
    "Ln_id = id(Ln)\n",
    "Ln_id == L_id"
   ]
  },
  {
   "cell_type": "code",
   "execution_count": 332,
   "metadata": {},
   "outputs": [
    {
     "name": "stdout",
     "output_type": "stream",
     "text": [
      "0 0 [10, 1, 11, 22, 3, 5, 23]\n",
      "0 1 [1, 10, 11, 22, 3, 5, 23]\n",
      "0 2 [1, 10, 11, 22, 3, 5, 23]\n",
      "0 3 [1, 10, 11, 22, 3, 5, 23]\n",
      "0 4 [1, 10, 11, 3, 22, 5, 23]\n",
      "0 5 [1, 10, 11, 3, 5, 22, 23]\n",
      "1 0 [1, 10, 11, 3, 5, 22, 23]\n",
      "1 1 [1, 10, 11, 3, 5, 22, 23]\n",
      "1 2 [1, 10, 11, 3, 5, 22, 23]\n",
      "1 3 [1, 10, 3, 11, 5, 22, 23]\n",
      "1 4 [1, 10, 3, 5, 11, 22, 23]\n",
      "2 0 [1, 10, 3, 5, 11, 22, 23]\n",
      "2 1 [1, 10, 3, 5, 11, 22, 23]\n",
      "2 2 [1, 3, 10, 5, 11, 22, 23]\n",
      "2 3 [1, 3, 5, 10, 11, 22, 23]\n",
      "3 0 [1, 3, 5, 10, 11, 22, 23]\n",
      "3 1 [1, 3, 5, 10, 11, 22, 23]\n",
      "3 2 [1, 3, 5, 10, 11, 22, 23]\n",
      "4 0 [1, 3, 5, 10, 11, 22, 23]\n",
      "4 1 [1, 3, 5, 10, 11, 22, 23]\n",
      "5 0 [1, 3, 5, 10, 11, 22, 23]\n"
     ]
    },
    {
     "data": {
      "text/plain": [
       "[1, 3, 5, 10, 11, 22, 23]"
      ]
     },
     "execution_count": 332,
     "metadata": {},
     "output_type": "execute_result"
    }
   ],
   "source": [
    "def move_in_place(L, i=0, f=0):\n",
    "    for j in range(i, len(L) - 1 - f):\n",
    "        L[j + 1], L[j] = L[j], L[j + 1]\n",
    "\n",
    "def to_the_end_inplace(L: list, i: int=0) -> None:\n",
    "    for j in range(i, len(L) - 1):\n",
    "        L[j + 1], L[j] = L[j], L[j + 1]\n",
    "\n",
    "def increasing_order(L):\n",
    "    return all([L[i]<= L[i + 1] for i in range(len(L) - 1)])\n",
    "\n",
    "def partition(L):\n",
    "    n = len(L)\n",
    "    for i in range(n):\n",
    "        for j in range(0, n - i - 1):\n",
    "            if L[j] > L[j + 1]:\n",
    "                L[j], L[j + 1] = L[j + 1], L[j]\n",
    "\n",
    "L=[10, 1, 11, 22, 3, 5, 23]\n",
    "\n",
    "\n",
    "n = len(L)\n",
    "for i in range(n):\n",
    "    for j in range(0, n - i - 1):\n",
    "        if L[j] > L[j + 1]:\n",
    "            L[j], L[j + 1] = L[j + 1], L[j]\n",
    "\n",
    "L\n"
   ]
  },
  {
   "cell_type": "code",
   "execution_count": 335,
   "metadata": {},
   "outputs": [
    {
     "name": "stdout",
     "output_type": "stream",
     "text": [
      "200\n"
     ]
    }
   ],
   "source": [
    "class A:\n",
    "    def __init__(self,x):\n",
    "        self.xx = x\n",
    "\n",
    "class B(A):\n",
    "\n",
    "    def __init__(self, x, y):\n",
    "        super().__init__(x)\n",
    "        self.y = y\n",
    "\n",
    "    def __str__(self):\n",
    "        return \"B: \" + str(self.xx * self.y)\n",
    "    \n",
    "b=B(10,20)\n",
    "print(b)"
   ]
  },
  {
   "cell_type": "code",
   "execution_count": 336,
   "metadata": {},
   "outputs": [
    {
     "name": "stdout",
     "output_type": "stream",
     "text": [
      "[1 4 2 4]\n"
     ]
    }
   ],
   "source": [
    "import numpy as np\n",
    "\n",
    "def filter_ones(A, B):\n",
    "    return A[B.T == 1]\n",
    "\n",
    "A = np.array([[7,1,4], [2,5,4]])\n",
    "B = np.array([[0,1], [1,0],[1,1]])\n",
    "print(filter_ones(A,B))"
   ]
  },
  {
   "cell_type": "code",
   "execution_count": 337,
   "metadata": {},
   "outputs": [
    {
     "data": {
      "text/plain": [
       "array([[False,  True,  True],\n",
       "       [ True, False,  True]])"
      ]
     },
     "execution_count": 337,
     "metadata": {},
     "output_type": "execute_result"
    }
   ],
   "source": [
    "B.T == 1"
   ]
  },
  {
   "cell_type": "code",
   "execution_count": null,
   "metadata": {},
   "outputs": [],
   "source": []
  },
  {
   "cell_type": "code",
   "execution_count": 354,
   "metadata": {},
   "outputs": [
    {
     "name": "stdout",
     "output_type": "stream",
     "text": [
      "[[ 2  4  6]\n",
      " [12 15 18]]\n"
     ]
    }
   ],
   "source": [
    "import numpy as np\n",
    "\n",
    "def multiply_rows(A, B):\n",
    "    return A * B[:, np.newaxis]\n",
    "\n",
    "A = np.array([[1, 2, 3], [4, 5, 6]])\n",
    "B = np.array([2, 3])\n",
    "\n",
    "\n",
    "print(multiply_rows(A, B))\n"
   ]
  },
  {
   "cell_type": "code",
   "execution_count": 358,
   "metadata": {},
   "outputs": [
    {
     "name": "stdout",
     "output_type": "stream",
     "text": [
      "[[-1.  0.  1.]\n",
      " [-1.  0.  1.]]\n"
     ]
    }
   ],
   "source": [
    "# Question 02\n",
    "import numpy as np\n",
    "\n",
    "def mean_diff(A):\n",
    "    return A - np.mean(A, axis=1)[:, np.newaxis]\n",
    "\n",
    "A = np.array([[1, 2, 3], [4, 5, 6]])\n",
    "Am = np.mean(A, axis=1)\n",
    "\n",
    "# A - Am[:, np.newaxis]\n",
    "print(mean_diff(np.array([[1, 2, 3], [4, 5, 6]])))\n"
   ]
  },
  {
   "cell_type": "code",
   "execution_count": 361,
   "metadata": {},
   "outputs": [
    {
     "name": "stdout",
     "output_type": "stream",
     "text": [
      "15\n"
     ]
    }
   ],
   "source": [
    "# Question 03\n",
    "import numpy as np\n",
    "\n",
    "def diagonal_sum(A):\n",
    "    return np.sum(A.diagonal())\n",
    "\n",
    "A = np.array([[1, 2, 3], [4, 5, 6], [7, 8, 9]])\n",
    "\n",
    "\n",
    "print(diagonal_sum(A))\n",
    "\n"
   ]
  },
  {
   "cell_type": "code",
   "execution_count": 365,
   "metadata": {},
   "outputs": [
    {
     "name": "stdout",
     "output_type": "stream",
     "text": [
      "5\n"
     ]
    }
   ],
   "source": [
    "# Question 04:\n",
    "\n",
    "def unique_count(A):\n",
    "    return np.unique(A).size\n",
    "\n",
    "\n",
    "A = np.array([[1, 2, 3], [4, 5, 1]])\n",
    "print(unique_count(A))\n",
    "\n",
    "\n"
   ]
  },
  {
   "cell_type": "code",
   "execution_count": 371,
   "metadata": {},
   "outputs": [
    {
     "data": {
      "text/plain": [
       "np.int64(8)"
      ]
     },
     "execution_count": 371,
     "metadata": {},
     "output_type": "execute_result"
    }
   ],
   "source": [
    "# Question 05:\n",
    "\n",
    "def foo(i, j):\n",
    "    return (i + j) % 2 \n",
    "\n",
    "def checkerboard(m):\n",
    "    return np.fromfunction(foo, shape=(m, m))\n",
    "\n",
    "def checkerboard_sum(m):\n",
    "    return np.sum(checkerboard(m), dtype=int)\n",
    "\n",
    "checkerboard_sum(4)"
   ]
  },
  {
   "cell_type": "code",
   "execution_count": 378,
   "metadata": {},
   "outputs": [
    {
     "name": "stdout",
     "output_type": "stream",
     "text": [
      "[[1. 3.]\n",
      " [4. 6.]]\n"
     ]
    }
   ],
   "source": [
    "# Question 06:\n",
    "\n",
    "def remove_nan_columns(a):\n",
    "    return a[:, np.logical_not(np.isnan(a).any(axis=0))]\n",
    "\n",
    "def remove_nan_rows(a):\n",
    "    return a[np.logical_not(np.isnan(a).any(axis=1))]\n",
    "\n",
    "\n",
    "A = np.array([[1, np.nan, 3], [4, 5, 6]])\n",
    "\n",
    "A[:, ~np.isnan(A).any(axis=0)]\n",
    "\n",
    "\n",
    "print(remove_nan_columns(A))\n"
   ]
  },
  {
   "cell_type": "code",
   "execution_count": 379,
   "metadata": {},
   "outputs": [
    {
     "name": "stdout",
     "output_type": "stream",
     "text": [
      "[[0. 1. 2.]\n",
      " [1. 2. 3.]\n",
      " [2. 3. 4.]]\n"
     ]
    }
   ],
   "source": [
    "# Question 07:\n",
    "\n",
    "def foo(i, j):\n",
    "    return i + j\n",
    "\n",
    "def distance_matrix(m):\n",
    "    return np.fromfunction(foo, shape=(m, m), dtype=int)\n",
    "\n",
    "print(distance_matrix(3))\n"
   ]
  },
  {
   "cell_type": "code",
   "execution_count": 382,
   "metadata": {},
   "outputs": [
    {
     "name": "stdout",
     "output_type": "stream",
     "text": [
      "[[ 4 10  6]\n",
      " [12 15  6]]\n"
     ]
    }
   ],
   "source": [
    "# Question 08:\n",
    "\n",
    "def pairwise_lcm(A, B):\n",
    "    return np.lcm.outer(A, B)\n",
    "\n",
    "A = np.array([2, 3])\n",
    "B = np.array([4, 5, 6])\n",
    "\n",
    "print(pairwise_lcm( A, B))\n"
   ]
  },
  {
   "cell_type": "code",
   "execution_count": 383,
   "metadata": {},
   "outputs": [
    {
     "name": "stdout",
     "output_type": "stream",
     "text": [
      "4\n",
      "-1\n"
     ]
    }
   ],
   "source": [
    "# Question 09:\n",
    "def flatten_index(A, p):\n",
    "    return -1 if p < 0 or p >= A.size else A.flatten()[p]\n",
    "\n",
    "\n",
    "print(flatten_index(np.array([[1, 2], [3, 4]]), 3))\n",
    "print(flatten_index(np.array([[1, 2], [3, 4]]), 5))\n"
   ]
  },
  {
   "cell_type": "code",
   "execution_count": 398,
   "metadata": {},
   "outputs": [
    {
     "data": {
      "text/plain": [
       "array([[ 3, 56]])"
      ]
     },
     "execution_count": 398,
     "metadata": {},
     "output_type": "execute_result"
    }
   ],
   "source": [
    "A = np.array([[3], [56]]).reshape(1, -1)\n",
    "B = np.array([1, -1]).reshape(-1, 1)\n",
    "\n",
    "A"
   ]
  },
  {
   "cell_type": "code",
   "execution_count": null,
   "metadata": {},
   "outputs": [],
   "source": []
  }
 ],
 "metadata": {
  "language_info": {
   "name": "python"
  }
 },
 "nbformat": 4,
 "nbformat_minor": 2
}
