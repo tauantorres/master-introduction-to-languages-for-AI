{
 "cells": [
  {
   "cell_type": "raw",
   "metadata": {
    "vscode": {
     "languageId": "raw"
    }
   },
   "source": [
    "Question 01\n",
    "\n",
    "Write a function merge(a,b) that takes a 2D NumPy numerical array a and a 1D NumPy numerical array b with the same size (the same number of elements), and:\n",
    "reshapes b so that it is a 2D array with the same shape of a\n",
    "returns a new 2D NumPy array that, for each element i,j, contains the biggest value between a[i,j] and b[i,j], as floats.\n",
    "You must use NumPy features. Do not use loops, comprehensions, recursion.\n",
    "\n",
    "For example:\n",
    "\n",
    "Test\tResult\n",
    "print(merge(np.array([[0,20,4],[7,1,3]]),np.array([0,1,2,3,4,5])))\n",
    "[[ 0. 20.  4.]\n",
    " [ 7.  4.  5.]]"
   ]
  },
  {
   "cell_type": "code",
   "execution_count": 107,
   "metadata": {},
   "outputs": [],
   "source": [
    "import numpy as np\n",
    "\n",
    "def merge(a: np.ndarray, b: np.ndarray) -> np.ndarray:\n",
    "    b_reshaped = b.reshape(a.shape)\n",
    "    return np.maximum(a, b_reshaped).astype(float)\n"
   ]
  },
  {
   "cell_type": "code",
   "execution_count": 40,
   "metadata": {},
   "outputs": [
    {
     "data": {
      "text/plain": [
       "(2, 3)"
      ]
     },
     "execution_count": 40,
     "metadata": {},
     "output_type": "execute_result"
    }
   ],
   "source": [
    "import numpy as np\n",
    "\n",
    "a = np.array([\n",
    "    [0, 20, 4],\n",
    "    [7, 1, 3]    \n",
    "])\n",
    "b = np.array([0, 1, 2, 3, 4, 5])\n",
    "\n",
    "\n",
    "a.shape\n"
   ]
  },
  {
   "cell_type": "code",
   "execution_count": 42,
   "metadata": {},
   "outputs": [
    {
     "data": {
      "text/plain": [
       "array([[0, 1, 2],\n",
       "       [3, 4, 5]])"
      ]
     },
     "execution_count": 42,
     "metadata": {},
     "output_type": "execute_result"
    }
   ],
   "source": [
    "b.reshape(a.shape)"
   ]
  },
  {
   "cell_type": "code",
   "execution_count": 41,
   "metadata": {},
   "outputs": [
    {
     "data": {
      "text/plain": [
       "array([ 0, 20,  4,  7,  1,  3])"
      ]
     },
     "execution_count": 41,
     "metadata": {},
     "output_type": "execute_result"
    }
   ],
   "source": [
    "a.reshape(b.shape)"
   ]
  },
  {
   "cell_type": "code",
   "execution_count": 43,
   "metadata": {},
   "outputs": [
    {
     "data": {
      "text/plain": [
       "(array([[ 0, 20,  4],\n",
       "        [ 7,  1,  3]]),\n",
       " array([0, 1, 2, 3, 4, 5]))"
      ]
     },
     "execution_count": 43,
     "metadata": {},
     "output_type": "execute_result"
    }
   ],
   "source": [
    "a, b"
   ]
  },
  {
   "cell_type": "code",
   "execution_count": null,
   "metadata": {},
   "outputs": [],
   "source": [
    "b_reshaped = b.reshape(a.shape)\n",
    "b_reshaped\n",
    "\n"
   ]
  },
  {
   "cell_type": "code",
   "execution_count": 45,
   "metadata": {},
   "outputs": [
    {
     "name": "stdout",
     "output_type": "stream",
     "text": [
      "[[ 0. 20.  4.]\n",
      " [ 7.  4.  5.]]\n"
     ]
    }
   ],
   "source": [
    "merged_array = merge(a, b)\n",
    "print(merged_array)\n"
   ]
  },
  {
   "cell_type": "raw",
   "metadata": {
    "vscode": {
     "languageId": "raw"
    }
   },
   "source": [
    "Question 02\n",
    "\n",
    "Demeaning is the process in which the mean of a group of data is subtracted from any element of the group. In such a way the mean of the transformed data is zero. Example: demeaning [7, 5] transforms the data into [1, -1].\n",
    "Using NumPy features, write a function demean(a) that takes a 2d array and returns a new 2d array with the same shape, where all columns have been demeaned, i.e. the mean of each column of the result array is equal to 0.\n",
    "You must use NumPy features. Do not use loops, comprehensions, recursion.\n",
    "\n",
    "For example:\n",
    "\n",
    "Test\tResult\n",
    "print(demean(np.array([[1,2,3],\n",
    "                [4,5,6],\n",
    "                [7,8,9],\n",
    "                [10,11,12]])))\n",
    "[[-4.5 -4.5 -4.5]\n",
    " [-1.5 -1.5 -1.5]\n",
    " [ 1.5  1.5  1.5]\n",
    " [ 4.5  4.5  4.5]]\n",
    "print(demean(np.array([[7,2,4],[5,1,8]])))\n",
    "[[ 1.   0.5 -2. ]\n",
    " [-1.  -0.5  2. ]]\n",
    "print(demean(np.array([[4,7,12],[5,44,3],[3,6,9]])))\n",
    "[[  0. -12.   4.]\n",
    " [  1.  25.  -5.]\n",
    " [ -1. -13.   1.]]"
   ]
  },
  {
   "cell_type": "code",
   "execution_count": 58,
   "metadata": {},
   "outputs": [
    {
     "name": "stdout",
     "output_type": "stream",
     "text": [
      "[[-4.5 -4.5 -4.5]\n",
      " [-1.5 -1.5 -1.5]\n",
      " [ 1.5  1.5  1.5]\n",
      " [ 4.5  4.5  4.5]]\n"
     ]
    }
   ],
   "source": [
    "import numpy as np\n",
    "\n",
    "def demean(a: np.ndarray) -> np.ndarray:\n",
    "    return a - np.mean(a, axis=0)\n",
    "\n",
    "vector = np.array([\n",
    "    [1,2,3],\n",
    "    [4,5,6],\n",
    "    [7,8,9],\n",
    "    [10,11,12]\n",
    "])\n",
    "\n",
    "print(demean(vector))\n"
   ]
  },
  {
   "cell_type": "code",
   "execution_count": 94,
   "metadata": {},
   "outputs": [
    {
     "data": {
      "text/plain": [
       "(np.float64(6.5),\n",
       " array([[-5.5, -4.5, -3.5],\n",
       "        [-2.5, -1.5, -0.5],\n",
       "        [ 0.5,  1.5,  2.5],\n",
       "        [ 3.5,  4.5,  5.5]]))"
      ]
     },
     "execution_count": 94,
     "metadata": {},
     "output_type": "execute_result"
    }
   ],
   "source": [
    "vector = np.array([\n",
    "    [1, 2, 3],\n",
    "    [4, 5, 6],\n",
    "    [7, 8, 9],\n",
    "    [10, 11, 12]\n",
    "])\n",
    "\n",
    "mean_vector = np.mean(vector)\n",
    "vector_minus_mean = vector - mean_vector\n",
    "mean_vector, vector_minus_mean\n"
   ]
  },
  {
   "cell_type": "code",
   "execution_count": 57,
   "metadata": {},
   "outputs": [
    {
     "data": {
      "text/plain": [
       "array([[ 0., 20.],\n",
       "       [ 4.,  7.],\n",
       "       [ 4.,  5.]])"
      ]
     },
     "execution_count": 57,
     "metadata": {},
     "output_type": "execute_result"
    }
   ],
   "source": [
    "np.empty((3, 2))"
   ]
  },
  {
   "cell_type": "raw",
   "metadata": {},
   "source": [
    "Question 03:\n",
    "\n",
    "Write a function colsum(a) which given a 2D NumPy array a with shape (n,p) (with p>=2), returns a new array with shape (1,2) where the first element is the sum of all the elements in the even columns (0, 2, 4, ...) and the second element is the sum of all the elements in the odd columns (1, 3, 5, ...).\n",
    "\n",
    "You must use NumPy features. Do not use loops, comprehensions, recursion.\n",
    "\n",
    "\n",
    "For example:\n",
    "\n",
    "Test\tResult\n",
    "print(colsum(np.array([[2, 7, 8, 0],\n",
    "                       [3, 9, 3, 4],\n",
    "                       [4, 0, 1, 3]])))\n",
    "[21 23]\n",
    "print(colsum(np.array([[0, 7, 0],\n",
    "                       [0, 9, 0],\n",
    "                       [0, 0, 0]])))\n",
    "[ 0 16]\n"
   ]
  },
  {
   "cell_type": "code",
   "execution_count": 90,
   "metadata": {},
   "outputs": [],
   "source": [
    "import numpy as np\n",
    "\n",
    "def colsum(a: np.ndarray) -> np.ndarray:\n",
    "    return np.array([np.sum(a[::, ::2]) ,np.sum(a[::, 1::2])])\n",
    "\n"
   ]
  },
  {
   "cell_type": "code",
   "execution_count": 92,
   "metadata": {},
   "outputs": [
    {
     "name": "stdout",
     "output_type": "stream",
     "text": [
      "[21 23]\n"
     ]
    }
   ],
   "source": [
    "vector = np.array([\n",
    "    [2, 7, 8, 0],\n",
    "    [3, 9, 3, 4],\n",
    "    [4, 0, 1, 3],\n",
    "])\n",
    "\n",
    "print(colsum(vector))"
   ]
  },
  {
   "cell_type": "code",
   "execution_count": 72,
   "metadata": {},
   "outputs": [
    {
     "data": {
      "text/plain": [
       "array([[ 0,  1,  2,  3,  4,  5,  6],\n",
       "       [ 7,  8,  9, 10, 11, 12, 13],\n",
       "       [14, 15, 16, 17, 18, 19, 20],\n",
       "       [21, 22, 23, 24, 25, 26, 27],\n",
       "       [28, 29, 30, 31, 32, 33, 34]])"
      ]
     },
     "execution_count": 72,
     "metadata": {},
     "output_type": "execute_result"
    }
   ],
   "source": [
    "y = np.arange(35).reshape(5,7) \n",
    "y"
   ]
  },
  {
   "cell_type": "code",
   "execution_count": 81,
   "metadata": {},
   "outputs": [
    {
     "data": {
      "text/plain": [
       "(array([[ 0,  2,  4,  6],\n",
       "        [ 7,  9, 11, 13],\n",
       "        [14, 16, 18, 20],\n",
       "        [21, 23, 25, 27],\n",
       "        [28, 30, 32, 34]]),\n",
       " array([[ 1,  3,  5],\n",
       "        [ 8, 10, 12],\n",
       "        [15, 17, 19],\n",
       "        [22, 24, 26],\n",
       "        [29, 31, 33]]))"
      ]
     },
     "execution_count": 81,
     "metadata": {},
     "output_type": "execute_result"
    }
   ],
   "source": [
    "y[::, ::2], y[::, 1::2]"
   ]
  },
  {
   "cell_type": "code",
   "execution_count": 88,
   "metadata": {},
   "outputs": [
    {
     "data": {
      "text/plain": [
       "array([340, 255])"
      ]
     },
     "execution_count": 88,
     "metadata": {},
     "output_type": "execute_result"
    }
   ],
   "source": [
    "a = np.sum(y[::, ::2])\n",
    "b = np.sum(y[::, 1::2])\n",
    "\n",
    "vec = np.array([a, b])\n",
    "vec"
   ]
  },
  {
   "cell_type": "raw",
   "metadata": {
    "vscode": {
     "languageId": "raw"
    }
   },
   "source": [
    "Question 04:\n",
    "\n",
    "Write a function count_common(a,b) that, given two numpy 2D arrays a and b \n",
    "with the same shape (suppose without checking), counts how many common elements \n",
    "(i.e. elements with the same value AND the same position) there are in a and b.\n",
    "\n",
    "Elements of the arrays can have an arbitrary type\n",
    "\n",
    "You must use NumPy features. Do not use loops, comprehensions, recursion.\n",
    "\n",
    "For example:\n",
    "\n",
    "Test\tResult\n",
    "print(count_common(np.array([[1,3,8],\n",
    "              [4,5,2],\n",
    "              [3,2,9]]),np.array([[2,3,7],\n",
    "              [4,5,9],\n",
    "              [6,6,6]])))\n",
    "3\n"
   ]
  },
  {
   "cell_type": "code",
   "execution_count": 99,
   "metadata": {},
   "outputs": [],
   "source": [
    "import numpy as np\n",
    "\n",
    "def count_common(a: np.ndarray, b: np.ndarray) -> np.ndarray:\n",
    "    return np.sum( a == b)\n"
   ]
  },
  {
   "cell_type": "code",
   "execution_count": 100,
   "metadata": {},
   "outputs": [
    {
     "name": "stdout",
     "output_type": "stream",
     "text": [
      "3\n"
     ]
    }
   ],
   "source": [
    "a = np.array([\n",
    "    [1, 3, 8],\n",
    "    [4, 5, 2],\n",
    "    [3, 2, 9],\n",
    "])\n",
    "b = np.array([\n",
    "    [2, 3, 7],\n",
    "    [4, 5, 9],\n",
    "    [6, 6, 6],\n",
    "])\n",
    "\n",
    "print( count_common(a, b) )"
   ]
  },
  {
   "cell_type": "raw",
   "metadata": {
    "vscode": {
     "languageId": "raw"
    }
   },
   "source": [
    "Questoin 05:\n",
    "\n",
    "Write a function checkerboard(m) that creates and returns an m*m \n",
    "2D NumPy array filled with a checkerboard pattern (alternating 0s \n",
    "and 1s - see examples) of integers. The function must work for every m >= 0.\n",
    "\n",
    "Tips: either create arrays filled with 0s and then modify them, \n",
    "or use the \"fromfunction\" creation.\n",
    "\n",
    "You must use NumPy features. Do not use loops, comprehensions, recursion.\n",
    "\n",
    "\n",
    "For example:\n",
    "\n",
    "Test\tResult\n",
    "\n",
    "print(checkerboard(0))\n",
    "[]\n",
    "\n",
    "print(checkerboard(1))\n",
    "[[0]]\n",
    "\n",
    "print(checkerboard(2))\n",
    "[[0 1]\n",
    " [1 0]]\n",
    "\n",
    "print(checkerboard(3))\n",
    "[[0 1 0]\n",
    " [1 0 1]\n",
    " [0 1 0]]\n",
    "\n",
    "print(checkerboard(10))\n",
    "[[0 1 0 1 0 1 0 1 0 1]\n",
    " [1 0 1 0 1 0 1 0 1 0]\n",
    " [0 1 0 1 0 1 0 1 0 1]\n",
    " [1 0 1 0 1 0 1 0 1 0]\n",
    " [0 1 0 1 0 1 0 1 0 1]\n",
    " [1 0 1 0 1 0 1 0 1 0]\n",
    " [0 1 0 1 0 1 0 1 0 1]\n",
    " [1 0 1 0 1 0 1 0 1 0]\n",
    " [0 1 0 1 0 1 0 1 0 1]\n",
    " [1 0 1 0 1 0 1 0 1 0]]\n",
    " \n",
    "\n",
    " a11(2), a12(3), a13(4)\n",
    " a21(3), a22(4), a23(5)\n",
    " a31(4), a32(5), a33(6)\n",
    " "
   ]
  },
  {
   "cell_type": "code",
   "execution_count": 151,
   "metadata": {},
   "outputs": [
    {
     "name": "stdout",
     "output_type": "stream",
     "text": [
      "[[0 1 0 1 0 1 0 1 0 1]\n",
      " [1 0 1 0 1 0 1 0 1 0]\n",
      " [0 1 0 1 0 1 0 1 0 1]\n",
      " [1 0 1 0 1 0 1 0 1 0]\n",
      " [0 1 0 1 0 1 0 1 0 1]\n",
      " [1 0 1 0 1 0 1 0 1 0]\n",
      " [0 1 0 1 0 1 0 1 0 1]\n",
      " [1 0 1 0 1 0 1 0 1 0]\n",
      " [0 1 0 1 0 1 0 1 0 1]\n",
      " [1 0 1 0 1 0 1 0 1 0]]\n"
     ]
    }
   ],
   "source": [
    "import numpy as np\n",
    "\n",
    "def foo(i: int, j: int) -> np.ndarray:\n",
    "    return (i + j) % 2 != 0\n",
    "\n",
    "def checkerboard(m: int) -> np.ndarray:\n",
    "    return np.fromfunction(foo, (m, m)).astype(int)\n",
    "\n",
    "print(checkerboard(10))\n"
   ]
  },
  {
   "cell_type": "code",
   "execution_count": 102,
   "metadata": {},
   "outputs": [
    {
     "name": "stdout",
     "output_type": "stream",
     "text": [
      "[]\n"
     ]
    }
   ],
   "source": [
    "vec = np.array([])\n",
    "\n",
    "print(vec)"
   ]
  },
  {
   "cell_type": "code",
   "execution_count": 106,
   "metadata": {},
   "outputs": [
    {
     "data": {
      "text/plain": [
       "(array([[0.]]), array([[1.]]))"
      ]
     },
     "execution_count": 106,
     "metadata": {},
     "output_type": "execute_result"
    }
   ],
   "source": [
    "m = 1\n",
    "\n",
    "np.zeros((m, m)), np.ones((m, m))"
   ]
  },
  {
   "cell_type": "code",
   "execution_count": 113,
   "metadata": {},
   "outputs": [
    {
     "data": {
      "text/plain": [
       "array([0, 1, 2, 3, 4, 5, 6, 7, 8, 9])"
      ]
     },
     "execution_count": 113,
     "metadata": {},
     "output_type": "execute_result"
    }
   ],
   "source": [
    "np.arange(0, 10, 1)"
   ]
  },
  {
   "cell_type": "code",
   "execution_count": 123,
   "metadata": {},
   "outputs": [
    {
     "data": {
      "text/plain": [
       "array([0, 1, 0, 1, 0, 1, 0, 1, 0, 1])"
      ]
     },
     "execution_count": 123,
     "metadata": {},
     "output_type": "execute_result"
    }
   ],
   "source": [
    "G = (False if i % 2 == 0 else True for i in range(10))\n",
    "a = np.fromiter(G, dtype=int)\n",
    "a"
   ]
  },
  {
   "cell_type": "code",
   "execution_count": 143,
   "metadata": {},
   "outputs": [
    {
     "data": {
      "text/plain": [
       "array([[ True, False,  True],\n",
       "       [False,  True, False],\n",
       "       [ True, False,  True]])"
      ]
     },
     "execution_count": 143,
     "metadata": {},
     "output_type": "execute_result"
    }
   ],
   "source": [
    "def foo(i: int, j: int) -> bool:\n",
    "    return (i + j) % 2 == 0\n",
    "\n",
    "vec = np.fromfunction(foo, (3, 3))\n",
    "vec\n"
   ]
  },
  {
   "cell_type": "code",
   "execution_count": 147,
   "metadata": {},
   "outputs": [
    {
     "data": {
      "text/plain": [
       "array([[1, 0, 1],\n",
       "       [0, 1, 0],\n",
       "       [1, 0, 1]])"
      ]
     },
     "execution_count": 147,
     "metadata": {},
     "output_type": "execute_result"
    }
   ],
   "source": [
    "def foo(i: int, j: int) -> np.ndarray:\n",
    "    return (i + j) % 2 == 0\n",
    "\n",
    "vec = np.fromfunction(foo, (3, 3)).astype(int)\n",
    "vec\n"
   ]
  },
  {
   "cell_type": "raw",
   "metadata": {
    "vscode": {
     "languageId": "raw"
    }
   },
   "source": [
    "Question 06:\n",
    "\n",
    "Write a function zeroones(p,q) that creates and returns a numpy 2D array \n",
    "of shape (p,q) in which the border is made of 0s and the rest of \n",
    "the array is filled with consecutive numbers: 1, 2, 3 ...\n",
    "Suppose without checkign tha p and q are >= 3.\n",
    "You must use NumPy features. Do not use loops, comprehensions, recursion.\n",
    "\n",
    "\n",
    "For example:\n",
    "\n",
    "Test\tResult\n",
    "\n",
    "print(zeroones(10,3))\n",
    "[[0. 0. 0.]\n",
    " [0. 1. 0.]\n",
    " [0. 2. 0.]\n",
    " [0. 3. 0.]\n",
    " [0. 4. 0.]\n",
    " [0. 5. 0.]\n",
    " [0. 6. 0.]\n",
    " [0. 7. 0.]\n",
    " [0. 8. 0.]\n",
    " [0. 0. 0.]]\n",
    "\n",
    "print(zeroones(5,5))\n",
    "[[0. 0. 0. 0. 0.]\n",
    " [0. 1. 2. 3. 0.]\n",
    " [0. 4. 5. 6. 0.]\n",
    " [0. 7. 8. 9. 0.]\n",
    " [0. 0. 0. 0. 0.]]\n",
    "\n",
    "print(zeroones(4,8))\n",
    "[[ 0.  0.  0.  0.  0.  0.  0.  0.]\n",
    " [ 0.  1.  2.  3.  4.  5.  6.  0.]\n",
    " [ 0.  7.  8.  9. 10. 11. 12.  0.]\n",
    " [ 0.  0.  0.  0.  0.  0.  0.  0.]]\n",
    "\n",
    "print(zeroones(3,3))\n",
    "[[0. 0. 0.]\n",
    " [0. 1. 0.]\n",
    " [0. 0. 0.]]\n",
    " "
   ]
  },
  {
   "cell_type": "code",
   "execution_count": 152,
   "metadata": {},
   "outputs": [],
   "source": [
    "import numpy as np\n",
    "\n",
    "\n",
    "def zeroones(p: int, q: int):\n",
    "    pass\n",
    "\n",
    "p, q = 5, 5\n",
    "\n",
    "\n",
    "def boarder(i, j):\n",
    "    return 0\n",
    "\n"
   ]
  },
  {
   "cell_type": "code",
   "execution_count": 159,
   "metadata": {},
   "outputs": [
    {
     "name": "stdout",
     "output_type": "stream",
     "text": [
      "[[0. 0. 0. 0. 0.]\n",
      " [0. 1. 2. 3. 0.]\n",
      " [0. 4. 5. 6. 0.]\n",
      " [0. 7. 8. 9. 0.]\n",
      " [0. 0. 0. 0. 0.]]\n"
     ]
    }
   ],
   "source": [
    "import numpy as np\n",
    "\n",
    "def zero_arrays(p: int, q: int) -> np.ndarray:\n",
    "    return np.zeros((p, q), dtype=float)\n",
    "\n",
    "def sequence_numbers(inner_rows, inner_cols) -> np.ndarray:\n",
    "    return np.arange(1, inner_rows * inner_cols + 1)\n",
    "\n",
    "def zeroones(p, q) -> np.ndarray:\n",
    "    \n",
    "    arr = zero_arrays(p, q)\n",
    "    inner_rows, inner_cols = p - 2, q - 2\n",
    "    numbers = sequence_numbers(inner_rows, inner_cols)\n",
    "    inner_array = numbers.reshape((inner_rows, inner_cols))\n",
    "    arr[1:-1, 1:-1] = inner_array\n",
    "    \n",
    "    return arr\n",
    "\n",
    "\n",
    "print(zeroones(5, 5))\n"
   ]
  },
  {
   "cell_type": "code",
   "execution_count": 167,
   "metadata": {},
   "outputs": [
    {
     "data": {
      "text/plain": [
       "array([[0., 0., 0., 0., 0.],\n",
       "       [0., 0., 0., 0., 0.],\n",
       "       [0., 0., 0., 0., 0.],\n",
       "       [0., 0., 0., 0., 0.],\n",
       "       [0., 0., 0., 0., 0.]])"
      ]
     },
     "execution_count": 167,
     "metadata": {},
     "output_type": "execute_result"
    }
   ],
   "source": [
    "p, q = 5, 5\n",
    "\n",
    "arr = np.zeros( shape=(p, q), dtype=float )\n",
    "\n",
    "arr"
   ]
  },
  {
   "cell_type": "code",
   "execution_count": 166,
   "metadata": {},
   "outputs": [
    {
     "data": {
      "text/plain": [
       "(3, 3)"
      ]
     },
     "execution_count": 166,
     "metadata": {},
     "output_type": "execute_result"
    }
   ],
   "source": [
    "inner_rows, inner_cols = p - 2, q - 2\n",
    "inner_rows, inner_cols\n"
   ]
  },
  {
   "cell_type": "code",
   "execution_count": 170,
   "metadata": {},
   "outputs": [
    {
     "data": {
      "text/plain": [
       "array([1, 2, 3, 4, 5, 6, 7, 8, 9])"
      ]
     },
     "execution_count": 170,
     "metadata": {},
     "output_type": "execute_result"
    }
   ],
   "source": [
    "numbers = np.arange(start = 1, stop = inner_rows * inner_cols + 1)\n",
    "numbers\n"
   ]
  },
  {
   "cell_type": "code",
   "execution_count": 175,
   "metadata": {},
   "outputs": [
    {
     "data": {
      "text/plain": [
       "array([[1, 2, 3],\n",
       "       [4, 5, 6],\n",
       "       [7, 8, 9]])"
      ]
     },
     "execution_count": 175,
     "metadata": {},
     "output_type": "execute_result"
    }
   ],
   "source": [
    "inner_array = numbers.reshape((inner_rows, inner_cols))\n",
    "inner_array\n"
   ]
  },
  {
   "cell_type": "code",
   "execution_count": 229,
   "metadata": {},
   "outputs": [
    {
     "data": {
      "text/plain": [
       "array([[0., 0., 0., 0., 0.],\n",
       "       [0., 0., 0., 0., 0.]])"
      ]
     },
     "execution_count": 229,
     "metadata": {},
     "output_type": "execute_result"
    }
   ],
   "source": [
    "zero_array_ = np.zeros(shape=(2, 5), dtype=float)\n",
    "zero_array_"
   ]
  },
  {
   "cell_type": "code",
   "execution_count": 226,
   "metadata": {},
   "outputs": [
    {
     "data": {
      "text/plain": [
       "array([[ 1,  2,  3,  4,  5,  6,  7],\n",
       "       [ 8,  9, 10, 11, 12, 13, 14],\n",
       "       [15, 16, 17, 18, 19, 20, 21],\n",
       "       [22, 23, 24, 25, 26, 27, 28]])"
      ]
     },
     "execution_count": 226,
     "metadata": {},
     "output_type": "execute_result"
    }
   ],
   "source": [
    "arr_ = np.arange(1, 29).reshape(4, 7)\n",
    "arr_"
   ]
  },
  {
   "cell_type": "code",
   "execution_count": 232,
   "metadata": {},
   "outputs": [
    {
     "data": {
      "text/plain": [
       "array([[ 1,  2,  3,  4,  5,  6,  7],\n",
       "       [ 8,  0,  0,  0,  0,  0, 14],\n",
       "       [15,  0,  0,  0,  0,  0, 21],\n",
       "       [22, 23, 24, 25, 26, 27, 28]])"
      ]
     },
     "execution_count": 232,
     "metadata": {},
     "output_type": "execute_result"
    }
   ],
   "source": [
    "arr_[1:-1, 1:-1] = zero_array_\n",
    "arr_\n"
   ]
  },
  {
   "cell_type": "raw",
   "metadata": {
    "vscode": {
     "languageId": "raw"
    }
   },
   "source": [
    "Question 07:\n",
    "\n",
    "Write a function zerocolumns(a) that returns the array a where \n",
    "the columns that contain at least one zero are deleted.\n",
    "\n",
    "Solve the problem with only one line.\n",
    "\n",
    "You must use NumPy features. Do not use loops, comprehensions, recursion.\n",
    "\n",
    "\n",
    "For example:\n",
    "\n",
    "Test\tResult\n",
    "print(zerocolumns(np.array([[1,2,0],[3,1,1],[3,3,0]])))\n",
    "[[1 2]\n",
    " [3 1]\n",
    " [3 3]]\n",
    "\n",
    "print(zerocolumns(np.array([[1,2,3],[3,1,1],[3,3,3]])))\n",
    "[[1 2 3]\n",
    " [3 1 1]\n",
    " [3 3 3]]\n",
    "\n",
    "print(zerocolumns(np.array([[0,2,0]])))\n",
    "[[2]]\n",
    "\n",
    "print(zerocolumns(np.array([[1,2,3,5],[3,1,1,5],[3,3,5,5]])))\n",
    "[[1 2 3 5]\n",
    " [3 1 1 5]\n",
    " [3 3 5 5]]\n",
    "\n",
    "print(zerocolumns(np.array([[0,2,3,5],[3,0,1,5],[3,3,0,5],[3,3,42,0]])))\n",
    "[]\n"
   ]
  },
  {
   "cell_type": "code",
   "execution_count": 2,
   "metadata": {},
   "outputs": [],
   "source": [
    "import numpy as np\n",
    "\n",
    "def zerocolumns(a: np.ndarray) -> np.ndarray:\n",
    "    return a[:, np.all(a != 0, axis=0)]\n"
   ]
  },
  {
   "cell_type": "code",
   "execution_count": 3,
   "metadata": {},
   "outputs": [
    {
     "name": "stdout",
     "output_type": "stream",
     "text": [
      "[[1 2]\n",
      " [3 1]\n",
      " [3 3]]\n"
     ]
    }
   ],
   "source": [
    "a = np.array([[1, 2, 0],\n",
    "              [3, 1, 1],\n",
    "              [3, 3, 0]])\n",
    "\n",
    "print(zerocolumns(a))\n"
   ]
  },
  {
   "cell_type": "code",
   "execution_count": 4,
   "metadata": {},
   "outputs": [
    {
     "data": {
      "text/plain": [
       "array([[ 0,  2,  3,  5],\n",
       "       [ 3,  0,  1,  5],\n",
       "       [ 3,  3,  0,  5],\n",
       "       [ 3,  3, 42,  0]])"
      ]
     },
     "execution_count": 4,
     "metadata": {},
     "output_type": "execute_result"
    }
   ],
   "source": [
    "\n",
    "a = np.array([\n",
    "    [0, 2, 3,  5],\n",
    "    [3, 0, 1,  5],\n",
    "    [3, 3, 0,  5],\n",
    "    [3, 3, 42, 0],\n",
    "])\n",
    "\n",
    "a"
   ]
  },
  {
   "cell_type": "code",
   "execution_count": 5,
   "metadata": {},
   "outputs": [],
   "source": [
    "a = np.array([\n",
    "    [1, 2, 0],\n",
    "    [3, 1, 1],\n",
    "    [3, 3, 0],\n",
    "])\n"
   ]
  },
  {
   "cell_type": "code",
   "execution_count": 7,
   "metadata": {},
   "outputs": [
    {
     "data": {
      "text/plain": [
       "array([[False, False,  True],\n",
       "       [False, False, False],\n",
       "       [False, False,  True]])"
      ]
     },
     "execution_count": 7,
     "metadata": {},
     "output_type": "execute_result"
    }
   ],
   "source": [
    "(a == 0)\n"
   ]
  },
  {
   "cell_type": "code",
   "execution_count": 14,
   "metadata": {},
   "outputs": [
    {
     "data": {
      "text/plain": [
       "array([ True,  True, False])"
      ]
     },
     "execution_count": 14,
     "metadata": {},
     "output_type": "execute_result"
    }
   ],
   "source": [
    "# 0 - column\n",
    "# 1 - row\n",
    "np.all(a != 0, axis=0)\n"
   ]
  },
  {
   "cell_type": "raw",
   "metadata": {
    "vscode": {
     "languageId": "raw"
    }
   },
   "source": [
    "Question 08:\n",
    "\n",
    "Write a function arraydistance(p,q) that creates and returns a 2D NumPy array d of shape (p,q) \n",
    "such that d[i,j] is the euclidean distance between (0,0) and (i,j) on a cartesian plane.\n",
    "Suggestion: use np.sqrt for calculating the distance and np.fromfunction to create the array.\n",
    "You must use NumPy features. Do not use loops, comprehensions, recursion.\n",
    "\n",
    "For example:\n",
    "\n",
    "Test\tResult\n",
    "print(arraydistance(0,0))\n",
    "[]\n",
    "\n",
    "print(arraydistance(3,3))\n",
    "[[0.         1.         2.        ]\n",
    " [1.         1.41421356 2.23606798]\n",
    " [2.         2.23606798 2.82842712]]\n",
    "\n",
    "print(arraydistance(4,7))\n",
    "[[0.         1.         2.         3.         4.         5.\n",
    "  6.        ]\n",
    " [1.         1.41421356 2.23606798 3.16227766 4.12310563 5.09901951\n",
    "  6.08276253]\n",
    " [2.         2.23606798 2.82842712 3.60555128 4.47213595 5.38516481\n",
    "  6.32455532]\n",
    " [3.         3.16227766 3.60555128 4.24264069 5.         5.83095189\n",
    "  6.70820393]]\n",
    "  "
   ]
  },
  {
   "cell_type": "code",
   "execution_count": 42,
   "metadata": {},
   "outputs": [
    {
     "name": "stdout",
     "output_type": "stream",
     "text": [
      "[[0. 1. 2. 3. 4. 5. 6.]\n",
      " [1. 2. 3. 4. 5. 6. 7.]\n",
      " [2. 3. 4. 5. 6. 7. 8.]\n",
      " [3. 4. 5. 6. 7. 8. 9.]]\n"
     ]
    }
   ],
   "source": [
    "import numpy as np\n",
    "\n",
    "def arraydistance(p: int, q: int) -> np.ndarray:\n",
    "    return np.fromfunction(lambda i, j: np.sqrt(i**2 + j**2), (p, q))\n",
    "\n",
    "\n",
    "\n",
    "print(arraydistance(4, 7))\n",
    "\n"
   ]
  },
  {
   "cell_type": "raw",
   "metadata": {
    "vscode": {
     "languageId": "raw"
    }
   },
   "source": [
    "Question 09:\n",
    "\n",
    "Write a function lowest(a,b) that takes two 1D NumPy arrays of ints and returns a 2D NumPy array \n",
    "that represents a table of the lowest common multiple between all the numbers in the two arrays \n",
    "(the number of elements of the first array will become the number of rows in the result).\n",
    "Hint: use one of the known universal functions (here)\n",
    "You must use NumPy features. Do not use loops, comprehensions, recursion.\n",
    "\n",
    "\n",
    "For example:\n",
    "\n",
    "Test\tResult\n",
    "\n",
    "print(lowest(np.arange(0,10), np.arange(0,5)))\n",
    "[[ 0  0  0  0  0]\n",
    " [ 0  1  2  3  4]\n",
    " [ 0  2  2  6  4]\n",
    " [ 0  3  6  3 12]\n",
    " [ 0  4  4 12  4]\n",
    " [ 0  5 10 15 20]\n",
    " [ 0  6  6  6 12]\n",
    " [ 0  7 14 21 28]\n",
    " [ 0  8  8 24  8]\n",
    " [ 0  9 18  9 36]]\n",
    "\n",
    "print(lowest(np.array([27,73,91,79,89,28,63,48,71]), np.array([7,7,8,9,4,6,2])))\n",
    "[[189 189 216  27 108  54  54]\n",
    " [511 511 584 657 292 438 146]\n",
    " [ 91  91 728 819 364 546 182]\n",
    " [553 553 632 711 316 474 158]\n",
    " [623 623 712 801 356 534 178]\n",
    " [ 28  28  56 252  28  84  28]\n",
    " [ 63  63 504  63 252 126 126]\n",
    " [336 336  48 144  48  48  48]\n",
    " [497 497 568 639 284 426 142]]\n",
    " "
   ]
  },
  {
   "cell_type": "code",
   "execution_count": 74,
   "metadata": {},
   "outputs": [],
   "source": [
    "import numpy as np\n",
    "\n",
    "def lowest(a: np.ndarray, b: np.ndarray) -> np.ndarray:\n",
    "    return np.lcm.outer(a, b)\n",
    "\n"
   ]
  },
  {
   "cell_type": "code",
   "execution_count": null,
   "metadata": {},
   "outputs": [],
   "source": []
  },
  {
   "cell_type": "code",
   "execution_count": 75,
   "metadata": {},
   "outputs": [
    {
     "data": {
      "text/plain": [
       "array([[189, 189, 216,  27, 108,  54,  54],\n",
       "       [511, 511, 584, 657, 292, 438, 146],\n",
       "       [ 91,  91, 728, 819, 364, 546, 182],\n",
       "       [553, 553, 632, 711, 316, 474, 158],\n",
       "       [623, 623, 712, 801, 356, 534, 178],\n",
       "       [ 28,  28,  56, 252,  28,  84,  28],\n",
       "       [ 63,  63, 504,  63, 252, 126, 126],\n",
       "       [336, 336,  48, 144,  48,  48,  48],\n",
       "       [497, 497, 568, 639, 284, 426, 142]])"
      ]
     },
     "execution_count": 75,
     "metadata": {},
     "output_type": "execute_result"
    }
   ],
   "source": [
    "a = np.array([27,73,91,79,89,28,63,48,71]) #np.arange(0, 10)\n",
    "b = np.array([7,7,8,9,4,6,2]) #np.arange(0, 5)\n",
    "\n",
    "lowest(a, b)"
   ]
  },
  {
   "cell_type": "code",
   "execution_count": 76,
   "metadata": {},
   "outputs": [
    {
     "name": "stdout",
     "output_type": "stream",
     "text": [
      "[[ 0  0  0  0  0]\n",
      " [ 0  1  2  3  4]\n",
      " [ 0  2  2  6  4]\n",
      " [ 0  3  6  3 12]\n",
      " [ 0  4  4 12  4]\n",
      " [ 0  5 10 15 20]\n",
      " [ 0  6  6  6 12]\n",
      " [ 0  7 14 21 28]\n",
      " [ 0  8  8 24  8]\n",
      " [ 0  9 18  9 36]]\n"
     ]
    }
   ],
   "source": [
    "print(lowest(np.arange(0,10), np.arange(0,5)))\n"
   ]
  },
  {
   "cell_type": "code",
   "execution_count": 73,
   "metadata": {},
   "outputs": [
    {
     "data": {
      "text/plain": [
       "array([[189, 189, 216,  27, 108,  54,  54],\n",
       "       [511, 511, 584, 657, 292, 438, 146],\n",
       "       [ 91,  91, 728, 819, 364, 546, 182],\n",
       "       [553, 553, 632, 711, 316, 474, 158],\n",
       "       [623, 623, 712, 801, 356, 534, 178],\n",
       "       [ 28,  28,  56, 252,  28,  84,  28],\n",
       "       [ 63,  63, 504,  63, 252, 126, 126],\n",
       "       [336, 336,  48, 144,  48,  48,  48],\n",
       "       [497, 497, 568, 639, 284, 426, 142]])"
      ]
     },
     "execution_count": 73,
     "metadata": {},
     "output_type": "execute_result"
    }
   ],
   "source": [
    "np.lcm.outer(a, b)"
   ]
  },
  {
   "cell_type": "raw",
   "metadata": {
    "vscode": {
     "languageId": "raw"
    }
   },
   "source": [
    "Question 10:\n",
    "\n",
    "Write a function element(a, p) that takes a NumPy array a with arbitrary shape and a positive integer p representing \n",
    "a position inside that array (if the index is outside the array, return -1).\n",
    "The program returns the value of the number at position p, when the array a is read as a 1D array (by rows, as usual).\n",
    "You must use NumPy features. Do not use loops, comprehensions, recursion.\n",
    "\n",
    "\n",
    "For example:\n",
    "\n",
    "Test\tResult\n",
    "print(element(np.array([[[4,3,6],[3,2,8]],[[1,5,7],[2,6,7]],[[3,6,7],[3,7,4]],[[4,2,7],[4,3,1]],[[5,3,5],[3,6,5]]]), 0))  ->  4\n",
    "print(element(np.array([[[4,3,6],[3,2,8]],[[1,5,7],[2,6,7]],[[3,6,7],[3,7,4]],[[4,2,7],[4,3,1]],[[5,3,5],[3,6,5]]]), 5))  ->  8\n",
    "print(element(np.array([[[4,3,6],[3,2,8]],[[1,5,7],[2,6,7]],[[3,6,7],[3,7,4]],[[4,2,7],[4,3,1]],[[5,3,5],[3,6,5]]]), 29)) ->  5\n",
    "print(element(np.array([[[4,3,6],[3,2,8]],[[1,5,7],[2,6,7]],[[3,6,7],[3,7,4]],[[4,2,7],[4,3,1]],[[5,3,5],[3,6,5]]]), 30)) -> -1\n"
   ]
  },
  {
   "cell_type": "code",
   "execution_count": 101,
   "metadata": {},
   "outputs": [
    {
     "name": "stdout",
     "output_type": "stream",
     "text": [
      "4\n",
      "8\n",
      "5\n",
      "-1\n"
     ]
    }
   ],
   "source": [
    "import numpy as np\n",
    "\n",
    "def element(a: np.ndarray, p: int):\n",
    "    a_flatten = np.ndarray.flatten(a)\n",
    "    possible_dimension = a_flatten.shape[0]\n",
    "    return -1 if p >= possible_dimension or p < 0 else a_flatten[p]\n",
    "\n",
    "    \n",
    "print(element(np.array([[[4,3,6],[3,2,8]],[[1,5,7],[2,6,7]],[[3,6,7],[3,7,4]],[[4,2,7],[4,3,1]],[[5,3,5],[3,6,5]]]), 0))  #->  4\n",
    "print(element(np.array([[[4,3,6],[3,2,8]],[[1,5,7],[2,6,7]],[[3,6,7],[3,7,4]],[[4,2,7],[4,3,1]],[[5,3,5],[3,6,5]]]), 5))  #->  8\n",
    "print(element(np.array([[[4,3,6],[3,2,8]],[[1,5,7],[2,6,7]],[[3,6,7],[3,7,4]],[[4,2,7],[4,3,1]],[[5,3,5],[3,6,5]]]), 29)) #->  5\n",
    "print(element(np.array([[[4,3,6],[3,2,8]],[[1,5,7],[2,6,7]],[[3,6,7],[3,7,4]],[[4,2,7],[4,3,1]],[[5,3,5],[3,6,5]]]), 30)) #-> -1"
   ]
  },
  {
   "cell_type": "code",
   "execution_count": 94,
   "metadata": {},
   "outputs": [
    {
     "data": {
      "text/plain": [
       "[9, 7]"
      ]
     },
     "execution_count": 94,
     "metadata": {},
     "output_type": "execute_result"
    }
   ],
   "source": [
    "q = np.array([[189, 189, 216,  27, 108,  54,  54],\n",
    "       [511, 511, 584, 657, 292, 438, 146],\n",
    "       [ 91,  91, 728, 819, 364, 546, 182],\n",
    "       [553, 553, 632, 711, 316, 474, 158],\n",
    "       [623, 623, 712, 801, 356, 534, 178],\n",
    "       [ 28,  28,  56, 252,  28,  84,  28],\n",
    "       [ 63,  63, 504,  63, 252, 126, 126],\n",
    "       [336, 336,  48, 144,  48,  48,  48],\n",
    "       [497, 497, 568, 639, 284, 426, 142]])\n",
    "\n",
    "list(q.shape)"
   ]
  },
  {
   "cell_type": "code",
   "execution_count": 96,
   "metadata": {},
   "outputs": [
    {
     "data": {
      "text/plain": [
       "63"
      ]
     },
     "execution_count": 96,
     "metadata": {},
     "output_type": "execute_result"
    }
   ],
   "source": [
    "q_ = np.ndarray.flatten(q)\n",
    "q_.shape[0]"
   ]
  },
  {
   "cell_type": "code",
   "execution_count": 98,
   "metadata": {},
   "outputs": [
    {
     "data": {
      "text/plain": [
       "np.int64(584)"
      ]
     },
     "execution_count": 98,
     "metadata": {},
     "output_type": "execute_result"
    }
   ],
   "source": [
    "q_[9]"
   ]
  },
  {
   "cell_type": "code",
   "execution_count": 87,
   "metadata": {},
   "outputs": [
    {
     "data": {
      "text/plain": [
       "array([[0, 1, 2, 3, 4],\n",
       "       [5, 6, 7, 8, 9]])"
      ]
     },
     "execution_count": 87,
     "metadata": {},
     "output_type": "execute_result"
    }
   ],
   "source": [
    "arr = np.arange(10).reshape(2, 5)\n",
    "arr\n"
   ]
  },
  {
   "cell_type": "code",
   "execution_count": 92,
   "metadata": {},
   "outputs": [
    {
     "data": {
      "text/plain": [
       "(1, 4)"
      ]
     },
     "execution_count": 92,
     "metadata": {},
     "output_type": "execute_result"
    }
   ],
   "source": [
    "arr = np.array([1, 2, 3, 4], ndmin=2)\n",
    "arr.shape"
   ]
  },
  {
   "cell_type": "code",
   "execution_count": 93,
   "metadata": {},
   "outputs": [
    {
     "data": {
      "text/plain": [
       "array([[1., 0., 0.],\n",
       "       [0., 1., 0.],\n",
       "       [0., 0., 1.]])"
      ]
     },
     "execution_count": 93,
     "metadata": {},
     "output_type": "execute_result"
    }
   ],
   "source": [
    "arr = np.eye(3)\n",
    "arr"
   ]
  },
  {
   "cell_type": "raw",
   "metadata": {},
   "source": [
    "Question 11:\n",
    "\n",
    "Write a function exchangecolumns(a) that takes a 2D NumPy array and returns the array where the columns are swapped (e.g. column 0 swapped with column 1, column 2 with column 3 and so on).\n",
    "If the number of columns is odd, the function returns None without doing any computation.\n",
    "Hint: create a NumPy array that contains the permutation, i.e. [1,0,3,2...]\n",
    "You must use NumPy features. Do not use loops, comprehensions, recursion.\n",
    "\n",
    "\n",
    "For example:\n",
    "\n",
    "Test\tResult\n",
    "print(exchangecolumns(np.arange(0,6).reshape(3,2)))\n",
    "[[1 0]\n",
    " [3 2]\n",
    " [5 4]]\n",
    "\n",
    "print(exchangecolumns(np.arange(0,20).reshape(5,4)))\n",
    "[[ 1  0  3  2]\n",
    " [ 5  4  7  6]\n",
    " [ 9  8 11 10]\n",
    " [13 12 15 14]\n",
    " [17 16 19 18]]\n",
    "\n",
    "print(exchangecolumns(np.arange(0.,12.).reshape(3,4)))\n",
    "[[ 1.  0.  3.  2.]\n",
    " [ 5.  4.  7.  6.]\n",
    " [ 9.  8. 11. 10.]]\n",
    "\n",
    "print(exchangecolumns(np.arange(0,25).reshape(5,5)))\n",
    "None\n",
    "\n",
    "print(exchangecolumns(np.array([[3,42,5,11,44,55],[7,9,4,1,3,2]])))\n",
    "[[42  3 11  5 55 44]\n",
    " [ 9  7  1  4  2  3]]"
   ]
  },
  {
   "cell_type": "code",
   "execution_count": 126,
   "metadata": {},
   "outputs": [
    {
     "name": "stdout",
     "output_type": "stream",
     "text": [
      "[1 0 3 2 4 5]\n"
     ]
    }
   ],
   "source": [
    "import numpy as np\n",
    "\n",
    "def permute_array(m):\n",
    "    arr = np.arange(m + 1)\n",
    "    for i in range(0, m - 1, 2):\n",
    "        arr[i], arr[i + 1] = arr[i + 1], arr[i]\n",
    "    \n",
    "    return arr\n",
    "\n",
    "\n",
    "# Test with m = 5\n",
    "m = 5\n",
    "arr_perm = permute_array(m)\n",
    "print(arr_perm)\n",
    "\n"
   ]
  },
  {
   "cell_type": "code",
   "execution_count": 102,
   "metadata": {},
   "outputs": [],
   "source": [
    "import numpy as np\n",
    "\n",
    "def exchangecolumns(a: np.ndarray) -> np.ndarray | None:\n",
    "    rows, columns = a.shape\n",
    "    if columns % 2 != 0:\n",
    "        return None\n",
    "    \n"
   ]
  },
  {
   "cell_type": "code",
   "execution_count": 111,
   "metadata": {},
   "outputs": [
    {
     "data": {
      "text/plain": [
       "(3, 2)"
      ]
     },
     "execution_count": 111,
     "metadata": {},
     "output_type": "execute_result"
    }
   ],
   "source": [
    "a = np.arange(0,6).reshape(3,2)\n",
    "rows, columns = a.shape\n",
    "\n",
    "rows, columns"
   ]
  },
  {
   "cell_type": "code",
   "execution_count": 114,
   "metadata": {},
   "outputs": [
    {
     "data": {
      "text/plain": [
       "array([[0, 1],\n",
       "       [2, 3],\n",
       "       [4, 5]])"
      ]
     },
     "execution_count": 114,
     "metadata": {},
     "output_type": "execute_result"
    }
   ],
   "source": [
    "a"
   ]
  },
  {
   "cell_type": "code",
   "execution_count": 116,
   "metadata": {},
   "outputs": [
    {
     "data": {
      "text/plain": [
       "array([[0, 2, 4],\n",
       "       [1, 3, 5]])"
      ]
     },
     "execution_count": 116,
     "metadata": {},
     "output_type": "execute_result"
    }
   ],
   "source": [
    "a_T = a.T\n",
    "a_T"
   ]
  },
  {
   "cell_type": "code",
   "execution_count": 121,
   "metadata": {},
   "outputs": [
    {
     "name": "stdout",
     "output_type": "stream",
     "text": [
      "[[1 1 2]\n",
      " [3 3 7]\n",
      " [4 3 1]\n",
      " [9 9 5]\n",
      " [6 7 7]\n",
      " [0 0 0]]\n"
     ]
    }
   ],
   "source": [
    "import numpy as np\n",
    "\n",
    "#create NumPy array\n",
    "array = np.array([\n",
    "    [1, 1, 2], \n",
    "    [3, 3, 7], \n",
    "    [4, 3, 1], \n",
    "    [9, 9, 5], \n",
    "    [6, 7, 7],\n",
    "    [0, 0, 0],\n",
    "])\n",
    "\n",
    "#view NumPy array\n",
    "print(array)\n",
    "\n"
   ]
  },
  {
   "cell_type": "code",
   "execution_count": 118,
   "metadata": {},
   "outputs": [
    {
     "name": "stdout",
     "output_type": "stream",
     "text": [
      "[[2 1 1]\n",
      " [7 3 3]\n",
      " [1 3 4]\n",
      " [5 9 9]\n",
      " [7 7 6]]\n"
     ]
    }
   ],
   "source": [
    "#swap columns 1 and 3\n",
    "array[:, [0, 2]] = array[:, [2, 0]]\n",
    "\n",
    "#view updated NumPy array\n",
    "print(array)\n"
   ]
  },
  {
   "cell_type": "code",
   "execution_count": 119,
   "metadata": {},
   "outputs": [
    {
     "name": "stdout",
     "output_type": "stream",
     "text": [
      "[[1 3 4]\n",
      " [7 3 3]\n",
      " [2 1 1]\n",
      " [5 9 9]\n",
      " [7 7 6]]\n"
     ]
    }
   ],
   "source": [
    "#swap rows 1 and 3\n",
    "array[[0, 2], :] = array[[2, 0], :]\n",
    "\n",
    "print(array)\n"
   ]
  },
  {
   "cell_type": "code",
   "execution_count": 122,
   "metadata": {},
   "outputs": [
    {
     "name": "stdout",
     "output_type": "stream",
     "text": [
      "Permuted array: [0 1 3 2 5 4]\n"
     ]
    }
   ],
   "source": [
    "import numpy as np\n",
    "\n",
    "def permute_array(m):\n",
    "    arr = np.arange(m + 1)\n",
    "    idx_perm = np.arange(len(arr))\n",
    "    temp = idx_perm[2:].copy()\n",
    "    swap_len = (len(temp) // 2) * 2  # Ensure swap_len is even\n",
    "    if swap_len > 0:\n",
    "        temp_subarray = temp[:swap_len].reshape(-1, 2)\n",
    "        temp_subarray = temp_subarray[:, ::-1]  # Swap elements in pairs\n",
    "        temp[:swap_len] = temp_subarray.reshape(-1)\n",
    "    idx_perm[2:] = temp\n",
    "    arr_perm = arr[idx_perm]\n",
    "    return arr_perm\n",
    "\n",
    "m = 5\n",
    "arr_perm = permute_array(m)\n",
    "print(\"Permuted array:\", arr_perm)\n"
   ]
  },
  {
   "cell_type": "code",
   "execution_count": 125,
   "metadata": {},
   "outputs": [
    {
     "name": "stdout",
     "output_type": "stream",
     "text": [
      "[1 0 3 2 4 5]\n"
     ]
    }
   ],
   "source": [
    "import numpy as np\n",
    "\n",
    "def permute_array(m):\n",
    "    # Create the array from 0 to m\n",
    "    arr = np.arange(m + 1)\n",
    "    \n",
    "    # Swap adjacent pairs up to the second-to-last element\n",
    "    for i in range(0, m - 1, 2):\n",
    "        arr[i], arr[i + 1] = arr[i + 1], arr[i]\n",
    "    \n",
    "    return arr\n",
    "\n",
    "# Test with m = 5\n",
    "m = 5\n",
    "arr_perm = permute_array(m)\n",
    "print(arr_perm)\n",
    "\n"
   ]
  },
  {
   "cell_type": "code",
   "execution_count": 173,
   "metadata": {},
   "outputs": [],
   "source": [
    "import numpy as np\n",
    "\n",
    "def exchangecolumns(a: np.ndarray) -> np.ndarray:\n",
    "\n",
    "    num_rows, num_cols = a.shape\n",
    "    if num_cols % 2 != 0:\n",
    "        return None\n",
    "\n",
    "    perm = np.empty(num_cols, dtype=int)\n",
    "    perm[0::2], perm[1::2] = np.arange(1, num_cols, 2), np.arange(0, num_cols, 2)\n",
    "    #perm[1::2] = np.arange(0, num_cols, 2)\n",
    "\n",
    "    return a[:, perm]\n"
   ]
  },
  {
   "cell_type": "code",
   "execution_count": 157,
   "metadata": {},
   "outputs": [
    {
     "data": {
      "text/plain": [
       "array([[ 0,  1,  2,  3,  4],\n",
       "       [ 5,  6,  7,  8,  9],\n",
       "       [10, 11, 12, 13, 14],\n",
       "       [15, 16, 17, 18, 19],\n",
       "       [20, 21, 22, 23, 24]])"
      ]
     },
     "execution_count": 157,
     "metadata": {},
     "output_type": "execute_result"
    }
   ],
   "source": [
    "a = np.arange(0,25).reshape(5,5)\n",
    "a"
   ]
  },
  {
   "cell_type": "code",
   "execution_count": 158,
   "metadata": {},
   "outputs": [
    {
     "data": {
      "text/plain": [
       "(5, 5)"
      ]
     },
     "execution_count": 158,
     "metadata": {},
     "output_type": "execute_result"
    }
   ],
   "source": [
    "num_rows, num_cols = a.shape\n",
    "num_rows, num_cols"
   ]
  },
  {
   "cell_type": "code",
   "execution_count": 166,
   "metadata": {},
   "outputs": [],
   "source": [
    "num_cols = 8"
   ]
  },
  {
   "cell_type": "code",
   "execution_count": 167,
   "metadata": {},
   "outputs": [
    {
     "data": {
      "text/plain": [
       "array([1, 3, 5, 7])"
      ]
     },
     "execution_count": 167,
     "metadata": {},
     "output_type": "execute_result"
    }
   ],
   "source": [
    "np.arange(1, num_cols, 2)"
   ]
  },
  {
   "cell_type": "code",
   "execution_count": 169,
   "metadata": {},
   "outputs": [
    {
     "name": "stdout",
     "output_type": "stream",
     "text": [
      "[4607182418800017408 4611686018427387904 4613937818241073152\n",
      " 4616189618054758400 4617315517961601024 4618441417868443648\n",
      " 4619567317775286272 4620693217682128896]\n",
      "[                  1 4611686018427387904                   3\n",
      " 4616189618054758400                   5 4618441417868443648\n",
      "                   7 4620693217682128896]\n",
      "[1 0 3 2 5 4 7 6]\n"
     ]
    }
   ],
   "source": [
    "perm = np.empty(num_cols, dtype=int)\n",
    "print(perm)\n",
    "\n",
    "perm[0::2] = np.arange(1, num_cols, 2)\n",
    "print(perm)\n",
    "\n",
    "perm[1::2] = np.arange(0, num_cols, 2)\n",
    "print(perm)\n",
    "\n"
   ]
  },
  {
   "cell_type": "code",
   "execution_count": 153,
   "metadata": {},
   "outputs": [
    {
     "data": {
      "text/plain": [
       "array([0, 0])"
      ]
     },
     "execution_count": 153,
     "metadata": {},
     "output_type": "execute_result"
    }
   ],
   "source": [
    "perm[0::2]"
   ]
  },
  {
   "cell_type": "code",
   "execution_count": 174,
   "metadata": {},
   "outputs": [
    {
     "name": "stdout",
     "output_type": "stream",
     "text": [
      "[[1 0]\n",
      " [3 2]\n",
      " [5 4]]\n",
      "[[ 1  0  3  2]\n",
      " [ 5  4  7  6]\n",
      " [ 9  8 11 10]\n",
      " [13 12 15 14]\n",
      " [17 16 19 18]]\n",
      "[[ 1.  0.  3.  2.]\n",
      " [ 5.  4.  7.  6.]\n",
      " [ 9.  8. 11. 10.]]\n",
      "None\n",
      "[[42  3 11  5 55 44]\n",
      " [ 9  7  1  4  2  3]]\n"
     ]
    }
   ],
   "source": [
    "# Testing the function\n",
    "print(exchangecolumns(np.arange(0, 6).reshape(3, 2)))\n",
    "print(exchangecolumns(np.arange(0, 20).reshape(5, 4)))\n",
    "print(exchangecolumns(np.arange(0., 12.).reshape(3, 4)))\n",
    "print(exchangecolumns(np.arange(0, 25).reshape(5, 5)))  # Should return None\n",
    "print(exchangecolumns(np.array([[3, 42, 5, 11, 44, 55], [7, 9, 4, 1, 3, 2]])))\n"
   ]
  },
  {
   "cell_type": "code",
   "execution_count": 138,
   "metadata": {},
   "outputs": [
    {
     "data": {
      "text/plain": [
       "array([[ 0,  1,  2,  3],\n",
       "       [ 4,  5,  6,  7],\n",
       "       [ 8,  9, 10, 11],\n",
       "       [12, 13, 14, 15],\n",
       "       [16, 17, 18, 19]])"
      ]
     },
     "execution_count": 138,
     "metadata": {},
     "output_type": "execute_result"
    }
   ],
   "source": [
    "a = np.arange(0,20).reshape(5, 4)\n",
    "a"
   ]
  },
  {
   "cell_type": "code",
   "execution_count": 130,
   "metadata": {},
   "outputs": [
    {
     "data": {
      "text/plain": [
       "2"
      ]
     },
     "execution_count": 130,
     "metadata": {},
     "output_type": "execute_result"
    }
   ],
   "source": [
    "# Check if the number of columns is even\n",
    "a.shape[1]\n"
   ]
  },
  {
   "cell_type": "code",
   "execution_count": 133,
   "metadata": {},
   "outputs": [
    {
     "data": {
      "text/plain": [
       "array([0, 1])"
      ]
     },
     "execution_count": 133,
     "metadata": {},
     "output_type": "execute_result"
    }
   ],
   "source": [
    "perm = np.arange(a.shape[1])\n",
    "perm"
   ]
  },
  {
   "cell_type": "code",
   "execution_count": 134,
   "metadata": {},
   "outputs": [
    {
     "data": {
      "text/plain": [
       "array([1, 1])"
      ]
     },
     "execution_count": 134,
     "metadata": {},
     "output_type": "execute_result"
    }
   ],
   "source": [
    "perm[::2], perm[1::2] = perm[1::2], perm[::2]\n",
    "perm"
   ]
  },
  {
   "cell_type": "code",
   "execution_count": 135,
   "metadata": {},
   "outputs": [
    {
     "name": "stdout",
     "output_type": "stream",
     "text": [
      "[[1 1]\n",
      " [3 3]\n",
      " [5 5]]\n",
      "[[ 1  1  3  3]\n",
      " [ 5  5  7  7]\n",
      " [ 9  9 11 11]\n",
      " [13 13 15 15]\n",
      " [17 17 19 19]]\n",
      "[[ 1.  1.  3.  3.]\n",
      " [ 5.  5.  7.  7.]\n",
      " [ 9.  9. 11. 11.]]\n",
      "None\n",
      "[[42 42 11 11 55 55]\n",
      " [ 9  9  1  1  2  2]]\n"
     ]
    }
   ],
   "source": [
    "import numpy as np\n",
    "\n",
    "def exchangecolumns(a):\n",
    "    # Check if the number of columns is even\n",
    "    if a.shape[1] % 2 != 0:\n",
    "        return None\n",
    "\n",
    "    # Create a permutation array [1, 0, 3, 2, 5, 4, ...]\n",
    "    perm = np.arange(a.shape[1])\n",
    "    perm[::2], perm[1::2] = perm[1::2], perm[::2]\n",
    "\n",
    "    # Apply the permutation to the columns\n",
    "    return a[:, perm]\n",
    "\n",
    "# Testing the function\n",
    "print(exchangecolumns(np.arange(0, 6).reshape(3, 2)))\n",
    "print(exchangecolumns(np.arange(0, 20).reshape(5, 4)))\n",
    "print(exchangecolumns(np.arange(0., 12.).reshape(3, 4)))\n",
    "print(exchangecolumns(np.arange(0, 25).reshape(5, 5)))  # Should return None\n",
    "print(exchangecolumns(np.array([[3, 42, 5, 11, 44, 55], [7, 9, 4, 1, 3, 2]])))\n"
   ]
  },
  {
   "cell_type": "code",
   "execution_count": 137,
   "metadata": {},
   "outputs": [
    {
     "name": "stdout",
     "output_type": "stream",
     "text": [
      "Test 1:\n",
      "Original Array:\n",
      " [[0 1]\n",
      " [2 3]\n",
      " [4 5]]\n",
      "Swapped Columns:\n",
      " [[1 0]\n",
      " [3 2]\n",
      " [5 4]]\n",
      "\n",
      "Test 2:\n",
      "Original Array:\n",
      " [[ 0  1  2  3]\n",
      " [ 4  5  6  7]\n",
      " [ 8  9 10 11]\n",
      " [12 13 14 15]\n",
      " [16 17 18 19]]\n",
      "Swapped Columns:\n",
      " [[ 1  0  3  2]\n",
      " [ 5  4  7  6]\n",
      " [ 9  8 11 10]\n",
      " [13 12 15 14]\n",
      " [17 16 19 18]]\n",
      "\n",
      "Test 3:\n",
      "Original Array:\n",
      " [[ 0.  1.  2.  3.]\n",
      " [ 4.  5.  6.  7.]\n",
      " [ 8.  9. 10. 11.]]\n",
      "Swapped Columns:\n",
      " [[ 1.  0.  3.  2.]\n",
      " [ 5.  4.  7.  6.]\n",
      " [ 9.  8. 11. 10.]]\n",
      "\n",
      "Test 4:\n",
      "Original Array:\n",
      " [[ 0  1  2  3  4]\n",
      " [ 5  6  7  8  9]\n",
      " [10 11 12 13 14]\n",
      " [15 16 17 18 19]\n",
      " [20 21 22 23 24]]\n",
      "Swapped Columns:\n",
      " None\n",
      "\n",
      "Test 5:\n",
      "Original Array:\n",
      " [[ 3 42  5 11 44 55]\n",
      " [ 7  9  4  1  3  2]]\n",
      "Swapped Columns:\n",
      " [[42  3 11  5 55 44]\n",
      " [ 9  7  1  4  2  3]]\n"
     ]
    }
   ],
   "source": [
    "import numpy as np\n",
    "\n",
    "def exchangecolumns(a: np.ndarray):\n",
    "    \"\"\"\n",
    "    Swap adjacent columns in a 2D NumPy array.\n",
    "    \n",
    "    Parameters:\n",
    "    a (np.ndarray): A 2D NumPy array.\n",
    "    \n",
    "    Returns:\n",
    "    np.ndarray or None: The array with adjacent columns swapped, or None if the number of columns is odd.\n",
    "    \"\"\"\n",
    "    # Check if the input is a 2D array\n",
    "    if a.ndim != 2:\n",
    "        raise ValueError(\"Input array must be 2-dimensional.\")\n",
    "    \n",
    "    num_cols = a.shape[1]\n",
    "    \n",
    "    # If the number of columns is odd, return None\n",
    "    if num_cols % 2 != 0:\n",
    "        return None\n",
    "    \n",
    "    # Generate the permutation array\n",
    "    # Example for num_cols=6: [1, 0, 3, 2, 5, 4]\n",
    "    perm = np.empty(num_cols, dtype=int)\n",
    "    perm[0::2] = np.arange(1, num_cols, 2)\n",
    "    perm[1::2] = np.arange(0, num_cols, 2)\n",
    "    \n",
    "    # Alternatively, using reshape and swap:\n",
    "    # perm = np.arange(num_cols).reshape(-1, 2)[:, [1, 0]].flatten()\n",
    "    \n",
    "    # Apply the permutation to the columns\n",
    "    return a[:, perm]\n",
    "\n",
    "# Testing the function with the provided examples\n",
    "\n",
    "# Test 1\n",
    "print(\"Test 1:\")\n",
    "arr1 = np.arange(0,6).reshape(3,2)\n",
    "print(\"Original Array:\\n\", arr1)\n",
    "print(\"Swapped Columns:\\n\", exchangecolumns(arr1))\n",
    "print()\n",
    "\n",
    "# Test 2\n",
    "print(\"Test 2:\")\n",
    "arr2 = np.arange(0,20).reshape(5,4)\n",
    "print(\"Original Array:\\n\", arr2)\n",
    "print(\"Swapped Columns:\\n\", exchangecolumns(arr2))\n",
    "print()\n",
    "\n",
    "# Test 3\n",
    "print(\"Test 3:\")\n",
    "arr3 = np.arange(0.,12.).reshape(3,4)\n",
    "print(\"Original Array:\\n\", arr3)\n",
    "print(\"Swapped Columns:\\n\", exchangecolumns(arr3))\n",
    "print()\n",
    "\n",
    "# Test 4\n",
    "print(\"Test 4:\")\n",
    "arr4 = np.arange(0,25).reshape(5,5)\n",
    "print(\"Original Array:\\n\", arr4)\n",
    "print(\"Swapped Columns:\\n\", exchangecolumns(arr4))\n",
    "print()\n",
    "\n",
    "# Test 5\n",
    "print(\"Test 5:\")\n",
    "arr5 = np.array([[3,42,5,11,44,55],\n",
    "                 [7,9,4,1,3,2]])\n",
    "print(\"Original Array:\\n\", arr5)\n",
    "print(\"Swapped Columns:\\n\", exchangecolumns(arr5))\n"
   ]
  },
  {
   "cell_type": "code",
   "execution_count": null,
   "metadata": {},
   "outputs": [],
   "source": []
  }
 ],
 "metadata": {
  "kernelspec": {
   "display_name": ".venv",
   "language": "python",
   "name": "python3"
  },
  "language_info": {
   "codemirror_mode": {
    "name": "ipython",
    "version": 3
   },
   "file_extension": ".py",
   "mimetype": "text/x-python",
   "name": "python",
   "nbconvert_exporter": "python",
   "pygments_lexer": "ipython3",
   "version": "3.11.4"
  }
 },
 "nbformat": 4,
 "nbformat_minor": 2
}
