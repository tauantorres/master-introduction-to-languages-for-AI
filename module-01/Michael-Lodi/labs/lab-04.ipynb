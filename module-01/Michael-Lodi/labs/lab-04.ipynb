{
 "cells": [
  {
   "cell_type": "raw",
   "metadata": {
    "vscode": {
     "languageId": "raw"
    }
   },
   "source": [
    "Define a class Fraction to represent fractions as objects with three elements: sign, numerator, denominator, of types respectively str, int, int.\n",
    "\n",
    "The __init__ takes as parameters two integers N and D.\n",
    "\n",
    "N represents the numerator with sign of the fraction\n",
    "D represents the denominator. It must always be >0. If it is not passed, it assumes the default value of 1.\n",
    "The __init__ initializes the following private attributes:\n",
    "\n",
    "__sign: a string of a single character that represents the sign of the fraction. It can assume only values '+' or '-'\n",
    "__num: a positive (>=0) integer that represents the numerator\n",
    "__den: a positive integer, different from 0 (i.e. >0), that represents the denominator\n",
    "NB!! The __init__ checks that N and D are integers, and that D>0\n",
    "In case the parameters do not respect these conditions, all the attributes for sign, numerator, and denominator must be initialized to None \n",
    "\n",
    " The class implements several methods.\n",
    "\n",
    "Write a method get that returns sign, numerator, and denominator as a tuple of type (str, int, int). E.g. fraction +1/10\n",
    " will be returned as the tuple ('+',1,10), while the fraction −3/5\n",
    " will be returned as ('-', 3, 5)\n",
    "Write a method value that takes as parameter an integer d and calculates the value of the fraction and returns it as a float, rounded with the round function at d decimals.\n",
    "Write a method reduce that modifies the fraction by reducing it to the lowest terms. Hint: you can use the gcd function from the math module. For testing purposes, the method must also return self\n",
    "Write the magic method __eq__ that checks if the fraction is equal to another fraction taken as a parameter. Two fractions are equal if their reduced forms are equal. Attention: the method must not reduce or modify the two objects. Do not use the value function and in general do not compare the float values of the fractions.\n",
    "Write the magic method __str__ that returns a string representation of the fraction. The string is in the form SN/D (e.g. +1/3, -20/40), without spaces\n",
    "Write the magic method __add__ that adds the fraction on which is called to another. The return value must be a new fraction, reduced to the lowest terms. Attention: the method must not reduce or modify the two original objects. If the resulting numerator is 0, return the reduced fraction with numerator 0 and the reduced denominator.\n",
    "For example:\n",
    "\n",
    "Test\tResult\n",
    "print(Fraction(1,3))\n",
    "+1/3\n",
    "print(Fraction(1,3).get())\n",
    "('+', 1, 3)\n",
    "print(Fraction(1,3).value(5))\n",
    "0.33333\n",
    "print(Fraction(-50,625).reduce())\n",
    "-2/25\n",
    "print(Fraction(6,300) == Fraction(3,150))\n",
    "True\n",
    "print(Fraction(13,39)+Fraction(14,42))\n",
    "+2/3\n",
    "print(Fraction(13,39)+Fraction(-14,42))\n",
    "+0/1\n",
    "print(Fraction(-2,3)+Fraction(13,39))\n",
    "-1/3\n",
    "print(Fraction(-14,42)+Fraction(-2,3))\n",
    "-1/1\n",
    "print(Fraction(2**56,10*2**56)+Fraction(1,10))\n",
    "+1/5\n",
    "print(Fraction(1.0,\"3\").get())\n",
    "(None, None, None)\n",
    " "
   ]
  },
  {
   "cell_type": "code",
   "execution_count": 24,
   "metadata": {},
   "outputs": [],
   "source": [
    "import math\n",
    "\n",
    "class Fraction:\n",
    "\n",
    "    def __init__(self, N: int, D: int = 1) -> None:\n",
    "\n",
    "        all_conditions = [self.check_condition_int(N), self.check_condition_int(D), self.check_condition_pos(D)]\n",
    "        respect_all_conditions = all(all_conditions)\n",
    "\n",
    "        if not respect_all_conditions:\n",
    "            self.__sign = None\n",
    "            self.__num = None\n",
    "            self.__den = None\n",
    "\n",
    "            self.__true_div = None\n",
    "\n",
    "            self.__mdc = None\n",
    "            self.__reduce_num = None\n",
    "            self.__reduce_den = None\n",
    "\n",
    "        else:\n",
    "            self.__sign = self.check_sign(N)\n",
    "            self.__num = self.check_num(N)\n",
    "            self.__den = self.check_den(D)\n",
    "\n",
    "            self.__true_div = self.true_div(self.__num, self.__den)\n",
    "\n",
    "            self.__mdc = self.get_mdc(self.__num, self.__den)\n",
    "            self.__reduce_num = int(self.__num/self.__mdc)\n",
    "            self.__reduce_den = int(self.__den/self.__mdc)\n",
    "                    \n",
    "    # Methods: CHECK-CONDITIONS\n",
    "    def check_condition_int(self, num: int) -> bool:\n",
    "        return isinstance(num, int)\n",
    "\n",
    "    def check_condition_pos(self, num: int) -> bool:\n",
    "        return num > 0 if isinstance(num, int) else False\n",
    "\n",
    "    # Methods: CHECK-VALUES\n",
    "    def check_sign(self, N: int) -> str:\n",
    "        return \"+\" if N >= 0 else \"-\"\n",
    "\n",
    "    def check_num(self, N: int) -> int:\n",
    "        return N if N >= 0 else -N\n",
    "\n",
    "    def check_den(self, D: int) -> int:\n",
    "        return D if D >= 0 else -D\n",
    "\n",
    "    # Methods: AUX\n",
    "    def true_div(self, num_01: int, num_02: int) -> float:\n",
    "        return num_01 / num_02\n",
    "\n",
    "    def get_mdc(self, num_01: int, num_02: int) -> int:\n",
    "        return math.gcd(num_01, num_02)\n",
    "    \n",
    "    def get_reduce_values(self) -> tuple:\n",
    "        return self.__reduce_num, self.__reduce_den\n",
    "\n",
    "    def get_values_reduced(self, num_01: int, num_02: int) -> int:\n",
    "        return num_01/self.get_mdc(num_01, num_02), num_02/self.get_mdc(num_01, num_02)\n",
    "\n",
    "    def get_num_with_sign(self, num: int, sign: str) -> int:\n",
    "        return num if sign == \"+\" else -num\n",
    "    \n",
    "    def get_sign(self, num) -> str:\n",
    "        return \"+\" if num >= 0 else \"-\"\n",
    "    \n",
    "    def remove_sign(self, num: int) -> int:\n",
    "        return num if num >= 0 else -num\n",
    "\n",
    "    # Methods: ACTIONS\n",
    "    def get(self) -> tuple:\n",
    "        return self.__sign, self.__num, self.__den\n",
    "\n",
    "    def value(self, d: int) -> float:\n",
    "        return round(self.__true_div, d)\n",
    "\n",
    "    def reduce(self) -> str:\n",
    "        return f\"{self.__sign}{self.__reduce_num}/{self.__reduce_den}\"\n",
    "\n",
    "\n",
    "    # Methods: ABRACADABRA\n",
    "    def __str__(self) -> str:\n",
    "        return f\"{self.__sign}{self.__num}/{self.__den}\"\n",
    "\n",
    "    def __eq__(self, other: \"Fraction\") -> bool:\n",
    "        return self.get_reduce_values() == other.get_reduce_values()\n",
    "\n",
    "    def __add__(self, other: \"Fraction\") -> str:\n",
    "        this_sign, this_num, this_den = self.get()\n",
    "        other_sign, other_num, other_den = other.get()\n",
    "\n",
    "        tmp_this_num, tmp_other_num = self.get_num_with_sign(this_num, this_sign), self.get_num_with_sign(other_num, other_sign)\n",
    "\n",
    "        res_num_with_sign = tmp_this_num * other_den + tmp_other_num * this_den\n",
    "\n",
    "        res_sign = self.get_sign(res_num_with_sign)\n",
    "        res_den = this_den * other_den\n",
    "        res_num = self.remove_sign(res_num_with_sign)\n",
    "\n",
    "        res_num_reduced, res_den_reduced = self.get_values_reduced(res_num, res_den)\n",
    "\n",
    "        return f\"{res_sign}{int(res_num_reduced)}/{int(res_den_reduced)}\"\n"
   ]
  },
  {
   "cell_type": "code",
   "execution_count": 25,
   "metadata": {},
   "outputs": [
    {
     "name": "stdout",
     "output_type": "stream",
     "text": [
      "True\n"
     ]
    }
   ],
   "source": [
    "fraction_01 = Fraction(-50, 625)\n",
    "fraction_02 = Fraction(-2, 25)\n",
    "print(fraction_01 == fraction_02)\n"
   ]
  },
  {
   "cell_type": "code",
   "execution_count": 26,
   "metadata": {},
   "outputs": [
    {
     "name": "stdout",
     "output_type": "stream",
     "text": [
      "-1/1\n"
     ]
    }
   ],
   "source": [
    "fraction_01 = Fraction(-14, 42)\n",
    "fraction_02 = Fraction(-2, 3)\n",
    "print(fraction_01 + fraction_02)\n"
   ]
  },
  {
   "cell_type": "code",
   "execution_count": 27,
   "metadata": {},
   "outputs": [
    {
     "name": "stdout",
     "output_type": "stream",
     "text": [
      "+1/5\n"
     ]
    }
   ],
   "source": [
    "print(Fraction(2**56,10*2**56)+Fraction(1,10))"
   ]
  },
  {
   "cell_type": "code",
   "execution_count": 29,
   "metadata": {},
   "outputs": [
    {
     "name": "stdout",
     "output_type": "stream",
     "text": [
      "(None, None, None)\n"
     ]
    }
   ],
   "source": [
    "print(Fraction(1.0,\"3\").get())\n"
   ]
  },
  {
   "cell_type": "raw",
   "metadata": {},
   "source": [
    "Implement a class Chain that represents a broken line (also called polygonal chain, \"spezzata\" in Italian) on a cartesian plane.\n",
    "The broken line is represented as an ordered list of points (passed as a parameter to the __init__ method; the order of the appearance of the points in the list indicates the order in which the points are connected). The list is memorized as the only attribute (private) of the class.\n",
    "\n",
    "Implement the following methods:\n",
    "delete_point which deletes the last point of the broken line and returns the deleted point;\n",
    "add_point which adds a new point at the end of the broken line and returns the added point;\n",
    "dist_extremes which determines and returns (as a float) the Euclidean distance between the first and last point of the broken line;\n",
    "__len__ which determines and returns (converted to int) the length of the broken line as the sum of the segments that make it up\n",
    "Points are instances of the Point class seen during lectures.\n",
    "\n",
    "Add to class Point a new method distance that returns the euclidean distance (as a float) between the point and another passed as a parameter.\n",
    "\n",
    "For example:\n",
    "\n",
    "Test\tResult\n",
    "print(len(Chain([Point(0,0),Point(0,3),Point(4,0)])))\n",
    "8\n",
    "print(Chain([Point(0,0),Point(0,3),Point(4,0)]).dist_extremes())\n",
    "4.0\n",
    "print(Chain([Point(0,0),Point(0,3),Point(4,0)]).add_point(Point(0,0)))\n",
    "Point(0, 0)\n",
    "print(len(Chain([Point(0,0),Point(0,3),Point(4,0),Point(0,0)])))\n",
    "12\n",
    "print(Chain([Point(0,0),Point(0,3),Point(4,0),Point(0,0)]).dist_extremes())\n",
    "0.0\n",
    "print(Chain([Point(0,0),Point(0,3),Point(4,0)]).delete_point())\n",
    "Point(4, 0)\n"
   ]
  },
  {
   "cell_type": "code",
   "execution_count": 47,
   "metadata": {},
   "outputs": [],
   "source": [
    "from typing import List\n",
    "\n",
    "\n",
    "class Point:\n",
    "\n",
    "    def __init__(self, xx: int, yy: int) -> None:\n",
    "        self.x = xx\n",
    "        self.y = yy\n",
    "\n",
    "    def whoareyou(self) -> tuple:\n",
    "        return self.x, self.y\n",
    "    \n",
    "    def __str__(self) -> str:\n",
    "        return 'Point' + str(self.whoareyou())\n",
    "    \n",
    "    #implement here the \"distance\" method\n",
    "    def distance(self, other: \"Point\") -> float:\n",
    "        return ( (self.x - other.x) ** 2 + (self.y - other.y) ** 2 ) ** (1/2)\n",
    "    \n",
    "    def __str__(self) -> str:\n",
    "        return f\"Point(x={self.x}, y={self.y})\"\n",
    "    \n",
    "class Chain:\n",
    "    \n",
    "    def __init__(self, points: List[Point]) -> None:\n",
    "        self.__points = points\n",
    "\n",
    "    def delete_point(self) -> Point:\n",
    "        return self.__points.pop()\n",
    "\n",
    "    def __str__(self) -> str:\n",
    "        return f\"Chain(points={self.__points})\"\n"
   ]
  },
  {
   "cell_type": "code",
   "execution_count": 94,
   "metadata": {},
   "outputs": [],
   "source": [
    "from typing import List\n",
    "\n",
    "\n",
    "class Point:\n",
    "\n",
    "    def __init__(self, xx: int, yy: int) -> None:\n",
    "        self.x = xx\n",
    "        self.y = yy\n",
    "\n",
    "    def whoareyou(self) -> tuple:\n",
    "        return self.x, self.y\n",
    "    \n",
    "    def __str__(self) -> str:\n",
    "        return 'Point' + str(self.whoareyou())\n",
    "    \n",
    "    def distance(self, other: \"Point\") -> float:\n",
    "        return ( (self.x - other.x) ** 2 + (self.y - other.y) ** 2 ) ** (1/2)\n",
    "    \n",
    "    \n",
    "class Chain:\n",
    "    \n",
    "    def __init__(self, points: List[Point]) -> None:\n",
    "        self.__points = points\n",
    "\n",
    "    def delete_point(self) -> Point:\n",
    "        return self.__points.pop()\n",
    "    \n",
    "    def add_point(self, point: Point) -> str:\n",
    "        self.__points.append(point); return point\n",
    "    \n",
    "    def dist_extremes(self) -> float:\n",
    "        first_point, last_point = self.__points[0], self.__points[-1]\n",
    "        return first_point.distance(last_point)\n",
    "\n",
    "    def __str__(self) -> str:\n",
    "        return f\"Chain(points={[str(point) for point in self.__points]})\"\n",
    "    \n",
    "    def len(self) -> int:\n",
    "        return self.__len__()\n",
    "\n",
    "    def __len__(self) -> int:\n",
    "        all_distances = []\n",
    "        qnt_points = len(self.__points)\n",
    "\n",
    "        for i in range(0, qnt_points - 1):\n",
    "            current_point, next_point = self.__points[i], self.__points[i + 1]\n",
    "            all_distances.append(current_point.distance(next_point))\n",
    "\n",
    "        return int(sum(all_distances))\n"
   ]
  },
  {
   "cell_type": "code",
   "execution_count": 103,
   "metadata": {},
   "outputs": [
    {
     "name": "stdout",
     "output_type": "stream",
     "text": [
      "8 True\n",
      "4.0 True\n",
      "Point(0, 0) False\n",
      "12 True\n",
      "0.0 True\n",
      "Point(4, 0) False\n"
     ]
    }
   ],
   "source": [
    "print(len(Chain([Point(0,0),Point(0,3),Point(4,0)])), len(Chain([Point(0,0),Point(0,3),Point(4,0)])) == 8 )\n",
    "# 8\n",
    "print(Chain([Point(0,0),Point(0,3),Point(4,0)]).dist_extremes(), Chain([Point(0,0),Point(0,3),Point(4,0)]).dist_extremes() == 4.0)\n",
    "# 4.0\n",
    "print(Chain([Point(0,0),Point(0,3),Point(4,0)]).add_point(Point(0,0)), Chain([Point(0,0),Point(0,3),Point(4,0)]).add_point(Point(0,0)) == \"Point(0, 0)\")\n",
    "# Point(0, 0)\n",
    "print(len(Chain([Point(0,0),Point(0,3),Point(4,0),Point(0,0)])), len(Chain([Point(0,0),Point(0,3),Point(4,0),Point(0,0)])) == 12)\n",
    "# 12\n",
    "print(Chain([Point(0,0),Point(0,3),Point(4,0),Point(0,0)]).dist_extremes(), Chain([Point(0,0),Point(0,3),Point(4,0),Point(0,0)]).dist_extremes() == 0.0)\n",
    "# 0.0\n",
    "print(Chain([Point(0,0),Point(0,3),Point(4,0)]).delete_point(), Chain([Point(0,0),Point(0,3),Point(4,0)]).delete_point() == \"Point(4, 0)\")\n",
    "# Point(4, 0)"
   ]
  },
  {
   "cell_type": "code",
   "execution_count": 86,
   "metadata": {},
   "outputs": [
    {
     "name": "stdout",
     "output_type": "stream",
     "text": [
      "Chain(points=['Point(0, 0)', 'Point(0, 3)', 'Point(4, 0)'])\n"
     ]
    }
   ],
   "source": [
    "a, b, c = Point(0, 0), Point(0, 3), Point(4, 0)\n",
    "\n",
    "points = [a, b, c]\n",
    "\n",
    "chain = Chain(points)\n",
    "print(chain)"
   ]
  },
  {
   "cell_type": "code",
   "execution_count": 87,
   "metadata": {},
   "outputs": [
    {
     "name": "stdout",
     "output_type": "stream",
     "text": [
      "Point(0, 0)\n"
     ]
    }
   ],
   "source": [
    "print(chain.add_point(a))"
   ]
  },
  {
   "cell_type": "code",
   "execution_count": 77,
   "metadata": {},
   "outputs": [
    {
     "name": "stdout",
     "output_type": "stream",
     "text": [
      "Point(4, 0)\n"
     ]
    }
   ],
   "source": [
    "print(chain.delete_point())"
   ]
  },
  {
   "cell_type": "code",
   "execution_count": 78,
   "metadata": {},
   "outputs": [
    {
     "name": "stdout",
     "output_type": "stream",
     "text": [
      "Chain(points=['Point(0, 0)', 'Point(0, 3)'])\n"
     ]
    }
   ],
   "source": [
    "print(chain)"
   ]
  },
  {
   "cell_type": "raw",
   "metadata": {},
   "source": [
    "Complete the class Angle which represents an angular size in degrees (sexagesimal, i.e. between 0 and 359).\n",
    "Consider (without checking) only integer values for the size.\n",
    "\n",
    "The class must implement a method get that returns the size of the Angle on which it is invoked.\n",
    "\n",
    "The class must also redefine four magic methods __add__, __sub__, __mul__, __floordiv__, in order to perform the four operations of:\n",
    "summation and subtraction of the angle with another angle;\n",
    "multiplication and integer division of the angle by an integer\n",
    "NB: Do not modify the method __str__\n",
    "For example:\n",
    "\n",
    "Test\tResult\n",
    "print(Angle(135))\n",
    "135°\n",
    "print(Angle(90)+Angle(365))\n",
    "95°\n",
    "print(Angle(90)-Angle(365))\n",
    "85°\n",
    "print(Angle(180)*2)\n",
    "0°\n",
    "print(Angle(180)//3)\n",
    "60°\n",
    "print(Angle(500).get())\n",
    "140\n",
    "print(Angle(90).get())\n",
    "90\n"
   ]
  },
  {
   "cell_type": "code",
   "execution_count": 205,
   "metadata": {},
   "outputs": [],
   "source": [
    "class Angle:\n",
    "\n",
    "    def __init__(self, angle: int) -> None:\n",
    "        self.__size = angle\n",
    "\n",
    "    def get(self) -> int:\n",
    "        return self.reduce_angle(self.__size)\n",
    "\n",
    "    def reduce_angle(self, angle: int) -> int:\n",
    "        return abs(angle) % 360 if angle > 0 else 360 - (abs(angle) % 360)\n",
    "    \n",
    "    def __add__(self, other: \"Angle\") -> \"Angle\":\n",
    "        return Angle(self.get() + other.get())\n",
    "    \n",
    "    def __sub__(self, other: \"Angle\") -> \"Angle\":\n",
    "        return Angle(self.get() - other.get())\n",
    "\n",
    "    def __mul__(self, other: int) -> \"Angle\":\n",
    "        return Angle((self.get() * other) % 360)\n",
    "\n",
    "    def __floordiv__(self, other: int) -> \"Angle\":\n",
    "        return Angle(self.get() // other)\n",
    "        \n",
    "    def __str__(self) -> str:\n",
    "        return str(self.__size) + '°'\n",
    "\n"
   ]
  },
  {
   "cell_type": "code",
   "execution_count": 206,
   "metadata": {},
   "outputs": [
    {
     "name": "stdout",
     "output_type": "stream",
     "text": [
      "135°\n",
      "95°\n",
      "85°\n",
      "0°\n",
      "60°\n",
      "140\n",
      "90\n"
     ]
    }
   ],
   "source": [
    "print(Angle(135))\n",
    "print(Angle(90)+Angle(365))\n",
    "print(Angle(90)-Angle(365))\n",
    "print(Angle(180)*2)\n",
    "print(Angle(180)//3)\n",
    "print(Angle(500).get())\n",
    "print(Angle(90).get())\n"
   ]
  },
  {
   "cell_type": "code",
   "execution_count": 188,
   "metadata": {},
   "outputs": [
    {
     "data": {
      "text/plain": [
       "(-275, 275, 85)"
      ]
     },
     "execution_count": 188,
     "metadata": {},
     "output_type": "execute_result"
    }
   ],
   "source": [
    "a1, a2 = 90, 365\n",
    "angle = (a1 - a2)\n",
    "\n",
    "angle, abs(angle) % 360, angle % 360\n"
   ]
  },
  {
   "cell_type": "code",
   "execution_count": 189,
   "metadata": {},
   "outputs": [
    {
     "name": "stdout",
     "output_type": "stream",
     "text": [
      "-225° 135°\n",
      "140\n"
     ]
    }
   ],
   "source": [
    "print(Angle(-225), Angle(135))\n",
    "\n",
    "print(Angle(500).get())"
   ]
  },
  {
   "cell_type": "code",
   "execution_count": 190,
   "metadata": {},
   "outputs": [
    {
     "data": {
      "text/plain": [
       "(455, 95)"
      ]
     },
     "execution_count": 190,
     "metadata": {},
     "output_type": "execute_result"
    }
   ],
   "source": [
    "ang = 365 + 90\n",
    "ang, ang % 360"
   ]
  },
  {
   "cell_type": "code",
   "execution_count": 191,
   "metadata": {},
   "outputs": [
    {
     "data": {
      "text/plain": [
       "175"
      ]
     },
     "execution_count": 191,
     "metadata": {},
     "output_type": "execute_result"
    }
   ],
   "source": [
    "(180 - 365) + 360"
   ]
  },
  {
   "cell_type": "code",
   "execution_count": 139,
   "metadata": {},
   "outputs": [
    {
     "data": {
      "text/plain": [
       "85"
      ]
     },
     "execution_count": 139,
     "metadata": {},
     "output_type": "execute_result"
    }
   ],
   "source": [
    "(90 - 365) % 360"
   ]
  },
  {
   "cell_type": "code",
   "execution_count": 253,
   "metadata": {},
   "outputs": [],
   "source": [
    "#do not insert prints or tests\n",
    "#implement the methods instead of \"pass\"\n",
    "from typing import Dict, List, Any\n",
    "\n",
    "\n",
    "class Account:\n",
    "\n",
    "    def __init__(self, bank: \"Bank\", number: int, holder: \"Holder\", opening_balance: float = 0) -> None:\n",
    "        self.bank = bank\n",
    "        self.number = number\n",
    "        self.holder = holder\n",
    "        self.__balance = opening_balance\n",
    "\n",
    "    def get_balance(self) -> float:\n",
    "        return self.__balance\n",
    "\n",
    "    def deposit(self, amount: float) -> float:\n",
    "        self.__balance += amount if amount >= 0 else 0; return amount\n",
    "\n",
    "    def withdraw(self, amount: float) -> float:\n",
    "        current_balance = self.__balance\n",
    "\n",
    "        if amount <= 0:\n",
    "            return amount\n",
    "        \n",
    "        if current_balance - amount <= 0:\n",
    "            print(\"Insufficient funds\"); return self.__withdraw(amount=current_balance)\n",
    "        \n",
    "        else:\n",
    "            return self.__withdraw(amount=amount)\n",
    "        \n",
    "    def __withdraw(self, amount: float) -> float:\n",
    "        self.__balance -= amount; return amount\n",
    " \n",
    "    def __lt__(self, other: \"Account\") -> bool:\n",
    "        #for sorting purposes. DO NOT EDIT.\n",
    "        return self.number < other.number\n",
    "    \n",
    "    def __str__(self) -> str:\n",
    "        return str(self.__dict__)\n",
    "\n",
    "class Holder:\n",
    "\n",
    "    def __init__(self, ident: str, name: str, surname: str) -> None:\n",
    "        self.ident = ident\n",
    "        self.name = name\n",
    "        self.surname = surname\n",
    "\n",
    "        self.__accounts: Dict[tuple, \"Account\"] = {}\n",
    "\n",
    "    def add_account(self, account: \"Account\") -> None:\n",
    "        new_key = (account.bank, account.number)\n",
    "        if new_key not in self.__accounts:\n",
    "            self.__accounts[new_key] = account\n",
    "\n",
    "    def total_balance(self) -> float:\n",
    "        return sum( [account_value.get_balance() for _, account_value in self.__accounts.items()] )\n",
    "    \n",
    "    def __lt__(self, other: \"Holder\") -> bool:\n",
    "        #for sorting purposes. DO NOT EDIT\n",
    "        return self.surname < other.surname\n",
    "\n",
    "    def __str__(self) -> str:\n",
    "        return str(self.__dict__)\n",
    "\n",
    "class Bank:\n",
    "\n",
    "    def __init__(self, name: str) -> None:\n",
    "        self.name = name\n",
    "        self.__account_counter: int = 0\n",
    "        self.__holders: Dict[str, \"Holder\"] = {}\n",
    "        self.__accounts: Dict[str, \"Account\"] = {}\n",
    "\n",
    "    def print_holders(self) -> str:\n",
    "        return f\"Holders of bank {self.name}\"\n",
    "\n",
    "    def print_accounts(self):\n",
    "        pass\n",
    "\n",
    "    def new_account(self, holder: \"Holder\", initial_balance=0):\n",
    "        \n",
    "        if not isinstance(holder, Holder) or initial_balance < 0:\n",
    "            return None\n",
    "\n",
    "        self.__account_counter += 1\n",
    "        new_account = Account(\n",
    "            bank=self, \n",
    "            holder=holder, \n",
    "            number=self.__account_counter, \n",
    "            opening_balance=initial_balance,\n",
    "        )\n",
    "        self.__accounts[self.__account_counter] = new_account\n",
    "        holder.add_account(account=new_account)\n",
    "\n",
    "        if holder.ident not in self.__holders:\n",
    "            self.__holders[holder.ident] = holder\n",
    "\n",
    "        return Account\n",
    "    \n",
    "    def __get_account(self, account_number):\n",
    "        pass\n",
    "\n",
    "    def same_bank_transfer(self, debit_account, credit_account, amount):\n",
    "        pass\n",
    "\n",
    "    def deposit(self, account_number, amount):\n",
    "        pass\n",
    "\n",
    "    def withdraw(self, account_number, amount):\n",
    "        pass\n",
    "\n",
    "    def another_bank_transfer(self, debit_account, credit_bank, credit_account, amount):\n",
    "        pass\n",
    "\n",
    "    def __str__(self) -> str:\n",
    "        return str(self.__dict__)\n",
    "    \n",
    "\n"
   ]
  },
  {
   "cell_type": "code",
   "execution_count": 256,
   "metadata": {},
   "outputs": [
    {
     "data": {
      "text/plain": [
       "'Holders of bank Banca1'"
      ]
     },
     "execution_count": 256,
     "metadata": {},
     "output_type": "execute_result"
    }
   ],
   "source": [
    "michael = Holder('ldomhl', 'M', 'L')\n",
    "chiara = Holder('brbchr', 'C', 'B')\n",
    "\n",
    "b1 = Bank(\"Banca1\")\n",
    "b1.print_holders()"
   ]
  },
  {
   "cell_type": "code",
   "execution_count": 258,
   "metadata": {},
   "outputs": [
    {
     "name": "stdout",
     "output_type": "stream",
     "text": [
      "0\n",
      "0\n",
      "0\n"
     ]
    }
   ],
   "source": [
    "#do not modify the tests below!\n",
    "michael = Holder('ldomhl', 'M', 'L')\n",
    "chiara = Holder('brbchr', 'C', 'B')\n",
    "\n",
    "b1 = Bank(\"Banca1\")\n",
    "b2 = Bank(\"Banca2\")\n",
    "\n",
    "b1.new_account(michael, 1000)\n",
    "b2.new_account(chiara, 50)\n",
    "b1.new_account(chiara)\n",
    "\n",
    "b1.print_holders()\n",
    "b1.print_accounts()\n",
    "b2.print_holders()\n",
    "b2.print_accounts()\n",
    "\n",
    "print(chiara.total_balance())\n",
    "\n",
    "b1.same_bank_transfer(1, 2, 300)\n",
    "b1.print_accounts()\n",
    "\n",
    "b1.withdraw(1,50)\n",
    "b1.withdraw(1,1000)\n",
    "\n",
    "print(michael.total_balance())\n",
    "print(chiara.total_balance())\n"
   ]
  },
  {
   "cell_type": "code",
   "execution_count": 252,
   "metadata": {},
   "outputs": [
    {
     "name": "stdout",
     "output_type": "stream",
     "text": [
      "{(1, 2): 'A', (2, 3): 'B', (1, 3): 'C'}\n",
      "{(1, 2): 'A', (2, 3): 'B', (1, 3): 'C', (2, 1): 'D'}\n"
     ]
    }
   ],
   "source": [
    "dicionario = {\n",
    "    (1, 2): \"A\",\n",
    "    (2, 3): \"B\",\n",
    "    (1, 3): \"C\",\n",
    "}\n",
    "\n",
    "print(dicionario)\n",
    "\n",
    "new_key = (2, 1)\n",
    "new_value = \"D\"\n",
    "\n",
    "if new_key not in dicionario:\n",
    "    dicionario[new_key] = new_value\n",
    "\n",
    "print(dicionario)"
   ]
  },
  {
   "cell_type": "code",
   "execution_count": 1,
   "metadata": {},
   "outputs": [
    {
     "name": "stdout",
     "output_type": "stream",
     "text": [
      "Holders of bank Banca1\n",
      "brbchr C B\n",
      "ldomhl M L\n",
      "Accounts of bank Banca1\n",
      "1 ldomhl 1000.0\n",
      "2 brbchr 0.0\n",
      "Holders of bank Banca2\n",
      "brbchr C B\n",
      "Accounts of bank Banca2\n",
      "1 brbchr 50.0\n",
      "50.0\n",
      "Accounts of bank Banca1\n",
      "1 ldomhl 700.0\n",
      "2 brbchr 300.0\n",
      "Withdrawn 50 from account 1\n",
      "Insufficient funds\n",
      "Withdrawn 650.0 from account 1\n",
      "0\n",
      "350.0\n"
     ]
    }
   ],
   "source": [
    "class Account:\n",
    "    def __init__(self, bank, number, holder, opening_balance=0.0):\n",
    "        self.bank = bank\n",
    "        self.number = number\n",
    "        self.holder = holder\n",
    "        self.__balance = float(opening_balance)\n",
    "\n",
    "    def get_balance(self):\n",
    "        return self.__balance\n",
    "\n",
    "    def deposit(self, amount):\n",
    "        if amount > 0:\n",
    "            self.__balance += amount\n",
    "        return amount if amount > 0 else 0\n",
    "\n",
    "    def withdraw(self, amount):\n",
    "        if amount > 0:\n",
    "            if amount > self.__balance:\n",
    "                withdrawn_amount = self.__balance\n",
    "                self.__balance = 0\n",
    "                print(\"Insufficient funds\")\n",
    "            else:\n",
    "                withdrawn_amount = amount\n",
    "                self.__balance -= amount\n",
    "            return withdrawn_amount\n",
    "        return 0\n",
    "\n",
    "    def __lt__(self, other):\n",
    "        return self.number < other.number\n",
    "\n",
    "\n",
    "class Holder:\n",
    "    def __init__(self, ident, name, surname):\n",
    "        self.ident = ident\n",
    "        self.name = name\n",
    "        self.surname = surname\n",
    "        self.__accounts = {}\n",
    "\n",
    "    def add_account(self, account):\n",
    "        key = (account.bank, account.number)\n",
    "        if key not in self.__accounts:\n",
    "            self.__accounts[key] = account\n",
    "\n",
    "    def total_balance(self):\n",
    "        return sum(account.get_balance() for account in self.__accounts.values())\n",
    "\n",
    "    def __lt__(self, other):\n",
    "        return self.surname < other.surname\n",
    "\n",
    "\n",
    "class Bank:\n",
    "    def __init__(self, name):\n",
    "        self.name = name\n",
    "        self.__account_counter = 0\n",
    "        self.__holders = {}\n",
    "        self.__accounts = {}\n",
    "\n",
    "    def print_holders(self):\n",
    "        print(f\"Holders of bank {self.name}\")\n",
    "        for holder in sorted(self.__holders.values()):\n",
    "            print(holder.ident, holder.name, holder.surname)\n",
    "\n",
    "    def print_accounts(self):\n",
    "        print(f\"Accounts of bank {self.name}\")\n",
    "        for account in sorted(self.__accounts.values()):\n",
    "            print(account.number, account.holder.ident, account.get_balance())\n",
    "\n",
    "    def new_account(self, holder, initial_balance=0):\n",
    "        if not isinstance(holder, Holder) or initial_balance < 0:\n",
    "            return None\n",
    "\n",
    "        self.__account_counter += 1\n",
    "        account = Account(self, self.__account_counter, holder, initial_balance)\n",
    "        self.__accounts[self.__account_counter] = account\n",
    "        holder.add_account(account)\n",
    "\n",
    "        if holder.ident not in self.__holders:\n",
    "            self.__holders[holder.ident] = holder\n",
    "\n",
    "        return account\n",
    "\n",
    "    def __get_account(self, account_number):\n",
    "        return self.__accounts.get(account_number, None)\n",
    "\n",
    "    def same_bank_transfer(self, debit_account_number, credit_account_number, amount):\n",
    "        debit_account = self.__get_account(debit_account_number)\n",
    "        credit_account = self.__get_account(credit_account_number)\n",
    "\n",
    "        if not debit_account:\n",
    "            print(\"Debit account not available\")\n",
    "            return None\n",
    "        if not credit_account:\n",
    "            print(\"Credit account not available\")\n",
    "            return None\n",
    "        if debit_account.get_balance() < amount:\n",
    "            print(\"Insufficient funds\")\n",
    "            return None\n",
    "\n",
    "        withdrawn_amount = debit_account.withdraw(amount)\n",
    "        credit_account.deposit(withdrawn_amount)\n",
    "\n",
    "    def another_bank_transfer(self, debit_account_number, credit_bank, credit_account_number, amount):\n",
    "        debit_account = self.__get_account(debit_account_number)\n",
    "        if not isinstance(credit_bank, Bank):\n",
    "            print(\"Credit bank not available\")\n",
    "            return None\n",
    "\n",
    "        credit_account = credit_bank.__get_account(credit_account_number)\n",
    "        if not debit_account:\n",
    "            print(\"Debit account not available\")\n",
    "            return None\n",
    "        if not credit_account:\n",
    "            print(\"Credit account not available\")\n",
    "            return None\n",
    "        if debit_account.get_balance() < amount:\n",
    "            print(\"Insufficient funds\")\n",
    "            return None\n",
    "\n",
    "        withdrawn_amount = debit_account.withdraw(amount)\n",
    "        credit_account.deposit(withdrawn_amount)\n",
    "\n",
    "    def deposit(self, account_number, amount):\n",
    "        account = self.__get_account(account_number)\n",
    "        if not account:\n",
    "            print(\"Account not available\")\n",
    "            return None\n",
    "\n",
    "        deposited_amount = account.deposit(amount)\n",
    "        print(f\"Deposited {deposited_amount} on account {account_number}\")\n",
    "\n",
    "    def withdraw(self, account_number, amount):\n",
    "        account = self.__get_account(account_number)\n",
    "        if not account:\n",
    "            print(\"Account not available\")\n",
    "            return None\n",
    "\n",
    "        withdrawn_amount = account.withdraw(amount)\n",
    "        print(f\"Withdrawn {withdrawn_amount} from account {account_number}\")\n",
    "\n",
    "\n",
    "# Testing (Provided test cases)\n",
    "michael = Holder('ldomhl', 'M', 'L')\n",
    "chiara = Holder('brbchr', 'C', 'B')\n",
    "\n",
    "b1 = Bank(\"Banca1\")\n",
    "b2 = Bank(\"Banca2\")\n",
    "b1.new_account(michael, 1000)\n",
    "b2.new_account(chiara, 50)\n",
    "b1.new_account(chiara)\n",
    "b1.print_holders()\n",
    "b1.print_accounts()\n",
    "b2.print_holders()\n",
    "b2.print_accounts()\n",
    "\n",
    "print(chiara.total_balance())\n",
    "\n",
    "b1.same_bank_transfer(1, 2, 300)\n",
    "b1.print_accounts()\n",
    "\n",
    "b1.withdraw(1, 50)\n",
    "b1.withdraw(1, 1000)\n",
    "\n",
    "print(michael.total_balance())\n",
    "print(chiara.total_balance())\n"
   ]
  },
  {
   "cell_type": "code",
   "execution_count": null,
   "metadata": {},
   "outputs": [],
   "source": []
  }
 ],
 "metadata": {
  "kernelspec": {
   "display_name": ".venv",
   "language": "python",
   "name": "python3"
  },
  "language_info": {
   "codemirror_mode": {
    "name": "ipython",
    "version": 3
   },
   "file_extension": ".py",
   "mimetype": "text/x-python",
   "name": "python",
   "nbconvert_exporter": "python",
   "pygments_lexer": "ipython3",
   "version": "3.11.4"
  }
 },
 "nbformat": 4,
 "nbformat_minor": 2
}
