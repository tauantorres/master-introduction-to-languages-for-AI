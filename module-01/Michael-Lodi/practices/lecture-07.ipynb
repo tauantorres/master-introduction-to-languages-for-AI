{
 "cells": [
  {
   "cell_type": "code",
   "execution_count": 6,
   "metadata": {},
   "outputs": [],
   "source": [
    "\n",
    "\n",
    "class Point:\n",
    "\n",
    "    def __init__(self, xx=0, yy=0):\n",
    "        self.x = xx\n",
    "        self.y = yy\n",
    "\n",
    "    def get_points(self) -> tuple:\n",
    "        return self.x, self.y\n",
    "\n",
    "    def move(self, delta) -> None:\n",
    "        self.x += delta\n",
    "        self.y += delta\n",
    "\n",
    "    def __str__(self) -> str:\n",
    "        return f\"Point(x={self.x}, y={self.y})\"\n",
    "\n",
    "\n",
    "class NewPoint(Point):\n",
    "\n",
    "    def origin(self) -> None:\n",
    "        self.x, self.y = 0, 0\n",
    "\n"
   ]
  },
  {
   "cell_type": "code",
   "execution_count": 7,
   "metadata": {},
   "outputs": [
    {
     "name": "stdout",
     "output_type": "stream",
     "text": [
      "Point(x=1, y=3)\n",
      "Point(x=2, y=4)\n",
      "Point(x=3, y=4)\n",
      "Point(x=0, y=0)\n"
     ]
    }
   ],
   "source": [
    "a = Point(1, 3)\n",
    "print(a)\n",
    "\n",
    "delta = 1\n",
    "\n",
    "a.move(delta=1)\n",
    "print(a)\n",
    "\n",
    "b = NewPoint(3, 4)\n",
    "print(b)\n",
    "\n",
    "b.origin()\n",
    "print(b)"
   ]
  },
  {
   "cell_type": "code",
   "execution_count": 12,
   "metadata": {},
   "outputs": [
    {
     "name": "stdout",
     "output_type": "stream",
     "text": [
      "Point(x=1, y=2)\n",
      "Point(x=4, y=5)\n",
      "Point(x=0, y=0)\n",
      "Point(x=5, y=6)\n"
     ]
    }
   ],
   "source": [
    "np = NewPoint(1, 2)\n",
    "print(np)\n",
    "\n",
    "np.move(3)\n",
    "print(np)\n",
    "\n",
    "np.origin()\n",
    "print(np)\n",
    "\n",
    "p = Point(5, 6)\n",
    "print(p)\n"
   ]
  },
  {
   "cell_type": "code",
   "execution_count": 36,
   "metadata": {},
   "outputs": [
    {
     "data": {
      "text/plain": [
       "(__main__.NewPoint, False, False)"
      ]
     },
     "execution_count": 36,
     "metadata": {},
     "output_type": "execute_result"
    }
   ],
   "source": [
    "type(b), isinstance(b, Point), isinstance(b, NewPoint)"
   ]
  },
  {
   "cell_type": "code",
   "execution_count": 48,
   "metadata": {},
   "outputs": [
    {
     "name": "stdout",
     "output_type": "stream",
     "text": [
      "a = Point(1, 2, 'blue')\n"
     ]
    }
   ],
   "source": [
    "class Point:\n",
    "\n",
    "    def __init__(self, xx=0, yy=0) -> None:\n",
    "        self.x = xx\n",
    "        self.y = yy\n",
    "\n",
    "    def whoareyou(self) -> tuple:\n",
    "        return self.x, self.y\n",
    "\n",
    "    def move(self, delta) -> None:\n",
    "        self.x += delta\n",
    "        self.y += delta\n",
    "\n",
    "    def __str__(self) -> str:\n",
    "        return f\"Point{self.whoareyou()}\"\n",
    "\n",
    "\n",
    "class NewPoint(Point):\n",
    "\n",
    "    def origin(self) -> None:\n",
    "        self.x, self.y = 0, 0\n",
    "\n",
    "\n",
    "class ColPoint(Point):\n",
    "\n",
    "    def __init__(self, xx: float, yy: float, cc: str) -> None:\n",
    "        super().__init__(xx, yy)\n",
    "        self.color = cc\n",
    "\n",
    "    def whoareyou(self) -> str:\n",
    "        return super().whoareyou() + (self.color, )\n",
    "\n",
    "\n",
    "a = ColPoint(1, 2, \"blue\")\n",
    "print(f\"a = {a}\")\n"
   ]
  },
  {
   "cell_type": "code",
   "execution_count": 55,
   "metadata": {},
   "outputs": [],
   "source": [
    "class A:\n",
    "    def __init__(self,x):\n",
    "        self.aa=x\n",
    "\n",
    "    def m1(self):\n",
    "        return self.aa\n",
    "\n",
    "class B(A):\n",
    "    def m1(self):\n",
    "        return super().m1() + 1\n",
    "    \n",
    "    def m2(self,x):\n",
    "        return self.aa + x\n",
    "\n",
    "class D(B):\n",
    "    \n",
    "    def m2(self,z):\n",
    "        return self.aa + 2*z\n"
   ]
  },
  {
   "cell_type": "code",
   "execution_count": 56,
   "metadata": {},
   "outputs": [
    {
     "name": "stdout",
     "output_type": "stream",
     "text": [
      "a.m1 = 10\n",
      "b.m1 = 11\n",
      "d.m1 = 21\n",
      "d.m2(3) = 26\n"
     ]
    }
   ],
   "source": [
    "a=A(10)\n",
    "print(f\"a.m1 = {a.m1()}\")\n",
    "\n",
    "b=B(10)\n",
    "print(f\"b.m1 = {b.m1()}\")\n",
    "\n",
    "d=D(20)\n",
    "print(f\"d.m1 = {d.m1()}\")\n",
    "print(f\"d.m2(3) = {d.m2(3)}\")"
   ]
  },
  {
   "cell_type": "code",
   "execution_count": 59,
   "metadata": {},
   "outputs": [
    {
     "name": "stdout",
     "output_type": "stream",
     "text": [
      "Text: division by zero\n",
      "Type: <class 'ZeroDivisionError'>\n"
     ]
    }
   ],
   "source": [
    "try:\n",
    "    print(1/0)\n",
    "\n",
    "except ZeroDivisionError as MyName:\n",
    "    print(f\"Text: {MyName}\")\n",
    "    print(f\"Type: {type(MyName)}\")\n",
    "\n"
   ]
  },
  {
   "cell_type": "code",
   "execution_count": null,
   "metadata": {},
   "outputs": [],
   "source": []
  }
 ],
 "metadata": {
  "kernelspec": {
   "display_name": ".venv",
   "language": "python",
   "name": "python3"
  },
  "language_info": {
   "codemirror_mode": {
    "name": "ipython",
    "version": 3
   },
   "file_extension": ".py",
   "mimetype": "text/x-python",
   "name": "python",
   "nbconvert_exporter": "python",
   "pygments_lexer": "ipython3",
   "version": "3.11.4"
  }
 },
 "nbformat": 4,
 "nbformat_minor": 2
}
